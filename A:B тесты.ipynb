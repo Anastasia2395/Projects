{
 "cells": [
  {
   "cell_type": "markdown",
   "metadata": {},
   "source": [
    "# Введение"
   ]
  },
  {
   "cell_type": "markdown",
   "metadata": {},
   "source": [
    "В этом проекте мы проведем исследование для крупного интернет-магазина. Вместе с отделом маркетинга мы приготовили список гипотез для увеличпения выручки.\n",
    "\n",
    "В ходе работы, мы приоретизируем гипотезы, запустим А/В тест, а также считаем и проанализируем его результаты."
   ]
  },
  {
   "cell_type": "markdown",
   "metadata": {},
   "source": [
    "## Приоретизация гипотез"
   ]
  },
  {
   "cell_type": "code",
   "execution_count": 1,
   "metadata": {},
   "outputs": [],
   "source": [
    "import pandas as pd\n",
    "import numpy as np\n",
    "import matplotlib.pyplot as plt\n",
    "from datetime import datetime, timedelta\n",
    "import seaborn as sns\n",
    "from pymystem3 import Mystem\n",
    "from collections import Counter\n",
    "from scipy import stats as st\n",
    "import datetime as dt"
   ]
  },
  {
   "cell_type": "code",
   "execution_count": 2,
   "metadata": {},
   "outputs": [],
   "source": [
    "pd.options.display.max_colwidth = 120"
   ]
  },
  {
   "cell_type": "code",
   "execution_count": 3,
   "metadata": {},
   "outputs": [
    {
     "data": {
      "text/html": [
       "<div>\n",
       "<style scoped>\n",
       "    .dataframe tbody tr th:only-of-type {\n",
       "        vertical-align: middle;\n",
       "    }\n",
       "\n",
       "    .dataframe tbody tr th {\n",
       "        vertical-align: top;\n",
       "    }\n",
       "\n",
       "    .dataframe thead th {\n",
       "        text-align: right;\n",
       "    }\n",
       "</style>\n",
       "<table border=\"1\" class=\"dataframe\">\n",
       "  <thead>\n",
       "    <tr style=\"text-align: right;\">\n",
       "      <th></th>\n",
       "      <th>Hypothesis</th>\n",
       "      <th>Reach</th>\n",
       "      <th>Impact</th>\n",
       "      <th>Confidence</th>\n",
       "      <th>Efforts</th>\n",
       "    </tr>\n",
       "  </thead>\n",
       "  <tbody>\n",
       "    <tr>\n",
       "      <th>0</th>\n",
       "      <td>Добавить два новых канала привлечения трафика, что позволит привлекать на 30% больше пользователей</td>\n",
       "      <td>3</td>\n",
       "      <td>10</td>\n",
       "      <td>8</td>\n",
       "      <td>6</td>\n",
       "    </tr>\n",
       "    <tr>\n",
       "      <th>1</th>\n",
       "      <td>Запустить собственную службу доставки, что сократит срок доставки заказов</td>\n",
       "      <td>2</td>\n",
       "      <td>5</td>\n",
       "      <td>4</td>\n",
       "      <td>10</td>\n",
       "    </tr>\n",
       "    <tr>\n",
       "      <th>2</th>\n",
       "      <td>Добавить блоки рекомендаций товаров на сайт интернет магазина, чтобы повысить конверсию и средний чек заказа</td>\n",
       "      <td>8</td>\n",
       "      <td>3</td>\n",
       "      <td>7</td>\n",
       "      <td>3</td>\n",
       "    </tr>\n",
       "    <tr>\n",
       "      <th>3</th>\n",
       "      <td>Изменить структура категорий, что увеличит конверсию, т.к. пользователи быстрее найдут нужный товар</td>\n",
       "      <td>8</td>\n",
       "      <td>3</td>\n",
       "      <td>3</td>\n",
       "      <td>8</td>\n",
       "    </tr>\n",
       "    <tr>\n",
       "      <th>4</th>\n",
       "      <td>Изменить цвет фона главной страницы, чтобы увеличить вовлеченность пользователей</td>\n",
       "      <td>3</td>\n",
       "      <td>1</td>\n",
       "      <td>1</td>\n",
       "      <td>1</td>\n",
       "    </tr>\n",
       "    <tr>\n",
       "      <th>5</th>\n",
       "      <td>Добавить страницу отзывов клиентов о магазине, что позволит увеличить количество заказов</td>\n",
       "      <td>3</td>\n",
       "      <td>2</td>\n",
       "      <td>2</td>\n",
       "      <td>3</td>\n",
       "    </tr>\n",
       "    <tr>\n",
       "      <th>6</th>\n",
       "      <td>Показать на главной странице баннеры с актуальными акциями и распродажами, чтобы увеличить конверсию</td>\n",
       "      <td>5</td>\n",
       "      <td>3</td>\n",
       "      <td>8</td>\n",
       "      <td>3</td>\n",
       "    </tr>\n",
       "    <tr>\n",
       "      <th>7</th>\n",
       "      <td>Добавить форму подписки на все основные страницы, чтобы собрать базу клиентов для email-рассылок</td>\n",
       "      <td>10</td>\n",
       "      <td>7</td>\n",
       "      <td>8</td>\n",
       "      <td>5</td>\n",
       "    </tr>\n",
       "    <tr>\n",
       "      <th>8</th>\n",
       "      <td>Запустить акцию, дающую скидку на товар в день рождения</td>\n",
       "      <td>1</td>\n",
       "      <td>9</td>\n",
       "      <td>9</td>\n",
       "      <td>5</td>\n",
       "    </tr>\n",
       "  </tbody>\n",
       "</table>\n",
       "</div>"
      ],
      "text/plain": [
       "                                                                                                     Hypothesis  \\\n",
       "0            Добавить два новых канала привлечения трафика, что позволит привлекать на 30% больше пользователей   \n",
       "1                                     Запустить собственную службу доставки, что сократит срок доставки заказов   \n",
       "2  Добавить блоки рекомендаций товаров на сайт интернет магазина, чтобы повысить конверсию и средний чек заказа   \n",
       "3           Изменить структура категорий, что увеличит конверсию, т.к. пользователи быстрее найдут нужный товар   \n",
       "4                              Изменить цвет фона главной страницы, чтобы увеличить вовлеченность пользователей   \n",
       "5                      Добавить страницу отзывов клиентов о магазине, что позволит увеличить количество заказов   \n",
       "6          Показать на главной странице баннеры с актуальными акциями и распродажами, чтобы увеличить конверсию   \n",
       "7              Добавить форму подписки на все основные страницы, чтобы собрать базу клиентов для email-рассылок   \n",
       "8                                                       Запустить акцию, дающую скидку на товар в день рождения   \n",
       "\n",
       "   Reach  Impact  Confidence  Efforts  \n",
       "0      3      10           8        6  \n",
       "1      2       5           4       10  \n",
       "2      8       3           7        3  \n",
       "3      8       3           3        8  \n",
       "4      3       1           1        1  \n",
       "5      3       2           2        3  \n",
       "6      5       3           8        3  \n",
       "7     10       7           8        5  \n",
       "8      1       9           9        5  "
      ]
     },
     "execution_count": 3,
     "metadata": {},
     "output_type": "execute_result"
    }
   ],
   "source": [
    "data = pd.read_csv('/datasets/hypothesis.csv')\n",
    "data"
   ]
  },
  {
   "cell_type": "code",
   "execution_count": 4,
   "metadata": {},
   "outputs": [
    {
     "data": {
      "text/html": [
       "<div>\n",
       "<style scoped>\n",
       "    .dataframe tbody tr th:only-of-type {\n",
       "        vertical-align: middle;\n",
       "    }\n",
       "\n",
       "    .dataframe tbody tr th {\n",
       "        vertical-align: top;\n",
       "    }\n",
       "\n",
       "    .dataframe thead th {\n",
       "        text-align: right;\n",
       "    }\n",
       "</style>\n",
       "<table border=\"1\" class=\"dataframe\">\n",
       "  <thead>\n",
       "    <tr style=\"text-align: right;\">\n",
       "      <th></th>\n",
       "      <th>Hypothesis</th>\n",
       "      <th>ICE</th>\n",
       "    </tr>\n",
       "  </thead>\n",
       "  <tbody>\n",
       "    <tr>\n",
       "      <th>8</th>\n",
       "      <td>Запустить акцию, дающую скидку на товар в день рождения</td>\n",
       "      <td>16.200000</td>\n",
       "    </tr>\n",
       "    <tr>\n",
       "      <th>0</th>\n",
       "      <td>Добавить два новых канала привлечения трафика, что позволит привлекать на 30% больше пользователей</td>\n",
       "      <td>13.333333</td>\n",
       "    </tr>\n",
       "    <tr>\n",
       "      <th>7</th>\n",
       "      <td>Добавить форму подписки на все основные страницы, чтобы собрать базу клиентов для email-рассылок</td>\n",
       "      <td>11.200000</td>\n",
       "    </tr>\n",
       "    <tr>\n",
       "      <th>6</th>\n",
       "      <td>Показать на главной странице баннеры с актуальными акциями и распродажами, чтобы увеличить конверсию</td>\n",
       "      <td>8.000000</td>\n",
       "    </tr>\n",
       "    <tr>\n",
       "      <th>2</th>\n",
       "      <td>Добавить блоки рекомендаций товаров на сайт интернет магазина, чтобы повысить конверсию и средний чек заказа</td>\n",
       "      <td>7.000000</td>\n",
       "    </tr>\n",
       "    <tr>\n",
       "      <th>1</th>\n",
       "      <td>Запустить собственную службу доставки, что сократит срок доставки заказов</td>\n",
       "      <td>2.000000</td>\n",
       "    </tr>\n",
       "    <tr>\n",
       "      <th>5</th>\n",
       "      <td>Добавить страницу отзывов клиентов о магазине, что позволит увеличить количество заказов</td>\n",
       "      <td>1.333333</td>\n",
       "    </tr>\n",
       "    <tr>\n",
       "      <th>3</th>\n",
       "      <td>Изменить структура категорий, что увеличит конверсию, т.к. пользователи быстрее найдут нужный товар</td>\n",
       "      <td>1.125000</td>\n",
       "    </tr>\n",
       "    <tr>\n",
       "      <th>4</th>\n",
       "      <td>Изменить цвет фона главной страницы, чтобы увеличить вовлеченность пользователей</td>\n",
       "      <td>1.000000</td>\n",
       "    </tr>\n",
       "  </tbody>\n",
       "</table>\n",
       "</div>"
      ],
      "text/plain": [
       "                                                                                                     Hypothesis  \\\n",
       "8                                                       Запустить акцию, дающую скидку на товар в день рождения   \n",
       "0            Добавить два новых канала привлечения трафика, что позволит привлекать на 30% больше пользователей   \n",
       "7              Добавить форму подписки на все основные страницы, чтобы собрать базу клиентов для email-рассылок   \n",
       "6          Показать на главной странице баннеры с актуальными акциями и распродажами, чтобы увеличить конверсию   \n",
       "2  Добавить блоки рекомендаций товаров на сайт интернет магазина, чтобы повысить конверсию и средний чек заказа   \n",
       "1                                     Запустить собственную службу доставки, что сократит срок доставки заказов   \n",
       "5                      Добавить страницу отзывов клиентов о магазине, что позволит увеличить количество заказов   \n",
       "3           Изменить структура категорий, что увеличит конверсию, т.к. пользователи быстрее найдут нужный товар   \n",
       "4                              Изменить цвет фона главной страницы, чтобы увеличить вовлеченность пользователей   \n",
       "\n",
       "         ICE  \n",
       "8  16.200000  \n",
       "0  13.333333  \n",
       "7  11.200000  \n",
       "6   8.000000  \n",
       "2   7.000000  \n",
       "1   2.000000  \n",
       "5   1.333333  \n",
       "3   1.125000  \n",
       "4   1.000000  "
      ]
     },
     "execution_count": 4,
     "metadata": {},
     "output_type": "execute_result"
    }
   ],
   "source": [
    "# приоретизируем по параметру ICE с последующей сортировкой\n",
    "\n",
    "data['ICE'] = data['Impact'] * data['Confidence'] / data['Efforts']\n",
    "data[['Hypothesis', 'ICE']].sort_values(by='ICE', ascending=False)"
   ]
  },
  {
   "cell_type": "code",
   "execution_count": 5,
   "metadata": {},
   "outputs": [
    {
     "data": {
      "text/html": [
       "<div>\n",
       "<style scoped>\n",
       "    .dataframe tbody tr th:only-of-type {\n",
       "        vertical-align: middle;\n",
       "    }\n",
       "\n",
       "    .dataframe tbody tr th {\n",
       "        vertical-align: top;\n",
       "    }\n",
       "\n",
       "    .dataframe thead th {\n",
       "        text-align: right;\n",
       "    }\n",
       "</style>\n",
       "<table border=\"1\" class=\"dataframe\">\n",
       "  <thead>\n",
       "    <tr style=\"text-align: right;\">\n",
       "      <th></th>\n",
       "      <th>Hypothesis</th>\n",
       "      <th>RICE</th>\n",
       "    </tr>\n",
       "  </thead>\n",
       "  <tbody>\n",
       "    <tr>\n",
       "      <th>7</th>\n",
       "      <td>Добавить форму подписки на все основные страницы, чтобы собрать базу клиентов для email-рассылок</td>\n",
       "      <td>112.0</td>\n",
       "    </tr>\n",
       "    <tr>\n",
       "      <th>2</th>\n",
       "      <td>Добавить блоки рекомендаций товаров на сайт интернет магазина, чтобы повысить конверсию и средний чек заказа</td>\n",
       "      <td>56.0</td>\n",
       "    </tr>\n",
       "    <tr>\n",
       "      <th>0</th>\n",
       "      <td>Добавить два новых канала привлечения трафика, что позволит привлекать на 30% больше пользователей</td>\n",
       "      <td>40.0</td>\n",
       "    </tr>\n",
       "    <tr>\n",
       "      <th>6</th>\n",
       "      <td>Показать на главной странице баннеры с актуальными акциями и распродажами, чтобы увеличить конверсию</td>\n",
       "      <td>40.0</td>\n",
       "    </tr>\n",
       "    <tr>\n",
       "      <th>8</th>\n",
       "      <td>Запустить акцию, дающую скидку на товар в день рождения</td>\n",
       "      <td>16.2</td>\n",
       "    </tr>\n",
       "    <tr>\n",
       "      <th>3</th>\n",
       "      <td>Изменить структура категорий, что увеличит конверсию, т.к. пользователи быстрее найдут нужный товар</td>\n",
       "      <td>9.0</td>\n",
       "    </tr>\n",
       "    <tr>\n",
       "      <th>1</th>\n",
       "      <td>Запустить собственную службу доставки, что сократит срок доставки заказов</td>\n",
       "      <td>4.0</td>\n",
       "    </tr>\n",
       "    <tr>\n",
       "      <th>5</th>\n",
       "      <td>Добавить страницу отзывов клиентов о магазине, что позволит увеличить количество заказов</td>\n",
       "      <td>4.0</td>\n",
       "    </tr>\n",
       "    <tr>\n",
       "      <th>4</th>\n",
       "      <td>Изменить цвет фона главной страницы, чтобы увеличить вовлеченность пользователей</td>\n",
       "      <td>3.0</td>\n",
       "    </tr>\n",
       "  </tbody>\n",
       "</table>\n",
       "</div>"
      ],
      "text/plain": [
       "                                                                                                     Hypothesis  \\\n",
       "7              Добавить форму подписки на все основные страницы, чтобы собрать базу клиентов для email-рассылок   \n",
       "2  Добавить блоки рекомендаций товаров на сайт интернет магазина, чтобы повысить конверсию и средний чек заказа   \n",
       "0            Добавить два новых канала привлечения трафика, что позволит привлекать на 30% больше пользователей   \n",
       "6          Показать на главной странице баннеры с актуальными акциями и распродажами, чтобы увеличить конверсию   \n",
       "8                                                       Запустить акцию, дающую скидку на товар в день рождения   \n",
       "3           Изменить структура категорий, что увеличит конверсию, т.к. пользователи быстрее найдут нужный товар   \n",
       "1                                     Запустить собственную службу доставки, что сократит срок доставки заказов   \n",
       "5                      Добавить страницу отзывов клиентов о магазине, что позволит увеличить количество заказов   \n",
       "4                              Изменить цвет фона главной страницы, чтобы увеличить вовлеченность пользователей   \n",
       "\n",
       "    RICE  \n",
       "7  112.0  \n",
       "2   56.0  \n",
       "0   40.0  \n",
       "6   40.0  \n",
       "8   16.2  \n",
       "3    9.0  \n",
       "1    4.0  \n",
       "5    4.0  \n",
       "4    3.0  "
      ]
     },
     "execution_count": 5,
     "metadata": {},
     "output_type": "execute_result"
    }
   ],
   "source": [
    "# приоретизируем по параметру RICE с последующей сортировкой\n",
    "\n",
    "data['RICE'] = data['Reach'] * data['Impact'] * data['Confidence'] / data['Efforts']\n",
    "data[['Hypothesis', 'RICE']].sort_values(by='RICE', ascending=False)\n"
   ]
  },
  {
   "cell_type": "markdown",
   "metadata": {},
   "source": [
    "По результатам приоретизации видим, что она отличается по параметрам ICE и RICE. В первом случае четверка лидеров - гипотезы 8, 0, 7, 6 а во втором - 7, 2, 0, 6. Три из четырех гипотез неизменно в лидерах по обоим параметрам. Однако в парметре RICE гипотеза 2 вытеснила гипотезу 8, так как параметр Reach у гипотезы 2 равен 8, в то время, как у гипотезы 8 этот параметр равен 1, отсюда и разница. При приоритезации необходимо учитывать число пользователей, которых затронет изменение, поэтому приоритетнее взять на тест ту гипотезу, которая охватывает бОльшее количество пользователей.\n",
    "\n",
    "Итак, для теста лучше всего взять следующие гипотезы:\n",
    "- Добавить форму подписки на все основные страницы, чтобы собрать базу клиентов для email-рассылок\n",
    "- Добавить блоки рекомендаций товаров на сайт интернет магазина, чтобы повысить конверсию и средний чек заказа\n",
    "- Добавить два новых канала привлечения трафика, что позволит привлекать на 30% больше пользователей\n",
    "- Показать на главной странице баннеры с актуальными акциями и распродажами, чтобы увеличить конверсию\n"
   ]
  },
  {
   "cell_type": "markdown",
   "metadata": {},
   "source": [
    "## Анализ А/В теста"
   ]
  },
  {
   "cell_type": "markdown",
   "metadata": {},
   "source": [
    "Мы провели А/В тест и получили его результаты. Теперь нам предстоит проанализровать их."
   ]
  },
  {
   "cell_type": "code",
   "execution_count": 6,
   "metadata": {},
   "outputs": [
    {
     "data": {
      "text/html": [
       "<div>\n",
       "<style scoped>\n",
       "    .dataframe tbody tr th:only-of-type {\n",
       "        vertical-align: middle;\n",
       "    }\n",
       "\n",
       "    .dataframe tbody tr th {\n",
       "        vertical-align: top;\n",
       "    }\n",
       "\n",
       "    .dataframe thead th {\n",
       "        text-align: right;\n",
       "    }\n",
       "</style>\n",
       "<table border=\"1\" class=\"dataframe\">\n",
       "  <thead>\n",
       "    <tr style=\"text-align: right;\">\n",
       "      <th></th>\n",
       "      <th>date</th>\n",
       "      <th>group</th>\n",
       "      <th>visitors</th>\n",
       "    </tr>\n",
       "  </thead>\n",
       "  <tbody>\n",
       "    <tr>\n",
       "      <th>0</th>\n",
       "      <td>2019-08-01</td>\n",
       "      <td>A</td>\n",
       "      <td>719</td>\n",
       "    </tr>\n",
       "    <tr>\n",
       "      <th>1</th>\n",
       "      <td>2019-08-02</td>\n",
       "      <td>A</td>\n",
       "      <td>619</td>\n",
       "    </tr>\n",
       "    <tr>\n",
       "      <th>2</th>\n",
       "      <td>2019-08-03</td>\n",
       "      <td>A</td>\n",
       "      <td>507</td>\n",
       "    </tr>\n",
       "    <tr>\n",
       "      <th>3</th>\n",
       "      <td>2019-08-04</td>\n",
       "      <td>A</td>\n",
       "      <td>717</td>\n",
       "    </tr>\n",
       "    <tr>\n",
       "      <th>4</th>\n",
       "      <td>2019-08-05</td>\n",
       "      <td>A</td>\n",
       "      <td>756</td>\n",
       "    </tr>\n",
       "  </tbody>\n",
       "</table>\n",
       "</div>"
      ],
      "text/plain": [
       "        date group  visitors\n",
       "0 2019-08-01     A       719\n",
       "1 2019-08-02     A       619\n",
       "2 2019-08-03     A       507\n",
       "3 2019-08-04     A       717\n",
       "4 2019-08-05     A       756"
      ]
     },
     "execution_count": 6,
     "metadata": {},
     "output_type": "execute_result"
    }
   ],
   "source": [
    "orders = pd.read_csv('/datasets/orders.csv', sep=',')\n",
    "orders['date'] = orders['date'].map(\n",
    "    lambda x: dt.datetime.strptime(x, '%Y-%m-%d')\n",
    ")\n",
    "\n",
    "visitors = pd.read_csv('/datasets/visitors.csv', sep=',')\n",
    "visitors['date'] = visitors['date'].map(\n",
    "    lambda x: dt.datetime.strptime(x, '%Y-%m-%d')\n",
    ")\n",
    "\n",
    "visitors.head()"
   ]
  },
  {
   "cell_type": "code",
   "execution_count": 7,
   "metadata": {},
   "outputs": [
    {
     "data": {
      "text/html": [
       "<div>\n",
       "<style scoped>\n",
       "    .dataframe tbody tr th:only-of-type {\n",
       "        vertical-align: middle;\n",
       "    }\n",
       "\n",
       "    .dataframe tbody tr th {\n",
       "        vertical-align: top;\n",
       "    }\n",
       "\n",
       "    .dataframe thead th {\n",
       "        text-align: right;\n",
       "    }\n",
       "</style>\n",
       "<table border=\"1\" class=\"dataframe\">\n",
       "  <thead>\n",
       "    <tr style=\"text-align: right;\">\n",
       "      <th></th>\n",
       "      <th>transactionId</th>\n",
       "      <th>visitorId</th>\n",
       "      <th>date</th>\n",
       "      <th>revenue</th>\n",
       "      <th>group</th>\n",
       "    </tr>\n",
       "  </thead>\n",
       "  <tbody>\n",
       "    <tr>\n",
       "      <th>0</th>\n",
       "      <td>3667963787</td>\n",
       "      <td>3312258926</td>\n",
       "      <td>2019-08-15</td>\n",
       "      <td>1650</td>\n",
       "      <td>B</td>\n",
       "    </tr>\n",
       "    <tr>\n",
       "      <th>1</th>\n",
       "      <td>2804400009</td>\n",
       "      <td>3642806036</td>\n",
       "      <td>2019-08-15</td>\n",
       "      <td>730</td>\n",
       "      <td>B</td>\n",
       "    </tr>\n",
       "    <tr>\n",
       "      <th>2</th>\n",
       "      <td>2961555356</td>\n",
       "      <td>4069496402</td>\n",
       "      <td>2019-08-15</td>\n",
       "      <td>400</td>\n",
       "      <td>A</td>\n",
       "    </tr>\n",
       "    <tr>\n",
       "      <th>3</th>\n",
       "      <td>3797467345</td>\n",
       "      <td>1196621759</td>\n",
       "      <td>2019-08-15</td>\n",
       "      <td>9759</td>\n",
       "      <td>B</td>\n",
       "    </tr>\n",
       "    <tr>\n",
       "      <th>4</th>\n",
       "      <td>2282983706</td>\n",
       "      <td>2322279887</td>\n",
       "      <td>2019-08-15</td>\n",
       "      <td>2308</td>\n",
       "      <td>B</td>\n",
       "    </tr>\n",
       "  </tbody>\n",
       "</table>\n",
       "</div>"
      ],
      "text/plain": [
       "   transactionId   visitorId       date  revenue group\n",
       "0     3667963787  3312258926 2019-08-15     1650     B\n",
       "1     2804400009  3642806036 2019-08-15      730     B\n",
       "2     2961555356  4069496402 2019-08-15      400     A\n",
       "3     3797467345  1196621759 2019-08-15     9759     B\n",
       "4     2282983706  2322279887 2019-08-15     2308     B"
      ]
     },
     "execution_count": 7,
     "metadata": {},
     "output_type": "execute_result"
    }
   ],
   "source": [
    "orders.head()"
   ]
  },
  {
   "cell_type": "markdown",
   "metadata": {},
   "source": [
    "Проведем предобработку данных: изучим типы данных, посмотрим, есть ли в данных повторения или пропуски и решим, что с ними делать."
   ]
  },
  {
   "cell_type": "code",
   "execution_count": 8,
   "metadata": {},
   "outputs": [
    {
     "name": "stdout",
     "output_type": "stream",
     "text": [
      "<class 'pandas.core.frame.DataFrame'>\n",
      "RangeIndex: 62 entries, 0 to 61\n",
      "Data columns (total 3 columns):\n",
      " #   Column    Non-Null Count  Dtype         \n",
      "---  ------    --------------  -----         \n",
      " 0   date      62 non-null     datetime64[ns]\n",
      " 1   group     62 non-null     object        \n",
      " 2   visitors  62 non-null     int64         \n",
      "dtypes: datetime64[ns](1), int64(1), object(1)\n",
      "memory usage: 1.6+ KB\n",
      "None\n",
      "\n",
      "<class 'pandas.core.frame.DataFrame'>\n",
      "RangeIndex: 1197 entries, 0 to 1196\n",
      "Data columns (total 5 columns):\n",
      " #   Column         Non-Null Count  Dtype         \n",
      "---  ------         --------------  -----         \n",
      " 0   transactionId  1197 non-null   int64         \n",
      " 1   visitorId      1197 non-null   int64         \n",
      " 2   date           1197 non-null   datetime64[ns]\n",
      " 3   revenue        1197 non-null   int64         \n",
      " 4   group          1197 non-null   object        \n",
      "dtypes: datetime64[ns](1), int64(3), object(1)\n",
      "memory usage: 46.9+ KB\n",
      "None\n"
     ]
    }
   ],
   "source": [
    "print(visitors.info())\n",
    "print()\n",
    "print(orders.info())"
   ]
  },
  {
   "cell_type": "code",
   "execution_count": 9,
   "metadata": {},
   "outputs": [
    {
     "name": "stdout",
     "output_type": "stream",
     "text": [
      "date        0\n",
      "group       0\n",
      "visitors    0\n",
      "dtype: int64\n",
      "\n",
      "transactionId    0\n",
      "visitorId        0\n",
      "date             0\n",
      "revenue          0\n",
      "group            0\n",
      "dtype: int64\n"
     ]
    }
   ],
   "source": [
    "print(visitors.isnull().sum())\n",
    "print()\n",
    "print(orders.isnull().sum())"
   ]
  },
  {
   "cell_type": "code",
   "execution_count": 10,
   "metadata": {},
   "outputs": [
    {
     "name": "stdout",
     "output_type": "stream",
     "text": [
      "0\n",
      "0\n"
     ]
    }
   ],
   "source": [
    "print(visitors.duplicated().sum())\n",
    "print(orders.duplicated().sum())"
   ]
  },
  {
   "cell_type": "markdown",
   "metadata": {},
   "source": [
    "По результатам изучения датасетов видим отличную картину: дубликатов и пропусков нет, типы данных соответствуют необходимым для проведения анализа. "
   ]
  },
  {
   "cell_type": "markdown",
   "metadata": {},
   "source": [
    "### Подготовим данные и построим график кумулятивной выручки по группам"
   ]
  },
  {
   "cell_type": "markdown",
   "metadata": {},
   "source": [
    "Изучим данные, предоставленные для анализа: выясним сколько у нас групп в тесте, даты начала и даты окончания теста, количество пользователей в каждой из групп, а также выясним, не \"задваиваются\" ли у нас пользователи в обеих группах."
   ]
  },
  {
   "cell_type": "code",
   "execution_count": 11,
   "metadata": {},
   "outputs": [
    {
     "name": "stdout",
     "output_type": "stream",
     "text": [
      "['A' 'B']\n",
      "['B' 'A']\n"
     ]
    }
   ],
   "source": [
    "print(visitors['group'].unique())\n",
    "print(orders['group'].unique())"
   ]
  },
  {
   "cell_type": "markdown",
   "metadata": {},
   "source": [
    "В тесте принимали участие 2 группы."
   ]
  },
  {
   "cell_type": "code",
   "execution_count": 12,
   "metadata": {},
   "outputs": [
    {
     "name": "stdout",
     "output_type": "stream",
     "text": [
      "2019-08-01 00:00:00\n",
      "2019-08-31 00:00:00\n"
     ]
    }
   ],
   "source": [
    "print(orders['date'].min())\n",
    "print(orders['date'].max())"
   ]
  },
  {
   "cell_type": "markdown",
   "metadata": {},
   "source": [
    "Тест проводился в течение месяца - с 1 по 31 августа 2019 года."
   ]
  },
  {
   "cell_type": "code",
   "execution_count": 13,
   "metadata": {},
   "outputs": [
    {
     "name": "stdout",
     "output_type": "stream",
     "text": [
      "transactionId    557\n",
      "visitorId        557\n",
      "date             557\n",
      "revenue          557\n",
      "group            557\n",
      "dtype: int64\n",
      "\n",
      "transactionId    640\n",
      "visitorId        640\n",
      "date             640\n",
      "revenue          640\n",
      "group            640\n",
      "dtype: int64\n"
     ]
    }
   ],
   "source": [
    "print(orders.query('group == \"A\"').count())\n",
    "print()\n",
    "print(orders.query('group == \"B\"').count())"
   ]
  },
  {
   "cell_type": "markdown",
   "metadata": {},
   "source": [
    "В группу А вошло 557 пользователей, в группу В - 640. Проверим, есть ли пересекающиеся пользователи и если есть, уберем их, чтобы не искажали нам картину."
   ]
  },
  {
   "cell_type": "code",
   "execution_count": 14,
   "metadata": {},
   "outputs": [
    {
     "data": {
      "text/plain": [
       "array([   8300375,  199603092,  232979603,  237748145,  276558944,\n",
       "        351125977,  393266494,  457167155,  471551937,  477780734,\n",
       "        818047933,  963407295, 1230306981, 1294878855, 1316129916,\n",
       "       1333886533, 1404934699, 1602967004, 1614305549, 1648269707,\n",
       "       1668030113, 1738359350, 1801183820, 1959144690, 2038680547,\n",
       "       2044997962, 2378935119, 2458001652, 2579882178, 2587333274,\n",
       "       2600415354, 2654030115, 2686716486, 2712142231, 2716752286,\n",
       "       2780786433, 2927087541, 2949041841, 2954449915, 3062433592,\n",
       "       3202540741, 3234906277, 3656415546, 3717692402, 3766097110,\n",
       "       3803269165, 3891541246, 3941795274, 3951559397, 3957174400,\n",
       "       3963646447, 3972127743, 3984495233, 4069496402, 4120364173,\n",
       "       4186807279, 4256040402, 4266935830])"
      ]
     },
     "execution_count": 14,
     "metadata": {},
     "output_type": "execute_result"
    }
   ],
   "source": [
    "duplicates_users = np.intersect1d(orders.query('group == \"A\"')['visitorId'].unique(), orders.query('group == \"B\"')['visitorId'].unique())\n",
    "duplicates_users"
   ]
  },
  {
   "cell_type": "code",
   "execution_count": 15,
   "metadata": {},
   "outputs": [],
   "source": [
    "orders = orders[~orders['visitorId'].isin(duplicates_users)]"
   ]
  },
  {
   "cell_type": "code",
   "execution_count": 16,
   "metadata": {},
   "outputs": [
    {
     "name": "stdout",
     "output_type": "stream",
     "text": [
      "        date group  orders  buyers  revenue  visitors\n",
      "0 2019-08-01     A      23      19   142779       719\n",
      "1 2019-08-01     B      17      17    59758       713\n",
      "2 2019-08-02     A      42      36   234381      1338\n",
      "3 2019-08-02     B      40      39   221801      1294\n",
      "4 2019-08-03     A      66      60   346854      1845\n"
     ]
    }
   ],
   "source": [
    "datesGroups = orders[['date', 'group']].drop_duplicates()\n",
    "\n",
    "ordersAggregated = datesGroups.apply(lambda x: orders[np.logical_and(orders['date'] <= x['date'], orders['group'] == x['group'])]\\\n",
    ".agg({'date' : 'max', 'group' : 'max', 'transactionId' : 'nunique', 'visitorId' : 'nunique', 'revenue' : 'sum'}), axis=1).sort_values(by=['date','group'])\n",
    "\n",
    "visitorsAggregated = datesGroups.apply(lambda x: visitors[np.logical_and(visitors['date'] <= x['date'], visitors['group'] == x['group'])].agg({'date' : 'max', 'group' : 'max', 'visitors' : 'sum'}), axis=1).sort_values(by=['date','group'])\n",
    "\n",
    "# создаем массив уникальных пар значений дат и групп теста\n",
    "datesGroups = orders[['date','group']].drop_duplicates()\n",
    "\n",
    "# получаем агрегированные кумулятивные по дням данные о заказах \n",
    "ordersAggregated = datesGroups.apply(lambda x: orders[np.logical_and(orders['date'] <= x['date'], orders['group'] == x['group'])].agg({'date' : 'max', 'group' : 'max', 'transactionId' : 'nunique', 'visitorId' : 'nunique', 'revenue' : 'sum'}), axis=1).sort_values(by=['date','group'])\n",
    "\n",
    "# получаем агрегированные кумулятивные по дням данные о посетителях интернет-магазина \n",
    "visitorsAggregated = datesGroups.apply(lambda x: visitors[np.logical_and(visitors['date'] <= x['date'], visitors['group'] == x['group'])].agg({'date' : 'max', 'group' : 'max', 'visitors' : 'sum'}), axis=1).sort_values(by=['date','group'])\n",
    "\n",
    "# объединяем кумулятивные данные в одной таблице и присваиваем ее столбцам понятные названия\n",
    "cumulativeData = ordersAggregated.merge(visitorsAggregated, left_on=['date', 'group'], right_on=['date', 'group'])\n",
    "cumulativeData.columns = ['date', 'group', 'orders', 'buyers', 'revenue', 'visitors']\n",
    "\n",
    "print(cumulativeData.head(5))"
   ]
  },
  {
   "cell_type": "code",
   "execution_count": 17,
   "metadata": {},
   "outputs": [
    {
     "data": {
      "image/png": "[encoded data removed]",
      "text/plain": [
       "<Figure size 1080x360 with 1 Axes>"
      ]
     },
     "metadata": {
      "needs_background": "light"
     },
     "output_type": "display_data"
    }
   ],
   "source": [
    "# датафрейм с кумулятивным количеством заказов и кумулятивной выручкой по дням в группе А\n",
    "cumulativeRevenueA = cumulativeData[cumulativeData['group']=='A'][['date','revenue', 'orders']]\n",
    "\n",
    "# датафрейм с кумулятивным количеством заказов и кумулятивной выручкой по дням в группе B\n",
    "cumulativeRevenueB = cumulativeData[cumulativeData['group']=='B'][['date','revenue', 'orders']]\n",
    "\n",
    "# Строим график выручки группы А\n",
    "plt.figure(figsize=(15,5))\n",
    "plt.plot(cumulativeRevenueA['date'], cumulativeRevenueA['revenue'], label='A')\n",
    "\n",
    "# Строим график выручки группы B\n",
    "plt.plot(cumulativeRevenueB['date'], cumulativeRevenueB['revenue'], label='B')\n",
    "plt.title('График кумулятивной выручки по группам\\n  ')\n",
    "plt.xlabel('\\nДата')\n",
    "plt.ylabel('Выручка\\n')\n",
    "plt.legend()\n",
    "plt.grid()\n",
    "plt.show()"
   ]
  },
  {
   "cell_type": "markdown",
   "metadata": {},
   "source": [
    "В группе А никаких особенностей - ровный  постепенный рост выручки изо дня в день. А в группе В наблюдаем резкий скачок выручки в период 18.08.2019-19.08.2019. Это может быть связано с резким увеличением количества заказов или с необычно высоким средним чеком в этот день. Далее рост был снова плавным и непримечательным. Возьмем это на заметку."
   ]
  },
  {
   "cell_type": "markdown",
   "metadata": {},
   "source": [
    "### Построим график кумулятивного среднего чека по группам. "
   ]
  },
  {
   "cell_type": "code",
   "execution_count": 18,
   "metadata": {},
   "outputs": [
    {
     "data": {
      "image/png": "[encoded data removed]",
      "text/plain": [
       "<Figure size 1080x360 with 1 Axes>"
      ]
     },
     "metadata": {
      "needs_background": "light"
     },
     "output_type": "display_data"
    }
   ],
   "source": [
    "plt.figure(figsize=(15,5))\n",
    "plt.plot(cumulativeRevenueA['date'], cumulativeRevenueA['revenue']/cumulativeRevenueA['orders'], label='A')\n",
    "plt.plot(cumulativeRevenueB['date'], cumulativeRevenueB['revenue']/cumulativeRevenueB['orders'], label='B')\n",
    "plt.title('График кумулятивного среднего чека по группам\\n  ')\n",
    "plt.xlabel('\\nДата')\n",
    "plt.ylabel('Средний чек\\n')\n",
    "plt.legend()\n",
    "plt.grid()\n",
    "plt.show()"
   ]
  },
  {
   "cell_type": "markdown",
   "metadata": {},
   "source": [
    "В начале теста в группе А средний чек падал, после чего поднялся до пиковой отметки в 7400 13.08.2019, после чего снова слегка снизился и держался около 7000 до конца теста.\n",
    "\n",
    "В группе В существенного снижения среднего чека не было, был один \"плохой\" день 05.08.2019 (в группе А кстати худший показатель пришелся тоже рядом с этой датой). Далее средний чек держался около 6500-7000 до 18.08.2019. 18.08.2019-19.08.2019 произошел скачок среднего чека до 10100, после чего показатель пошел на снижение и к концу теста опустился до 9200.\n",
    "\n",
    "В целом показатель кумулятивного среднего чека группы В выше, чем группы А. Но такая нестабильность в графиках может указывать на аномалии или выбросы в данных. "
   ]
  },
  {
   "cell_type": "markdown",
   "metadata": {},
   "source": [
    "### Построим график относительного изменения кумулятивного среднего чека группы B к группе A."
   ]
  },
  {
   "cell_type": "code",
   "execution_count": 19,
   "metadata": {},
   "outputs": [
    {
     "data": {
      "image/png": "[encoded data removed]",
      "text/plain": [
       "<Figure size 1080x360 with 1 Axes>"
      ]
     },
     "metadata": {
      "needs_background": "light"
     },
     "output_type": "display_data"
    }
   ],
   "source": [
    "# собираем данные в одном датафрейме\n",
    "mergedCumulativeRevenue = cumulativeRevenueA.merge(cumulativeRevenueB, left_on='date', right_on='date', how='left', suffixes=['A', 'B'])\n",
    "\n",
    "# cтроим отношение средних чеков\n",
    "plt.figure(figsize=(15,5))\n",
    "plt.plot(mergedCumulativeRevenue['date'], (mergedCumulativeRevenue['revenueB']/mergedCumulativeRevenue['ordersB'])/(mergedCumulativeRevenue['revenueA']/mergedCumulativeRevenue['ordersA'])-1)\n",
    "plt.axhline(y=0, color='black', linestyle='--')\n",
    "plt.title('График относительного изменения кумулятивного среднего чека группы В к группе А\\n  ')\n",
    "plt.xlabel('\\nДата')\n",
    "plt.ylabel('Средний чек\\n')\n",
    "plt.grid()\n",
    "plt.show()"
   ]
  },
  {
   "cell_type": "markdown",
   "metadata": {},
   "source": [
    "По этому графику видно, как сильно менялось соотношение в определенные даты. Вероятнее всего, именоо в эти дни были совершены аномальные заказы."
   ]
  },
  {
   "cell_type": "markdown",
   "metadata": {},
   "source": [
    "### Построим график кумулятивного среднего количества заказов на посетителя по группам"
   ]
  },
  {
   "cell_type": "code",
   "execution_count": 38,
   "metadata": {},
   "outputs": [
    {
     "data": {
      "image/png": "[encoded data removed]",
      "text/plain": [
       "<Figure size 1080x360 with 1 Axes>"
      ]
     },
     "metadata": {
      "needs_background": "light"
     },
     "output_type": "display_data"
    }
   ],
   "source": [
    "# считаем кумулятивную конверсию\n",
    "cumulativeData['conversion'] = cumulativeData['orders']/cumulativeData['visitors']\n",
    "\n",
    "# отделяем данные по группе A\n",
    "cumulativeDataA = cumulativeData[cumulativeData['group']=='A']\n",
    "\n",
    "# отделяем данные по группе B\n",
    "cumulativeDataB = cumulativeData[cumulativeData['group']=='B']\n",
    "\n",
    "# строим графики\n",
    "plt.figure(figsize=(15,5))\n",
    "plt.plot(cumulativeDataA['date'], cumulativeDataA['conversion'], label='A')\n",
    "plt.plot(cumulativeDataB['date'], cumulativeDataB['conversion'], label='B')\n",
    "\n",
    "plt.title('График кумулятивно среднего количества заказов по группам\\n  ')\n",
    "plt.xlabel('\\nДата')\n",
    "plt.ylabel('Среднее кол-во заказов\\n')\n",
    "plt.grid()\n",
    "plt.legend()\n",
    "plt.show()"
   ]
  },
  {
   "cell_type": "markdown",
   "metadata": {},
   "source": [
    "В начале теста группа А имела бОльшее количество заказов, но потом, после 06.08.2019 группа В вышла вперед и далее количество заказов группы В было существенно выше, чем в группе А"
   ]
  },
  {
   "cell_type": "markdown",
   "metadata": {},
   "source": [
    "### Построим график относительного изменения кумулятивного среднего количества заказов на посетителя группы B к группе A"
   ]
  },
  {
   "cell_type": "code",
   "execution_count": 21,
   "metadata": {},
   "outputs": [
    {
     "data": {
      "image/png": "[encoded data removed]",
      "text/plain": [
       "<Figure size 1080x360 with 1 Axes>"
      ]
     },
     "metadata": {
      "needs_background": "light"
     },
     "output_type": "display_data"
    }
   ],
   "source": [
    "mergedCumulativeConversions = cumulativeDataA[['date','conversion']].merge(cumulativeDataB[['date','conversion']], left_on='date', right_on='date', how='left', suffixes=['A', 'B'])\n",
    "plt.figure(figsize=(15,5))\n",
    "plt.plot(mergedCumulativeConversions['date'], mergedCumulativeConversions['conversionB']/mergedCumulativeConversions['conversionA']-1, label=\"Относительный прирост конверсии группы B относительно группы A\")\n",
    "plt.axhline(y=0, color='black', linestyle='--')\n",
    "plt.axhline(y=0.2, color='grey', linestyle='--')\n",
    "plt.title('График относительного изменения кумулятивного среднего количества заказов на посетителя группы B к группе A\\n  ')\n",
    "plt.xlabel('\\nДата')\n",
    "plt.ylabel('Конверсия\\n')\n",
    "plt.grid()\n",
    "plt.legend()\n",
    "plt.show()"
   ]
  },
  {
   "cell_type": "markdown",
   "metadata": {},
   "source": [
    "Почти на протяжении всего теста конверсия группы В была уверенно выше конверсии группы А"
   ]
  },
  {
   "cell_type": "markdown",
   "metadata": {},
   "source": [
    "### Построим точечный график количества заказов по пользователям"
   ]
  },
  {
   "cell_type": "code",
   "execution_count": 22,
   "metadata": {},
   "outputs": [
    {
     "data": {
      "image/png": "[encoded data removed]",
      "text/plain": [
       "<Figure size 1080x360 with 1 Axes>"
      ]
     },
     "metadata": {
      "needs_background": "light"
     },
     "output_type": "display_data"
    }
   ],
   "source": [
    "ordersByUsers = orders.drop(['group', 'revenue', 'date'], axis=1).groupby('visitorId', as_index=False). \\\n",
    "                                                                        agg({'transactionId' : pd.Series.nunique})\n",
    "\n",
    "ordersByUsers.columns = ['user_id','orders']\n",
    "\n",
    "ordersByUsers.sort_values(by='orders',ascending=False).head(10)\n",
    "\n",
    "# серия из чисел от 0 до количества наблюдений в ordersByUsers\n",
    "plt.figure(figsize=(15,5))\n",
    "plt.grid()\n",
    "plt.title('График количества заказов по пользователям\\n  ')\n",
    "plt.xlabel('\\nКол-во пользователей')\n",
    "plt.ylabel('Кол-во заказов\\n')\n",
    "x_values = pd.Series(range(0, len(ordersByUsers)))\n",
    "plt.scatter(x_values, ordersByUsers['orders']) \n",
    "plt.show()"
   ]
  },
  {
   "cell_type": "markdown",
   "metadata": {},
   "source": [
    "По графику видим, что больше всего пользователей, которые совершили 2 заказа, меньше тех, кто совершил 3 заказа, тех, кто совершил более 4 заказов можно считать аномальными. Перепроверим через процентили."
   ]
  },
  {
   "cell_type": "markdown",
   "metadata": {},
   "source": [
    "### Посчитаем 95-й и 99-й перцентили количества заказов на пользователя. Выберем границу для определения аномальных пользователей."
   ]
  },
  {
   "cell_type": "code",
   "execution_count": 23,
   "metadata": {},
   "outputs": [
    {
     "data": {
      "text/plain": [
       "array([1., 2.])"
      ]
     },
     "execution_count": 23,
     "metadata": {},
     "output_type": "execute_result"
    }
   ],
   "source": [
    "np.percentile(ordersByUsers['orders'], [95, 99])"
   ]
  },
  {
   "cell_type": "markdown",
   "metadata": {},
   "source": [
    "95% пользователей совершают 2 заказа, не более 1% совершает боольше 4 заказов. Все, что выше 4 заказов будем считать аномальным."
   ]
  },
  {
   "cell_type": "markdown",
   "metadata": {},
   "source": [
    "### Построим точечный график стоимостей заказов"
   ]
  },
  {
   "cell_type": "code",
   "execution_count": 24,
   "metadata": {},
   "outputs": [
    {
     "data": {
      "image/png": "[encoded data removed]",
      "text/plain": [
       "<Figure size 1080x360 with 1 Axes>"
      ]
     },
     "metadata": {
      "needs_background": "light"
     },
     "output_type": "display_data"
    }
   ],
   "source": [
    "x_values = pd.Series(range(0,len(orders['revenue'])))\n",
    "plt.figure(figsize=(15,5))\n",
    "plt.grid()\n",
    "plt.title('Точечный график стоимостей заказов\\n ')\n",
    "plt.xlabel('\\nКол-во пользователей')\n",
    "plt.ylabel('Стоимость заказа\\n')\n",
    "plt.scatter(x_values, orders['revenue'], alpha=0.3);"
   ]
  },
  {
   "cell_type": "markdown",
   "metadata": {},
   "source": [
    "Этот график не сказать, что наглядный. Картину портят аномальные значения. Попробуем от них избавиться и построить график заново."
   ]
  },
  {
   "cell_type": "code",
   "execution_count": 25,
   "metadata": {},
   "outputs": [
    {
     "data": {
      "text/plain": [
       "743       67990\n",
       "744       86620\n",
       "1136      92550\n",
       "1196     202740\n",
       "425     1294500\n",
       "Name: revenue, dtype: int64"
      ]
     },
     "execution_count": 25,
     "metadata": {},
     "output_type": "execute_result"
    }
   ],
   "source": [
    "orders['revenue'].sort_values().tail()"
   ]
  },
  {
   "cell_type": "markdown",
   "metadata": {},
   "source": [
    "Видим 2 аномально дорогих заказа на 1294500 и на 202740. Исключим их с помощью среза и построим новый точечный график."
   ]
  },
  {
   "cell_type": "code",
   "execution_count": 26,
   "metadata": {},
   "outputs": [
    {
     "data": {
      "image/png": "[encoded data removed]",
      "text/plain": [
       "<Figure size 1080x360 with 1 Axes>"
      ]
     },
     "metadata": {
      "needs_background": "light"
     },
     "output_type": "display_data"
    }
   ],
   "source": [
    "orders_normal = orders[orders['revenue']<=200000]['revenue']\n",
    "xn_values = pd.Series(range(0,len(orders_normal)))\n",
    "plt.figure(figsize=(15,5))\n",
    "plt.grid()\n",
    "plt.title('Точечный график стоимостей заказов')\n",
    "plt.xlabel('\\nКол-во пользователей')\n",
    "plt.ylabel('Стоимость заказа\\n')\n",
    "plt.scatter(xn_values, orders_normal, alpha=0.5);"
   ]
  },
  {
   "cell_type": "markdown",
   "metadata": {},
   "source": [
    "Уже лучше. По этому графику видно, что больлшинство заказов не дороже 20000. Все, что выше 40000 можно относить к аномалиям. Но утчним данные с помощью рассчета перцентилей."
   ]
  },
  {
   "cell_type": "markdown",
   "metadata": {},
   "source": [
    "### Посчитаем 95-й и 99-й перцентили стоимости заказов"
   ]
  },
  {
   "cell_type": "code",
   "execution_count": 27,
   "metadata": {},
   "outputs": [
    {
     "data": {
      "text/plain": [
       "array([26785., 53904.])"
      ]
     },
     "execution_count": 27,
     "metadata": {},
     "output_type": "execute_result"
    }
   ],
   "source": [
    "np.percentile(orders['revenue'], [95, 99])"
   ]
  },
  {
   "cell_type": "markdown",
   "metadata": {},
   "source": [
    "Не более 5% пользователей совершают заказы дороже 28000 и не более 1% делают заказы дороже 58233,2. Примем за границу аномальности значение 58000."
   ]
  },
  {
   "cell_type": "markdown",
   "metadata": {},
   "source": [
    "### Посчитаем статистическую значимость различий в среднем количестве заказов на посетителя между группами по «сырым» данным."
   ]
  },
  {
   "cell_type": "markdown",
   "metadata": {},
   "source": [
    "Для начала подготовим данные к подсчету."
   ]
  },
  {
   "cell_type": "code",
   "execution_count": 28,
   "metadata": {},
   "outputs": [
    {
     "data": {
      "text/html": [
       "<div>\n",
       "<style scoped>\n",
       "    .dataframe tbody tr th:only-of-type {\n",
       "        vertical-align: middle;\n",
       "    }\n",
       "\n",
       "    .dataframe tbody tr th {\n",
       "        vertical-align: top;\n",
       "    }\n",
       "\n",
       "    .dataframe thead th {\n",
       "        text-align: right;\n",
       "    }\n",
       "</style>\n",
       "<table border=\"1\" class=\"dataframe\">\n",
       "  <thead>\n",
       "    <tr style=\"text-align: right;\">\n",
       "      <th></th>\n",
       "      <th>date</th>\n",
       "      <th>ordersPerDateA</th>\n",
       "      <th>revenuePerDateA</th>\n",
       "      <th>ordersPerDateB</th>\n",
       "      <th>revenuePerDateB</th>\n",
       "      <th>ordersCummulativeA</th>\n",
       "      <th>revenueCummulativeA</th>\n",
       "      <th>ordersCummulativeB</th>\n",
       "      <th>revenueCummulativeB</th>\n",
       "      <th>visitorsPerDateA</th>\n",
       "      <th>visitorsPerDateB</th>\n",
       "      <th>visitorsCummulativeA</th>\n",
       "      <th>visitorsCummulativeB</th>\n",
       "    </tr>\n",
       "  </thead>\n",
       "  <tbody>\n",
       "    <tr>\n",
       "      <th>0</th>\n",
       "      <td>2019-08-01</td>\n",
       "      <td>23</td>\n",
       "      <td>142779</td>\n",
       "      <td>17</td>\n",
       "      <td>59758</td>\n",
       "      <td>23</td>\n",
       "      <td>142779</td>\n",
       "      <td>17</td>\n",
       "      <td>59758</td>\n",
       "      <td>719</td>\n",
       "      <td>713</td>\n",
       "      <td>719</td>\n",
       "      <td>713</td>\n",
       "    </tr>\n",
       "    <tr>\n",
       "      <th>1</th>\n",
       "      <td>2019-08-02</td>\n",
       "      <td>19</td>\n",
       "      <td>91602</td>\n",
       "      <td>23</td>\n",
       "      <td>162043</td>\n",
       "      <td>42</td>\n",
       "      <td>234381</td>\n",
       "      <td>40</td>\n",
       "      <td>221801</td>\n",
       "      <td>619</td>\n",
       "      <td>581</td>\n",
       "      <td>1338</td>\n",
       "      <td>1294</td>\n",
       "    </tr>\n",
       "    <tr>\n",
       "      <th>2</th>\n",
       "      <td>2019-08-03</td>\n",
       "      <td>24</td>\n",
       "      <td>112473</td>\n",
       "      <td>14</td>\n",
       "      <td>67049</td>\n",
       "      <td>66</td>\n",
       "      <td>346854</td>\n",
       "      <td>54</td>\n",
       "      <td>288850</td>\n",
       "      <td>507</td>\n",
       "      <td>509</td>\n",
       "      <td>1845</td>\n",
       "      <td>1803</td>\n",
       "    </tr>\n",
       "    <tr>\n",
       "      <th>3</th>\n",
       "      <td>2019-08-04</td>\n",
       "      <td>11</td>\n",
       "      <td>41176</td>\n",
       "      <td>14</td>\n",
       "      <td>96890</td>\n",
       "      <td>77</td>\n",
       "      <td>388030</td>\n",
       "      <td>68</td>\n",
       "      <td>385740</td>\n",
       "      <td>717</td>\n",
       "      <td>770</td>\n",
       "      <td>2562</td>\n",
       "      <td>2573</td>\n",
       "    </tr>\n",
       "    <tr>\n",
       "      <th>4</th>\n",
       "      <td>2019-08-05</td>\n",
       "      <td>22</td>\n",
       "      <td>86383</td>\n",
       "      <td>21</td>\n",
       "      <td>89908</td>\n",
       "      <td>99</td>\n",
       "      <td>474413</td>\n",
       "      <td>89</td>\n",
       "      <td>475648</td>\n",
       "      <td>756</td>\n",
       "      <td>707</td>\n",
       "      <td>3318</td>\n",
       "      <td>3280</td>\n",
       "    </tr>\n",
       "  </tbody>\n",
       "</table>\n",
       "</div>"
      ],
      "text/plain": [
       "        date  ordersPerDateA  revenuePerDateA  ordersPerDateB  \\\n",
       "0 2019-08-01              23           142779              17   \n",
       "1 2019-08-02              19            91602              23   \n",
       "2 2019-08-03              24           112473              14   \n",
       "3 2019-08-04              11            41176              14   \n",
       "4 2019-08-05              22            86383              21   \n",
       "\n",
       "   revenuePerDateB  ordersCummulativeA  revenueCummulativeA  \\\n",
       "0            59758                  23               142779   \n",
       "1           162043                  42               234381   \n",
       "2            67049                  66               346854   \n",
       "3            96890                  77               388030   \n",
       "4            89908                  99               474413   \n",
       "\n",
       "   ordersCummulativeB  revenueCummulativeB  visitorsPerDateA  \\\n",
       "0                  17                59758               719   \n",
       "1                  40               221801               619   \n",
       "2                  54               288850               507   \n",
       "3                  68               385740               717   \n",
       "4                  89               475648               756   \n",
       "\n",
       "   visitorsPerDateB  visitorsCummulativeA  visitorsCummulativeB  \n",
       "0               713                   719                   713  \n",
       "1               581                  1338                  1294  \n",
       "2               509                  1845                  1803  \n",
       "3               770                  2562                  2573  \n",
       "4               707                  3318                  3280  "
      ]
     },
     "execution_count": 28,
     "metadata": {},
     "output_type": "execute_result"
    }
   ],
   "source": [
    "visitorsADaily = visitors[visitors['group'] == 'A'][['date', 'visitors']]\n",
    "visitorsADaily.columns = ['date', 'visitorsPerDateA']\n",
    "\n",
    "visitorsACummulative = visitorsADaily.apply(\n",
    "    lambda x: visitorsADaily[visitorsADaily['date'] <= x['date']].agg(\n",
    "        {'date': 'max', 'visitorsPerDateA': 'sum'}\n",
    "    ),\n",
    "    axis=1,\n",
    ")\n",
    "visitorsACummulative.columns = ['date', 'visitorsCummulativeA']\n",
    "\n",
    "visitorsBDaily = visitors[visitors['group'] == 'B'][['date', 'visitors']]\n",
    "visitorsBDaily.columns = ['date', 'visitorsPerDateB']\n",
    "\n",
    "visitorsBCummulative = visitorsBDaily.apply(\n",
    "    lambda x: visitorsBDaily[visitorsBDaily['date'] <= x['date']].agg(\n",
    "        {'date': 'max', 'visitorsPerDateB': 'sum'}\n",
    "    ),\n",
    "    axis=1,\n",
    ")\n",
    "visitorsBCummulative.columns = ['date', 'visitorsCummulativeB']\n",
    "\n",
    "ordersADaily = (\n",
    "    orders[orders['group'] == 'A'][['date', 'transactionId', 'visitorId', 'revenue']]\n",
    "    .groupby('date', as_index=False)\n",
    "    .agg({'transactionId': pd.Series.nunique, 'revenue': 'sum'})\n",
    ")\n",
    "ordersADaily.columns = ['date', 'ordersPerDateA', 'revenuePerDateA']\n",
    "\n",
    "ordersACummulative = ordersADaily.apply(\n",
    "    lambda x: ordersADaily[ordersADaily['date'] <= x['date']].agg(\n",
    "        {'date': 'max', 'ordersPerDateA': 'sum', 'revenuePerDateA': 'sum'}\n",
    "    ),\n",
    "    axis=1,\n",
    ").sort_values(by=['date'])\n",
    "ordersACummulative.columns = [\n",
    "    'date',\n",
    "    'ordersCummulativeA',\n",
    "    'revenueCummulativeA',\n",
    "]\n",
    "\n",
    "ordersBDaily = (\n",
    "    orders[orders['group'] == 'B'][['date', 'transactionId', 'visitorId', 'revenue']]\n",
    "    .groupby('date', as_index=False)\n",
    "    .agg({'transactionId': pd.Series.nunique, 'revenue': 'sum'})\n",
    ")\n",
    "ordersBDaily.columns = ['date', 'ordersPerDateB', 'revenuePerDateB']\n",
    "\n",
    "ordersBCummulative = ordersBDaily.apply(\n",
    "    lambda x: ordersBDaily[ordersBDaily['date'] <= x['date']].agg(\n",
    "        {'date': 'max', 'ordersPerDateB': 'sum', 'revenuePerDateB': 'sum'}\n",
    "    ),\n",
    "    axis=1,\n",
    ").sort_values(by=['date'])\n",
    "ordersBCummulative.columns = [\n",
    "    'date',\n",
    "    'ordersCummulativeB',\n",
    "    'revenueCummulativeB',\n",
    "]\n",
    "\n",
    "data = (\n",
    "    ordersADaily.merge(\n",
    "        ordersBDaily, left_on='date', right_on='date', how='left'\n",
    "    )\n",
    "    .merge(ordersACummulative, left_on='date', right_on='date', how='left')\n",
    "    .merge(ordersBCummulative, left_on='date', right_on='date', how='left')\n",
    "    .merge(visitorsADaily, left_on='date', right_on='date', how='left')\n",
    "    .merge(visitorsBDaily, left_on='date', right_on='date', how='left')\n",
    "    .merge(visitorsACummulative, left_on='date', right_on='date', how='left')\n",
    "    .merge(visitorsBCummulative, left_on='date', right_on='date', how='left')\n",
    ")\n",
    "\n",
    "data.head(5)"
   ]
  },
  {
   "cell_type": "code",
   "execution_count": 29,
   "metadata": {},
   "outputs": [],
   "source": [
    "ordersByUsersA = (\n",
    "    orders[orders['group'] == 'A']\n",
    "    .groupby('visitorId', as_index=False)\n",
    "    .agg({'transactionId': pd.Series.nunique})\n",
    ")\n",
    "ordersByUsersA.columns = ['visitorId', 'orders']\n",
    "\n",
    "ordersByUsersB = (\n",
    "    orders[orders['group'] == 'B']\n",
    "    .groupby('visitorId', as_index=False)\n",
    "    .agg({'transactionId': pd.Series.nunique})\n",
    ")\n",
    "ordersByUsersB.columns = ['visitorId', 'orders'] "
   ]
  },
  {
   "cell_type": "code",
   "execution_count": 30,
   "metadata": {},
   "outputs": [],
   "source": [
    "sampleA = pd.concat([ordersByUsersA['orders'],pd.Series(0, index=np.arange(data['visitorsPerDateA'].sum() - len(ordersByUsersA['orders'])), name='orders')],axis=0)\n",
    "\n",
    "sampleB = pd.concat([ordersByUsersB['orders'],pd.Series(0, index=np.arange(data['visitorsPerDateB'].sum() - len(ordersByUsersB['orders'])), name='orders')],axis=0)"
   ]
  },
  {
   "cell_type": "markdown",
   "metadata": {},
   "source": [
    "За нулевую гипотезу H0 примем - статистически значимых различий в среднем количестве заказов между группами нет.\n",
    "\n",
    "Тогда альтернативная гипотеза Н1 - статистически значимые различия есть."
   ]
  },
  {
   "cell_type": "code",
   "execution_count": 31,
   "metadata": {},
   "outputs": [],
   "source": [
    "ordersByUsersA = (\n",
    "    orders[orders['group'] == 'A']\n",
    "    .groupby('visitorId', as_index=False)\n",
    "    .agg({'transactionId': pd.Series.nunique})\n",
    ")\n",
    "ordersByUsersA.columns = ['visitorId', 'orders']\n",
    "\n",
    "ordersByUsersB = (\n",
    "    orders[orders['group'] == 'B']\n",
    "    .groupby('visitorId', as_index=False)\n",
    "    .agg({'transactionId': pd.Series.nunique})\n",
    ")\n",
    "ordersByUsersB.columns = ['visitorId', 'orders']\n",
    "\n",
    "sampleA = pd.concat(\n",
    "    [\n",
    "        ordersByUsersA['orders'],\n",
    "        pd.Series(\n",
    "            0,\n",
    "            index=np.arange(\n",
    "                data['visitorsPerDateA'].sum() - len(ordersByUsersA['orders'])\n",
    "            ),\n",
    "            name='orders',\n",
    "        ),\n",
    "    ],\n",
    "    axis=0,\n",
    ")\n",
    "\n",
    "sampleB = pd.concat(\n",
    "    [\n",
    "        ordersByUsersB['orders'],\n",
    "        pd.Series(\n",
    "            0,\n",
    "            index=np.arange(\n",
    "                data['visitorsPerDateB'].sum() - len(ordersByUsersB['orders'])\n",
    "            ),\n",
    "            name='orders',\n",
    "        ),\n",
    "    ],\n",
    "    axis=0,\n",
    ")\n"
   ]
  },
  {
   "cell_type": "code",
   "execution_count": 32,
   "metadata": {},
   "outputs": [
    {
     "name": "stdout",
     "output_type": "stream",
     "text": [
      "alpha = 0.05\n",
      "p-value = 0.011\n",
      "Относительное различие в среднем между группами = 0.160\n"
     ]
    }
   ],
   "source": [
    "print('alpha = 0.05')\n",
    "print(\"p-value = {0:.3f}\".format(st.mannwhitneyu(sampleA, sampleB)[1]))\n",
    "print(\"Относительное различие в среднем между группами = {0:.3f}\".format(sampleB.mean() / sampleA.mean() - 1))"
   ]
  },
  {
   "cell_type": "markdown",
   "metadata": {},
   "source": [
    "P-value меньше alpha. Это значит, что нулевую гипотезу следует отвергнуть. Получается, что по \"сырым\" данным наблюдается статистически значимая разница в среднем количестве заказов между группами А и В.\n",
    "\n",
    "Относительный прирост заказов группы В по отношению к А составляет 16%"
   ]
  },
  {
   "cell_type": "markdown",
   "metadata": {},
   "source": [
    "### Посчитаем статистическую значимость различий в среднем чеке заказа между группами по «сырым» данным."
   ]
  },
  {
   "cell_type": "markdown",
   "metadata": {},
   "source": [
    "За нулевую гипотезу H0 примем - статистически значимых различий в среднем чеке между группами нет.\n",
    "\n",
    "Тогда альтернативная гипотеза Н1 - статистически значимые различия есть."
   ]
  },
  {
   "cell_type": "code",
   "execution_count": 33,
   "metadata": {},
   "outputs": [
    {
     "name": "stdout",
     "output_type": "stream",
     "text": [
      "alpha = 0.05\n",
      "p-value = 0.829\n",
      "Относительное различие в среднем между группами = 0.287\n"
     ]
    }
   ],
   "source": [
    "sampleA = orders[orders['group'] == 'A']['revenue']\n",
    "sampleB = orders[orders['group'] == 'B']['revenue']\n",
    "\n",
    "print('alpha = 0.05')\n",
    "print(\"p-value = {0:.3f}\".format(st.mannwhitneyu(sampleA, sampleB)[1]))\n",
    "print(\"Относительное различие в среднем между группами = {0:.3f}\".format(sampleB.mean() / sampleA.mean() - 1))"
   ]
  },
  {
   "cell_type": "markdown",
   "metadata": {},
   "source": [
    "p-value значительно больше alpha. Это значит, что по \"сырым\" данным статистически значимых различий между средними чеками в группах А и В нет. При этом срелний чек группы В выше среднего чека группы А на 29%. Существенная относительная разница при отсутствии статистической значимости указывает на влияние выбросов на метрику. Следует изучить аномалии и избавиться от них"
   ]
  },
  {
   "cell_type": "markdown",
   "metadata": {},
   "source": [
    "### Посчитайте статистическую значимость различий в среднем количестве заказов на посетителя между группами по «очищенным» данным."
   ]
  },
  {
   "cell_type": "markdown",
   "metadata": {},
   "source": [
    "Напомним, что по результатам изучения аномалий, мы пришли к выводам, что аномальными можно считать:\n",
    "- пользователей, сделавших более 4 заказов;\n",
    "- заказы, превышающие стримость в 58000\n",
    "\n",
    "Очистим данные от аномалий и посмотрим, сколько у нас пользователей и заказов с аномалиями\n",
    " "
   ]
  },
  {
   "cell_type": "code",
   "execution_count": 34,
   "metadata": {},
   "outputs": [
    {
     "name": "stdout",
     "output_type": "stream",
     "text": [
      "Всего аномалий = 9\n"
     ]
    }
   ],
   "source": [
    "usersWithManyOrders = pd.concat([ordersByUsersA[ordersByUsersA['orders'] > 4]['visitorId'], ordersByUsersB[ordersByUsersB['orders'] > 4]['visitorId']], axis = 0)\n",
    "usersWithExpensiveOrders = orders[orders['revenue'] > 58000]['visitorId']\n",
    "abnormalUsers = pd.concat([usersWithManyOrders, usersWithExpensiveOrders], axis = 0).drop_duplicates().sort_values()\n",
    "print(\"Всего аномалий =\" ,len(abnormalUsers)) "
   ]
  },
  {
   "cell_type": "markdown",
   "metadata": {},
   "source": [
    "Аномалий всего 9. Посмотрим, как изменятся результаты после их исключения"
   ]
  },
  {
   "cell_type": "code",
   "execution_count": 35,
   "metadata": {},
   "outputs": [],
   "source": [
    "sampleAFiltered = pd.concat([ordersByUsersA[np.logical_not(ordersByUsersA['visitorId'].isin(abnormalUsers))]['orders'], \\\n",
    "                             pd.Series(0, index=np.arange(data['visitorsPerDateA'].sum() - len(ordersByUsersA['orders'])), \\\n",
    "                                       name='orders')],axis=0)\n",
    "\n",
    "sampleBFiltered = pd.concat([ordersByUsersB[np.logical_not(ordersByUsersB['visitorId'].isin(abnormalUsers))]['orders'], \\\n",
    "                             pd.Series(0, index=np.arange(data['visitorsPerDateB'].sum() - len(ordersByUsersB['orders'])), \\\n",
    "                                       name='orders')],axis=0) "
   ]
  },
  {
   "cell_type": "markdown",
   "metadata": {},
   "source": [
    "За нулевую гипотезу H0 примем - статистически значимых различий в среднем количестве заказов между группами нет.\n",
    "\n",
    "Тогда альтернативная гипотеза Н1 - статистически значимые различия есть."
   ]
  },
  {
   "cell_type": "code",
   "execution_count": 36,
   "metadata": {},
   "outputs": [
    {
     "name": "stdout",
     "output_type": "stream",
     "text": [
      "alpha = 0.05\n",
      "p-value = 0.010\n",
      "Относительное различие в среднем между группами = 0.164\n"
     ]
    }
   ],
   "source": [
    "print(\"alpha =\",0.05)\n",
    "print(\"p-value = {0:.3f}\".format(st.mannwhitneyu(sampleAFiltered, sampleBFiltered, alternative = 'two-sided')[1]))\n",
    "print(\"Относительное различие в среднем между группами = {0:.3f}\".format(sampleBFiltered.mean()/sampleAFiltered.mean()-1)) "
   ]
  },
  {
   "cell_type": "markdown",
   "metadata": {},
   "source": [
    "По очищенным данным результат не отличается, p-value ниже alpha, нулевая гипотеза отвергается. Статистически значимые различия между заказми в группах А и В есть.\n",
    "\n",
    "Относительный прирост в группе В составляет 16,4%, что на 0,4% выше, чем в анализе по \"сырым\" данным\n"
   ]
  },
  {
   "cell_type": "markdown",
   "metadata": {},
   "source": [
    "### Посчитаем статистическую значимость различий в среднем чеке заказа между группами по «очищенным» данным. "
   ]
  },
  {
   "cell_type": "markdown",
   "metadata": {},
   "source": [
    "За нулевую гипотезу H0 примем - статистически значимых различий в средних чеках между группами нет.\n",
    "\n",
    "Тогда альтернативная гипотеза Н1 - статистически значимые различия есть."
   ]
  },
  {
   "cell_type": "code",
   "execution_count": 37,
   "metadata": {},
   "outputs": [
    {
     "name": "stdout",
     "output_type": "stream",
     "text": [
      "alpha = 0.05\n",
      "p-value = 0.901\n",
      "Относительный показатель = -0.032\n"
     ]
    }
   ],
   "source": [
    "print(\"alpha = 0.05\")\n",
    "print(\n",
    "    'p-value = {0:.3f}'.format(\n",
    "        st.mannwhitneyu(\n",
    "            orders[\n",
    "                np.logical_and(\n",
    "                    orders['group'] == 'A',\n",
    "                    np.logical_not(orders['visitorId'].isin(abnormalUsers)),\n",
    "                )\n",
    "            ]['revenue'],\n",
    "            orders[\n",
    "                np.logical_and(\n",
    "                    orders['group'] == 'B',\n",
    "                    np.logical_not(orders['visitorId'].isin(abnormalUsers)),\n",
    "                )\n",
    "            ]['revenue'],\n",
    "        )[1]\n",
    "    )\n",
    ")\n",
    "\n",
    "print(\n",
    "    \"Относительный показатель = {0:.3f}\".format(\n",
    "        orders[\n",
    "            np.logical_and(\n",
    "                orders['group'] == 'B',\n",
    "                np.logical_not(orders['visitorId'].isin(abnormalUsers)),\n",
    "            )\n",
    "        ]['revenue'].mean()\n",
    "        / orders[\n",
    "            np.logical_and(\n",
    "                orders['group'] == 'A',\n",
    "                np.logical_not(orders['visitorId'].isin(abnormalUsers)),\n",
    "            )\n",
    "        ]['revenue'].mean()\n",
    "        - 1\n",
    "    )\n",
    ")"
   ]
  },
  {
   "cell_type": "markdown",
   "metadata": {},
   "source": [
    "По результатам теста видим, что p-value выше alpha, следовательно нулевая гипотеза отвергается и статистически значимых различий в средних чеках между группами А и группами В нет. По относительным показателям средний чек группы В несколько ниже среднего чека группы А.\n",
    "\n",
    "Напомним, что по \"сырым\" данным относительный показатель группы В был выше на 29%. Влияние аномалий налицо."
   ]
  },
  {
   "cell_type": "markdown",
   "metadata": {},
   "source": [
    "### Примем решение по результатам теста."
   ]
  },
  {
   "cell_type": "markdown",
   "metadata": {},
   "source": [
    "Итак, анализ теста завершен. Теперь предстоит прирнять решение о том, что делать дальше. У нас есть 3 варианта:\n",
    "1. Остановить тест, зафиксировать победу одной из групп.\n",
    "2. Остановить тест, зафиксировать отсутствие различий между группами.\n",
    "3. Продолжить тест."
   ]
  },
  {
   "cell_type": "markdown",
   "metadata": {},
   "source": [
    "Исходя из того, что показатель конверсии группы В выше, чем в группе А и по \"сырым\" и по \"очищенным\" данным (по очищенным относительный прирост даже выше), при том, что различий между средними чеками в группах не выявлено, можно остановить тест и зафиксировать победу группы В.\n"
   ]
  },
  {
   "cell_type": "markdown",
   "metadata": {},
   "source": [
    "Несколько смущает отсутствие статистически значимой разницы в среднем чеке, несмотря на более высокую конверсию у пользователей группы В. Для увеличения выручки отделу маркетинга необходимо принимать меры по увеличению среднего чека. Если объединить резултаты тестирования со стимулирующими мероприятиями, получится существенно увеличить прибыль."
   ]
  },
  {
   "cell_type": "code",
   "execution_count": null,
   "metadata": {},
   "outputs": [],
   "source": []
  }
 ],
 "metadata": {
  "ExecuteTimeLog": [
   {
    "duration": 406,
    "start_time": "2023-03-15T07:51:37.130Z"
   },
   {
    "duration": 71,
    "start_time": "2023-03-15T07:52:10.142Z"
   },
   {
    "duration": 26,
    "start_time": "2023-03-15T07:52:21.456Z"
   },
   {
    "duration": 10,
    "start_time": "2023-03-15T08:05:03.867Z"
   },
   {
    "duration": 4,
    "start_time": "2023-03-15T08:06:29.960Z"
   },
   {
    "duration": 11,
    "start_time": "2023-03-15T08:06:33.257Z"
   },
   {
    "duration": 2,
    "start_time": "2023-03-15T08:18:46.920Z"
   },
   {
    "duration": 358,
    "start_time": "2023-03-15T08:20:05.220Z"
   },
   {
    "duration": 2,
    "start_time": "2023-03-15T08:20:18.233Z"
   },
   {
    "duration": 25,
    "start_time": "2023-03-15T08:20:18.239Z"
   },
   {
    "duration": 9,
    "start_time": "2023-03-15T08:20:18.265Z"
   },
   {
    "duration": 10,
    "start_time": "2023-03-15T08:20:18.276Z"
   },
   {
    "duration": 225,
    "start_time": "2023-03-15T08:20:23.058Z"
   },
   {
    "duration": 971,
    "start_time": "2023-03-15T08:23:21.882Z"
   },
   {
    "duration": 42,
    "start_time": "2023-03-15T08:23:22.855Z"
   },
   {
    "duration": 10,
    "start_time": "2023-03-15T08:23:22.899Z"
   },
   {
    "duration": 9,
    "start_time": "2023-03-15T08:23:22.910Z"
   },
   {
    "duration": 325,
    "start_time": "2023-03-15T08:23:25.424Z"
   },
   {
    "duration": 242,
    "start_time": "2023-03-15T08:26:13.139Z"
   },
   {
    "duration": 268,
    "start_time": "2023-03-15T08:26:49.053Z"
   },
   {
    "duration": 89,
    "start_time": "2023-03-15T08:55:16.794Z"
   },
   {
    "duration": 14,
    "start_time": "2023-03-15T08:55:22.350Z"
   },
   {
    "duration": 277,
    "start_time": "2023-03-15T08:55:47.642Z"
   },
   {
    "duration": 19,
    "start_time": "2023-03-15T08:59:58.065Z"
   },
   {
    "duration": 232,
    "start_time": "2023-03-15T09:03:15.313Z"
   },
   {
    "duration": 188,
    "start_time": "2023-03-15T09:04:08.512Z"
   },
   {
    "duration": 88,
    "start_time": "2023-03-15T09:04:14.948Z"
   },
   {
    "duration": 83,
    "start_time": "2023-03-15T09:04:40.112Z"
   },
   {
    "duration": 239,
    "start_time": "2023-03-15T09:07:02.920Z"
   },
   {
    "duration": 219,
    "start_time": "2023-03-15T09:07:27.340Z"
   },
   {
    "duration": 249,
    "start_time": "2023-03-15T09:07:39.682Z"
   },
   {
    "duration": 254,
    "start_time": "2023-03-15T09:08:19.331Z"
   },
   {
    "duration": 1124,
    "start_time": "2023-03-15T09:08:50.313Z"
   },
   {
    "duration": 29,
    "start_time": "2023-03-15T09:08:51.439Z"
   },
   {
    "duration": 12,
    "start_time": "2023-03-15T09:08:51.470Z"
   },
   {
    "duration": 10,
    "start_time": "2023-03-15T09:08:51.483Z"
   },
   {
    "duration": 338,
    "start_time": "2023-03-15T09:08:51.495Z"
   },
   {
    "duration": 64,
    "start_time": "2023-03-15T09:11:55.061Z"
   },
   {
    "duration": 44,
    "start_time": "2023-03-15T09:18:02.021Z"
   },
   {
    "duration": 28,
    "start_time": "2023-03-15T09:23:12.429Z"
   },
   {
    "duration": 63,
    "start_time": "2023-03-15T09:23:24.820Z"
   },
   {
    "duration": 10,
    "start_time": "2023-03-15T09:23:47.737Z"
   },
   {
    "duration": 8,
    "start_time": "2023-03-15T09:24:02.281Z"
   },
   {
    "duration": 27,
    "start_time": "2023-03-15T09:25:55.908Z"
   },
   {
    "duration": 554,
    "start_time": "2023-03-15T09:26:40.920Z"
   },
   {
    "duration": 262,
    "start_time": "2023-03-15T09:31:19.085Z"
   },
   {
    "duration": 174,
    "start_time": "2023-03-15T09:31:57.004Z"
   },
   {
    "duration": 161,
    "start_time": "2023-03-15T09:32:20.320Z"
   },
   {
    "duration": 180,
    "start_time": "2023-03-15T09:32:29.367Z"
   },
   {
    "duration": 167,
    "start_time": "2023-03-15T09:33:09.013Z"
   },
   {
    "duration": 166,
    "start_time": "2023-03-15T09:33:27.451Z"
   },
   {
    "duration": 295,
    "start_time": "2023-03-15T09:34:53.531Z"
   },
   {
    "duration": 228,
    "start_time": "2023-03-15T09:35:11.916Z"
   },
   {
    "duration": 185,
    "start_time": "2023-03-15T09:35:48.113Z"
   },
   {
    "duration": 212,
    "start_time": "2023-03-15T09:36:23.661Z"
   },
   {
    "duration": 228,
    "start_time": "2023-03-15T09:36:48.216Z"
   },
   {
    "duration": 158,
    "start_time": "2023-03-15T09:41:47.874Z"
   },
   {
    "duration": 247,
    "start_time": "2023-03-15T09:42:31.429Z"
   },
   {
    "duration": 212,
    "start_time": "2023-03-15T09:43:02.983Z"
   },
   {
    "duration": 271,
    "start_time": "2023-03-15T09:55:11.372Z"
   },
   {
    "duration": 377,
    "start_time": "2023-03-15T09:56:05.421Z"
   },
   {
    "duration": 327,
    "start_time": "2023-03-15T09:56:20.068Z"
   },
   {
    "duration": 343,
    "start_time": "2023-03-15T10:02:28.831Z"
   },
   {
    "duration": 297,
    "start_time": "2023-03-15T10:09:26.450Z"
   },
   {
    "duration": 325,
    "start_time": "2023-03-15T10:10:24.852Z"
   },
   {
    "duration": 226,
    "start_time": "2023-03-15T10:10:49.529Z"
   },
   {
    "duration": 244,
    "start_time": "2023-03-15T10:11:53.229Z"
   },
   {
    "duration": 366,
    "start_time": "2023-03-15T10:13:03.621Z"
   },
   {
    "duration": 397,
    "start_time": "2023-03-15T10:13:27.067Z"
   },
   {
    "duration": 232,
    "start_time": "2023-03-15T10:13:36.873Z"
   },
   {
    "duration": 150,
    "start_time": "2023-03-15T10:16:22.792Z"
   },
   {
    "duration": 346,
    "start_time": "2023-03-15T10:17:58.142Z"
   },
   {
    "duration": 379,
    "start_time": "2023-03-15T10:19:06.778Z"
   },
   {
    "duration": 344,
    "start_time": "2023-03-15T10:19:28.322Z"
   },
   {
    "duration": 281,
    "start_time": "2023-03-15T10:21:41.842Z"
   },
   {
    "duration": 304,
    "start_time": "2023-03-15T10:22:15.279Z"
   },
   {
    "duration": 4,
    "start_time": "2023-03-15T10:25:18.033Z"
   },
   {
    "duration": 49,
    "start_time": "2023-03-15T19:18:30.571Z"
   },
   {
    "duration": 1284,
    "start_time": "2023-03-15T19:18:39.892Z"
   },
   {
    "duration": 76,
    "start_time": "2023-03-15T19:18:41.179Z"
   },
   {
    "duration": 15,
    "start_time": "2023-03-15T19:18:41.257Z"
   },
   {
    "duration": 15,
    "start_time": "2023-03-15T19:18:41.278Z"
   },
   {
    "duration": 232,
    "start_time": "2023-03-15T19:18:41.295Z"
   },
   {
    "duration": 8,
    "start_time": "2023-03-15T19:18:41.528Z"
   },
   {
    "duration": 547,
    "start_time": "2023-03-15T19:18:41.538Z"
   },
   {
    "duration": 326,
    "start_time": "2023-03-15T19:18:42.088Z"
   },
   {
    "duration": 221,
    "start_time": "2023-03-15T19:18:42.415Z"
   },
   {
    "duration": 437,
    "start_time": "2023-03-15T19:18:42.639Z"
   },
   {
    "duration": 252,
    "start_time": "2023-03-15T19:18:43.078Z"
   },
   {
    "duration": 449,
    "start_time": "2023-03-15T19:18:43.332Z"
   },
   {
    "duration": 315,
    "start_time": "2023-03-15T19:18:43.783Z"
   },
   {
    "duration": 5,
    "start_time": "2023-03-15T19:18:44.100Z"
   },
   {
    "duration": 1294,
    "start_time": "2023-03-15T19:18:48.493Z"
   },
   {
    "duration": 181,
    "start_time": "2023-03-15T19:19:30.400Z"
   },
   {
    "duration": 230,
    "start_time": "2023-03-15T19:20:07.588Z"
   },
   {
    "duration": 161,
    "start_time": "2023-03-15T19:20:16.278Z"
   },
   {
    "duration": 5,
    "start_time": "2023-03-15T19:22:18.769Z"
   },
   {
    "duration": 142,
    "start_time": "2023-03-15T19:24:29.748Z"
   },
   {
    "duration": 163,
    "start_time": "2023-03-15T19:24:47.745Z"
   },
   {
    "duration": 150,
    "start_time": "2023-03-15T19:25:40.488Z"
   },
   {
    "duration": 1235,
    "start_time": "2023-03-15T19:27:59.208Z"
   },
   {
    "duration": 5,
    "start_time": "2023-03-15T19:28:24.714Z"
   },
   {
    "duration": 118,
    "start_time": "2023-03-15T19:35:46.782Z"
   },
   {
    "duration": 130,
    "start_time": "2023-03-15T19:37:32.243Z"
   },
   {
    "duration": 192,
    "start_time": "2023-03-15T19:38:23.439Z"
   },
   {
    "duration": 222,
    "start_time": "2023-03-15T19:39:12.871Z"
   },
   {
    "duration": 13,
    "start_time": "2023-03-15T19:40:45.326Z"
   },
   {
    "duration": 143,
    "start_time": "2023-03-15T19:41:36.637Z"
   },
   {
    "duration": 6,
    "start_time": "2023-03-15T19:42:44.126Z"
   },
   {
    "duration": 126,
    "start_time": "2023-03-15T19:48:05.672Z"
   },
   {
    "duration": 137,
    "start_time": "2023-03-15T19:49:02.036Z"
   },
   {
    "duration": 212,
    "start_time": "2023-03-15T19:52:55.054Z"
   },
   {
    "duration": 178,
    "start_time": "2023-03-15T19:53:18.108Z"
   },
   {
    "duration": 150,
    "start_time": "2023-03-15T19:53:32.836Z"
   },
   {
    "duration": 33,
    "start_time": "2023-03-15T19:55:15.946Z"
   },
   {
    "duration": 33,
    "start_time": "2023-03-15T19:57:57.551Z"
   },
   {
    "duration": 20,
    "start_time": "2023-03-15T19:58:05.225Z"
   },
   {
    "duration": 30,
    "start_time": "2023-03-15T19:58:15.452Z"
   },
   {
    "duration": 134,
    "start_time": "2023-03-15T19:59:26.210Z"
   },
   {
    "duration": 11,
    "start_time": "2023-03-15T20:04:49.998Z"
   },
   {
    "duration": 9,
    "start_time": "2023-03-15T20:04:58.323Z"
   },
   {
    "duration": 9,
    "start_time": "2023-03-15T20:05:38.599Z"
   },
   {
    "duration": 1168,
    "start_time": "2023-03-15T20:16:30.006Z"
   },
   {
    "duration": 11,
    "start_time": "2023-03-15T20:17:06.678Z"
   },
   {
    "duration": 15,
    "start_time": "2023-03-15T20:17:25.929Z"
   },
   {
    "duration": 10,
    "start_time": "2023-03-15T20:17:37.422Z"
   },
   {
    "duration": 1135,
    "start_time": "2023-03-15T20:19:12.487Z"
   },
   {
    "duration": 7,
    "start_time": "2023-03-15T20:19:40.087Z"
   },
   {
    "duration": 24,
    "start_time": "2023-03-15T20:20:49.581Z"
   },
   {
    "duration": 24,
    "start_time": "2023-03-15T20:21:23.032Z"
   },
   {
    "duration": 12,
    "start_time": "2023-03-15T20:26:04.027Z"
   },
   {
    "duration": 1166,
    "start_time": "2023-03-15T20:26:43.972Z"
   },
   {
    "duration": 14,
    "start_time": "2023-03-15T20:28:35.259Z"
   },
   {
    "duration": 14,
    "start_time": "2023-03-15T20:30:23.901Z"
   },
   {
    "duration": 1209,
    "start_time": "2023-03-15T20:52:09.476Z"
   },
   {
    "duration": 34,
    "start_time": "2023-03-15T20:52:10.687Z"
   },
   {
    "duration": 12,
    "start_time": "2023-03-15T20:52:10.723Z"
   },
   {
    "duration": 12,
    "start_time": "2023-03-15T20:52:10.737Z"
   },
   {
    "duration": 64,
    "start_time": "2023-03-15T20:52:10.752Z"
   },
   {
    "duration": 8,
    "start_time": "2023-03-15T20:52:10.818Z"
   },
   {
    "duration": 552,
    "start_time": "2023-03-15T20:52:10.827Z"
   },
   {
    "duration": 295,
    "start_time": "2023-03-15T20:52:11.381Z"
   },
   {
    "duration": 225,
    "start_time": "2023-03-15T20:52:11.678Z"
   },
   {
    "duration": 299,
    "start_time": "2023-03-15T20:52:11.905Z"
   },
   {
    "duration": 238,
    "start_time": "2023-03-15T20:52:12.206Z"
   },
   {
    "duration": 371,
    "start_time": "2023-03-15T20:52:12.446Z"
   },
   {
    "duration": 263,
    "start_time": "2023-03-15T20:52:12.819Z"
   },
   {
    "duration": 6,
    "start_time": "2023-03-15T20:52:13.084Z"
   },
   {
    "duration": 181,
    "start_time": "2023-03-15T20:52:13.091Z"
   },
   {
    "duration": 6,
    "start_time": "2023-03-15T20:52:13.273Z"
   },
   {
    "duration": 311,
    "start_time": "2023-03-15T20:52:13.282Z"
   },
   {
    "duration": 6,
    "start_time": "2023-03-15T20:52:13.595Z"
   },
   {
    "duration": 242,
    "start_time": "2023-03-15T20:52:13.603Z"
   },
   {
    "duration": 146,
    "start_time": "2023-03-15T20:52:13.847Z"
   },
   {
    "duration": 8,
    "start_time": "2023-03-15T20:52:13.996Z"
   },
   {
    "duration": 226,
    "start_time": "2023-03-15T20:52:14.006Z"
   },
   {
    "duration": 23,
    "start_time": "2023-03-15T20:52:14.234Z"
   },
   {
    "duration": 10,
    "start_time": "2023-03-15T20:52:14.270Z"
   },
   {
    "duration": 9,
    "start_time": "2023-03-15T20:52:14.282Z"
   },
   {
    "duration": 12,
    "start_time": "2023-03-15T20:52:14.293Z"
   },
   {
    "duration": 27,
    "start_time": "2023-03-15T20:52:14.307Z"
   },
   {
    "duration": 43,
    "start_time": "2023-03-15T20:52:14.336Z"
   },
   {
    "duration": 1337,
    "start_time": "2023-03-16T07:04:59.715Z"
   },
   {
    "duration": 89,
    "start_time": "2023-03-16T07:05:01.054Z"
   },
   {
    "duration": 11,
    "start_time": "2023-03-16T07:05:01.145Z"
   },
   {
    "duration": 31,
    "start_time": "2023-03-16T07:05:01.158Z"
   },
   {
    "duration": 195,
    "start_time": "2023-03-16T07:05:01.192Z"
   },
   {
    "duration": 8,
    "start_time": "2023-03-16T07:05:01.389Z"
   },
   {
    "duration": 570,
    "start_time": "2023-03-16T07:05:01.398Z"
   },
   {
    "duration": 306,
    "start_time": "2023-03-16T07:05:01.969Z"
   },
   {
    "duration": 239,
    "start_time": "2023-03-16T07:05:02.277Z"
   },
   {
    "duration": 417,
    "start_time": "2023-03-16T07:05:02.517Z"
   },
   {
    "duration": 286,
    "start_time": "2023-03-16T07:05:02.936Z"
   },
   {
    "duration": 361,
    "start_time": "2023-03-16T07:05:03.224Z"
   },
   {
    "duration": 290,
    "start_time": "2023-03-16T07:05:03.586Z"
   },
   {
    "duration": 7,
    "start_time": "2023-03-16T07:05:03.879Z"
   },
   {
    "duration": 206,
    "start_time": "2023-03-16T07:05:03.888Z"
   },
   {
    "duration": 18,
    "start_time": "2023-03-16T07:05:04.096Z"
   },
   {
    "duration": 317,
    "start_time": "2023-03-16T07:05:04.116Z"
   },
   {
    "duration": 5,
    "start_time": "2023-03-16T07:05:04.436Z"
   },
   {
    "duration": 221,
    "start_time": "2023-03-16T07:05:04.442Z"
   },
   {
    "duration": 154,
    "start_time": "2023-03-16T07:05:04.665Z"
   },
   {
    "duration": 6,
    "start_time": "2023-03-16T07:05:04.820Z"
   },
   {
    "duration": 166,
    "start_time": "2023-03-16T07:05:04.828Z"
   },
   {
    "duration": 26,
    "start_time": "2023-03-16T07:05:04.996Z"
   },
   {
    "duration": 9,
    "start_time": "2023-03-16T07:05:05.023Z"
   },
   {
    "duration": 11,
    "start_time": "2023-03-16T07:05:05.034Z"
   },
   {
    "duration": 12,
    "start_time": "2023-03-16T07:05:05.046Z"
   },
   {
    "duration": 55,
    "start_time": "2023-03-16T07:05:05.060Z"
   },
   {
    "duration": 20,
    "start_time": "2023-03-16T07:05:05.117Z"
   },
   {
    "duration": 946,
    "start_time": "2023-03-16T07:05:33.626Z"
   },
   {
    "duration": 1127,
    "start_time": "2023-03-16T07:06:01.501Z"
   },
   {
    "duration": 35,
    "start_time": "2023-03-16T07:06:02.630Z"
   },
   {
    "duration": 12,
    "start_time": "2023-03-16T07:06:02.667Z"
   },
   {
    "duration": 12,
    "start_time": "2023-03-16T07:06:02.681Z"
   },
   {
    "duration": 73,
    "start_time": "2023-03-16T07:06:02.695Z"
   },
   {
    "duration": 8,
    "start_time": "2023-03-16T07:06:02.769Z"
   },
   {
    "duration": 556,
    "start_time": "2023-03-16T07:06:02.779Z"
   },
   {
    "duration": 318,
    "start_time": "2023-03-16T07:06:03.337Z"
   },
   {
    "duration": 228,
    "start_time": "2023-03-16T07:06:03.656Z"
   },
   {
    "duration": 378,
    "start_time": "2023-03-16T07:06:03.887Z"
   },
   {
    "duration": 265,
    "start_time": "2023-03-16T07:06:04.267Z"
   },
   {
    "duration": 342,
    "start_time": "2023-03-16T07:06:04.534Z"
   },
   {
    "duration": 282,
    "start_time": "2023-03-16T07:06:04.877Z"
   },
   {
    "duration": 6,
    "start_time": "2023-03-16T07:06:05.161Z"
   },
   {
    "duration": 212,
    "start_time": "2023-03-16T07:06:05.168Z"
   },
   {
    "duration": 5,
    "start_time": "2023-03-16T07:06:05.382Z"
   },
   {
    "duration": 304,
    "start_time": "2023-03-16T07:06:05.389Z"
   },
   {
    "duration": 5,
    "start_time": "2023-03-16T07:06:05.696Z"
   },
   {
    "duration": 242,
    "start_time": "2023-03-16T07:06:05.703Z"
   },
   {
    "duration": 165,
    "start_time": "2023-03-16T07:06:05.947Z"
   },
   {
    "duration": 7,
    "start_time": "2023-03-16T07:06:06.113Z"
   },
   {
    "duration": 150,
    "start_time": "2023-03-16T07:06:06.121Z"
   },
   {
    "duration": 23,
    "start_time": "2023-03-16T07:06:06.273Z"
   },
   {
    "duration": 23,
    "start_time": "2023-03-16T07:06:06.298Z"
   },
   {
    "duration": 20,
    "start_time": "2023-03-16T07:06:06.323Z"
   },
   {
    "duration": 16,
    "start_time": "2023-03-16T07:06:06.344Z"
   },
   {
    "duration": 36,
    "start_time": "2023-03-16T07:06:06.362Z"
   },
   {
    "duration": 14,
    "start_time": "2023-03-16T07:06:06.413Z"
   },
   {
    "duration": 3,
    "start_time": "2023-03-16T07:06:34.109Z"
   },
   {
    "duration": 125,
    "start_time": "2023-03-16T07:06:52.760Z"
   },
   {
    "duration": 3,
    "start_time": "2023-03-16T07:08:21.547Z"
   },
   {
    "duration": 32,
    "start_time": "2023-03-16T07:08:25.817Z"
   },
   {
    "duration": 11,
    "start_time": "2023-03-16T07:08:32.956Z"
   },
   {
    "duration": 12,
    "start_time": "2023-03-16T07:08:40.609Z"
   },
   {
    "duration": 8,
    "start_time": "2023-03-16T07:13:26.809Z"
   },
   {
    "duration": 7,
    "start_time": "2023-03-16T07:13:55.898Z"
   },
   {
    "duration": 11,
    "start_time": "2023-03-16T07:14:47.750Z"
   },
   {
    "duration": 9,
    "start_time": "2023-03-16T07:14:56.841Z"
   },
   {
    "duration": 12,
    "start_time": "2023-03-16T07:15:03.555Z"
   },
   {
    "duration": 19,
    "start_time": "2023-03-16T07:15:34.674Z"
   },
   {
    "duration": 17,
    "start_time": "2023-03-16T07:16:57.785Z"
   },
   {
    "duration": 8,
    "start_time": "2023-03-16T07:18:37.635Z"
   },
   {
    "duration": 9,
    "start_time": "2023-03-16T07:20:57.473Z"
   },
   {
    "duration": 6,
    "start_time": "2023-03-16T07:21:15.020Z"
   },
   {
    "duration": 16,
    "start_time": "2023-03-16T07:29:21.209Z"
   },
   {
    "duration": 4,
    "start_time": "2023-03-16T07:30:08.698Z"
   },
   {
    "duration": 4,
    "start_time": "2023-03-16T07:35:11.030Z"
   },
   {
    "duration": 29,
    "start_time": "2023-03-16T07:36:50.937Z"
   },
   {
    "duration": 10,
    "start_time": "2023-03-16T07:37:06.374Z"
   },
   {
    "duration": 13,
    "start_time": "2023-03-16T07:37:32.398Z"
   },
   {
    "duration": 9,
    "start_time": "2023-03-16T07:39:12.102Z"
   },
   {
    "duration": 5,
    "start_time": "2023-03-16T07:39:38.099Z"
   },
   {
    "duration": 17,
    "start_time": "2023-03-16T07:39:59.142Z"
   },
   {
    "duration": 11,
    "start_time": "2023-03-16T07:40:11.602Z"
   },
   {
    "duration": 10,
    "start_time": "2023-03-16T07:40:16.257Z"
   },
   {
    "duration": 5,
    "start_time": "2023-03-16T07:40:35.053Z"
   },
   {
    "duration": 1201,
    "start_time": "2023-03-16T07:40:46.821Z"
   },
   {
    "duration": 3,
    "start_time": "2023-03-16T07:40:48.024Z"
   },
   {
    "duration": 39,
    "start_time": "2023-03-16T07:40:48.029Z"
   },
   {
    "duration": 11,
    "start_time": "2023-03-16T07:40:48.071Z"
   },
   {
    "duration": 14,
    "start_time": "2023-03-16T07:40:48.084Z"
   },
   {
    "duration": 80,
    "start_time": "2023-03-16T07:40:48.100Z"
   },
   {
    "duration": 8,
    "start_time": "2023-03-16T07:40:48.182Z"
   },
   {
    "duration": 19,
    "start_time": "2023-03-16T07:40:48.192Z"
   },
   {
    "duration": 10,
    "start_time": "2023-03-16T07:40:48.213Z"
   },
   {
    "duration": 7,
    "start_time": "2023-03-16T07:40:48.225Z"
   },
   {
    "duration": 10,
    "start_time": "2023-03-16T07:40:48.233Z"
   },
   {
    "duration": 9,
    "start_time": "2023-03-16T07:40:48.245Z"
   },
   {
    "duration": 13,
    "start_time": "2023-03-16T07:40:48.256Z"
   },
   {
    "duration": 19,
    "start_time": "2023-03-16T07:40:48.271Z"
   },
   {
    "duration": 21,
    "start_time": "2023-03-16T07:40:48.292Z"
   },
   {
    "duration": 563,
    "start_time": "2023-03-16T07:40:48.315Z"
   },
   {
    "duration": 303,
    "start_time": "2023-03-16T07:40:48.880Z"
   },
   {
    "duration": 229,
    "start_time": "2023-03-16T07:40:49.185Z"
   },
   {
    "duration": 336,
    "start_time": "2023-03-16T07:40:49.416Z"
   },
   {
    "duration": 239,
    "start_time": "2023-03-16T07:40:49.753Z"
   },
   {
    "duration": 397,
    "start_time": "2023-03-16T07:40:49.994Z"
   },
   {
    "duration": 321,
    "start_time": "2023-03-16T07:40:50.393Z"
   },
   {
    "duration": 6,
    "start_time": "2023-03-16T07:40:50.716Z"
   },
   {
    "duration": 185,
    "start_time": "2023-03-16T07:40:50.723Z"
   },
   {
    "duration": 6,
    "start_time": "2023-03-16T07:40:50.912Z"
   },
   {
    "duration": 294,
    "start_time": "2023-03-16T07:40:50.920Z"
   },
   {
    "duration": 6,
    "start_time": "2023-03-16T07:40:51.215Z"
   },
   {
    "duration": 264,
    "start_time": "2023-03-16T07:40:51.224Z"
   },
   {
    "duration": 152,
    "start_time": "2023-03-16T07:40:51.489Z"
   },
   {
    "duration": 7,
    "start_time": "2023-03-16T07:40:51.643Z"
   },
   {
    "duration": 171,
    "start_time": "2023-03-16T07:40:51.653Z"
   },
   {
    "duration": 25,
    "start_time": "2023-03-16T07:40:51.826Z"
   },
   {
    "duration": 10,
    "start_time": "2023-03-16T07:40:51.853Z"
   },
   {
    "duration": 9,
    "start_time": "2023-03-16T07:40:51.865Z"
   },
   {
    "duration": 53,
    "start_time": "2023-03-16T07:40:51.875Z"
   },
   {
    "duration": 38,
    "start_time": "2023-03-16T07:40:51.930Z"
   },
   {
    "duration": 15,
    "start_time": "2023-03-16T07:40:51.969Z"
   },
   {
    "duration": 95,
    "start_time": "2023-03-16T07:41:13.672Z"
   },
   {
    "duration": 11,
    "start_time": "2023-03-16T07:41:20.130Z"
   },
   {
    "duration": 1206,
    "start_time": "2023-03-16T07:41:34.406Z"
   },
   {
    "duration": 3,
    "start_time": "2023-03-16T07:41:35.614Z"
   },
   {
    "duration": 44,
    "start_time": "2023-03-16T07:41:35.618Z"
   },
   {
    "duration": 12,
    "start_time": "2023-03-16T07:41:35.665Z"
   },
   {
    "duration": 11,
    "start_time": "2023-03-16T07:41:35.679Z"
   },
   {
    "duration": 82,
    "start_time": "2023-03-16T07:41:35.691Z"
   },
   {
    "duration": 10,
    "start_time": "2023-03-16T07:41:35.775Z"
   },
   {
    "duration": 32,
    "start_time": "2023-03-16T07:41:35.787Z"
   },
   {
    "duration": 11,
    "start_time": "2023-03-16T07:41:35.821Z"
   },
   {
    "duration": 21,
    "start_time": "2023-03-16T07:41:35.836Z"
   },
   {
    "duration": 14,
    "start_time": "2023-03-16T07:41:35.859Z"
   },
   {
    "duration": 20,
    "start_time": "2023-03-16T07:41:35.875Z"
   },
   {
    "duration": 19,
    "start_time": "2023-03-16T07:41:35.896Z"
   },
   {
    "duration": 18,
    "start_time": "2023-03-16T07:41:35.917Z"
   },
   {
    "duration": 14,
    "start_time": "2023-03-16T07:41:35.937Z"
   },
   {
    "duration": 536,
    "start_time": "2023-03-16T07:41:35.953Z"
   },
   {
    "duration": 308,
    "start_time": "2023-03-16T07:41:36.491Z"
   },
   {
    "duration": 229,
    "start_time": "2023-03-16T07:41:36.801Z"
   },
   {
    "duration": 319,
    "start_time": "2023-03-16T07:41:37.032Z"
   },
   {
    "duration": 246,
    "start_time": "2023-03-16T07:41:37.353Z"
   },
   {
    "duration": 369,
    "start_time": "2023-03-16T07:41:37.600Z"
   },
   {
    "duration": 325,
    "start_time": "2023-03-16T07:41:37.971Z"
   },
   {
    "duration": 15,
    "start_time": "2023-03-16T07:41:38.298Z"
   },
   {
    "duration": 182,
    "start_time": "2023-03-16T07:41:38.315Z"
   },
   {
    "duration": 14,
    "start_time": "2023-03-16T07:41:38.499Z"
   },
   {
    "duration": 279,
    "start_time": "2023-03-16T07:41:38.515Z"
   },
   {
    "duration": 5,
    "start_time": "2023-03-16T07:41:38.795Z"
   },
   {
    "duration": 227,
    "start_time": "2023-03-16T07:41:38.803Z"
   },
   {
    "duration": 127,
    "start_time": "2023-03-16T07:41:39.032Z"
   },
   {
    "duration": 6,
    "start_time": "2023-03-16T07:41:39.161Z"
   },
   {
    "duration": 145,
    "start_time": "2023-03-16T07:41:39.169Z"
   },
   {
    "duration": 21,
    "start_time": "2023-03-16T07:41:39.316Z"
   },
   {
    "duration": 11,
    "start_time": "2023-03-16T07:41:39.339Z"
   },
   {
    "duration": 17,
    "start_time": "2023-03-16T07:41:39.351Z"
   },
   {
    "duration": 19,
    "start_time": "2023-03-16T07:41:39.370Z"
   },
   {
    "duration": 45,
    "start_time": "2023-03-16T07:41:39.391Z"
   },
   {
    "duration": 13,
    "start_time": "2023-03-16T07:41:39.437Z"
   },
   {
    "duration": 242,
    "start_time": "2023-03-16T07:43:35.185Z"
   }
  ],
  "kernelspec": {
   "display_name": "Python 3 (ipykernel)",
   "language": "python",
   "name": "python3"
  },
  "language_info": {
   "codemirror_mode": {
    "name": "ipython",
    "version": 3
   },
   "file_extension": ".py",
   "mimetype": "text/x-python",
   "name": "python",
   "nbconvert_exporter": "python",
   "pygments_lexer": "ipython3",
   "version": "3.9.5"
  },
  "toc": {
   "base_numbering": 1,
   "nav_menu": {},
   "number_sections": false,
   "sideBar": true,
   "skip_h1_title": false,
   "title_cell": "Table of Contents",
   "title_sidebar": "Contents",
   "toc_cell": false,
   "toc_position": {
    "height": "calc(100% - 180px)",
    "left": "10px",
    "top": "150px",
    "width": "205.426px"
   },
   "toc_section_display": true,
   "toc_window_display": true
  }
 },
 "nbformat": 4,
 "nbformat_minor": 2
}
