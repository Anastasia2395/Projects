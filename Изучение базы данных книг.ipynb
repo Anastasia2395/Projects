{
 "cells": [
  {
   "cell_type": "markdown",
   "metadata": {},
   "source": [
    "# Введение\n",
    "\n",
    "Коронавирус застал мир врасплох, изменив привычный порядок вещей. В свободное время жители городов больше не выходят на улицу, не посещают кафе и торговые центры. Зато стало больше времени для книг. Это заметили стартаперы — и бросились создавать приложения для тех, кто любит читать.\n",
    "Наша компания решила быть на волне и купила крупный сервис для чтения книг по подписке. Наша задача  — проанализировать базу данных.\n",
    "В ней — информация о книгах, издательствах, авторах, а также пользовательские обзоры книг. Эти данные помогут сформулировать ценностное предложение для нового продукта.\n",
    "\n",
    "###### Описание данных\n",
    "\n",
    "     Таблица books\n",
    "   Содержит данные о книгах:\n",
    "- book_id — идентификатор книги;\n",
    "- author_id — идентификатор автора;\n",
    "- title — название книги;\n",
    "- num_pages — количество страниц;\n",
    "- publication_date — дата публикации книги;\n",
    "- publisher_id — идентификатор издателя.\n",
    "\n",
    "      Таблица authors\n",
    "Содержит данные об авторах:\n",
    "- author_id — идентификатор автора;\n",
    "- author — имя автора.\n",
    "\n",
    "      Таблица publishers\n",
    "Содержит данные об издательствах:\n",
    "- publisher_id — идентификатор издательства;\n",
    "- publisher — название издательства;\n",
    "\n",
    "      Таблица ratings\n",
    "Содержит данные о пользовательских оценках книг:\n",
    "- rating_id — идентификатор оценки;\n",
    "- book_id — идентификатор книги;\n",
    "- username — имя пользователя, оставившего оценку;\n",
    "- rating — оценка книги.\n",
    "\n",
    "      Таблица reviews\n",
    "Содержит данные о пользовательских обзорах:\n",
    "- review_id — идентификатор обзора;\n",
    "- book_id — идентификатор книги;\n",
    "- username — имя автора обзора;\n",
    "- text — текст обзора.\n",
    "\n",
    "###### В ходе анализа ответим на следующие вопросы:\n",
    "\n",
    "1. Посчитаем, сколько книг вышло после 1 января 2000 года;\n",
    "2. Для каждой книги посчитаем количество обзоров и среднюю оценку;\n",
    "3. Определим издательство, которое выпустило наибольшее число книг толще 50 страниц;\n",
    "4. Определим автора с самой высокой средней оценкой книг среди книг с 50 и более оценками;\n",
    "5. Посчитаем среднее количество обзоров от пользователей, которые поставили больше 48 оценок."
   ]
  },
  {
   "cell_type": "markdown",
   "metadata": {},
   "source": [
    "## Подгрузка базы данных и знакомство с таблицами"
   ]
  },
  {
   "cell_type": "code",
   "execution_count": 1,
   "metadata": {},
   "outputs": [],
   "source": [
    "# импортируем библиотеки\n",
    "import pandas as pd\n",
    "from sqlalchemy import text, create_engine\n"
   ]
  },
  {
   "cell_type": "code",
   "execution_count": 2,
   "metadata": {},
   "outputs": [],
   "source": [
    "# устанавливаем параметры\n",
    "db_config = {'user': 'praktikum_student', # имя пользователя\n",
    "'pwd': 'Sdf4$2;d-d30pp', # пароль\n",
    "'host': 'rc1b-wcoijxj3yxfsf3fs.mdb.yandexcloud.net',\n",
    "'port': 6432, # порт подключения\n",
    "'db': 'data-analyst-final-project-db'} # название базы данных\n",
    "connection_string = 'postgresql://{user}:{pwd}@{host}:{port}/{db}'.format(**db_config)\n",
    "# сохраняем коннектор\n",
    "engine = create_engine(connection_string, connect_args={'sslmode':'require'})"
   ]
  },
  {
   "cell_type": "code",
   "execution_count": 3,
   "metadata": {},
   "outputs": [
    {
     "data": {
      "text/html": [
       "<div>\n",
       "<style scoped>\n",
       "    .dataframe tbody tr th:only-of-type {\n",
       "        vertical-align: middle;\n",
       "    }\n",
       "\n",
       "    .dataframe tbody tr th {\n",
       "        vertical-align: top;\n",
       "    }\n",
       "\n",
       "    .dataframe thead th {\n",
       "        text-align: right;\n",
       "    }\n",
       "</style>\n",
       "<table border=\"1\" class=\"dataframe\">\n",
       "  <thead>\n",
       "    <tr style=\"text-align: right;\">\n",
       "      <th></th>\n",
       "      <th>book_id</th>\n",
       "      <th>author_id</th>\n",
       "      <th>title</th>\n",
       "      <th>num_pages</th>\n",
       "      <th>publication_date</th>\n",
       "      <th>publisher_id</th>\n",
       "    </tr>\n",
       "  </thead>\n",
       "  <tbody>\n",
       "    <tr>\n",
       "      <th>0</th>\n",
       "      <td>1</td>\n",
       "      <td>546</td>\n",
       "      <td>'Salem's Lot</td>\n",
       "      <td>594</td>\n",
       "      <td>2005-11-01</td>\n",
       "      <td>93</td>\n",
       "    </tr>\n",
       "    <tr>\n",
       "      <th>1</th>\n",
       "      <td>2</td>\n",
       "      <td>465</td>\n",
       "      <td>1 000 Places to See Before You Die</td>\n",
       "      <td>992</td>\n",
       "      <td>2003-05-22</td>\n",
       "      <td>336</td>\n",
       "    </tr>\n",
       "    <tr>\n",
       "      <th>2</th>\n",
       "      <td>3</td>\n",
       "      <td>407</td>\n",
       "      <td>13 Little Blue Envelopes (Little Blue Envelope...</td>\n",
       "      <td>322</td>\n",
       "      <td>2010-12-21</td>\n",
       "      <td>135</td>\n",
       "    </tr>\n",
       "    <tr>\n",
       "      <th>3</th>\n",
       "      <td>4</td>\n",
       "      <td>82</td>\n",
       "      <td>1491: New Revelations of the Americas Before C...</td>\n",
       "      <td>541</td>\n",
       "      <td>2006-10-10</td>\n",
       "      <td>309</td>\n",
       "    </tr>\n",
       "    <tr>\n",
       "      <th>4</th>\n",
       "      <td>5</td>\n",
       "      <td>125</td>\n",
       "      <td>1776</td>\n",
       "      <td>386</td>\n",
       "      <td>2006-07-04</td>\n",
       "      <td>268</td>\n",
       "    </tr>\n",
       "  </tbody>\n",
       "</table>\n",
       "</div>"
      ],
      "text/plain": [
       "   book_id  author_id                                              title  \\\n",
       "0        1        546                                       'Salem's Lot   \n",
       "1        2        465                 1 000 Places to See Before You Die   \n",
       "2        3        407  13 Little Blue Envelopes (Little Blue Envelope...   \n",
       "3        4         82  1491: New Revelations of the Americas Before C...   \n",
       "4        5        125                                               1776   \n",
       "\n",
       "   num_pages publication_date  publisher_id  \n",
       "0        594       2005-11-01            93  \n",
       "1        992       2003-05-22           336  \n",
       "2        322       2010-12-21           135  \n",
       "3        541       2006-10-10           309  \n",
       "4        386       2006-07-04           268  "
      ]
     },
     "execution_count": 3,
     "metadata": {},
     "output_type": "execute_result"
    }
   ],
   "source": [
    "# чтобы выполнить SQL-запрос, используем Pandas\n",
    "query = '''SELECT * \n",
    "           FROM books'''\n",
    "books = pd.io.sql.read_sql(query, con = engine)\n",
    "books.head()"
   ]
  },
  {
   "cell_type": "code",
   "execution_count": 4,
   "metadata": {},
   "outputs": [
    {
     "data": {
      "text/html": [
       "<div>\n",
       "<style scoped>\n",
       "    .dataframe tbody tr th:only-of-type {\n",
       "        vertical-align: middle;\n",
       "    }\n",
       "\n",
       "    .dataframe tbody tr th {\n",
       "        vertical-align: top;\n",
       "    }\n",
       "\n",
       "    .dataframe thead th {\n",
       "        text-align: right;\n",
       "    }\n",
       "</style>\n",
       "<table border=\"1\" class=\"dataframe\">\n",
       "  <thead>\n",
       "    <tr style=\"text-align: right;\">\n",
       "      <th></th>\n",
       "      <th>author_id</th>\n",
       "      <th>author</th>\n",
       "    </tr>\n",
       "  </thead>\n",
       "  <tbody>\n",
       "    <tr>\n",
       "      <th>0</th>\n",
       "      <td>1</td>\n",
       "      <td>A.S. Byatt</td>\n",
       "    </tr>\n",
       "    <tr>\n",
       "      <th>1</th>\n",
       "      <td>2</td>\n",
       "      <td>Aesop/Laura Harris/Laura Gibbs</td>\n",
       "    </tr>\n",
       "    <tr>\n",
       "      <th>2</th>\n",
       "      <td>3</td>\n",
       "      <td>Agatha Christie</td>\n",
       "    </tr>\n",
       "    <tr>\n",
       "      <th>3</th>\n",
       "      <td>4</td>\n",
       "      <td>Alan Brennert</td>\n",
       "    </tr>\n",
       "    <tr>\n",
       "      <th>4</th>\n",
       "      <td>5</td>\n",
       "      <td>Alan Moore/David   Lloyd</td>\n",
       "    </tr>\n",
       "  </tbody>\n",
       "</table>\n",
       "</div>"
      ],
      "text/plain": [
       "   author_id                          author\n",
       "0          1                      A.S. Byatt\n",
       "1          2  Aesop/Laura Harris/Laura Gibbs\n",
       "2          3                 Agatha Christie\n",
       "3          4                   Alan Brennert\n",
       "4          5        Alan Moore/David   Lloyd"
      ]
     },
     "execution_count": 4,
     "metadata": {},
     "output_type": "execute_result"
    }
   ],
   "source": [
    "query = '''SELECT * \n",
    "           FROM authors'''\n",
    "authors = pd.io.sql.read_sql(query, con = engine)\n",
    "authors.head()"
   ]
  },
  {
   "cell_type": "code",
   "execution_count": 5,
   "metadata": {},
   "outputs": [
    {
     "data": {
      "text/html": [
       "<div>\n",
       "<style scoped>\n",
       "    .dataframe tbody tr th:only-of-type {\n",
       "        vertical-align: middle;\n",
       "    }\n",
       "\n",
       "    .dataframe tbody tr th {\n",
       "        vertical-align: top;\n",
       "    }\n",
       "\n",
       "    .dataframe thead th {\n",
       "        text-align: right;\n",
       "    }\n",
       "</style>\n",
       "<table border=\"1\" class=\"dataframe\">\n",
       "  <thead>\n",
       "    <tr style=\"text-align: right;\">\n",
       "      <th></th>\n",
       "      <th>rating_id</th>\n",
       "      <th>book_id</th>\n",
       "      <th>username</th>\n",
       "      <th>rating</th>\n",
       "    </tr>\n",
       "  </thead>\n",
       "  <tbody>\n",
       "    <tr>\n",
       "      <th>0</th>\n",
       "      <td>1</td>\n",
       "      <td>1</td>\n",
       "      <td>ryanfranco</td>\n",
       "      <td>4</td>\n",
       "    </tr>\n",
       "    <tr>\n",
       "      <th>1</th>\n",
       "      <td>2</td>\n",
       "      <td>1</td>\n",
       "      <td>grantpatricia</td>\n",
       "      <td>2</td>\n",
       "    </tr>\n",
       "    <tr>\n",
       "      <th>2</th>\n",
       "      <td>3</td>\n",
       "      <td>1</td>\n",
       "      <td>brandtandrea</td>\n",
       "      <td>5</td>\n",
       "    </tr>\n",
       "    <tr>\n",
       "      <th>3</th>\n",
       "      <td>4</td>\n",
       "      <td>2</td>\n",
       "      <td>lorichen</td>\n",
       "      <td>3</td>\n",
       "    </tr>\n",
       "    <tr>\n",
       "      <th>4</th>\n",
       "      <td>5</td>\n",
       "      <td>2</td>\n",
       "      <td>mariokeller</td>\n",
       "      <td>2</td>\n",
       "    </tr>\n",
       "  </tbody>\n",
       "</table>\n",
       "</div>"
      ],
      "text/plain": [
       "   rating_id  book_id       username  rating\n",
       "0          1        1     ryanfranco       4\n",
       "1          2        1  grantpatricia       2\n",
       "2          3        1   brandtandrea       5\n",
       "3          4        2       lorichen       3\n",
       "4          5        2    mariokeller       2"
      ]
     },
     "execution_count": 5,
     "metadata": {},
     "output_type": "execute_result"
    }
   ],
   "source": [
    "query = '''SELECT * \n",
    "           FROM ratings'''\n",
    "ratings = pd.io.sql.read_sql(query, con = engine)\n",
    "ratings.head()"
   ]
  },
  {
   "cell_type": "code",
   "execution_count": 6,
   "metadata": {},
   "outputs": [
    {
     "data": {
      "text/html": [
       "<div>\n",
       "<style scoped>\n",
       "    .dataframe tbody tr th:only-of-type {\n",
       "        vertical-align: middle;\n",
       "    }\n",
       "\n",
       "    .dataframe tbody tr th {\n",
       "        vertical-align: top;\n",
       "    }\n",
       "\n",
       "    .dataframe thead th {\n",
       "        text-align: right;\n",
       "    }\n",
       "</style>\n",
       "<table border=\"1\" class=\"dataframe\">\n",
       "  <thead>\n",
       "    <tr style=\"text-align: right;\">\n",
       "      <th></th>\n",
       "      <th>review_id</th>\n",
       "      <th>book_id</th>\n",
       "      <th>username</th>\n",
       "      <th>text</th>\n",
       "    </tr>\n",
       "  </thead>\n",
       "  <tbody>\n",
       "    <tr>\n",
       "      <th>0</th>\n",
       "      <td>1</td>\n",
       "      <td>1</td>\n",
       "      <td>brandtandrea</td>\n",
       "      <td>Mention society tell send professor analysis. ...</td>\n",
       "    </tr>\n",
       "    <tr>\n",
       "      <th>1</th>\n",
       "      <td>2</td>\n",
       "      <td>1</td>\n",
       "      <td>ryanfranco</td>\n",
       "      <td>Foot glass pretty audience hit themselves. Amo...</td>\n",
       "    </tr>\n",
       "    <tr>\n",
       "      <th>2</th>\n",
       "      <td>3</td>\n",
       "      <td>2</td>\n",
       "      <td>lorichen</td>\n",
       "      <td>Listen treat keep worry. Miss husband tax but ...</td>\n",
       "    </tr>\n",
       "    <tr>\n",
       "      <th>3</th>\n",
       "      <td>4</td>\n",
       "      <td>3</td>\n",
       "      <td>johnsonamanda</td>\n",
       "      <td>Finally month interesting blue could nature cu...</td>\n",
       "    </tr>\n",
       "    <tr>\n",
       "      <th>4</th>\n",
       "      <td>5</td>\n",
       "      <td>3</td>\n",
       "      <td>scotttamara</td>\n",
       "      <td>Nation purpose heavy give wait song will. List...</td>\n",
       "    </tr>\n",
       "  </tbody>\n",
       "</table>\n",
       "</div>"
      ],
      "text/plain": [
       "   review_id  book_id       username  \\\n",
       "0          1        1   brandtandrea   \n",
       "1          2        1     ryanfranco   \n",
       "2          3        2       lorichen   \n",
       "3          4        3  johnsonamanda   \n",
       "4          5        3    scotttamara   \n",
       "\n",
       "                                                text  \n",
       "0  Mention society tell send professor analysis. ...  \n",
       "1  Foot glass pretty audience hit themselves. Amo...  \n",
       "2  Listen treat keep worry. Miss husband tax but ...  \n",
       "3  Finally month interesting blue could nature cu...  \n",
       "4  Nation purpose heavy give wait song will. List...  "
      ]
     },
     "execution_count": 6,
     "metadata": {},
     "output_type": "execute_result"
    }
   ],
   "source": [
    "query = '''SELECT * \n",
    "           FROM reviews'''\n",
    "reviews = pd.io.sql.read_sql(query, con = engine)\n",
    "reviews.head()"
   ]
  },
  {
   "cell_type": "code",
   "execution_count": 7,
   "metadata": {},
   "outputs": [
    {
     "data": {
      "text/html": [
       "<div>\n",
       "<style scoped>\n",
       "    .dataframe tbody tr th:only-of-type {\n",
       "        vertical-align: middle;\n",
       "    }\n",
       "\n",
       "    .dataframe tbody tr th {\n",
       "        vertical-align: top;\n",
       "    }\n",
       "\n",
       "    .dataframe thead th {\n",
       "        text-align: right;\n",
       "    }\n",
       "</style>\n",
       "<table border=\"1\" class=\"dataframe\">\n",
       "  <thead>\n",
       "    <tr style=\"text-align: right;\">\n",
       "      <th></th>\n",
       "      <th>publisher_id</th>\n",
       "      <th>publisher</th>\n",
       "    </tr>\n",
       "  </thead>\n",
       "  <tbody>\n",
       "    <tr>\n",
       "      <th>0</th>\n",
       "      <td>1</td>\n",
       "      <td>Ace</td>\n",
       "    </tr>\n",
       "    <tr>\n",
       "      <th>1</th>\n",
       "      <td>2</td>\n",
       "      <td>Ace Book</td>\n",
       "    </tr>\n",
       "    <tr>\n",
       "      <th>2</th>\n",
       "      <td>3</td>\n",
       "      <td>Ace Books</td>\n",
       "    </tr>\n",
       "    <tr>\n",
       "      <th>3</th>\n",
       "      <td>4</td>\n",
       "      <td>Ace Hardcover</td>\n",
       "    </tr>\n",
       "    <tr>\n",
       "      <th>4</th>\n",
       "      <td>5</td>\n",
       "      <td>Addison Wesley Publishing Company</td>\n",
       "    </tr>\n",
       "  </tbody>\n",
       "</table>\n",
       "</div>"
      ],
      "text/plain": [
       "   publisher_id                          publisher\n",
       "0             1                                Ace\n",
       "1             2                           Ace Book\n",
       "2             3                          Ace Books\n",
       "3             4                      Ace Hardcover\n",
       "4             5  Addison Wesley Publishing Company"
      ]
     },
     "execution_count": 7,
     "metadata": {},
     "output_type": "execute_result"
    }
   ],
   "source": [
    "query = '''SELECT * \n",
    "           FROM publishers'''\n",
    "publishers = pd.io.sql.read_sql(query, con = engine)\n",
    "publishers.head()"
   ]
  },
  {
   "cell_type": "code",
   "execution_count": 8,
   "metadata": {},
   "outputs": [
    {
     "name": "stdout",
     "output_type": "stream",
     "text": [
      "<class 'pandas.core.frame.DataFrame'>\n",
      "RangeIndex: 1000 entries, 0 to 999\n",
      "Data columns (total 6 columns):\n",
      " #   Column            Non-Null Count  Dtype \n",
      "---  ------            --------------  ----- \n",
      " 0   book_id           1000 non-null   int64 \n",
      " 1   author_id         1000 non-null   int64 \n",
      " 2   title             1000 non-null   object\n",
      " 3   num_pages         1000 non-null   int64 \n",
      " 4   publication_date  1000 non-null   object\n",
      " 5   publisher_id      1000 non-null   int64 \n",
      "dtypes: int64(4), object(2)\n",
      "memory usage: 47.0+ KB\n",
      "\n",
      "<class 'pandas.core.frame.DataFrame'>\n",
      "RangeIndex: 636 entries, 0 to 635\n",
      "Data columns (total 2 columns):\n",
      " #   Column     Non-Null Count  Dtype \n",
      "---  ------     --------------  ----- \n",
      " 0   author_id  636 non-null    int64 \n",
      " 1   author     636 non-null    object\n",
      "dtypes: int64(1), object(1)\n",
      "memory usage: 10.1+ KB\n",
      "\n",
      "<class 'pandas.core.frame.DataFrame'>\n",
      "RangeIndex: 340 entries, 0 to 339\n",
      "Data columns (total 2 columns):\n",
      " #   Column        Non-Null Count  Dtype \n",
      "---  ------        --------------  ----- \n",
      " 0   publisher_id  340 non-null    int64 \n",
      " 1   publisher     340 non-null    object\n",
      "dtypes: int64(1), object(1)\n",
      "memory usage: 5.4+ KB\n",
      "\n",
      "<class 'pandas.core.frame.DataFrame'>\n",
      "RangeIndex: 6456 entries, 0 to 6455\n",
      "Data columns (total 4 columns):\n",
      " #   Column     Non-Null Count  Dtype \n",
      "---  ------     --------------  ----- \n",
      " 0   rating_id  6456 non-null   int64 \n",
      " 1   book_id    6456 non-null   int64 \n",
      " 2   username   6456 non-null   object\n",
      " 3   rating     6456 non-null   int64 \n",
      "dtypes: int64(3), object(1)\n",
      "memory usage: 201.9+ KB\n",
      "\n",
      "<class 'pandas.core.frame.DataFrame'>\n",
      "RangeIndex: 2793 entries, 0 to 2792\n",
      "Data columns (total 4 columns):\n",
      " #   Column     Non-Null Count  Dtype \n",
      "---  ------     --------------  ----- \n",
      " 0   review_id  2793 non-null   int64 \n",
      " 1   book_id    2793 non-null   int64 \n",
      " 2   username   2793 non-null   object\n",
      " 3   text       2793 non-null   object\n",
      "dtypes: int64(2), object(2)\n",
      "memory usage: 87.4+ KB\n",
      "\n"
     ]
    }
   ],
   "source": [
    "# посмотрим информацию обо всех таблицах\n",
    "data_list = (books, authors, publishers, ratings, reviews)\n",
    "\n",
    "for table in data_list:\n",
    "    table.info()\n",
    "    print()"
   ]
  },
  {
   "cell_type": "markdown",
   "metadata": {},
   "source": [
    "Познакомились с таблицами, выяснили, что:\n",
    "1. В таблице books 1000 строк\n",
    "2. В таблице authors 636 строк\n",
    "3. В таблице publishers 340 строк\n",
    "3. В таблице ratings 6456 строк\n",
    "3. В таблице reveiws 2793 строки"
   ]
  },
  {
   "cell_type": "markdown",
   "metadata": {},
   "source": [
    "## Выполним предобработку данных"
   ]
  },
  {
   "cell_type": "code",
   "execution_count": 9,
   "metadata": {},
   "outputs": [
    {
     "name": "stdout",
     "output_type": "stream",
     "text": [
      "______________________________________________________________\n",
      "              index  0\n",
      "0           book_id  0\n",
      "1         author_id  0\n",
      "2             title  0\n",
      "3         num_pages  0\n",
      "4  publication_date  0\n",
      "5      publisher_id  0\n",
      "______________________________________________________________\n",
      "______________________________________________________________\n",
      "       index  0\n",
      "0  author_id  0\n",
      "1     author  0\n",
      "______________________________________________________________\n",
      "______________________________________________________________\n",
      "          index  0\n",
      "0  publisher_id  0\n",
      "1     publisher  0\n",
      "______________________________________________________________\n",
      "______________________________________________________________\n",
      "       index  0\n",
      "0  rating_id  0\n",
      "1    book_id  0\n",
      "2   username  0\n",
      "3     rating  0\n",
      "______________________________________________________________\n",
      "______________________________________________________________\n",
      "       index  0\n",
      "0  review_id  0\n",
      "1    book_id  0\n",
      "2   username  0\n",
      "3       text  0\n",
      "______________________________________________________________\n"
     ]
    }
   ],
   "source": [
    "#проверим количество пропусков в таблицах\n",
    "for table in data_list:\n",
    "    print('______________________________________________________________')\n",
    "    print(table.isna().sum().reset_index())\n",
    "    print('______________________________________________________________')"
   ]
  },
  {
   "cell_type": "code",
   "execution_count": 10,
   "metadata": {},
   "outputs": [
    {
     "name": "stdout",
     "output_type": "stream",
     "text": [
      "______________________________________________________________\n",
      "0\n",
      "______________________________________________________________\n",
      "______________________________________________________________\n",
      "0\n",
      "______________________________________________________________\n",
      "______________________________________________________________\n",
      "0\n",
      "______________________________________________________________\n",
      "______________________________________________________________\n",
      "0\n",
      "______________________________________________________________\n",
      "______________________________________________________________\n",
      "0\n",
      "______________________________________________________________\n"
     ]
    }
   ],
   "source": [
    "#проверим количество дубликатов в таблицах\n",
    "for table in data_list:\n",
    "    print('______________________________________________________________')\n",
    "    print(table.duplicated().sum())\n",
    "    print('______________________________________________________________')"
   ]
  },
  {
   "cell_type": "markdown",
   "metadata": {},
   "source": [
    "###### Вывод\n",
    "\n",
    "В данных отсутствуют пропуски и дубликаты, данные готовы для решения поставленных задач."
   ]
  },
  {
   "cell_type": "markdown",
   "metadata": {},
   "source": [
    "## Поиск ответов на поставленные вопросы"
   ]
  },
  {
   "cell_type": "code",
   "execution_count": 11,
   "metadata": {},
   "outputs": [],
   "source": [
    "#пробуем создать функцию для запросов к БД\n",
    "def sql(sql):\n",
    "    return pd.read_sql(sql, con=engine)"
   ]
  },
  {
   "cell_type": "markdown",
   "metadata": {},
   "source": [
    "### Посчитаем, сколько книг вышло после 1 января 2000 года"
   ]
  },
  {
   "cell_type": "code",
   "execution_count": 12,
   "metadata": {},
   "outputs": [
    {
     "data": {
      "text/html": [
       "<div>\n",
       "<style scoped>\n",
       "    .dataframe tbody tr th:only-of-type {\n",
       "        vertical-align: middle;\n",
       "    }\n",
       "\n",
       "    .dataframe tbody tr th {\n",
       "        vertical-align: top;\n",
       "    }\n",
       "\n",
       "    .dataframe thead th {\n",
       "        text-align: right;\n",
       "    }\n",
       "</style>\n",
       "<table border=\"1\" class=\"dataframe\">\n",
       "  <thead>\n",
       "    <tr style=\"text-align: right;\">\n",
       "      <th></th>\n",
       "      <th>count</th>\n",
       "    </tr>\n",
       "  </thead>\n",
       "  <tbody>\n",
       "    <tr>\n",
       "      <th>0</th>\n",
       "      <td>821</td>\n",
       "    </tr>\n",
       "  </tbody>\n",
       "</table>\n",
       "</div>"
      ],
      "text/plain": [
       "   count\n",
       "0    821"
      ]
     },
     "execution_count": 12,
     "metadata": {},
     "output_type": "execute_result"
    }
   ],
   "source": [
    "q = '''SELECT COUNT(book_id) AS count\n",
    "           FROM books\n",
    "           WHERE publication_date >= '2000-01-01'\n",
    "           '''\n",
    "sql(q)"
   ]
  },
  {
   "cell_type": "markdown",
   "metadata": {},
   "source": [
    "- После 1 января 2000 года вышла 821 книга"
   ]
  },
  {
   "cell_type": "markdown",
   "metadata": {},
   "source": [
    "### Для каждой книги посчитаем количество обзоров и среднюю оценку"
   ]
  },
  {
   "cell_type": "code",
   "execution_count": 17,
   "metadata": {},
   "outputs": [
    {
     "data": {
      "text/html": [
       "<div>\n",
       "<style scoped>\n",
       "    .dataframe tbody tr th:only-of-type {\n",
       "        vertical-align: middle;\n",
       "    }\n",
       "\n",
       "    .dataframe tbody tr th {\n",
       "        vertical-align: top;\n",
       "    }\n",
       "\n",
       "    .dataframe thead th {\n",
       "        text-align: right;\n",
       "    }\n",
       "</style>\n",
       "<table border=\"1\" class=\"dataframe\">\n",
       "  <thead>\n",
       "    <tr style=\"text-align: right;\">\n",
       "      <th></th>\n",
       "      <th>book_id</th>\n",
       "      <th>title</th>\n",
       "      <th>avg_rating</th>\n",
       "      <th>count_reviews</th>\n",
       "    </tr>\n",
       "  </thead>\n",
       "  <tbody>\n",
       "    <tr>\n",
       "      <th>0</th>\n",
       "      <td>1</td>\n",
       "      <td>'Salem's Lot</td>\n",
       "      <td>3.666667</td>\n",
       "      <td>2</td>\n",
       "    </tr>\n",
       "    <tr>\n",
       "      <th>1</th>\n",
       "      <td>2</td>\n",
       "      <td>1 000 Places to See Before You Die</td>\n",
       "      <td>2.500000</td>\n",
       "      <td>1</td>\n",
       "    </tr>\n",
       "    <tr>\n",
       "      <th>2</th>\n",
       "      <td>3</td>\n",
       "      <td>13 Little Blue Envelopes (Little Blue Envelope...</td>\n",
       "      <td>4.666667</td>\n",
       "      <td>3</td>\n",
       "    </tr>\n",
       "    <tr>\n",
       "      <th>3</th>\n",
       "      <td>4</td>\n",
       "      <td>1491: New Revelations of the Americas Before C...</td>\n",
       "      <td>4.500000</td>\n",
       "      <td>2</td>\n",
       "    </tr>\n",
       "    <tr>\n",
       "      <th>4</th>\n",
       "      <td>5</td>\n",
       "      <td>1776</td>\n",
       "      <td>4.000000</td>\n",
       "      <td>4</td>\n",
       "    </tr>\n",
       "    <tr>\n",
       "      <th>...</th>\n",
       "      <td>...</td>\n",
       "      <td>...</td>\n",
       "      <td>...</td>\n",
       "      <td>...</td>\n",
       "    </tr>\n",
       "    <tr>\n",
       "      <th>995</th>\n",
       "      <td>996</td>\n",
       "      <td>Wyrd Sisters (Discworld  #6; Witches #2)</td>\n",
       "      <td>3.666667</td>\n",
       "      <td>3</td>\n",
       "    </tr>\n",
       "    <tr>\n",
       "      <th>996</th>\n",
       "      <td>997</td>\n",
       "      <td>Xenocide (Ender's Saga  #3)</td>\n",
       "      <td>3.400000</td>\n",
       "      <td>3</td>\n",
       "    </tr>\n",
       "    <tr>\n",
       "      <th>997</th>\n",
       "      <td>998</td>\n",
       "      <td>Year of Wonders</td>\n",
       "      <td>3.200000</td>\n",
       "      <td>4</td>\n",
       "    </tr>\n",
       "    <tr>\n",
       "      <th>998</th>\n",
       "      <td>999</td>\n",
       "      <td>You Suck (A Love Story  #2)</td>\n",
       "      <td>4.500000</td>\n",
       "      <td>2</td>\n",
       "    </tr>\n",
       "    <tr>\n",
       "      <th>999</th>\n",
       "      <td>1000</td>\n",
       "      <td>Zen and the Art of Motorcycle Maintenance: An ...</td>\n",
       "      <td>3.833333</td>\n",
       "      <td>4</td>\n",
       "    </tr>\n",
       "  </tbody>\n",
       "</table>\n",
       "<p>1000 rows × 4 columns</p>\n",
       "</div>"
      ],
      "text/plain": [
       "     book_id                                              title  avg_rating  \\\n",
       "0          1                                       'Salem's Lot    3.666667   \n",
       "1          2                 1 000 Places to See Before You Die    2.500000   \n",
       "2          3  13 Little Blue Envelopes (Little Blue Envelope...    4.666667   \n",
       "3          4  1491: New Revelations of the Americas Before C...    4.500000   \n",
       "4          5                                               1776    4.000000   \n",
       "..       ...                                                ...         ...   \n",
       "995      996           Wyrd Sisters (Discworld  #6; Witches #2)    3.666667   \n",
       "996      997                        Xenocide (Ender's Saga  #3)    3.400000   \n",
       "997      998                                    Year of Wonders    3.200000   \n",
       "998      999                        You Suck (A Love Story  #2)    4.500000   \n",
       "999     1000  Zen and the Art of Motorcycle Maintenance: An ...    3.833333   \n",
       "\n",
       "     count_reviews  \n",
       "0                2  \n",
       "1                1  \n",
       "2                3  \n",
       "3                2  \n",
       "4                4  \n",
       "..             ...  \n",
       "995              3  \n",
       "996              3  \n",
       "997              4  \n",
       "998              2  \n",
       "999              4  \n",
       "\n",
       "[1000 rows x 4 columns]"
      ]
     },
     "execution_count": 17,
     "metadata": {},
     "output_type": "execute_result"
    }
   ],
   "source": [
    "q = '''SELECT b.book_id,\n",
    "              b.title,\n",
    "              AVG(r.rating) AS avg_rating,\n",
    "              COUNT(DISTINCT rv.review_id) AS count_reviews\n",
    "       FROM books AS b\n",
    "       LEFT JOIN ratings AS r ON b.book_id = r.book_id\n",
    "       LEFT JOIN reviews AS rv ON b.book_id = rv.book_id\n",
    "       GROUP BY b.book_id;\n",
    "'''\n",
    "\n",
    "sql(q)"
   ]
  },
  {
   "cell_type": "markdown",
   "metadata": {},
   "source": [
    "### Определим издательство, которое выпустило наибольшее число книг толще 50 страниц"
   ]
  },
  {
   "cell_type": "code",
   "execution_count": 14,
   "metadata": {},
   "outputs": [
    {
     "data": {
      "text/html": [
       "<div>\n",
       "<style scoped>\n",
       "    .dataframe tbody tr th:only-of-type {\n",
       "        vertical-align: middle;\n",
       "    }\n",
       "\n",
       "    .dataframe tbody tr th {\n",
       "        vertical-align: top;\n",
       "    }\n",
       "\n",
       "    .dataframe thead th {\n",
       "        text-align: right;\n",
       "    }\n",
       "</style>\n",
       "<table border=\"1\" class=\"dataframe\">\n",
       "  <thead>\n",
       "    <tr style=\"text-align: right;\">\n",
       "      <th></th>\n",
       "      <th>publisher</th>\n",
       "      <th>count</th>\n",
       "    </tr>\n",
       "  </thead>\n",
       "  <tbody>\n",
       "    <tr>\n",
       "      <th>0</th>\n",
       "      <td>Penguin Books</td>\n",
       "      <td>42</td>\n",
       "    </tr>\n",
       "  </tbody>\n",
       "</table>\n",
       "</div>"
      ],
      "text/plain": [
       "       publisher  count\n",
       "0  Penguin Books     42"
      ]
     },
     "execution_count": 14,
     "metadata": {},
     "output_type": "execute_result"
    }
   ],
   "source": [
    "q = '''SELECT p.publisher,\n",
    "              COUNT (b.book_id)\n",
    "       FROM publishers AS p\n",
    "       JOIN books AS b ON b.publisher_id = p.publisher_id\n",
    "       WHERE b.num_pages > 50\n",
    "       GROUP BY p.publisher_id\n",
    "       ORDER BY COUNT(b.book_id) DESC\n",
    "       LIMIT 1;\n",
    "'''\n",
    "\n",
    "sql(q)"
   ]
  },
  {
   "cell_type": "markdown",
   "metadata": {},
   "source": [
    "- Наибольшее число книг толще 50 страниц выпустило издательство Penguin Books, которое выпустило 42 книги."
   ]
  },
  {
   "cell_type": "markdown",
   "metadata": {},
   "source": [
    "### Определим автора с самой высокой средней оценкой книги среди книг с 50 и более оценками"
   ]
  },
  {
   "cell_type": "code",
   "execution_count": 15,
   "metadata": {},
   "outputs": [
    {
     "data": {
      "text/html": [
       "<div>\n",
       "<style scoped>\n",
       "    .dataframe tbody tr th:only-of-type {\n",
       "        vertical-align: middle;\n",
       "    }\n",
       "\n",
       "    .dataframe tbody tr th {\n",
       "        vertical-align: top;\n",
       "    }\n",
       "\n",
       "    .dataframe thead th {\n",
       "        text-align: right;\n",
       "    }\n",
       "</style>\n",
       "<table border=\"1\" class=\"dataframe\">\n",
       "  <thead>\n",
       "    <tr style=\"text-align: right;\">\n",
       "      <th></th>\n",
       "      <th>author</th>\n",
       "      <th>avg_rating</th>\n",
       "    </tr>\n",
       "  </thead>\n",
       "  <tbody>\n",
       "    <tr>\n",
       "      <th>0</th>\n",
       "      <td>J.K. Rowling/Mary GrandPré</td>\n",
       "      <td>4.287097</td>\n",
       "    </tr>\n",
       "  </tbody>\n",
       "</table>\n",
       "</div>"
      ],
      "text/plain": [
       "                       author  avg_rating\n",
       "0  J.K. Rowling/Mary GrandPré    4.287097"
      ]
     },
     "execution_count": 15,
     "metadata": {},
     "output_type": "execute_result"
    }
   ],
   "source": [
    "q = '''     \n",
    "     SELECT a.author,\n",
    "            AVG(r.rating) avg_rating\n",
    "     FROM authors AS a\n",
    "     JOIN books AS b ON a.author_id=b.author_id\n",
    "     JOIN ratings AS r ON b.book_id=r.book_id\n",
    "     WHERE b.book_id IN \n",
    "                     (SELECT b.book_id\n",
    "                      FROM books AS b\n",
    "                      JOIN ratings AS r ON b.book_id=r.book_id\n",
    "                      GROUP BY b.book_id\n",
    "                      HAVING COUNT(r.rating_id)>=50)\n",
    "     GROUP BY a.author\n",
    "     ORDER BY avg_rating DESC\n",
    "     LIMIT 1\n",
    "'''\n",
    "\n",
    "sql(q)"
   ]
  },
  {
   "cell_type": "markdown",
   "metadata": {},
   "source": [
    "- Автор с самой  высокой средней оценкой книги - J.K. Rowling/Mary GrandPré\tи средний рейтинг = 4.3"
   ]
  },
  {
   "cell_type": "markdown",
   "metadata": {},
   "source": [
    "### Посчитаем среднее количество обзоров от пользователей, которые поставили больше 48 оценок."
   ]
  },
  {
   "cell_type": "code",
   "execution_count": 16,
   "metadata": {},
   "outputs": [
    {
     "data": {
      "text/html": [
       "<div>\n",
       "<style scoped>\n",
       "    .dataframe tbody tr th:only-of-type {\n",
       "        vertical-align: middle;\n",
       "    }\n",
       "\n",
       "    .dataframe tbody tr th {\n",
       "        vertical-align: top;\n",
       "    }\n",
       "\n",
       "    .dataframe thead th {\n",
       "        text-align: right;\n",
       "    }\n",
       "</style>\n",
       "<table border=\"1\" class=\"dataframe\">\n",
       "  <thead>\n",
       "    <tr style=\"text-align: right;\">\n",
       "      <th></th>\n",
       "      <th>avg_review</th>\n",
       "    </tr>\n",
       "  </thead>\n",
       "  <tbody>\n",
       "    <tr>\n",
       "      <th>0</th>\n",
       "      <td>24.0</td>\n",
       "    </tr>\n",
       "  </tbody>\n",
       "</table>\n",
       "</div>"
      ],
      "text/plain": [
       "   avg_review\n",
       "0        24.0"
      ]
     },
     "execution_count": 16,
     "metadata": {},
     "output_type": "execute_result"
    }
   ],
   "source": [
    "q = ''' SELECT AVG(rev.rev_count) AS avg_review\n",
    "        FROM\n",
    "            (SELECT COUNT(review_id) AS rev_count\n",
    "             FROM reviews\n",
    "             WHERE username IN \n",
    "                              (SELECT username\n",
    "                               FROM ratings\n",
    "                               GROUP BY username\n",
    "                               HAVING COUNT(ratings) > 48)\n",
    "             GROUP BY username) AS rev;    \n",
    "    \n",
    "'''\n",
    "\n",
    "sql(q)"
   ]
  },
  {
   "cell_type": "markdown",
   "metadata": {},
   "source": [
    "- Среднее количество обзоров от пользователей, которые поставили больше 48 оценок - 24"
   ]
  },
  {
   "cell_type": "markdown",
   "metadata": {},
   "source": [
    "## Вывод\n",
    "\n",
    "Проведя работу по анализу предоставленной базы данных нашли ответы на поставленные вопросы:\n",
    "1. После 1 января 2000 года вышла 821 книга\n",
    "2. Составили таблицу с количеством обзоров и средней оценкой для каждой книги\n",
    "3. Наибольшее число книг толще 50 страниц выпустило издательство Penguin Books, которое выпустило 42 книги\n",
    "\n"
   ]
  },
  {
   "cell_type": "code",
   "execution_count": null,
   "metadata": {},
   "outputs": [],
   "source": []
  }
 ],
 "metadata": {
  "ExecuteTimeLog": [
   {
    "duration": 535,
    "start_time": "2023-06-10T10:46:54.054Z"
   },
   {
    "duration": 5067,
    "start_time": "2023-06-10T10:47:18.737Z"
   },
   {
    "duration": 4,
    "start_time": "2023-06-10T10:50:10.245Z"
   },
   {
    "duration": 48,
    "start_time": "2023-06-10T10:50:15.951Z"
   },
   {
    "duration": 53,
    "start_time": "2023-06-10T10:51:38.843Z"
   },
   {
    "duration": 15,
    "start_time": "2023-06-10T10:51:59.912Z"
   },
   {
    "duration": 12,
    "start_time": "2023-06-10T10:52:28.282Z"
   },
   {
    "duration": 12,
    "start_time": "2023-06-10T10:52:52.873Z"
   },
   {
    "duration": 75,
    "start_time": "2023-06-10T10:55:31.226Z"
   },
   {
    "duration": 9,
    "start_time": "2023-06-10T10:55:58.000Z"
   },
   {
    "duration": 8,
    "start_time": "2023-06-10T11:18:56.898Z"
   },
   {
    "duration": 14,
    "start_time": "2023-06-10T11:19:07.598Z"
   },
   {
    "duration": 42,
    "start_time": "2023-06-10T11:19:33.318Z"
   },
   {
    "duration": 13,
    "start_time": "2023-06-10T11:19:56.268Z"
   },
   {
    "duration": 13,
    "start_time": "2023-06-10T11:20:27.158Z"
   },
   {
    "duration": 12,
    "start_time": "2023-06-10T11:20:51.498Z"
   },
   {
    "duration": 12,
    "start_time": "2023-06-10T11:20:54.847Z"
   },
   {
    "duration": 8,
    "start_time": "2023-06-10T11:21:21.488Z"
   },
   {
    "duration": 43,
    "start_time": "2023-06-10T11:22:31.665Z"
   },
   {
    "duration": 45,
    "start_time": "2023-06-10T11:22:51.154Z"
   },
   {
    "duration": 547,
    "start_time": "2023-06-10T11:24:28.342Z"
   },
   {
    "duration": 4941,
    "start_time": "2023-06-10T11:24:28.891Z"
   },
   {
    "duration": 55,
    "start_time": "2023-06-10T11:24:33.834Z"
   },
   {
    "duration": 14,
    "start_time": "2023-06-10T11:24:33.891Z"
   },
   {
    "duration": 38,
    "start_time": "2023-06-10T11:24:33.906Z"
   },
   {
    "duration": 22,
    "start_time": "2023-06-10T11:24:33.946Z"
   },
   {
    "duration": 12,
    "start_time": "2023-06-10T11:24:33.970Z"
   },
   {
    "duration": 57,
    "start_time": "2023-06-10T11:24:33.984Z"
   },
   {
    "duration": 21,
    "start_time": "2023-06-10T11:30:21.999Z"
   },
   {
    "duration": 36,
    "start_time": "2023-06-10T11:30:38.674Z"
   },
   {
    "duration": 29,
    "start_time": "2023-06-10T11:30:52.428Z"
   },
   {
    "duration": 35,
    "start_time": "2023-06-10T11:31:04.240Z"
   },
   {
    "duration": 24,
    "start_time": "2023-06-10T11:31:43.367Z"
   },
   {
    "duration": 75,
    "start_time": "2023-06-10T11:32:25.716Z"
   },
   {
    "duration": 14,
    "start_time": "2023-06-10T11:32:37.530Z"
   },
   {
    "duration": 22,
    "start_time": "2023-06-10T11:32:56.307Z"
   },
   {
    "duration": 24,
    "start_time": "2023-06-10T11:33:04.788Z"
   },
   {
    "duration": 13,
    "start_time": "2023-06-10T11:47:21.118Z"
   },
   {
    "duration": 14,
    "start_time": "2023-06-10T11:47:32.407Z"
   },
   {
    "duration": 3,
    "start_time": "2023-06-10T11:48:36.325Z"
   },
   {
    "duration": 18,
    "start_time": "2023-06-10T11:48:43.059Z"
   },
   {
    "duration": 7,
    "start_time": "2023-06-10T11:48:59.432Z"
   },
   {
    "duration": 8,
    "start_time": "2023-06-10T11:49:20.856Z"
   },
   {
    "duration": 11,
    "start_time": "2023-06-10T11:49:55.533Z"
   },
   {
    "duration": 90,
    "start_time": "2023-06-10T11:54:49.359Z"
   },
   {
    "duration": 30,
    "start_time": "2023-06-10T11:55:17.707Z"
   },
   {
    "duration": 28,
    "start_time": "2023-06-10T11:55:32.541Z"
   },
   {
    "duration": 14,
    "start_time": "2023-06-10T12:07:10.999Z"
   },
   {
    "duration": 77,
    "start_time": "2023-06-10T12:15:24.581Z"
   },
   {
    "duration": 86,
    "start_time": "2023-06-10T12:16:24.595Z"
   },
   {
    "duration": 16,
    "start_time": "2023-06-10T12:16:56.475Z"
   },
   {
    "duration": 17,
    "start_time": "2023-06-10T12:27:02.221Z"
   },
   {
    "duration": 15,
    "start_time": "2023-06-10T12:41:48.348Z"
   },
   {
    "duration": 451,
    "start_time": "2023-06-10T13:49:59.019Z"
   },
   {
    "duration": 12377,
    "start_time": "2023-06-10T13:49:59.471Z"
   },
   {
    "duration": 52,
    "start_time": "2023-06-10T13:50:11.849Z"
   },
   {
    "duration": 10,
    "start_time": "2023-06-10T13:50:11.903Z"
   },
   {
    "duration": 20,
    "start_time": "2023-06-10T13:50:11.914Z"
   },
   {
    "duration": 31,
    "start_time": "2023-06-10T13:50:11.936Z"
   },
   {
    "duration": 16,
    "start_time": "2023-06-10T13:50:11.969Z"
   },
   {
    "duration": 41,
    "start_time": "2023-06-10T13:50:11.986Z"
   },
   {
    "duration": 16,
    "start_time": "2023-06-10T13:50:12.028Z"
   },
   {
    "duration": 11,
    "start_time": "2023-06-10T13:50:12.045Z"
   },
   {
    "duration": 2,
    "start_time": "2023-06-10T13:50:12.057Z"
   },
   {
    "duration": 17,
    "start_time": "2023-06-10T13:50:12.061Z"
   },
   {
    "duration": 32,
    "start_time": "2023-06-10T13:50:12.079Z"
   },
   {
    "duration": 10,
    "start_time": "2023-06-10T13:50:12.112Z"
   },
   {
    "duration": 14,
    "start_time": "2023-06-10T13:50:12.123Z"
   },
   {
    "duration": 11,
    "start_time": "2023-06-10T13:50:12.138Z"
   },
   {
    "duration": 25,
    "start_time": "2023-06-10T13:50:45.321Z"
   }
  ],
  "kernelspec": {
   "display_name": "Python 3 (ipykernel)",
   "language": "python",
   "name": "python3"
  },
  "language_info": {
   "codemirror_mode": {
    "name": "ipython",
    "version": 3
   },
   "file_extension": ".py",
   "mimetype": "text/x-python",
   "name": "python",
   "nbconvert_exporter": "python",
   "pygments_lexer": "ipython3",
   "version": "3.9.5"
  },
  "toc": {
   "base_numbering": 1,
   "nav_menu": {},
   "number_sections": true,
   "sideBar": true,
   "skip_h1_title": true,
   "title_cell": "Table of Contents",
   "title_sidebar": "Contents",
   "toc_cell": false,
   "toc_position": {},
   "toc_section_display": true,
   "toc_window_display": true
  }
 },
 "nbformat": 4,
 "nbformat_minor": 2
}
