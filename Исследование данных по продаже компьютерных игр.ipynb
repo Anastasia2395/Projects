{
 "cells": [
  {
   "cell_type": "markdown",
   "metadata": {},
   "source": [
    "## Введение"
   ]
  },
  {
   "cell_type": "markdown",
   "metadata": {},
   "source": [
    "В этом проекте мы изучим данные по продажам компьютерных игр за период до 2016 года с целью сделать прогноз на 2017 год.\n",
    "\n",
    "- Прежде всего мы обработаем данные, избавимся от пропусков там, где это необходимо и возможно, изучим временные периоды и решим, какой период мы будем считать актуальным для построения выводов. В индустрии игр все меняется очень быстро и данные за 1980-е, например, нам точно не помогут.\n",
    "\n",
    "- Мы изучим, как менялся спрос на различные игровые платформы со временем, выведем топ популярных платформ за актуальный период и предположим, какие из них будут максимально прибыльны в будущем.\n",
    "\n",
    "- Также мы изучим, какие жанры игр приносят наибольшую прибыль в изучаемом периоде, это поможет понять, на какие жанры делать акцент в будущем.\n",
    "\n",
    "- Далее мы изучим продажи на разных территориях: в Северной Америке, Европе и Японии, выведем закономерности и проанализируем интересы пользователей, проживающих в этих регионах. Это также поможет нам в прогнозировании.\n",
    "\n",
    "- И напоследок проверим две гипотезы:\n",
    "   - Средние пользовательские рейтинги платформ Xbox One и PC одинаковые;\n",
    "   - Средние пользовательские рейтинги жанров Action (англ. «действие», экшен-игры) и Sports (англ. «спортивные соревнования») разные.\n",
    "\n",
    "По результатам исследования составим общий вывод с рекомендациями и прогнозами. Удачи мне :)"
   ]
  },
  {
   "cell_type": "markdown",
   "metadata": {},
   "source": [
    "## Откроем датасет и изучим его"
   ]
  },
  {
   "cell_type": "code",
   "execution_count": 10,
   "metadata": {},
   "outputs": [
    {
     "data": {
      "text/html": [
       "<div>\n",
       "<style scoped>\n",
       "    .dataframe tbody tr th:only-of-type {\n",
       "        vertical-align: middle;\n",
       "    }\n",
       "\n",
       "    .dataframe tbody tr th {\n",
       "        vertical-align: top;\n",
       "    }\n",
       "\n",
       "    .dataframe thead th {\n",
       "        text-align: right;\n",
       "    }\n",
       "</style>\n",
       "<table border=\"1\" class=\"dataframe\">\n",
       "  <thead>\n",
       "    <tr style=\"text-align: right;\">\n",
       "      <th></th>\n",
       "      <th>Name</th>\n",
       "      <th>Platform</th>\n",
       "      <th>Year_of_Release</th>\n",
       "      <th>Genre</th>\n",
       "      <th>NA_sales</th>\n",
       "      <th>EU_sales</th>\n",
       "      <th>JP_sales</th>\n",
       "      <th>Other_sales</th>\n",
       "      <th>Critic_Score</th>\n",
       "      <th>User_Score</th>\n",
       "      <th>Rating</th>\n",
       "    </tr>\n",
       "  </thead>\n",
       "  <tbody>\n",
       "    <tr>\n",
       "      <th>0</th>\n",
       "      <td>Wii Sports</td>\n",
       "      <td>Wii</td>\n",
       "      <td>2006.0</td>\n",
       "      <td>Sports</td>\n",
       "      <td>41.36</td>\n",
       "      <td>28.96</td>\n",
       "      <td>3.77</td>\n",
       "      <td>8.45</td>\n",
       "      <td>76.0</td>\n",
       "      <td>8</td>\n",
       "      <td>E</td>\n",
       "    </tr>\n",
       "    <tr>\n",
       "      <th>1</th>\n",
       "      <td>Super Mario Bros.</td>\n",
       "      <td>NES</td>\n",
       "      <td>1985.0</td>\n",
       "      <td>Platform</td>\n",
       "      <td>29.08</td>\n",
       "      <td>3.58</td>\n",
       "      <td>6.81</td>\n",
       "      <td>0.77</td>\n",
       "      <td>NaN</td>\n",
       "      <td>NaN</td>\n",
       "      <td>NaN</td>\n",
       "    </tr>\n",
       "    <tr>\n",
       "      <th>2</th>\n",
       "      <td>Mario Kart Wii</td>\n",
       "      <td>Wii</td>\n",
       "      <td>2008.0</td>\n",
       "      <td>Racing</td>\n",
       "      <td>15.68</td>\n",
       "      <td>12.76</td>\n",
       "      <td>3.79</td>\n",
       "      <td>3.29</td>\n",
       "      <td>82.0</td>\n",
       "      <td>8.3</td>\n",
       "      <td>E</td>\n",
       "    </tr>\n",
       "    <tr>\n",
       "      <th>3</th>\n",
       "      <td>Wii Sports Resort</td>\n",
       "      <td>Wii</td>\n",
       "      <td>2009.0</td>\n",
       "      <td>Sports</td>\n",
       "      <td>15.61</td>\n",
       "      <td>10.93</td>\n",
       "      <td>3.28</td>\n",
       "      <td>2.95</td>\n",
       "      <td>80.0</td>\n",
       "      <td>8</td>\n",
       "      <td>E</td>\n",
       "    </tr>\n",
       "    <tr>\n",
       "      <th>4</th>\n",
       "      <td>Pokemon Red/Pokemon Blue</td>\n",
       "      <td>GB</td>\n",
       "      <td>1996.0</td>\n",
       "      <td>Role-Playing</td>\n",
       "      <td>11.27</td>\n",
       "      <td>8.89</td>\n",
       "      <td>10.22</td>\n",
       "      <td>1.00</td>\n",
       "      <td>NaN</td>\n",
       "      <td>NaN</td>\n",
       "      <td>NaN</td>\n",
       "    </tr>\n",
       "    <tr>\n",
       "      <th>5</th>\n",
       "      <td>Tetris</td>\n",
       "      <td>GB</td>\n",
       "      <td>1989.0</td>\n",
       "      <td>Puzzle</td>\n",
       "      <td>23.20</td>\n",
       "      <td>2.26</td>\n",
       "      <td>4.22</td>\n",
       "      <td>0.58</td>\n",
       "      <td>NaN</td>\n",
       "      <td>NaN</td>\n",
       "      <td>NaN</td>\n",
       "    </tr>\n",
       "    <tr>\n",
       "      <th>6</th>\n",
       "      <td>New Super Mario Bros.</td>\n",
       "      <td>DS</td>\n",
       "      <td>2006.0</td>\n",
       "      <td>Platform</td>\n",
       "      <td>11.28</td>\n",
       "      <td>9.14</td>\n",
       "      <td>6.50</td>\n",
       "      <td>2.88</td>\n",
       "      <td>89.0</td>\n",
       "      <td>8.5</td>\n",
       "      <td>E</td>\n",
       "    </tr>\n",
       "    <tr>\n",
       "      <th>7</th>\n",
       "      <td>Wii Play</td>\n",
       "      <td>Wii</td>\n",
       "      <td>2006.0</td>\n",
       "      <td>Misc</td>\n",
       "      <td>13.96</td>\n",
       "      <td>9.18</td>\n",
       "      <td>2.93</td>\n",
       "      <td>2.84</td>\n",
       "      <td>58.0</td>\n",
       "      <td>6.6</td>\n",
       "      <td>E</td>\n",
       "    </tr>\n",
       "    <tr>\n",
       "      <th>8</th>\n",
       "      <td>New Super Mario Bros. Wii</td>\n",
       "      <td>Wii</td>\n",
       "      <td>2009.0</td>\n",
       "      <td>Platform</td>\n",
       "      <td>14.44</td>\n",
       "      <td>6.94</td>\n",
       "      <td>4.70</td>\n",
       "      <td>2.24</td>\n",
       "      <td>87.0</td>\n",
       "      <td>8.4</td>\n",
       "      <td>E</td>\n",
       "    </tr>\n",
       "    <tr>\n",
       "      <th>9</th>\n",
       "      <td>Duck Hunt</td>\n",
       "      <td>NES</td>\n",
       "      <td>1984.0</td>\n",
       "      <td>Shooter</td>\n",
       "      <td>26.93</td>\n",
       "      <td>0.63</td>\n",
       "      <td>0.28</td>\n",
       "      <td>0.47</td>\n",
       "      <td>NaN</td>\n",
       "      <td>NaN</td>\n",
       "      <td>NaN</td>\n",
       "    </tr>\n",
       "    <tr>\n",
       "      <th>10</th>\n",
       "      <td>Nintendogs</td>\n",
       "      <td>DS</td>\n",
       "      <td>2005.0</td>\n",
       "      <td>Simulation</td>\n",
       "      <td>9.05</td>\n",
       "      <td>10.95</td>\n",
       "      <td>1.93</td>\n",
       "      <td>2.74</td>\n",
       "      <td>NaN</td>\n",
       "      <td>NaN</td>\n",
       "      <td>NaN</td>\n",
       "    </tr>\n",
       "    <tr>\n",
       "      <th>11</th>\n",
       "      <td>Mario Kart DS</td>\n",
       "      <td>DS</td>\n",
       "      <td>2005.0</td>\n",
       "      <td>Racing</td>\n",
       "      <td>9.71</td>\n",
       "      <td>7.47</td>\n",
       "      <td>4.13</td>\n",
       "      <td>1.90</td>\n",
       "      <td>91.0</td>\n",
       "      <td>8.6</td>\n",
       "      <td>E</td>\n",
       "    </tr>\n",
       "    <tr>\n",
       "      <th>12</th>\n",
       "      <td>Pokemon Gold/Pokemon Silver</td>\n",
       "      <td>GB</td>\n",
       "      <td>1999.0</td>\n",
       "      <td>Role-Playing</td>\n",
       "      <td>9.00</td>\n",
       "      <td>6.18</td>\n",
       "      <td>7.20</td>\n",
       "      <td>0.71</td>\n",
       "      <td>NaN</td>\n",
       "      <td>NaN</td>\n",
       "      <td>NaN</td>\n",
       "    </tr>\n",
       "    <tr>\n",
       "      <th>13</th>\n",
       "      <td>Wii Fit</td>\n",
       "      <td>Wii</td>\n",
       "      <td>2007.0</td>\n",
       "      <td>Sports</td>\n",
       "      <td>8.92</td>\n",
       "      <td>8.03</td>\n",
       "      <td>3.60</td>\n",
       "      <td>2.15</td>\n",
       "      <td>80.0</td>\n",
       "      <td>7.7</td>\n",
       "      <td>E</td>\n",
       "    </tr>\n",
       "    <tr>\n",
       "      <th>14</th>\n",
       "      <td>Kinect Adventures!</td>\n",
       "      <td>X360</td>\n",
       "      <td>2010.0</td>\n",
       "      <td>Misc</td>\n",
       "      <td>15.00</td>\n",
       "      <td>4.89</td>\n",
       "      <td>0.24</td>\n",
       "      <td>1.69</td>\n",
       "      <td>61.0</td>\n",
       "      <td>6.3</td>\n",
       "      <td>E</td>\n",
       "    </tr>\n",
       "    <tr>\n",
       "      <th>15</th>\n",
       "      <td>Wii Fit Plus</td>\n",
       "      <td>Wii</td>\n",
       "      <td>2009.0</td>\n",
       "      <td>Sports</td>\n",
       "      <td>9.01</td>\n",
       "      <td>8.49</td>\n",
       "      <td>2.53</td>\n",
       "      <td>1.77</td>\n",
       "      <td>80.0</td>\n",
       "      <td>7.4</td>\n",
       "      <td>E</td>\n",
       "    </tr>\n",
       "    <tr>\n",
       "      <th>16</th>\n",
       "      <td>Grand Theft Auto V</td>\n",
       "      <td>PS3</td>\n",
       "      <td>2013.0</td>\n",
       "      <td>Action</td>\n",
       "      <td>7.02</td>\n",
       "      <td>9.09</td>\n",
       "      <td>0.98</td>\n",
       "      <td>3.96</td>\n",
       "      <td>97.0</td>\n",
       "      <td>8.2</td>\n",
       "      <td>M</td>\n",
       "    </tr>\n",
       "    <tr>\n",
       "      <th>17</th>\n",
       "      <td>Grand Theft Auto: San Andreas</td>\n",
       "      <td>PS2</td>\n",
       "      <td>2004.0</td>\n",
       "      <td>Action</td>\n",
       "      <td>9.43</td>\n",
       "      <td>0.40</td>\n",
       "      <td>0.41</td>\n",
       "      <td>10.57</td>\n",
       "      <td>95.0</td>\n",
       "      <td>9</td>\n",
       "      <td>M</td>\n",
       "    </tr>\n",
       "    <tr>\n",
       "      <th>18</th>\n",
       "      <td>Super Mario World</td>\n",
       "      <td>SNES</td>\n",
       "      <td>1990.0</td>\n",
       "      <td>Platform</td>\n",
       "      <td>12.78</td>\n",
       "      <td>3.75</td>\n",
       "      <td>3.54</td>\n",
       "      <td>0.55</td>\n",
       "      <td>NaN</td>\n",
       "      <td>NaN</td>\n",
       "      <td>NaN</td>\n",
       "    </tr>\n",
       "    <tr>\n",
       "      <th>19</th>\n",
       "      <td>Brain Age: Train Your Brain in Minutes a Day</td>\n",
       "      <td>DS</td>\n",
       "      <td>2005.0</td>\n",
       "      <td>Misc</td>\n",
       "      <td>4.74</td>\n",
       "      <td>9.20</td>\n",
       "      <td>4.16</td>\n",
       "      <td>2.04</td>\n",
       "      <td>77.0</td>\n",
       "      <td>7.9</td>\n",
       "      <td>E</td>\n",
       "    </tr>\n",
       "  </tbody>\n",
       "</table>\n",
       "</div>"
      ],
      "text/plain": [
       "                                            Name Platform  Year_of_Release  \\\n",
       "0                                     Wii Sports      Wii           2006.0   \n",
       "1                              Super Mario Bros.      NES           1985.0   \n",
       "2                                 Mario Kart Wii      Wii           2008.0   \n",
       "3                              Wii Sports Resort      Wii           2009.0   \n",
       "4                       Pokemon Red/Pokemon Blue       GB           1996.0   \n",
       "5                                         Tetris       GB           1989.0   \n",
       "6                          New Super Mario Bros.       DS           2006.0   \n",
       "7                                       Wii Play      Wii           2006.0   \n",
       "8                      New Super Mario Bros. Wii      Wii           2009.0   \n",
       "9                                      Duck Hunt      NES           1984.0   \n",
       "10                                    Nintendogs       DS           2005.0   \n",
       "11                                 Mario Kart DS       DS           2005.0   \n",
       "12                   Pokemon Gold/Pokemon Silver       GB           1999.0   \n",
       "13                                       Wii Fit      Wii           2007.0   \n",
       "14                            Kinect Adventures!     X360           2010.0   \n",
       "15                                  Wii Fit Plus      Wii           2009.0   \n",
       "16                            Grand Theft Auto V      PS3           2013.0   \n",
       "17                 Grand Theft Auto: San Andreas      PS2           2004.0   \n",
       "18                             Super Mario World     SNES           1990.0   \n",
       "19  Brain Age: Train Your Brain in Minutes a Day       DS           2005.0   \n",
       "\n",
       "           Genre  NA_sales  EU_sales  JP_sales  Other_sales  Critic_Score  \\\n",
       "0         Sports     41.36     28.96      3.77         8.45          76.0   \n",
       "1       Platform     29.08      3.58      6.81         0.77           NaN   \n",
       "2         Racing     15.68     12.76      3.79         3.29          82.0   \n",
       "3         Sports     15.61     10.93      3.28         2.95          80.0   \n",
       "4   Role-Playing     11.27      8.89     10.22         1.00           NaN   \n",
       "5         Puzzle     23.20      2.26      4.22         0.58           NaN   \n",
       "6       Platform     11.28      9.14      6.50         2.88          89.0   \n",
       "7           Misc     13.96      9.18      2.93         2.84          58.0   \n",
       "8       Platform     14.44      6.94      4.70         2.24          87.0   \n",
       "9        Shooter     26.93      0.63      0.28         0.47           NaN   \n",
       "10    Simulation      9.05     10.95      1.93         2.74           NaN   \n",
       "11        Racing      9.71      7.47      4.13         1.90          91.0   \n",
       "12  Role-Playing      9.00      6.18      7.20         0.71           NaN   \n",
       "13        Sports      8.92      8.03      3.60         2.15          80.0   \n",
       "14          Misc     15.00      4.89      0.24         1.69          61.0   \n",
       "15        Sports      9.01      8.49      2.53         1.77          80.0   \n",
       "16        Action      7.02      9.09      0.98         3.96          97.0   \n",
       "17        Action      9.43      0.40      0.41        10.57          95.0   \n",
       "18      Platform     12.78      3.75      3.54         0.55           NaN   \n",
       "19          Misc      4.74      9.20      4.16         2.04          77.0   \n",
       "\n",
       "   User_Score Rating  \n",
       "0           8      E  \n",
       "1         NaN    NaN  \n",
       "2         8.3      E  \n",
       "3           8      E  \n",
       "4         NaN    NaN  \n",
       "5         NaN    NaN  \n",
       "6         8.5      E  \n",
       "7         6.6      E  \n",
       "8         8.4      E  \n",
       "9         NaN    NaN  \n",
       "10        NaN    NaN  \n",
       "11        8.6      E  \n",
       "12        NaN    NaN  \n",
       "13        7.7      E  \n",
       "14        6.3      E  \n",
       "15        7.4      E  \n",
       "16        8.2      M  \n",
       "17          9      M  \n",
       "18        NaN    NaN  \n",
       "19        7.9      E  "
      ]
     },
     "execution_count": 10,
     "metadata": {},
     "output_type": "execute_result"
    }
   ],
   "source": [
    "import pandas as pd\n",
    "df = pd.read_csv('/datasets/games.csv')\n",
    "df.head(20)"
   ]
  },
  {
   "cell_type": "code",
   "execution_count": 11,
   "metadata": {},
   "outputs": [
    {
     "name": "stdout",
     "output_type": "stream",
     "text": [
      "<class 'pandas.core.frame.DataFrame'>\n",
      "RangeIndex: 16715 entries, 0 to 16714\n",
      "Data columns (total 11 columns):\n",
      " #   Column           Non-Null Count  Dtype  \n",
      "---  ------           --------------  -----  \n",
      " 0   Name             16713 non-null  object \n",
      " 1   Platform         16715 non-null  object \n",
      " 2   Year_of_Release  16446 non-null  float64\n",
      " 3   Genre            16713 non-null  object \n",
      " 4   NA_sales         16715 non-null  float64\n",
      " 5   EU_sales         16715 non-null  float64\n",
      " 6   JP_sales         16715 non-null  float64\n",
      " 7   Other_sales      16715 non-null  float64\n",
      " 8   Critic_Score     8137 non-null   float64\n",
      " 9   User_Score       10014 non-null  object \n",
      " 10  Rating           9949 non-null   object \n",
      "dtypes: float64(6), object(5)\n",
      "memory usage: 1.4+ MB\n"
     ]
    }
   ],
   "source": [
    "df.info()"
   ]
  },
  {
   "cell_type": "code",
   "execution_count": 12,
   "metadata": {},
   "outputs": [
    {
     "data": {
      "text/html": [
       "<div>\n",
       "<style scoped>\n",
       "    .dataframe tbody tr th:only-of-type {\n",
       "        vertical-align: middle;\n",
       "    }\n",
       "\n",
       "    .dataframe tbody tr th {\n",
       "        vertical-align: top;\n",
       "    }\n",
       "\n",
       "    .dataframe thead th {\n",
       "        text-align: right;\n",
       "    }\n",
       "</style>\n",
       "<table border=\"1\" class=\"dataframe\">\n",
       "  <thead>\n",
       "    <tr style=\"text-align: right;\">\n",
       "      <th></th>\n",
       "      <th>Year_of_Release</th>\n",
       "      <th>NA_sales</th>\n",
       "      <th>EU_sales</th>\n",
       "      <th>JP_sales</th>\n",
       "      <th>Other_sales</th>\n",
       "      <th>Critic_Score</th>\n",
       "    </tr>\n",
       "  </thead>\n",
       "  <tbody>\n",
       "    <tr>\n",
       "      <th>count</th>\n",
       "      <td>16446.000000</td>\n",
       "      <td>16715.000000</td>\n",
       "      <td>16715.000000</td>\n",
       "      <td>16715.000000</td>\n",
       "      <td>16715.000000</td>\n",
       "      <td>8137.000000</td>\n",
       "    </tr>\n",
       "    <tr>\n",
       "      <th>mean</th>\n",
       "      <td>2006.484616</td>\n",
       "      <td>0.263377</td>\n",
       "      <td>0.145060</td>\n",
       "      <td>0.077617</td>\n",
       "      <td>0.047342</td>\n",
       "      <td>68.967679</td>\n",
       "    </tr>\n",
       "    <tr>\n",
       "      <th>std</th>\n",
       "      <td>5.877050</td>\n",
       "      <td>0.813604</td>\n",
       "      <td>0.503339</td>\n",
       "      <td>0.308853</td>\n",
       "      <td>0.186731</td>\n",
       "      <td>13.938165</td>\n",
       "    </tr>\n",
       "    <tr>\n",
       "      <th>min</th>\n",
       "      <td>1980.000000</td>\n",
       "      <td>0.000000</td>\n",
       "      <td>0.000000</td>\n",
       "      <td>0.000000</td>\n",
       "      <td>0.000000</td>\n",
       "      <td>13.000000</td>\n",
       "    </tr>\n",
       "    <tr>\n",
       "      <th>25%</th>\n",
       "      <td>2003.000000</td>\n",
       "      <td>0.000000</td>\n",
       "      <td>0.000000</td>\n",
       "      <td>0.000000</td>\n",
       "      <td>0.000000</td>\n",
       "      <td>60.000000</td>\n",
       "    </tr>\n",
       "    <tr>\n",
       "      <th>50%</th>\n",
       "      <td>2007.000000</td>\n",
       "      <td>0.080000</td>\n",
       "      <td>0.020000</td>\n",
       "      <td>0.000000</td>\n",
       "      <td>0.010000</td>\n",
       "      <td>71.000000</td>\n",
       "    </tr>\n",
       "    <tr>\n",
       "      <th>75%</th>\n",
       "      <td>2010.000000</td>\n",
       "      <td>0.240000</td>\n",
       "      <td>0.110000</td>\n",
       "      <td>0.040000</td>\n",
       "      <td>0.030000</td>\n",
       "      <td>79.000000</td>\n",
       "    </tr>\n",
       "    <tr>\n",
       "      <th>max</th>\n",
       "      <td>2016.000000</td>\n",
       "      <td>41.360000</td>\n",
       "      <td>28.960000</td>\n",
       "      <td>10.220000</td>\n",
       "      <td>10.570000</td>\n",
       "      <td>98.000000</td>\n",
       "    </tr>\n",
       "  </tbody>\n",
       "</table>\n",
       "</div>"
      ],
      "text/plain": [
       "       Year_of_Release      NA_sales      EU_sales      JP_sales  \\\n",
       "count     16446.000000  16715.000000  16715.000000  16715.000000   \n",
       "mean       2006.484616      0.263377      0.145060      0.077617   \n",
       "std           5.877050      0.813604      0.503339      0.308853   \n",
       "min        1980.000000      0.000000      0.000000      0.000000   \n",
       "25%        2003.000000      0.000000      0.000000      0.000000   \n",
       "50%        2007.000000      0.080000      0.020000      0.000000   \n",
       "75%        2010.000000      0.240000      0.110000      0.040000   \n",
       "max        2016.000000     41.360000     28.960000     10.220000   \n",
       "\n",
       "        Other_sales  Critic_Score  \n",
       "count  16715.000000   8137.000000  \n",
       "mean       0.047342     68.967679  \n",
       "std        0.186731     13.938165  \n",
       "min        0.000000     13.000000  \n",
       "25%        0.000000     60.000000  \n",
       "50%        0.010000     71.000000  \n",
       "75%        0.030000     79.000000  \n",
       "max       10.570000     98.000000  "
      ]
     },
     "execution_count": 12,
     "metadata": {},
     "output_type": "execute_result"
    }
   ],
   "source": [
    "df.describe()"
   ]
  },
  {
   "cell_type": "markdown",
   "metadata": {},
   "source": [
    "## Предобработка данных"
   ]
  },
  {
   "cell_type": "code",
   "execution_count": 13,
   "metadata": {},
   "outputs": [
    {
     "data": {
      "text/html": [
       "<div>\n",
       "<style scoped>\n",
       "    .dataframe tbody tr th:only-of-type {\n",
       "        vertical-align: middle;\n",
       "    }\n",
       "\n",
       "    .dataframe tbody tr th {\n",
       "        vertical-align: top;\n",
       "    }\n",
       "\n",
       "    .dataframe thead th {\n",
       "        text-align: right;\n",
       "    }\n",
       "</style>\n",
       "<table border=\"1\" class=\"dataframe\">\n",
       "  <thead>\n",
       "    <tr style=\"text-align: right;\">\n",
       "      <th></th>\n",
       "      <th>name</th>\n",
       "      <th>platform</th>\n",
       "      <th>year_of_release</th>\n",
       "      <th>genre</th>\n",
       "      <th>na_sales</th>\n",
       "      <th>eu_sales</th>\n",
       "      <th>jp_sales</th>\n",
       "      <th>other_sales</th>\n",
       "      <th>critic_score</th>\n",
       "      <th>user_score</th>\n",
       "      <th>rating</th>\n",
       "    </tr>\n",
       "  </thead>\n",
       "  <tbody>\n",
       "    <tr>\n",
       "      <th>0</th>\n",
       "      <td>Wii Sports</td>\n",
       "      <td>Wii</td>\n",
       "      <td>2006.0</td>\n",
       "      <td>Sports</td>\n",
       "      <td>41.36</td>\n",
       "      <td>28.96</td>\n",
       "      <td>3.77</td>\n",
       "      <td>8.45</td>\n",
       "      <td>76.0</td>\n",
       "      <td>8</td>\n",
       "      <td>E</td>\n",
       "    </tr>\n",
       "    <tr>\n",
       "      <th>1</th>\n",
       "      <td>Super Mario Bros.</td>\n",
       "      <td>NES</td>\n",
       "      <td>1985.0</td>\n",
       "      <td>Platform</td>\n",
       "      <td>29.08</td>\n",
       "      <td>3.58</td>\n",
       "      <td>6.81</td>\n",
       "      <td>0.77</td>\n",
       "      <td>NaN</td>\n",
       "      <td>NaN</td>\n",
       "      <td>NaN</td>\n",
       "    </tr>\n",
       "    <tr>\n",
       "      <th>2</th>\n",
       "      <td>Mario Kart Wii</td>\n",
       "      <td>Wii</td>\n",
       "      <td>2008.0</td>\n",
       "      <td>Racing</td>\n",
       "      <td>15.68</td>\n",
       "      <td>12.76</td>\n",
       "      <td>3.79</td>\n",
       "      <td>3.29</td>\n",
       "      <td>82.0</td>\n",
       "      <td>8.3</td>\n",
       "      <td>E</td>\n",
       "    </tr>\n",
       "    <tr>\n",
       "      <th>3</th>\n",
       "      <td>Wii Sports Resort</td>\n",
       "      <td>Wii</td>\n",
       "      <td>2009.0</td>\n",
       "      <td>Sports</td>\n",
       "      <td>15.61</td>\n",
       "      <td>10.93</td>\n",
       "      <td>3.28</td>\n",
       "      <td>2.95</td>\n",
       "      <td>80.0</td>\n",
       "      <td>8</td>\n",
       "      <td>E</td>\n",
       "    </tr>\n",
       "    <tr>\n",
       "      <th>4</th>\n",
       "      <td>Pokemon Red/Pokemon Blue</td>\n",
       "      <td>GB</td>\n",
       "      <td>1996.0</td>\n",
       "      <td>Role-Playing</td>\n",
       "      <td>11.27</td>\n",
       "      <td>8.89</td>\n",
       "      <td>10.22</td>\n",
       "      <td>1.00</td>\n",
       "      <td>NaN</td>\n",
       "      <td>NaN</td>\n",
       "      <td>NaN</td>\n",
       "    </tr>\n",
       "  </tbody>\n",
       "</table>\n",
       "</div>"
      ],
      "text/plain": [
       "                       name platform  year_of_release         genre  na_sales  \\\n",
       "0                Wii Sports      Wii           2006.0        Sports     41.36   \n",
       "1         Super Mario Bros.      NES           1985.0      Platform     29.08   \n",
       "2            Mario Kart Wii      Wii           2008.0        Racing     15.68   \n",
       "3         Wii Sports Resort      Wii           2009.0        Sports     15.61   \n",
       "4  Pokemon Red/Pokemon Blue       GB           1996.0  Role-Playing     11.27   \n",
       "\n",
       "   eu_sales  jp_sales  other_sales  critic_score user_score rating  \n",
       "0     28.96      3.77         8.45          76.0          8      E  \n",
       "1      3.58      6.81         0.77           NaN        NaN    NaN  \n",
       "2     12.76      3.79         3.29          82.0        8.3      E  \n",
       "3     10.93      3.28         2.95          80.0          8      E  \n",
       "4      8.89     10.22         1.00           NaN        NaN    NaN  "
      ]
     },
     "execution_count": 13,
     "metadata": {},
     "output_type": "execute_result"
    }
   ],
   "source": [
    "#приведем названия столбцов к нижнему регистру\n",
    "df.rename(columns={'Name' : 'name', 'Platform' : 'platform', 'Year_of_Release': 'year_of_release', 'Genre' : 'genre', \\\n",
    "                   'NA_sales' : 'na_sales', 'EU_sales' : 'eu_sales', 'JP_sales' : 'jp_sales', 'Other_sales' : 'other_sales', \\\n",
    "                   'Critic_Score' : 'critic_score', 'User_Score' : 'user_score', 'Rating' : 'rating'}, inplace=True)\n",
    "df.head()"
   ]
  },
  {
   "cell_type": "code",
   "execution_count": 14,
   "metadata": {},
   "outputs": [
    {
     "data": {
      "text/plain": [
       "name                  2\n",
       "platform              0\n",
       "year_of_release     269\n",
       "genre                 2\n",
       "na_sales              0\n",
       "eu_sales              0\n",
       "jp_sales              0\n",
       "other_sales           0\n",
       "critic_score       8578\n",
       "user_score         6701\n",
       "rating             6766\n",
       "dtype: int64"
      ]
     },
     "execution_count": 14,
     "metadata": {},
     "output_type": "execute_result"
    }
   ],
   "source": [
    "#посчитаем количество пропусков\n",
    "df.isna().sum()"
   ]
  },
  {
   "cell_type": "markdown",
   "metadata": {},
   "source": [
    "В стобцах с именем, годом и жанром количество пропусков мало, удалим эти строки. В остальных стобцах с пропусками - с рейтингом заменим медианой, с возрастной категорией пока оставим."
   ]
  },
  {
   "cell_type": "code",
   "execution_count": 15,
   "metadata": {},
   "outputs": [
    {
     "data": {
      "text/plain": [
       "name                  0\n",
       "platform              0\n",
       "year_of_release       0\n",
       "genre                 0\n",
       "na_sales              0\n",
       "eu_sales              0\n",
       "jp_sales              0\n",
       "other_sales           0\n",
       "critic_score       8461\n",
       "user_score         6605\n",
       "rating             6676\n",
       "dtype: int64"
      ]
     },
     "execution_count": 15,
     "metadata": {},
     "output_type": "execute_result"
    }
   ],
   "source": [
    "df = df.dropna(subset=['name']).reset_index(drop=True)\n",
    "df = df.dropna(subset=['year_of_release']).reset_index(drop=True)\n",
    "df = df.dropna(subset=['genre']).reset_index(drop=True)\n",
    "df.isna().sum()"
   ]
  },
  {
   "cell_type": "code",
   "execution_count": 16,
   "metadata": {},
   "outputs": [
    {
     "data": {
      "text/html": [
       "<div>\n",
       "<style scoped>\n",
       "    .dataframe tbody tr th:only-of-type {\n",
       "        vertical-align: middle;\n",
       "    }\n",
       "\n",
       "    .dataframe tbody tr th {\n",
       "        vertical-align: top;\n",
       "    }\n",
       "\n",
       "    .dataframe thead th {\n",
       "        text-align: right;\n",
       "    }\n",
       "</style>\n",
       "<table border=\"1\" class=\"dataframe\">\n",
       "  <thead>\n",
       "    <tr style=\"text-align: right;\">\n",
       "      <th></th>\n",
       "      <th>name</th>\n",
       "      <th>platform</th>\n",
       "      <th>year_of_release</th>\n",
       "      <th>genre</th>\n",
       "      <th>na_sales</th>\n",
       "      <th>eu_sales</th>\n",
       "      <th>jp_sales</th>\n",
       "      <th>other_sales</th>\n",
       "      <th>critic_score</th>\n",
       "      <th>user_score</th>\n",
       "      <th>rating</th>\n",
       "    </tr>\n",
       "  </thead>\n",
       "  <tbody>\n",
       "    <tr>\n",
       "      <th>119</th>\n",
       "      <td>Zumba Fitness</td>\n",
       "      <td>Wii</td>\n",
       "      <td>2010.0</td>\n",
       "      <td>Sports</td>\n",
       "      <td>3.45</td>\n",
       "      <td>2.59</td>\n",
       "      <td>0.0</td>\n",
       "      <td>0.66</td>\n",
       "      <td>NaN</td>\n",
       "      <td>tbd</td>\n",
       "      <td>E</td>\n",
       "    </tr>\n",
       "    <tr>\n",
       "      <th>300</th>\n",
       "      <td>Namco Museum: 50th Anniversary</td>\n",
       "      <td>PS2</td>\n",
       "      <td>2005.0</td>\n",
       "      <td>Misc</td>\n",
       "      <td>2.08</td>\n",
       "      <td>1.35</td>\n",
       "      <td>0.0</td>\n",
       "      <td>0.54</td>\n",
       "      <td>61.0</td>\n",
       "      <td>tbd</td>\n",
       "      <td>E10+</td>\n",
       "    </tr>\n",
       "    <tr>\n",
       "      <th>516</th>\n",
       "      <td>Zumba Fitness 2</td>\n",
       "      <td>Wii</td>\n",
       "      <td>2011.0</td>\n",
       "      <td>Sports</td>\n",
       "      <td>1.51</td>\n",
       "      <td>1.03</td>\n",
       "      <td>0.0</td>\n",
       "      <td>0.27</td>\n",
       "      <td>NaN</td>\n",
       "      <td>tbd</td>\n",
       "      <td>T</td>\n",
       "    </tr>\n",
       "    <tr>\n",
       "      <th>639</th>\n",
       "      <td>uDraw Studio</td>\n",
       "      <td>Wii</td>\n",
       "      <td>2010.0</td>\n",
       "      <td>Misc</td>\n",
       "      <td>1.65</td>\n",
       "      <td>0.57</td>\n",
       "      <td>0.0</td>\n",
       "      <td>0.20</td>\n",
       "      <td>71.0</td>\n",
       "      <td>tbd</td>\n",
       "      <td>E</td>\n",
       "    </tr>\n",
       "    <tr>\n",
       "      <th>709</th>\n",
       "      <td>Just Dance Kids</td>\n",
       "      <td>Wii</td>\n",
       "      <td>2010.0</td>\n",
       "      <td>Misc</td>\n",
       "      <td>1.52</td>\n",
       "      <td>0.54</td>\n",
       "      <td>0.0</td>\n",
       "      <td>0.18</td>\n",
       "      <td>NaN</td>\n",
       "      <td>tbd</td>\n",
       "      <td>E</td>\n",
       "    </tr>\n",
       "    <tr>\n",
       "      <th>...</th>\n",
       "      <td>...</td>\n",
       "      <td>...</td>\n",
       "      <td>...</td>\n",
       "      <td>...</td>\n",
       "      <td>...</td>\n",
       "      <td>...</td>\n",
       "      <td>...</td>\n",
       "      <td>...</td>\n",
       "      <td>...</td>\n",
       "      <td>...</td>\n",
       "      <td>...</td>\n",
       "    </tr>\n",
       "    <tr>\n",
       "      <th>16424</th>\n",
       "      <td>Planet Monsters</td>\n",
       "      <td>GBA</td>\n",
       "      <td>2001.0</td>\n",
       "      <td>Action</td>\n",
       "      <td>0.01</td>\n",
       "      <td>0.00</td>\n",
       "      <td>0.0</td>\n",
       "      <td>0.00</td>\n",
       "      <td>67.0</td>\n",
       "      <td>tbd</td>\n",
       "      <td>E</td>\n",
       "    </tr>\n",
       "    <tr>\n",
       "      <th>16426</th>\n",
       "      <td>Bust-A-Move 3000</td>\n",
       "      <td>GC</td>\n",
       "      <td>2003.0</td>\n",
       "      <td>Puzzle</td>\n",
       "      <td>0.01</td>\n",
       "      <td>0.00</td>\n",
       "      <td>0.0</td>\n",
       "      <td>0.00</td>\n",
       "      <td>53.0</td>\n",
       "      <td>tbd</td>\n",
       "      <td>E</td>\n",
       "    </tr>\n",
       "    <tr>\n",
       "      <th>16427</th>\n",
       "      <td>Mega Brain Boost</td>\n",
       "      <td>DS</td>\n",
       "      <td>2008.0</td>\n",
       "      <td>Puzzle</td>\n",
       "      <td>0.01</td>\n",
       "      <td>0.00</td>\n",
       "      <td>0.0</td>\n",
       "      <td>0.00</td>\n",
       "      <td>48.0</td>\n",
       "      <td>tbd</td>\n",
       "      <td>E</td>\n",
       "    </tr>\n",
       "    <tr>\n",
       "      <th>16433</th>\n",
       "      <td>Plushees</td>\n",
       "      <td>DS</td>\n",
       "      <td>2008.0</td>\n",
       "      <td>Simulation</td>\n",
       "      <td>0.01</td>\n",
       "      <td>0.00</td>\n",
       "      <td>0.0</td>\n",
       "      <td>0.00</td>\n",
       "      <td>NaN</td>\n",
       "      <td>tbd</td>\n",
       "      <td>E</td>\n",
       "    </tr>\n",
       "    <tr>\n",
       "      <th>16435</th>\n",
       "      <td>Men in Black II: Alien Escape</td>\n",
       "      <td>GC</td>\n",
       "      <td>2003.0</td>\n",
       "      <td>Shooter</td>\n",
       "      <td>0.01</td>\n",
       "      <td>0.00</td>\n",
       "      <td>0.0</td>\n",
       "      <td>0.00</td>\n",
       "      <td>NaN</td>\n",
       "      <td>tbd</td>\n",
       "      <td>T</td>\n",
       "    </tr>\n",
       "  </tbody>\n",
       "</table>\n",
       "<p>2376 rows × 11 columns</p>\n",
       "</div>"
      ],
      "text/plain": [
       "                                 name platform  year_of_release       genre  \\\n",
       "119                     Zumba Fitness      Wii           2010.0      Sports   \n",
       "300    Namco Museum: 50th Anniversary      PS2           2005.0        Misc   \n",
       "516                   Zumba Fitness 2      Wii           2011.0      Sports   \n",
       "639                      uDraw Studio      Wii           2010.0        Misc   \n",
       "709                   Just Dance Kids      Wii           2010.0        Misc   \n",
       "...                               ...      ...              ...         ...   \n",
       "16424                 Planet Monsters      GBA           2001.0      Action   \n",
       "16426                Bust-A-Move 3000       GC           2003.0      Puzzle   \n",
       "16427                Mega Brain Boost       DS           2008.0      Puzzle   \n",
       "16433                        Plushees       DS           2008.0  Simulation   \n",
       "16435   Men in Black II: Alien Escape       GC           2003.0     Shooter   \n",
       "\n",
       "       na_sales  eu_sales  jp_sales  other_sales  critic_score user_score  \\\n",
       "119        3.45      2.59       0.0         0.66           NaN        tbd   \n",
       "300        2.08      1.35       0.0         0.54          61.0        tbd   \n",
       "516        1.51      1.03       0.0         0.27           NaN        tbd   \n",
       "639        1.65      0.57       0.0         0.20          71.0        tbd   \n",
       "709        1.52      0.54       0.0         0.18           NaN        tbd   \n",
       "...         ...       ...       ...          ...           ...        ...   \n",
       "16424      0.01      0.00       0.0         0.00          67.0        tbd   \n",
       "16426      0.01      0.00       0.0         0.00          53.0        tbd   \n",
       "16427      0.01      0.00       0.0         0.00          48.0        tbd   \n",
       "16433      0.01      0.00       0.0         0.00           NaN        tbd   \n",
       "16435      0.01      0.00       0.0         0.00           NaN        tbd   \n",
       "\n",
       "      rating  \n",
       "119        E  \n",
       "300     E10+  \n",
       "516        T  \n",
       "639        E  \n",
       "709        E  \n",
       "...      ...  \n",
       "16424      E  \n",
       "16426      E  \n",
       "16427      E  \n",
       "16433      E  \n",
       "16435      T  \n",
       "\n",
       "[2376 rows x 11 columns]"
      ]
     },
     "execution_count": 16,
     "metadata": {},
     "output_type": "execute_result"
    }
   ],
   "source": [
    "#видим, что user_score у нас имеет нечисловое значение, нужно преобразовать\n",
    "df['user_score'].unique()\n",
    "#ecть значение 'tbd', которое не даст нам преобразовать сразу в вещественное число, \n",
    "#попробуем узнать, сколько строк с таким значениеим\n",
    "df.query('user_score == \"tbd\"')"
   ]
  },
  {
   "cell_type": "markdown",
   "metadata": {},
   "source": [
    "Почти 2500 строк с таким значением, это много, просто избавляться от них я бы не стала (хотя хочется). Погуглила, tbd значит подлежит уточнению. Стало быть можно воспринимать это значение как nan и обработать это как пропуски"
   ]
  },
  {
   "cell_type": "code",
   "execution_count": 17,
   "metadata": {},
   "outputs": [
    {
     "data": {
      "text/plain": [
       "name                  0\n",
       "platform              0\n",
       "year_of_release       0\n",
       "genre                 0\n",
       "na_sales              0\n",
       "eu_sales              0\n",
       "jp_sales              0\n",
       "other_sales           0\n",
       "critic_score       8461\n",
       "user_score            0\n",
       "rating             6676\n",
       "dtype: int64"
      ]
     },
     "execution_count": 17,
     "metadata": {},
     "output_type": "execute_result"
    }
   ],
   "source": [
    "import numpy as np\n",
    "df.loc[df['user_score']==\"tbd\", 'user_score']=np.nan\n",
    "df['user_score'] = df['user_score'].astype('float64')\n",
    "#теперь заменим все пропуски на медианное значение,\n",
    "user_median = df['user_score'].median()\n",
    "df['user_score'] = df['user_score'].fillna(user_median)\n",
    "df.isna().sum()"
   ]
  },
  {
   "cell_type": "code",
   "execution_count": 18,
   "metadata": {},
   "outputs": [
    {
     "name": "stdout",
     "output_type": "stream",
     "text": [
      "<class 'pandas.core.frame.DataFrame'>\n",
      "RangeIndex: 16444 entries, 0 to 16443\n",
      "Data columns (total 11 columns):\n",
      " #   Column           Non-Null Count  Dtype  \n",
      "---  ------           --------------  -----  \n",
      " 0   name             16444 non-null  object \n",
      " 1   platform         16444 non-null  object \n",
      " 2   year_of_release  16444 non-null  Int64  \n",
      " 3   genre            16444 non-null  object \n",
      " 4   na_sales         16444 non-null  float64\n",
      " 5   eu_sales         16444 non-null  float64\n",
      " 6   jp_sales         16444 non-null  float64\n",
      " 7   other_sales      16444 non-null  float64\n",
      " 8   critic_score     7983 non-null   float64\n",
      " 9   user_score       16444 non-null  float64\n",
      " 10  rating           9768 non-null   object \n",
      "dtypes: Int64(1), float64(6), object(4)\n",
      "memory usage: 1.4+ MB\n"
     ]
    }
   ],
   "source": [
    "#переведем year_of_release в целочисленный тип данных\n",
    "df['year_of_release'] = df['year_of_release'].astype('Int64')\n",
    "df.info()"
   ]
  },
  {
   "cell_type": "code",
   "execution_count": 19,
   "metadata": {},
   "outputs": [
    {
     "data": {
      "text/html": [
       "<div>\n",
       "<style scoped>\n",
       "    .dataframe tbody tr th:only-of-type {\n",
       "        vertical-align: middle;\n",
       "    }\n",
       "\n",
       "    .dataframe tbody tr th {\n",
       "        vertical-align: top;\n",
       "    }\n",
       "\n",
       "    .dataframe thead th {\n",
       "        text-align: right;\n",
       "    }\n",
       "</style>\n",
       "<table border=\"1\" class=\"dataframe\">\n",
       "  <thead>\n",
       "    <tr style=\"text-align: right;\">\n",
       "      <th></th>\n",
       "      <th>name</th>\n",
       "      <th>platform</th>\n",
       "      <th>year_of_release</th>\n",
       "      <th>genre</th>\n",
       "      <th>na_sales</th>\n",
       "      <th>eu_sales</th>\n",
       "      <th>jp_sales</th>\n",
       "      <th>other_sales</th>\n",
       "      <th>critic_score</th>\n",
       "      <th>user_score</th>\n",
       "      <th>rating</th>\n",
       "      <th>total_sales</th>\n",
       "    </tr>\n",
       "  </thead>\n",
       "  <tbody>\n",
       "    <tr>\n",
       "      <th>0</th>\n",
       "      <td>Wii Sports</td>\n",
       "      <td>Wii</td>\n",
       "      <td>2006</td>\n",
       "      <td>Sports</td>\n",
       "      <td>41.36</td>\n",
       "      <td>28.96</td>\n",
       "      <td>3.77</td>\n",
       "      <td>8.45</td>\n",
       "      <td>76.0</td>\n",
       "      <td>8.0</td>\n",
       "      <td>E</td>\n",
       "      <td>53.58</td>\n",
       "    </tr>\n",
       "    <tr>\n",
       "      <th>1</th>\n",
       "      <td>Super Mario Bros.</td>\n",
       "      <td>NES</td>\n",
       "      <td>1985</td>\n",
       "      <td>Platform</td>\n",
       "      <td>29.08</td>\n",
       "      <td>3.58</td>\n",
       "      <td>6.81</td>\n",
       "      <td>0.77</td>\n",
       "      <td>NaN</td>\n",
       "      <td>7.5</td>\n",
       "      <td>NaN</td>\n",
       "      <td>36.66</td>\n",
       "    </tr>\n",
       "    <tr>\n",
       "      <th>2</th>\n",
       "      <td>Mario Kart Wii</td>\n",
       "      <td>Wii</td>\n",
       "      <td>2008</td>\n",
       "      <td>Racing</td>\n",
       "      <td>15.68</td>\n",
       "      <td>12.76</td>\n",
       "      <td>3.79</td>\n",
       "      <td>3.29</td>\n",
       "      <td>82.0</td>\n",
       "      <td>8.3</td>\n",
       "      <td>E</td>\n",
       "      <td>22.76</td>\n",
       "    </tr>\n",
       "    <tr>\n",
       "      <th>3</th>\n",
       "      <td>Wii Sports Resort</td>\n",
       "      <td>Wii</td>\n",
       "      <td>2009</td>\n",
       "      <td>Sports</td>\n",
       "      <td>15.61</td>\n",
       "      <td>10.93</td>\n",
       "      <td>3.28</td>\n",
       "      <td>2.95</td>\n",
       "      <td>80.0</td>\n",
       "      <td>8.0</td>\n",
       "      <td>E</td>\n",
       "      <td>21.84</td>\n",
       "    </tr>\n",
       "    <tr>\n",
       "      <th>4</th>\n",
       "      <td>Pokemon Red/Pokemon Blue</td>\n",
       "      <td>GB</td>\n",
       "      <td>1996</td>\n",
       "      <td>Role-Playing</td>\n",
       "      <td>11.27</td>\n",
       "      <td>8.89</td>\n",
       "      <td>10.22</td>\n",
       "      <td>1.00</td>\n",
       "      <td>NaN</td>\n",
       "      <td>7.5</td>\n",
       "      <td>NaN</td>\n",
       "      <td>22.49</td>\n",
       "    </tr>\n",
       "  </tbody>\n",
       "</table>\n",
       "</div>"
      ],
      "text/plain": [
       "                       name platform  year_of_release         genre  na_sales  \\\n",
       "0                Wii Sports      Wii             2006        Sports     41.36   \n",
       "1         Super Mario Bros.      NES             1985      Platform     29.08   \n",
       "2            Mario Kart Wii      Wii             2008        Racing     15.68   \n",
       "3         Wii Sports Resort      Wii             2009        Sports     15.61   \n",
       "4  Pokemon Red/Pokemon Blue       GB             1996  Role-Playing     11.27   \n",
       "\n",
       "   eu_sales  jp_sales  other_sales  critic_score  user_score rating  \\\n",
       "0     28.96      3.77         8.45          76.0         8.0      E   \n",
       "1      3.58      6.81         0.77           NaN         7.5    NaN   \n",
       "2     12.76      3.79         3.29          82.0         8.3      E   \n",
       "3     10.93      3.28         2.95          80.0         8.0      E   \n",
       "4      8.89     10.22         1.00           NaN         7.5    NaN   \n",
       "\n",
       "   total_sales  \n",
       "0        53.58  \n",
       "1        36.66  \n",
       "2        22.76  \n",
       "3        21.84  \n",
       "4        22.49  "
      ]
     },
     "execution_count": 19,
     "metadata": {},
     "output_type": "execute_result"
    }
   ],
   "source": [
    "#создаем столбец с суммой продаж по всем регионам\n",
    "df['total_sales'] = df['na_sales'] + df['jp_sales'] + df['other_sales']\n",
    "df.head()"
   ]
  },
  {
   "cell_type": "markdown",
   "metadata": {},
   "source": [
    "## Исследовательский анализ данных"
   ]
  },
  {
   "cell_type": "markdown",
   "metadata": {},
   "source": [
    "### Актуализируем период анализа данных"
   ]
  },
  {
   "cell_type": "code",
   "execution_count": 20,
   "metadata": {},
   "outputs": [
    {
     "name": "stdout",
     "output_type": "stream",
     "text": [
      "                 name\n",
      "year_of_release      \n",
      "1980                9\n",
      "1981               46\n",
      "1982               36\n",
      "1983               17\n",
      "1984               14\n",
      "1985               14\n",
      "1986               21\n",
      "1987               16\n",
      "1988               15\n",
      "1989               17\n",
      "1990               16\n",
      "1991               41\n",
      "1992               43\n",
      "1993               60\n",
      "1994              121\n",
      "1995              219\n",
      "1996              263\n",
      "1997              289\n",
      "1998              379\n",
      "1999              338\n",
      "2000              350\n",
      "2001              482\n",
      "2002              829\n",
      "2003              775\n",
      "2004              762\n",
      "2005              939\n",
      "2006             1006\n",
      "2007             1197\n",
      "2008             1427\n",
      "2009             1426\n",
      "2010             1255\n",
      "2011             1136\n",
      "2012              653\n",
      "2013              544\n",
      "2014              581\n",
      "2015              606\n",
      "2016              502\n"
     ]
    }
   ],
   "source": [
    "#посмотрим сколько игр выпускалось по годам\n",
    "year_games = df.pivot_table(index='year_of_release', values='name', aggfunc='count')\n",
    "print(year_games)"
   ]
  },
  {
   "cell_type": "markdown",
   "metadata": {},
   "source": [
    "По сводной таблице видим, что до 1994 года выпускалось совсем уж мало игр, с 1994 года количество выпускаемых игр кратно увеличилось, пик пришелся на период с 2006 по 2011 годы, когда в год выпускалось более 1 тысячи игр, далее количество пошло на спад.\n"
   ]
  },
  {
   "cell_type": "code",
   "execution_count": 21,
   "metadata": {},
   "outputs": [
    {
     "name": "stdout",
     "output_type": "stream",
     "text": [
      "                 total_sales\n",
      "year_of_release             \n",
      "1980                   10.71\n",
      "1981                   33.72\n",
      "1982                   27.23\n",
      "1983                   16.00\n",
      "1984                   48.25\n",
      "1985                   49.21\n",
      "1986                   34.24\n",
      "1987                   20.29\n",
      "1988                   40.62\n",
      "1989                   65.01\n",
      "1990                   41.74\n",
      "1991                   28.28\n",
      "1992                   64.45\n",
      "1993                   41.34\n",
      "1994                   64.35\n",
      "1995                   73.22\n",
      "1996                  151.89\n",
      "1997                  152.75\n",
      "1998                  189.41\n",
      "1999                  188.44\n",
      "2000                  148.89\n",
      "2001                  236.57\n",
      "2002                  285.22\n",
      "2003                  253.73\n",
      "2004                  311.40\n",
      "2005                  336.71\n",
      "2006                  389.82\n",
      "2007                  446.93\n",
      "2008                  490.36\n",
      "2009                  470.88\n",
      "2010                  418.71\n",
      "2011                  344.61\n",
      "2012                  241.25\n",
      "2013                  239.69\n",
      "2014                  208.79\n",
      "2015                  171.26\n",
      "2016                   78.72\n"
     ]
    }
   ],
   "source": [
    "#изучим, как менялись продажи по годам\n",
    "year_sales = df.pivot_table(index='year_of_release', values='total_sales', aggfunc='sum')\n",
    "print(year_sales)"
   ]
  },
  {
   "cell_type": "markdown",
   "metadata": {},
   "source": [
    "Согласно таблице, более менее заметные продажи компьютерных игр начались с 1996 года. До этого времени, видимо, игры были не так популярны. "
   ]
  },
  {
   "cell_type": "code",
   "execution_count": 22,
   "metadata": {},
   "outputs": [
    {
     "name": "stdout",
     "output_type": "stream",
     "text": [
      "          total_sales\n",
      "platform             \n",
      "PS2            900.93\n",
      "X360           692.92\n",
      "Wii            632.86\n",
      "DS             614.37\n",
      "PS3            604.13\n",
      "PS             515.19\n",
      "GBA            238.29\n",
      "NES            229.90\n",
      "PSP            223.91\n",
      "GB             206.92\n",
      "3DS            196.54\n",
      "XB             191.92\n",
      "SNES           181.00\n",
      "N64            176.98\n",
      "PS4            173.05\n",
      "GC             158.41\n",
      "PC             115.39\n",
      "XOne           107.73\n",
      "2600            81.62\n",
      "WiiU            57.06\n",
      "PSV             40.74\n",
      "SAT             33.05\n",
      "GEN             22.83\n",
      "DC              14.26\n",
      "SCD              1.50\n",
      "NG               1.44\n",
      "WS               1.42\n",
      "TG16             0.16\n",
      "3DO              0.10\n",
      "GG               0.04\n",
      "PCFX             0.03\n"
     ]
    }
   ],
   "source": [
    "#посмотрим теперь продажи по платформам\n",
    "platform_sales = df.pivot_table(\n",
    "    index= 'platform', values='total_sales', aggfunc='sum').sort_values(by='total_sales', ascending=False\n",
    "                                                                       )\n",
    "print(platform_sales)"
   ]
  },
  {
   "cell_type": "markdown",
   "metadata": {},
   "source": [
    "Здесь собрана статистика по всем годам, для дальнейшего анализа предлагаю взять топ 10 платформ."
   ]
  },
  {
   "cell_type": "code",
   "execution_count": 23,
   "metadata": {},
   "outputs": [
    {
     "data": {
      "text/plain": [
       "<AxesSubplot:xlabel='year_of_release'>"
      ]
     },
     "execution_count": 23,
     "metadata": {},
     "output_type": "execute_result"
    },
    {
     "data": {
      "image/png": "[encoded data removed]",
      "text/plain": [
       "<Figure size 648x360 with 1 Axes>"
      ]
     },
     "metadata": {
      "needs_background": "light"
     },
     "output_type": "display_data"
    }
   ],
   "source": [
    "#создадим таблицу с топ 10 платформ и выведем список с названиями этих платформ\n",
    "top_platforms_df = df.groupby('platform')['total_sales'].sum().sort_values(ascending=False).reset_index().head(10)\n",
    "top_platforms = top_platforms_df['platform'].tolist()\n",
    "#отфильтруем основной датасет по платформам, оставим только то, что касается нашего топ 10 платформ\n",
    "df_top_plat = df.query('platform in @top_platforms')\n",
    "#построим график по продажам по годам для топ 10 платформ\n",
    "df_top_plat.groupby('year_of_release')['total_sales'].sum().plot(kind='bar', figsize=(9, 5))"
   ]
  },
  {
   "cell_type": "markdown",
   "metadata": {},
   "source": [
    "По построенному графику наглядно видно, что до 1996 года данных в целом очень немного. Предлагаю период до 1996 года считать не актуальным"
   ]
  },
  {
   "cell_type": "markdown",
   "metadata": {},
   "source": [
    "Теперь посмотрим распределение по годам для каждой из платформ в топ 10. Так мы сможем понять, какой период времени популярна та или иная платформа"
   ]
  },
  {
   "cell_type": "code",
   "execution_count": 24,
   "metadata": {},
   "outputs": [
    {
     "data": {
      "text/plain": [
       "<AxesSubplot:xlabel='year_of_release'>"
      ]
     },
     "execution_count": 24,
     "metadata": {},
     "output_type": "execute_result"
    },
    {
     "data": {
      "image/png": "[encoded data removed]",
      "text/plain": [
       "<Figure size 864x648 with 1 Axes>"
      ]
     },
     "metadata": {
      "needs_background": "light"
     },
     "output_type": "display_data"
    }
   ],
   "source": [
    "pd.pivot_table(\n",
    "    df_top_plat, index='year_of_release', columns='platform', values='total_sales', aggfunc='sum').plot(\n",
    "    grid='True', figsize=(12, 9)\n",
    ")"
   ]
  },
  {
   "cell_type": "markdown",
   "metadata": {},
   "source": [
    "Исходя из графика видим, что срок популярности платформы составляет в среднем около 10 лет. Так или иначе, по истечении 10 лет продажи на платформе начинают сходить на нет. Пики популярности могут быть единичными, могут повторяться, может быть даже период пиковой популярности платформы. Но все это никак не влияет на срок \"жизни\" платформы.\n",
    "Поскольку нам необходимо делать прогноз на 2017 год, то логично за актуальный период брать период с 2008 года по 2016 год, то есть за 9 предыдущих лет. Все, что было до 2008 года можно не учитывать."
   ]
  },
  {
   "cell_type": "code",
   "execution_count": 25,
   "metadata": {},
   "outputs": [
    {
     "data": {
      "text/html": [
       "<div>\n",
       "<style scoped>\n",
       "    .dataframe tbody tr th:only-of-type {\n",
       "        vertical-align: middle;\n",
       "    }\n",
       "\n",
       "    .dataframe tbody tr th {\n",
       "        vertical-align: top;\n",
       "    }\n",
       "\n",
       "    .dataframe thead th {\n",
       "        text-align: right;\n",
       "    }\n",
       "</style>\n",
       "<table border=\"1\" class=\"dataframe\">\n",
       "  <thead>\n",
       "    <tr style=\"text-align: right;\">\n",
       "      <th>year_of_release</th>\n",
       "      <th>2008</th>\n",
       "      <th>2009</th>\n",
       "      <th>2010</th>\n",
       "      <th>2011</th>\n",
       "      <th>2012</th>\n",
       "      <th>2013</th>\n",
       "      <th>2014</th>\n",
       "      <th>2015</th>\n",
       "      <th>2016</th>\n",
       "    </tr>\n",
       "    <tr>\n",
       "      <th>platform</th>\n",
       "      <th></th>\n",
       "      <th></th>\n",
       "      <th></th>\n",
       "      <th></th>\n",
       "      <th></th>\n",
       "      <th></th>\n",
       "      <th></th>\n",
       "      <th></th>\n",
       "      <th></th>\n",
       "    </tr>\n",
       "  </thead>\n",
       "  <tbody>\n",
       "    <tr>\n",
       "      <th>3DS</th>\n",
       "      <td>-</td>\n",
       "      <td>-</td>\n",
       "      <td>-</td>\n",
       "      <td>116.0</td>\n",
       "      <td>93.0</td>\n",
       "      <td>91.0</td>\n",
       "      <td>80.0</td>\n",
       "      <td>86.0</td>\n",
       "      <td>46.0</td>\n",
       "    </tr>\n",
       "    <tr>\n",
       "      <th>DC</th>\n",
       "      <td>1.0</td>\n",
       "      <td>-</td>\n",
       "      <td>-</td>\n",
       "      <td>-</td>\n",
       "      <td>-</td>\n",
       "      <td>-</td>\n",
       "      <td>-</td>\n",
       "      <td>-</td>\n",
       "      <td>-</td>\n",
       "    </tr>\n",
       "    <tr>\n",
       "      <th>DS</th>\n",
       "      <td>492.0</td>\n",
       "      <td>403.0</td>\n",
       "      <td>323.0</td>\n",
       "      <td>153.0</td>\n",
       "      <td>23.0</td>\n",
       "      <td>8.0</td>\n",
       "      <td>-</td>\n",
       "      <td>-</td>\n",
       "      <td>-</td>\n",
       "    </tr>\n",
       "    <tr>\n",
       "      <th>PC</th>\n",
       "      <td>76.0</td>\n",
       "      <td>107.0</td>\n",
       "      <td>90.0</td>\n",
       "      <td>139.0</td>\n",
       "      <td>61.0</td>\n",
       "      <td>38.0</td>\n",
       "      <td>47.0</td>\n",
       "      <td>50.0</td>\n",
       "      <td>54.0</td>\n",
       "    </tr>\n",
       "    <tr>\n",
       "      <th>PS2</th>\n",
       "      <td>191.0</td>\n",
       "      <td>96.0</td>\n",
       "      <td>38.0</td>\n",
       "      <td>7.0</td>\n",
       "      <td>-</td>\n",
       "      <td>-</td>\n",
       "      <td>-</td>\n",
       "      <td>-</td>\n",
       "      <td>-</td>\n",
       "    </tr>\n",
       "    <tr>\n",
       "      <th>PS3</th>\n",
       "      <td>138.0</td>\n",
       "      <td>162.0</td>\n",
       "      <td>181.0</td>\n",
       "      <td>215.0</td>\n",
       "      <td>148.0</td>\n",
       "      <td>126.0</td>\n",
       "      <td>108.0</td>\n",
       "      <td>73.0</td>\n",
       "      <td>38.0</td>\n",
       "    </tr>\n",
       "    <tr>\n",
       "      <th>PS4</th>\n",
       "      <td>-</td>\n",
       "      <td>-</td>\n",
       "      <td>-</td>\n",
       "      <td>-</td>\n",
       "      <td>-</td>\n",
       "      <td>16.0</td>\n",
       "      <td>75.0</td>\n",
       "      <td>137.0</td>\n",
       "      <td>164.0</td>\n",
       "    </tr>\n",
       "    <tr>\n",
       "      <th>PSP</th>\n",
       "      <td>100.0</td>\n",
       "      <td>161.0</td>\n",
       "      <td>188.0</td>\n",
       "      <td>139.0</td>\n",
       "      <td>106.0</td>\n",
       "      <td>54.0</td>\n",
       "      <td>10.0</td>\n",
       "      <td>3.0</td>\n",
       "      <td>-</td>\n",
       "    </tr>\n",
       "    <tr>\n",
       "      <th>PSV</th>\n",
       "      <td>-</td>\n",
       "      <td>-</td>\n",
       "      <td>-</td>\n",
       "      <td>18.0</td>\n",
       "      <td>53.0</td>\n",
       "      <td>63.0</td>\n",
       "      <td>100.0</td>\n",
       "      <td>110.0</td>\n",
       "      <td>85.0</td>\n",
       "    </tr>\n",
       "    <tr>\n",
       "      <th>Wii</th>\n",
       "      <td>282.0</td>\n",
       "      <td>325.0</td>\n",
       "      <td>253.0</td>\n",
       "      <td>143.0</td>\n",
       "      <td>31.0</td>\n",
       "      <td>12.0</td>\n",
       "      <td>6.0</td>\n",
       "      <td>4.0</td>\n",
       "      <td>1.0</td>\n",
       "    </tr>\n",
       "    <tr>\n",
       "      <th>WiiU</th>\n",
       "      <td>-</td>\n",
       "      <td>-</td>\n",
       "      <td>-</td>\n",
       "      <td>-</td>\n",
       "      <td>32.0</td>\n",
       "      <td>42.0</td>\n",
       "      <td>31.0</td>\n",
       "      <td>28.0</td>\n",
       "      <td>14.0</td>\n",
       "    </tr>\n",
       "    <tr>\n",
       "      <th>X360</th>\n",
       "      <td>146.0</td>\n",
       "      <td>172.0</td>\n",
       "      <td>182.0</td>\n",
       "      <td>206.0</td>\n",
       "      <td>106.0</td>\n",
       "      <td>75.0</td>\n",
       "      <td>63.0</td>\n",
       "      <td>35.0</td>\n",
       "      <td>13.0</td>\n",
       "    </tr>\n",
       "    <tr>\n",
       "      <th>XB</th>\n",
       "      <td>1.0</td>\n",
       "      <td>-</td>\n",
       "      <td>-</td>\n",
       "      <td>-</td>\n",
       "      <td>-</td>\n",
       "      <td>-</td>\n",
       "      <td>-</td>\n",
       "      <td>-</td>\n",
       "      <td>-</td>\n",
       "    </tr>\n",
       "    <tr>\n",
       "      <th>XOne</th>\n",
       "      <td>-</td>\n",
       "      <td>-</td>\n",
       "      <td>-</td>\n",
       "      <td>-</td>\n",
       "      <td>-</td>\n",
       "      <td>19.0</td>\n",
       "      <td>61.0</td>\n",
       "      <td>80.0</td>\n",
       "      <td>87.0</td>\n",
       "    </tr>\n",
       "  </tbody>\n",
       "</table>\n",
       "</div>"
      ],
      "text/plain": [
       "year_of_release   2008   2009   2010   2011   2012   2013   2014   2015   2016\n",
       "platform                                                                      \n",
       "3DS                  -      -      -  116.0   93.0   91.0   80.0   86.0   46.0\n",
       "DC                 1.0      -      -      -      -      -      -      -      -\n",
       "DS               492.0  403.0  323.0  153.0   23.0    8.0      -      -      -\n",
       "PC                76.0  107.0   90.0  139.0   61.0   38.0   47.0   50.0   54.0\n",
       "PS2              191.0   96.0   38.0    7.0      -      -      -      -      -\n",
       "PS3              138.0  162.0  181.0  215.0  148.0  126.0  108.0   73.0   38.0\n",
       "PS4                  -      -      -      -      -   16.0   75.0  137.0  164.0\n",
       "PSP              100.0  161.0  188.0  139.0  106.0   54.0   10.0    3.0      -\n",
       "PSV                  -      -      -   18.0   53.0   63.0  100.0  110.0   85.0\n",
       "Wii              282.0  325.0  253.0  143.0   31.0   12.0    6.0    4.0    1.0\n",
       "WiiU                 -      -      -      -   32.0   42.0   31.0   28.0   14.0\n",
       "X360             146.0  172.0  182.0  206.0  106.0   75.0   63.0   35.0   13.0\n",
       "XB                 1.0      -      -      -      -      -      -      -      -\n",
       "XOne                 -      -      -      -      -   19.0   61.0   80.0   87.0"
      ]
     },
     "execution_count": 25,
     "metadata": {},
     "output_type": "execute_result"
    }
   ],
   "source": [
    "#посмотрим, сколько игр выходило на различных платформах за выбранный нами период времени\n",
    "actual_period_df = df.query('year_of_release > 2007')\n",
    "actual_period_pivot = actual_period_df.pivot_table(index='platform', columns='year_of_release', values='name', aggfunc='count', fill_value='-')\n",
    "actual_period_pivot"
   ]
  },
  {
   "cell_type": "markdown",
   "metadata": {},
   "source": [
    "На сводной таблице наблюдаем интересный поворот. Несмотря на вычисленную ранее продолжительность жизни платформы, период в 9 последних лет все же можно считать необоснованно большим для актуального. Мы видим, что за последние 9 лет ситуация по выходу игр на платформах сильно изменилась: некоторые платформы появились, другие напротив утратили актуальность. Я бы взяла за актуальный для прогноза период с 2013 года, именно тогда появились наиболее популярные на 2016 год платформы - PS4 и XOne"
   ]
  },
  {
   "cell_type": "markdown",
   "metadata": {},
   "source": [
    "### Изучаем топ популярных платформ за период с 2013 года"
   ]
  },
  {
   "cell_type": "code",
   "execution_count": 26,
   "metadata": {},
   "outputs": [
    {
     "data": {
      "text/html": [
       "<div>\n",
       "<style scoped>\n",
       "    .dataframe tbody tr th:only-of-type {\n",
       "        vertical-align: middle;\n",
       "    }\n",
       "\n",
       "    .dataframe tbody tr th {\n",
       "        vertical-align: top;\n",
       "    }\n",
       "\n",
       "    .dataframe thead th {\n",
       "        text-align: right;\n",
       "    }\n",
       "</style>\n",
       "<table border=\"1\" class=\"dataframe\">\n",
       "  <thead>\n",
       "    <tr style=\"text-align: right;\">\n",
       "      <th>year_of_release</th>\n",
       "      <th>2013</th>\n",
       "      <th>2014</th>\n",
       "      <th>2015</th>\n",
       "      <th>2016</th>\n",
       "    </tr>\n",
       "    <tr>\n",
       "      <th>platform</th>\n",
       "      <th></th>\n",
       "      <th></th>\n",
       "      <th></th>\n",
       "      <th></th>\n",
       "    </tr>\n",
       "  </thead>\n",
       "  <tbody>\n",
       "    <tr>\n",
       "      <th>3DS</th>\n",
       "      <td>41.73</td>\n",
       "      <td>35.03</td>\n",
       "      <td>22.72</td>\n",
       "      <td>12.81</td>\n",
       "    </tr>\n",
       "    <tr>\n",
       "      <th>DS</th>\n",
       "      <td>0.69</td>\n",
       "      <td>-</td>\n",
       "      <td>-</td>\n",
       "      <td>-</td>\n",
       "    </tr>\n",
       "    <tr>\n",
       "      <th>PC</th>\n",
       "      <td>4.99</td>\n",
       "      <td>4.41</td>\n",
       "      <td>2.95</td>\n",
       "      <td>1.72</td>\n",
       "    </tr>\n",
       "    <tr>\n",
       "      <th>PS3</th>\n",
       "      <td>70.98</td>\n",
       "      <td>29.52</td>\n",
       "      <td>10.78</td>\n",
       "      <td>2.34</td>\n",
       "    </tr>\n",
       "    <tr>\n",
       "      <th>PS4</th>\n",
       "      <td>14.94</td>\n",
       "      <td>53.5</td>\n",
       "      <td>67.14</td>\n",
       "      <td>37.47</td>\n",
       "    </tr>\n",
       "    <tr>\n",
       "      <th>PSP</th>\n",
       "      <td>2.97</td>\n",
       "      <td>0.24</td>\n",
       "      <td>0.12</td>\n",
       "      <td>-</td>\n",
       "    </tr>\n",
       "    <tr>\n",
       "      <th>PSV</th>\n",
       "      <td>8.02</td>\n",
       "      <td>9.45</td>\n",
       "      <td>5.56</td>\n",
       "      <td>3.86</td>\n",
       "    </tr>\n",
       "    <tr>\n",
       "      <th>Wii</th>\n",
       "      <td>5.25</td>\n",
       "      <td>1.89</td>\n",
       "      <td>0.52</td>\n",
       "      <td>0.07</td>\n",
       "    </tr>\n",
       "    <tr>\n",
       "      <th>WiiU</th>\n",
       "      <td>14.95</td>\n",
       "      <td>15.37</td>\n",
       "      <td>11.34</td>\n",
       "      <td>3.12</td>\n",
       "    </tr>\n",
       "    <tr>\n",
       "      <th>X360</th>\n",
       "      <td>61.55</td>\n",
       "      <td>23.46</td>\n",
       "      <td>8.46</td>\n",
       "      <td>0.81</td>\n",
       "    </tr>\n",
       "    <tr>\n",
       "      <th>XOne</th>\n",
       "      <td>13.62</td>\n",
       "      <td>35.92</td>\n",
       "      <td>41.67</td>\n",
       "      <td>16.52</td>\n",
       "    </tr>\n",
       "  </tbody>\n",
       "</table>\n",
       "</div>"
      ],
      "text/plain": [
       "year_of_release   2013   2014   2015   2016\n",
       "platform                                   \n",
       "3DS              41.73  35.03  22.72  12.81\n",
       "DS                0.69      -      -      -\n",
       "PC                4.99   4.41   2.95   1.72\n",
       "PS3              70.98  29.52  10.78   2.34\n",
       "PS4              14.94   53.5  67.14  37.47\n",
       "PSP               2.97   0.24   0.12      -\n",
       "PSV               8.02   9.45   5.56   3.86\n",
       "Wii               5.25   1.89   0.52   0.07\n",
       "WiiU             14.95  15.37  11.34   3.12\n",
       "X360             61.55  23.46   8.46   0.81\n",
       "XOne             13.62  35.92  41.67  16.52"
      ]
     },
     "execution_count": 26,
     "metadata": {},
     "output_type": "execute_result"
    }
   ],
   "source": [
    "#подкорректируем актуальный период и выведем новую сводную таблицу, только уже не с количеством игр, а с суммарными продажами\n",
    "#попробуем вычислить самые потенциально прибыльные платформы\n",
    "actual_period = df.query('year_of_release > 2012')\n",
    "actual_period_pivot = actual_period.pivot_table(index='platform', columns='year_of_release', values='total_sales', aggfunc='sum', fill_value='-')\n",
    "actual_period_pivot"
   ]
  },
  {
   "cell_type": "code",
   "execution_count": 27,
   "metadata": {},
   "outputs": [
    {
     "data": {
      "text/plain": [
       "<AxesSubplot:xlabel='year_of_release'>"
      ]
     },
     "execution_count": 27,
     "metadata": {},
     "output_type": "execute_result"
    },
    {
     "data": {
      "image/png": "[encoded data removed]",
      "text/plain": [
       "<Figure size 1080x720 with 1 Axes>"
      ]
     },
     "metadata": {
      "needs_background": "light"
     },
     "output_type": "display_data"
    }
   ],
   "source": [
    "#для наглядности построим график\n",
    "pd.pivot_table(actual_period, index='year_of_release', columns='platform', values='total_sales', aggfunc='sum').plot(grid='True', figsize=(15,10))"
   ]
  },
  {
   "cell_type": "markdown",
   "metadata": {},
   "source": [
    "В целом продажи падают на всех платформах. На такие платформы, как PS3, X360 точно ставить не нужно. Шанс повысить продажи есть у популярных платформ, а также у тех, которые не испытывали сильных падений за исследуемый период.\n",
    "Наиболее перспективными мне видятся PS4 и XOne. Шансы улучшить свое положение есть также у РС, PSV и WiiU, они двигаются по графику наиболее плавно."
   ]
  },
  {
   "cell_type": "code",
   "execution_count": 28,
   "metadata": {},
   "outputs": [
    {
     "data": {
      "text/html": [
       "<div>\n",
       "<style scoped>\n",
       "    .dataframe tbody tr th:only-of-type {\n",
       "        vertical-align: middle;\n",
       "    }\n",
       "\n",
       "    .dataframe tbody tr th {\n",
       "        vertical-align: top;\n",
       "    }\n",
       "\n",
       "    .dataframe thead th {\n",
       "        text-align: right;\n",
       "    }\n",
       "</style>\n",
       "<table border=\"1\" class=\"dataframe\">\n",
       "  <thead>\n",
       "    <tr style=\"text-align: right;\">\n",
       "      <th></th>\n",
       "      <th>name</th>\n",
       "      <th>platform</th>\n",
       "      <th>year_of_release</th>\n",
       "      <th>genre</th>\n",
       "      <th>na_sales</th>\n",
       "      <th>eu_sales</th>\n",
       "      <th>jp_sales</th>\n",
       "      <th>other_sales</th>\n",
       "      <th>critic_score</th>\n",
       "      <th>user_score</th>\n",
       "      <th>rating</th>\n",
       "      <th>total_sales</th>\n",
       "    </tr>\n",
       "  </thead>\n",
       "  <tbody>\n",
       "    <tr>\n",
       "      <th>31</th>\n",
       "      <td>Call of Duty: Black Ops 3</td>\n",
       "      <td>PS4</td>\n",
       "      <td>2015</td>\n",
       "      <td>Shooter</td>\n",
       "      <td>6.03</td>\n",
       "      <td>5.86</td>\n",
       "      <td>0.36</td>\n",
       "      <td>2.38</td>\n",
       "      <td>NaN</td>\n",
       "      <td>7.5</td>\n",
       "      <td>NaN</td>\n",
       "      <td>8.77</td>\n",
       "    </tr>\n",
       "    <tr>\n",
       "      <th>42</th>\n",
       "      <td>Grand Theft Auto V</td>\n",
       "      <td>PS4</td>\n",
       "      <td>2014</td>\n",
       "      <td>Action</td>\n",
       "      <td>3.96</td>\n",
       "      <td>6.31</td>\n",
       "      <td>0.38</td>\n",
       "      <td>1.97</td>\n",
       "      <td>97.0</td>\n",
       "      <td>8.3</td>\n",
       "      <td>M</td>\n",
       "      <td>6.31</td>\n",
       "    </tr>\n",
       "    <tr>\n",
       "      <th>77</th>\n",
       "      <td>FIFA 16</td>\n",
       "      <td>PS4</td>\n",
       "      <td>2015</td>\n",
       "      <td>Sports</td>\n",
       "      <td>1.12</td>\n",
       "      <td>6.12</td>\n",
       "      <td>0.06</td>\n",
       "      <td>1.28</td>\n",
       "      <td>82.0</td>\n",
       "      <td>4.3</td>\n",
       "      <td>E</td>\n",
       "      <td>2.46</td>\n",
       "    </tr>\n",
       "    <tr>\n",
       "      <th>87</th>\n",
       "      <td>Star Wars Battlefront (2015)</td>\n",
       "      <td>PS4</td>\n",
       "      <td>2015</td>\n",
       "      <td>Shooter</td>\n",
       "      <td>2.99</td>\n",
       "      <td>3.49</td>\n",
       "      <td>0.22</td>\n",
       "      <td>1.28</td>\n",
       "      <td>NaN</td>\n",
       "      <td>7.5</td>\n",
       "      <td>NaN</td>\n",
       "      <td>4.49</td>\n",
       "    </tr>\n",
       "    <tr>\n",
       "      <th>92</th>\n",
       "      <td>Call of Duty: Advanced Warfare</td>\n",
       "      <td>PS4</td>\n",
       "      <td>2014</td>\n",
       "      <td>Shooter</td>\n",
       "      <td>2.81</td>\n",
       "      <td>3.48</td>\n",
       "      <td>0.14</td>\n",
       "      <td>1.23</td>\n",
       "      <td>83.0</td>\n",
       "      <td>5.7</td>\n",
       "      <td>M</td>\n",
       "      <td>4.18</td>\n",
       "    </tr>\n",
       "    <tr>\n",
       "      <th>...</th>\n",
       "      <td>...</td>\n",
       "      <td>...</td>\n",
       "      <td>...</td>\n",
       "      <td>...</td>\n",
       "      <td>...</td>\n",
       "      <td>...</td>\n",
       "      <td>...</td>\n",
       "      <td>...</td>\n",
       "      <td>...</td>\n",
       "      <td>...</td>\n",
       "      <td>...</td>\n",
       "      <td>...</td>\n",
       "    </tr>\n",
       "    <tr>\n",
       "      <th>16428</th>\n",
       "      <td>The Longest 5 Minutes</td>\n",
       "      <td>PSV</td>\n",
       "      <td>2016</td>\n",
       "      <td>Action</td>\n",
       "      <td>0.00</td>\n",
       "      <td>0.00</td>\n",
       "      <td>0.01</td>\n",
       "      <td>0.00</td>\n",
       "      <td>NaN</td>\n",
       "      <td>7.5</td>\n",
       "      <td>NaN</td>\n",
       "      <td>0.01</td>\n",
       "    </tr>\n",
       "    <tr>\n",
       "      <th>16432</th>\n",
       "      <td>Strawberry Nauts</td>\n",
       "      <td>PSV</td>\n",
       "      <td>2016</td>\n",
       "      <td>Adventure</td>\n",
       "      <td>0.00</td>\n",
       "      <td>0.00</td>\n",
       "      <td>0.01</td>\n",
       "      <td>0.00</td>\n",
       "      <td>NaN</td>\n",
       "      <td>7.5</td>\n",
       "      <td>NaN</td>\n",
       "      <td>0.01</td>\n",
       "    </tr>\n",
       "    <tr>\n",
       "      <th>16436</th>\n",
       "      <td>Aiyoku no Eustia</td>\n",
       "      <td>PSV</td>\n",
       "      <td>2014</td>\n",
       "      <td>Misc</td>\n",
       "      <td>0.00</td>\n",
       "      <td>0.00</td>\n",
       "      <td>0.01</td>\n",
       "      <td>0.00</td>\n",
       "      <td>NaN</td>\n",
       "      <td>7.5</td>\n",
       "      <td>NaN</td>\n",
       "      <td>0.01</td>\n",
       "    </tr>\n",
       "    <tr>\n",
       "      <th>16441</th>\n",
       "      <td>Haitaka no Psychedelica</td>\n",
       "      <td>PSV</td>\n",
       "      <td>2016</td>\n",
       "      <td>Adventure</td>\n",
       "      <td>0.00</td>\n",
       "      <td>0.00</td>\n",
       "      <td>0.01</td>\n",
       "      <td>0.00</td>\n",
       "      <td>NaN</td>\n",
       "      <td>7.5</td>\n",
       "      <td>NaN</td>\n",
       "      <td>0.01</td>\n",
       "    </tr>\n",
       "    <tr>\n",
       "      <th>16443</th>\n",
       "      <td>Winning Post 8 2016</td>\n",
       "      <td>PSV</td>\n",
       "      <td>2016</td>\n",
       "      <td>Simulation</td>\n",
       "      <td>0.00</td>\n",
       "      <td>0.00</td>\n",
       "      <td>0.01</td>\n",
       "      <td>0.00</td>\n",
       "      <td>NaN</td>\n",
       "      <td>7.5</td>\n",
       "      <td>NaN</td>\n",
       "      <td>0.01</td>\n",
       "    </tr>\n",
       "  </tbody>\n",
       "</table>\n",
       "<p>1301 rows × 12 columns</p>\n",
       "</div>"
      ],
      "text/plain": [
       "                                 name platform  year_of_release       genre  \\\n",
       "31          Call of Duty: Black Ops 3      PS4             2015     Shooter   \n",
       "42                 Grand Theft Auto V      PS4             2014      Action   \n",
       "77                            FIFA 16      PS4             2015      Sports   \n",
       "87       Star Wars Battlefront (2015)      PS4             2015     Shooter   \n",
       "92     Call of Duty: Advanced Warfare      PS4             2014     Shooter   \n",
       "...                               ...      ...              ...         ...   \n",
       "16428           The Longest 5 Minutes      PSV             2016      Action   \n",
       "16432                Strawberry Nauts      PSV             2016   Adventure   \n",
       "16436                Aiyoku no Eustia      PSV             2014        Misc   \n",
       "16441         Haitaka no Psychedelica      PSV             2016   Adventure   \n",
       "16443             Winning Post 8 2016      PSV             2016  Simulation   \n",
       "\n",
       "       na_sales  eu_sales  jp_sales  other_sales  critic_score  user_score  \\\n",
       "31         6.03      5.86      0.36         2.38           NaN         7.5   \n",
       "42         3.96      6.31      0.38         1.97          97.0         8.3   \n",
       "77         1.12      6.12      0.06         1.28          82.0         4.3   \n",
       "87         2.99      3.49      0.22         1.28           NaN         7.5   \n",
       "92         2.81      3.48      0.14         1.23          83.0         5.7   \n",
       "...         ...       ...       ...          ...           ...         ...   \n",
       "16428      0.00      0.00      0.01         0.00           NaN         7.5   \n",
       "16432      0.00      0.00      0.01         0.00           NaN         7.5   \n",
       "16436      0.00      0.00      0.01         0.00           NaN         7.5   \n",
       "16441      0.00      0.00      0.01         0.00           NaN         7.5   \n",
       "16443      0.00      0.00      0.01         0.00           NaN         7.5   \n",
       "\n",
       "      rating  total_sales  \n",
       "31       NaN         8.77  \n",
       "42         M         6.31  \n",
       "77         E         2.46  \n",
       "87       NaN         4.49  \n",
       "92         M         4.18  \n",
       "...      ...          ...  \n",
       "16428    NaN         0.01  \n",
       "16432    NaN         0.01  \n",
       "16436    NaN         0.01  \n",
       "16441    NaN         0.01  \n",
       "16443    NaN         0.01  \n",
       "\n",
       "[1301 rows x 12 columns]"
      ]
     },
     "execution_count": 28,
     "metadata": {},
     "output_type": "execute_result"
    }
   ],
   "source": [
    "top_platform = ['PS4', 'XOne', 'PC', 'PSV', 'WiiU']\n",
    "top_platforms = actual_period.query('platform in @top_platform')\n",
    "#top_platforms = top_platforms.groupby('platform')['total_sales'].sum().sort_values(ascending=False)\n",
    "top_platforms"
   ]
  },
  {
   "cell_type": "markdown",
   "metadata": {},
   "source": [
    "Построим \"ящик с усами\" по продажам за актуальный период, а затем по каждой из отобранных пепрспективных платформ"
   ]
  },
  {
   "cell_type": "code",
   "execution_count": 29,
   "metadata": {},
   "outputs": [
    {
     "data": {
      "text/plain": [
       "count    2233.000000\n",
       "mean        0.312790\n",
       "std         0.783273\n",
       "min         0.000000\n",
       "25%         0.020000\n",
       "50%         0.080000\n",
       "75%         0.260000\n",
       "max        11.960000\n",
       "Name: total_sales, dtype: float64"
      ]
     },
     "execution_count": 29,
     "metadata": {},
     "output_type": "execute_result"
    },
    {
     "data": {
      "image/png": "[encoded data removed]",
      "text/plain": [
       "<Figure size 504x504 with 1 Axes>"
      ]
     },
     "metadata": {
      "needs_background": "light"
     },
     "output_type": "display_data"
    }
   ],
   "source": [
    "import matplotlib.pyplot as plt\n",
    "actual_period.boxplot('total_sales', figsize=(7,7))\n",
    "plt.ylim(0, 1.25)\n",
    "actual_period['total_sales'].describe()"
   ]
  },
  {
   "cell_type": "code",
   "execution_count": 30,
   "metadata": {},
   "outputs": [
    {
     "data": {
      "text/plain": [
       "(0.0, 1.25)"
      ]
     },
     "execution_count": 30,
     "metadata": {},
     "output_type": "execute_result"
    },
    {
     "data": {
      "image/png": "[encoded data removed]",
      "text/plain": [
       "<Figure size 648x648 with 1 Axes>"
      ]
     },
     "metadata": {
      "needs_background": "light"
     },
     "output_type": "display_data"
    }
   ],
   "source": [
    "#строим \"ящики с усами\" по 5 отобранным платформам\n",
    "top_platforms.boxplot('total_sales', 'platform', figsize=(9, 9))\n",
    "plt.ylim(0, 1.25)"
   ]
  },
  {
   "cell_type": "markdown",
   "metadata": {},
   "source": [
    "\"Ящики с усами\" подтверждают, что наиболее перспективными из пятерки являются PS4 и XOne\n",
    "Посмотрим также суммарные продажи на платформах по годам и в целом за изучаемый период"
   ]
  },
  {
   "cell_type": "code",
   "execution_count": 31,
   "metadata": {},
   "outputs": [
    {
     "data": {
      "text/html": [
       "<div>\n",
       "<style scoped>\n",
       "    .dataframe tbody tr th:only-of-type {\n",
       "        vertical-align: middle;\n",
       "    }\n",
       "\n",
       "    .dataframe tbody tr th {\n",
       "        vertical-align: top;\n",
       "    }\n",
       "\n",
       "    .dataframe thead th {\n",
       "        text-align: right;\n",
       "    }\n",
       "</style>\n",
       "<table border=\"1\" class=\"dataframe\">\n",
       "  <thead>\n",
       "    <tr style=\"text-align: right;\">\n",
       "      <th>year_of_release</th>\n",
       "      <th>2013</th>\n",
       "      <th>2014</th>\n",
       "      <th>2015</th>\n",
       "      <th>2016</th>\n",
       "      <th>all_years</th>\n",
       "    </tr>\n",
       "    <tr>\n",
       "      <th>platform</th>\n",
       "      <th></th>\n",
       "      <th></th>\n",
       "      <th></th>\n",
       "      <th></th>\n",
       "      <th></th>\n",
       "    </tr>\n",
       "  </thead>\n",
       "  <tbody>\n",
       "    <tr>\n",
       "      <th>PS4</th>\n",
       "      <td>14.94</td>\n",
       "      <td>53.50</td>\n",
       "      <td>67.14</td>\n",
       "      <td>37.47</td>\n",
       "      <td>173.05</td>\n",
       "    </tr>\n",
       "    <tr>\n",
       "      <th>XOne</th>\n",
       "      <td>13.62</td>\n",
       "      <td>35.92</td>\n",
       "      <td>41.67</td>\n",
       "      <td>16.52</td>\n",
       "      <td>107.73</td>\n",
       "    </tr>\n",
       "    <tr>\n",
       "      <th>WiiU</th>\n",
       "      <td>14.95</td>\n",
       "      <td>15.37</td>\n",
       "      <td>11.34</td>\n",
       "      <td>3.12</td>\n",
       "      <td>44.78</td>\n",
       "    </tr>\n",
       "    <tr>\n",
       "      <th>PSV</th>\n",
       "      <td>8.02</td>\n",
       "      <td>9.45</td>\n",
       "      <td>5.56</td>\n",
       "      <td>3.86</td>\n",
       "      <td>26.89</td>\n",
       "    </tr>\n",
       "    <tr>\n",
       "      <th>PC</th>\n",
       "      <td>4.99</td>\n",
       "      <td>4.41</td>\n",
       "      <td>2.95</td>\n",
       "      <td>1.72</td>\n",
       "      <td>14.07</td>\n",
       "    </tr>\n",
       "  </tbody>\n",
       "</table>\n",
       "</div>"
      ],
      "text/plain": [
       "year_of_release   2013   2014   2015   2016  all_years\n",
       "platform                                              \n",
       "PS4              14.94  53.50  67.14  37.47     173.05\n",
       "XOne             13.62  35.92  41.67  16.52     107.73\n",
       "WiiU             14.95  15.37  11.34   3.12      44.78\n",
       "PSV               8.02   9.45   5.56   3.86      26.89\n",
       "PC                4.99   4.41   2.95   1.72      14.07"
      ]
     },
     "execution_count": 31,
     "metadata": {},
     "output_type": "execute_result"
    }
   ],
   "source": [
    "top_platforms_years = top_platforms.pivot_table(index='platform', columns='year_of_release', values='total_sales', aggfunc='sum')\n",
    "top_platforms_years['all_years'] = top_platforms_years.sum(axis=1)\n",
    "top_platforms_years = top_platforms_years.sort_values(by = 'all_years', ascending=False)\n",
    "top_platforms_years"
   ]
  },
  {
   "cell_type": "markdown",
   "metadata": {},
   "source": [
    "Данные за 2016 год выглядят немного странно, слишком низкие цифры. Вероятно, это данные за неполный год. В разбивке продаж по годам снова видим, что самыми перспективными платформами являются PS4 и XOne, только у этих платформ продажи растут, у остальных платформ продажи только снижаются"
   ]
  },
  {
   "cell_type": "markdown",
   "metadata": {},
   "source": [
    "### Исследуем зависимость продаж от отзывов пользователей и критиков"
   ]
  },
  {
   "cell_type": "markdown",
   "metadata": {},
   "source": [
    "Нам предстоит проверить, каким образом отзывы (рейтинг) пользователей и критиков влияет на суммарные продажи игр на платформах.\n",
    "Пойдем по порядку от самх популярных к самым отстающим платформам"
   ]
  },
  {
   "cell_type": "code",
   "execution_count": 32,
   "metadata": {},
   "outputs": [
    {
     "data": {
      "text/html": [
       "<div>\n",
       "<style scoped>\n",
       "    .dataframe tbody tr th:only-of-type {\n",
       "        vertical-align: middle;\n",
       "    }\n",
       "\n",
       "    .dataframe tbody tr th {\n",
       "        vertical-align: top;\n",
       "    }\n",
       "\n",
       "    .dataframe thead th {\n",
       "        text-align: right;\n",
       "    }\n",
       "</style>\n",
       "<table border=\"1\" class=\"dataframe\">\n",
       "  <thead>\n",
       "    <tr style=\"text-align: right;\">\n",
       "      <th></th>\n",
       "      <th>critic_score</th>\n",
       "      <th>user_score</th>\n",
       "      <th>total_sales</th>\n",
       "    </tr>\n",
       "  </thead>\n",
       "  <tbody>\n",
       "    <tr>\n",
       "      <th>31</th>\n",
       "      <td>NaN</td>\n",
       "      <td>7.5</td>\n",
       "      <td>8.77</td>\n",
       "    </tr>\n",
       "    <tr>\n",
       "      <th>42</th>\n",
       "      <td>97.0</td>\n",
       "      <td>8.3</td>\n",
       "      <td>6.31</td>\n",
       "    </tr>\n",
       "    <tr>\n",
       "      <th>77</th>\n",
       "      <td>82.0</td>\n",
       "      <td>4.3</td>\n",
       "      <td>2.46</td>\n",
       "    </tr>\n",
       "    <tr>\n",
       "      <th>87</th>\n",
       "      <td>NaN</td>\n",
       "      <td>7.5</td>\n",
       "      <td>4.49</td>\n",
       "    </tr>\n",
       "    <tr>\n",
       "      <th>92</th>\n",
       "      <td>83.0</td>\n",
       "      <td>5.7</td>\n",
       "      <td>4.18</td>\n",
       "    </tr>\n",
       "    <tr>\n",
       "      <th>...</th>\n",
       "      <td>...</td>\n",
       "      <td>...</td>\n",
       "      <td>...</td>\n",
       "    </tr>\n",
       "    <tr>\n",
       "      <th>16230</th>\n",
       "      <td>69.0</td>\n",
       "      <td>7.5</td>\n",
       "      <td>0.01</td>\n",
       "    </tr>\n",
       "    <tr>\n",
       "      <th>16233</th>\n",
       "      <td>NaN</td>\n",
       "      <td>7.5</td>\n",
       "      <td>0.01</td>\n",
       "    </tr>\n",
       "    <tr>\n",
       "      <th>16255</th>\n",
       "      <td>61.0</td>\n",
       "      <td>7.9</td>\n",
       "      <td>0.01</td>\n",
       "    </tr>\n",
       "    <tr>\n",
       "      <th>16259</th>\n",
       "      <td>51.0</td>\n",
       "      <td>5.5</td>\n",
       "      <td>0.01</td>\n",
       "    </tr>\n",
       "    <tr>\n",
       "      <th>16314</th>\n",
       "      <td>NaN</td>\n",
       "      <td>7.5</td>\n",
       "      <td>0.00</td>\n",
       "    </tr>\n",
       "  </tbody>\n",
       "</table>\n",
       "<p>392 rows × 3 columns</p>\n",
       "</div>"
      ],
      "text/plain": [
       "       critic_score  user_score  total_sales\n",
       "31              NaN         7.5         8.77\n",
       "42             97.0         8.3         6.31\n",
       "77             82.0         4.3         2.46\n",
       "87              NaN         7.5         4.49\n",
       "92             83.0         5.7         4.18\n",
       "...             ...         ...          ...\n",
       "16230          69.0         7.5         0.01\n",
       "16233           NaN         7.5         0.01\n",
       "16255          61.0         7.9         0.01\n",
       "16259          51.0         5.5         0.01\n",
       "16314           NaN         7.5         0.00\n",
       "\n",
       "[392 rows x 3 columns]"
      ]
     },
     "execution_count": 32,
     "metadata": {},
     "output_type": "execute_result"
    }
   ],
   "source": [
    "ps4_sales = actual_period.query('platform == \"PS4\"')\n",
    "ps4_sales = ps4_sales[['critic_score', 'user_score', 'total_sales']]\n",
    "ps4_sales"
   ]
  },
  {
   "cell_type": "code",
   "execution_count": 33,
   "metadata": {},
   "outputs": [
    {
     "data": {
      "text/html": [
       "<div>\n",
       "<style scoped>\n",
       "    .dataframe tbody tr th:only-of-type {\n",
       "        vertical-align: middle;\n",
       "    }\n",
       "\n",
       "    .dataframe tbody tr th {\n",
       "        vertical-align: top;\n",
       "    }\n",
       "\n",
       "    .dataframe thead th {\n",
       "        text-align: right;\n",
       "    }\n",
       "</style>\n",
       "<table border=\"1\" class=\"dataframe\">\n",
       "  <thead>\n",
       "    <tr style=\"text-align: right;\">\n",
       "      <th></th>\n",
       "      <th>critic_score</th>\n",
       "      <th>user_score</th>\n",
       "      <th>total_sales</th>\n",
       "    </tr>\n",
       "  </thead>\n",
       "  <tbody>\n",
       "    <tr>\n",
       "      <th>critic_score</th>\n",
       "      <td>1.000000</td>\n",
       "      <td>0.554617</td>\n",
       "      <td>0.427149</td>\n",
       "    </tr>\n",
       "    <tr>\n",
       "      <th>user_score</th>\n",
       "      <td>0.554617</td>\n",
       "      <td>1.000000</td>\n",
       "      <td>-0.041965</td>\n",
       "    </tr>\n",
       "    <tr>\n",
       "      <th>total_sales</th>\n",
       "      <td>0.427149</td>\n",
       "      <td>-0.041965</td>\n",
       "      <td>1.000000</td>\n",
       "    </tr>\n",
       "  </tbody>\n",
       "</table>\n",
       "</div>"
      ],
      "text/plain": [
       "              critic_score  user_score  total_sales\n",
       "critic_score      1.000000    0.554617     0.427149\n",
       "user_score        0.554617    1.000000    -0.041965\n",
       "total_sales       0.427149   -0.041965     1.000000"
      ]
     },
     "execution_count": 33,
     "metadata": {},
     "output_type": "execute_result"
    }
   ],
   "source": [
    "ps4_sales.corr()"
   ]
  },
  {
   "cell_type": "markdown",
   "metadata": {},
   "source": [
    "Исходя из таблицы корреляции, трудно сказать, что есть влияение оценок критиков и игроков на продажи. Но любопытно, что есть небольшая прямая зависимость между пользовательскими оценками и оценками критиков. Кто-то у кого-то списывает)) Возможно, критики учитывают мнения игроков, а может пользователи хотят быть на одной волне с критиками.\n",
    "Посмотрим зависимости на графике рассеяния"
   ]
  },
  {
   "cell_type": "code",
   "execution_count": 34,
   "metadata": {},
   "outputs": [
    {
     "data": {
      "image/png": "[encoded data removed]",
      "text/plain": [
       "<Figure size 648x504 with 1 Axes>"
      ]
     },
     "metadata": {
      "needs_background": "light"
     },
     "output_type": "display_data"
    }
   ],
   "source": [
    "ps4_sales.plot(kind='scatter', x='critic_score', y='total_sales', grid=True, figsize=(9, 7))\n",
    "plt.title('Зависимость продаж от оценок критиков')\n",
    "plt.show()"
   ]
  },
  {
   "cell_type": "code",
   "execution_count": 35,
   "metadata": {},
   "outputs": [
    {
     "data": {
      "image/png": "[encoded data removed]",
      "text/plain": [
       "<Figure size 648x504 with 1 Axes>"
      ]
     },
     "metadata": {
      "needs_background": "light"
     },
     "output_type": "display_data"
    }
   ],
   "source": [
    "ps4_sales.plot(kind='scatter', x='user_score', y='total_sales', grid=True, figsize=(9, 7))\n",
    "plt.title('Зависимость продаж от оценок пользователей')\n",
    "plt.show()"
   ]
  },
  {
   "cell_type": "markdown",
   "metadata": {},
   "source": [
    "Графики подтверждают данные, полученные с таблицы корреляции - особой зависимости между оценками и продаж нет"
   ]
  },
  {
   "cell_type": "markdown",
   "metadata": {},
   "source": [
    "Изучим зависимость на других платформах"
   ]
  },
  {
   "cell_type": "code",
   "execution_count": 36,
   "metadata": {},
   "outputs": [
    {
     "data": {
      "text/html": [
       "<div>\n",
       "<style scoped>\n",
       "    .dataframe tbody tr th:only-of-type {\n",
       "        vertical-align: middle;\n",
       "    }\n",
       "\n",
       "    .dataframe tbody tr th {\n",
       "        vertical-align: top;\n",
       "    }\n",
       "\n",
       "    .dataframe thead th {\n",
       "        text-align: right;\n",
       "    }\n",
       "</style>\n",
       "<table border=\"1\" class=\"dataframe\">\n",
       "  <thead>\n",
       "    <tr style=\"text-align: right;\">\n",
       "      <th></th>\n",
       "      <th>critic_score</th>\n",
       "      <th>user_score</th>\n",
       "      <th>total_sales</th>\n",
       "    </tr>\n",
       "  </thead>\n",
       "  <tbody>\n",
       "    <tr>\n",
       "      <th>critic_score</th>\n",
       "      <td>1.000000</td>\n",
       "      <td>0.445451</td>\n",
       "      <td>0.392740</td>\n",
       "    </tr>\n",
       "    <tr>\n",
       "      <th>user_score</th>\n",
       "      <td>0.445451</td>\n",
       "      <td>1.000000</td>\n",
       "      <td>-0.104611</td>\n",
       "    </tr>\n",
       "    <tr>\n",
       "      <th>total_sales</th>\n",
       "      <td>0.392740</td>\n",
       "      <td>-0.104611</td>\n",
       "      <td>1.000000</td>\n",
       "    </tr>\n",
       "  </tbody>\n",
       "</table>\n",
       "</div>"
      ],
      "text/plain": [
       "              critic_score  user_score  total_sales\n",
       "critic_score      1.000000    0.445451     0.392740\n",
       "user_score        0.445451    1.000000    -0.104611\n",
       "total_sales       0.392740   -0.104611     1.000000"
      ]
     },
     "execution_count": 36,
     "metadata": {},
     "output_type": "execute_result"
    }
   ],
   "source": [
    "xone_sales = actual_period.query('platform == \"XOne\"')\n",
    "xone_sales = xone_sales[['critic_score', 'user_score', 'total_sales']]\n",
    "xone_sales.corr()"
   ]
  },
  {
   "cell_type": "markdown",
   "metadata": {},
   "source": [
    "На платформе XOne картина примерно такая же - зависимости практически нет. Оценки пользователей оказывают даже елезаметное отрицательное влияние."
   ]
  },
  {
   "cell_type": "code",
   "execution_count": 37,
   "metadata": {},
   "outputs": [
    {
     "data": {
      "text/html": [
       "<div>\n",
       "<style scoped>\n",
       "    .dataframe tbody tr th:only-of-type {\n",
       "        vertical-align: middle;\n",
       "    }\n",
       "\n",
       "    .dataframe tbody tr th {\n",
       "        vertical-align: top;\n",
       "    }\n",
       "\n",
       "    .dataframe thead th {\n",
       "        text-align: right;\n",
       "    }\n",
       "</style>\n",
       "<table border=\"1\" class=\"dataframe\">\n",
       "  <thead>\n",
       "    <tr style=\"text-align: right;\">\n",
       "      <th></th>\n",
       "      <th>critic_score</th>\n",
       "      <th>user_score</th>\n",
       "      <th>total_sales</th>\n",
       "    </tr>\n",
       "  </thead>\n",
       "  <tbody>\n",
       "    <tr>\n",
       "      <th>critic_score</th>\n",
       "      <td>1.000000</td>\n",
       "      <td>0.721551</td>\n",
       "      <td>0.365610</td>\n",
       "    </tr>\n",
       "    <tr>\n",
       "      <th>user_score</th>\n",
       "      <td>0.721551</td>\n",
       "      <td>1.000000</td>\n",
       "      <td>0.328173</td>\n",
       "    </tr>\n",
       "    <tr>\n",
       "      <th>total_sales</th>\n",
       "      <td>0.365610</td>\n",
       "      <td>0.328173</td>\n",
       "      <td>1.000000</td>\n",
       "    </tr>\n",
       "  </tbody>\n",
       "</table>\n",
       "</div>"
      ],
      "text/plain": [
       "              critic_score  user_score  total_sales\n",
       "critic_score      1.000000    0.721551     0.365610\n",
       "user_score        0.721551    1.000000     0.328173\n",
       "total_sales       0.365610    0.328173     1.000000"
      ]
     },
     "execution_count": 37,
     "metadata": {},
     "output_type": "execute_result"
    }
   ],
   "source": [
    "wiiu_sales = actual_period.query('platform == \"WiiU\"')\n",
    "wiiu_sales = wiiu_sales[['critic_score', 'user_score', 'total_sales']]\n",
    "wiiu_sales.corr()"
   ]
  },
  {
   "cell_type": "markdown",
   "metadata": {},
   "source": [
    "С WiiU картина примерно такая же, зависимость между продажами и оценками еле прослеживается, но зато здесь более высокая зависимость между оценками критков и оценками пользователей"
   ]
  },
  {
   "cell_type": "code",
   "execution_count": 38,
   "metadata": {},
   "outputs": [
    {
     "data": {
      "text/html": [
       "<div>\n",
       "<style scoped>\n",
       "    .dataframe tbody tr th:only-of-type {\n",
       "        vertical-align: middle;\n",
       "    }\n",
       "\n",
       "    .dataframe tbody tr th {\n",
       "        vertical-align: top;\n",
       "    }\n",
       "\n",
       "    .dataframe thead th {\n",
       "        text-align: right;\n",
       "    }\n",
       "</style>\n",
       "<table border=\"1\" class=\"dataframe\">\n",
       "  <thead>\n",
       "    <tr style=\"text-align: right;\">\n",
       "      <th></th>\n",
       "      <th>critic_score</th>\n",
       "      <th>user_score</th>\n",
       "      <th>total_sales</th>\n",
       "    </tr>\n",
       "  </thead>\n",
       "  <tbody>\n",
       "    <tr>\n",
       "      <th>critic_score</th>\n",
       "      <td>1.000000</td>\n",
       "      <td>0.611699</td>\n",
       "      <td>0.203696</td>\n",
       "    </tr>\n",
       "    <tr>\n",
       "      <th>user_score</th>\n",
       "      <td>0.611699</td>\n",
       "      <td>1.000000</td>\n",
       "      <td>0.084003</td>\n",
       "    </tr>\n",
       "    <tr>\n",
       "      <th>total_sales</th>\n",
       "      <td>0.203696</td>\n",
       "      <td>0.084003</td>\n",
       "      <td>1.000000</td>\n",
       "    </tr>\n",
       "  </tbody>\n",
       "</table>\n",
       "</div>"
      ],
      "text/plain": [
       "              critic_score  user_score  total_sales\n",
       "critic_score      1.000000    0.611699     0.203696\n",
       "user_score        0.611699    1.000000     0.084003\n",
       "total_sales       0.203696    0.084003     1.000000"
      ]
     },
     "execution_count": 38,
     "metadata": {},
     "output_type": "execute_result"
    }
   ],
   "source": [
    "psv_sales = actual_period.query('platform == \"PSV\"')\n",
    "psv_sales = psv_sales[['critic_score', 'user_score', 'total_sales']]\n",
    "psv_sales.corr()"
   ]
  },
  {
   "cell_type": "markdown",
   "metadata": {},
   "source": [
    "На PSV зависимость между оценками и продажами вообще минимальная, еще ниже, чем у других платформ "
   ]
  },
  {
   "cell_type": "code",
   "execution_count": 39,
   "metadata": {},
   "outputs": [
    {
     "data": {
      "text/html": [
       "<div>\n",
       "<style scoped>\n",
       "    .dataframe tbody tr th:only-of-type {\n",
       "        vertical-align: middle;\n",
       "    }\n",
       "\n",
       "    .dataframe tbody tr th {\n",
       "        vertical-align: top;\n",
       "    }\n",
       "\n",
       "    .dataframe thead th {\n",
       "        text-align: right;\n",
       "    }\n",
       "</style>\n",
       "<table border=\"1\" class=\"dataframe\">\n",
       "  <thead>\n",
       "    <tr style=\"text-align: right;\">\n",
       "      <th></th>\n",
       "      <th>critic_score</th>\n",
       "      <th>user_score</th>\n",
       "      <th>total_sales</th>\n",
       "    </tr>\n",
       "  </thead>\n",
       "  <tbody>\n",
       "    <tr>\n",
       "      <th>critic_score</th>\n",
       "      <td>1.000000</td>\n",
       "      <td>0.424698</td>\n",
       "      <td>0.187878</td>\n",
       "    </tr>\n",
       "    <tr>\n",
       "      <th>user_score</th>\n",
       "      <td>0.424698</td>\n",
       "      <td>1.000000</td>\n",
       "      <td>-0.096230</td>\n",
       "    </tr>\n",
       "    <tr>\n",
       "      <th>total_sales</th>\n",
       "      <td>0.187878</td>\n",
       "      <td>-0.096230</td>\n",
       "      <td>1.000000</td>\n",
       "    </tr>\n",
       "  </tbody>\n",
       "</table>\n",
       "</div>"
      ],
      "text/plain": [
       "              critic_score  user_score  total_sales\n",
       "critic_score      1.000000    0.424698     0.187878\n",
       "user_score        0.424698    1.000000    -0.096230\n",
       "total_sales       0.187878   -0.096230     1.000000"
      ]
     },
     "execution_count": 39,
     "metadata": {},
     "output_type": "execute_result"
    }
   ],
   "source": [
    "pc_sales = actual_period.query('platform == \"PC\"')\n",
    "pc_sales = pc_sales[['critic_score', 'user_score', 'total_sales']]\n",
    "pc_sales.corr()"
   ]
  },
  {
   "cell_type": "markdown",
   "metadata": {},
   "source": [
    "На PC тоже слабая отрицательная зависимость между оценками пользователей и продажами. В остальном картина та же, что и у других платформ"
   ]
  },
  {
   "cell_type": "markdown",
   "metadata": {},
   "source": [
    "###### Вывод"
   ]
  },
  {
   "cell_type": "markdown",
   "metadata": {},
   "source": [
    "По изучаемым платформам серьезной зависимости между оценками критиков и пользователей нет, корреляция в среднем на уровне 0,3. Слишком слабая, чтоб говорить о серьезной взаимосвязи "
   ]
  },
  {
   "cell_type": "markdown",
   "metadata": {},
   "source": [
    "### Изучаем популярность игр по жанрам"
   ]
  },
  {
   "cell_type": "code",
   "execution_count": 40,
   "metadata": {},
   "outputs": [
    {
     "data": {
      "text/html": [
       "<div>\n",
       "<style scoped>\n",
       "    .dataframe tbody tr th:only-of-type {\n",
       "        vertical-align: middle;\n",
       "    }\n",
       "\n",
       "    .dataframe tbody tr th {\n",
       "        vertical-align: top;\n",
       "    }\n",
       "\n",
       "    .dataframe thead th {\n",
       "        text-align: right;\n",
       "    }\n",
       "</style>\n",
       "<table border=\"1\" class=\"dataframe\">\n",
       "  <thead>\n",
       "    <tr style=\"text-align: right;\">\n",
       "      <th></th>\n",
       "      <th>total_sales</th>\n",
       "    </tr>\n",
       "    <tr>\n",
       "      <th>genre</th>\n",
       "      <th></th>\n",
       "    </tr>\n",
       "  </thead>\n",
       "  <tbody>\n",
       "    <tr>\n",
       "      <th>Action</th>\n",
       "      <td>203.74</td>\n",
       "    </tr>\n",
       "    <tr>\n",
       "      <th>Shooter</th>\n",
       "      <td>145.12</td>\n",
       "    </tr>\n",
       "    <tr>\n",
       "      <th>Role-Playing</th>\n",
       "      <td>108.92</td>\n",
       "    </tr>\n",
       "    <tr>\n",
       "      <th>Sports</th>\n",
       "      <td>90.13</td>\n",
       "    </tr>\n",
       "    <tr>\n",
       "      <th>Misc</th>\n",
       "      <td>42.78</td>\n",
       "    </tr>\n",
       "    <tr>\n",
       "      <th>Platform</th>\n",
       "      <td>27.05</td>\n",
       "    </tr>\n",
       "    <tr>\n",
       "      <th>Fighting</th>\n",
       "      <td>26.76</td>\n",
       "    </tr>\n",
       "    <tr>\n",
       "      <th>Racing</th>\n",
       "      <td>19.70</td>\n",
       "    </tr>\n",
       "    <tr>\n",
       "      <th>Adventure</th>\n",
       "      <td>15.39</td>\n",
       "    </tr>\n",
       "    <tr>\n",
       "      <th>Simulation</th>\n",
       "      <td>10.84</td>\n",
       "    </tr>\n",
       "    <tr>\n",
       "      <th>Strategy</th>\n",
       "      <td>5.86</td>\n",
       "    </tr>\n",
       "    <tr>\n",
       "      <th>Puzzle</th>\n",
       "      <td>2.17</td>\n",
       "    </tr>\n",
       "  </tbody>\n",
       "</table>\n",
       "</div>"
      ],
      "text/plain": [
       "              total_sales\n",
       "genre                    \n",
       "Action             203.74\n",
       "Shooter            145.12\n",
       "Role-Playing       108.92\n",
       "Sports              90.13\n",
       "Misc                42.78\n",
       "Platform            27.05\n",
       "Fighting            26.76\n",
       "Racing              19.70\n",
       "Adventure           15.39\n",
       "Simulation          10.84\n",
       "Strategy             5.86\n",
       "Puzzle               2.17"
      ]
     },
     "execution_count": 40,
     "metadata": {},
     "output_type": "execute_result"
    }
   ],
   "source": [
    "genres_sales = actual_period.pivot_table(index='genre', values='total_sales', aggfunc='sum').sort_values(by='total_sales', ascending=False) \n",
    "genres_sales"
   ]
  },
  {
   "cell_type": "code",
   "execution_count": 41,
   "metadata": {},
   "outputs": [
    {
     "data": {
      "text/html": [
       "<div>\n",
       "<style scoped>\n",
       "    .dataframe tbody tr th:only-of-type {\n",
       "        vertical-align: middle;\n",
       "    }\n",
       "\n",
       "    .dataframe tbody tr th {\n",
       "        vertical-align: top;\n",
       "    }\n",
       "\n",
       "    .dataframe thead th {\n",
       "        text-align: right;\n",
       "    }\n",
       "</style>\n",
       "<table border=\"1\" class=\"dataframe\">\n",
       "  <thead>\n",
       "    <tr style=\"text-align: right;\">\n",
       "      <th></th>\n",
       "      <th>name</th>\n",
       "    </tr>\n",
       "    <tr>\n",
       "      <th>genre</th>\n",
       "      <th></th>\n",
       "    </tr>\n",
       "  </thead>\n",
       "  <tbody>\n",
       "    <tr>\n",
       "      <th>Action</th>\n",
       "      <td>766</td>\n",
       "    </tr>\n",
       "    <tr>\n",
       "      <th>Role-Playing</th>\n",
       "      <td>292</td>\n",
       "    </tr>\n",
       "    <tr>\n",
       "      <th>Adventure</th>\n",
       "      <td>245</td>\n",
       "    </tr>\n",
       "    <tr>\n",
       "      <th>Sports</th>\n",
       "      <td>214</td>\n",
       "    </tr>\n",
       "    <tr>\n",
       "      <th>Shooter</th>\n",
       "      <td>187</td>\n",
       "    </tr>\n",
       "    <tr>\n",
       "      <th>Misc</th>\n",
       "      <td>155</td>\n",
       "    </tr>\n",
       "    <tr>\n",
       "      <th>Racing</th>\n",
       "      <td>85</td>\n",
       "    </tr>\n",
       "    <tr>\n",
       "      <th>Fighting</th>\n",
       "      <td>80</td>\n",
       "    </tr>\n",
       "    <tr>\n",
       "      <th>Platform</th>\n",
       "      <td>74</td>\n",
       "    </tr>\n",
       "    <tr>\n",
       "      <th>Simulation</th>\n",
       "      <td>62</td>\n",
       "    </tr>\n",
       "    <tr>\n",
       "      <th>Strategy</th>\n",
       "      <td>56</td>\n",
       "    </tr>\n",
       "    <tr>\n",
       "      <th>Puzzle</th>\n",
       "      <td>17</td>\n",
       "    </tr>\n",
       "  </tbody>\n",
       "</table>\n",
       "</div>"
      ],
      "text/plain": [
       "              name\n",
       "genre             \n",
       "Action         766\n",
       "Role-Playing   292\n",
       "Adventure      245\n",
       "Sports         214\n",
       "Shooter        187\n",
       "Misc           155\n",
       "Racing          85\n",
       "Fighting        80\n",
       "Platform        74\n",
       "Simulation      62\n",
       "Strategy        56\n",
       "Puzzle          17"
      ]
     },
     "execution_count": 41,
     "metadata": {},
     "output_type": "execute_result"
    }
   ],
   "source": [
    "genres_name = actual_period.pivot_table(index='genre', values='name', aggfunc='count').sort_values(by='name', ascending=False) \n",
    "genres_name"
   ]
  },
  {
   "cell_type": "code",
   "execution_count": 42,
   "metadata": {},
   "outputs": [
    {
     "data": {
      "text/html": [
       "<div>\n",
       "<style scoped>\n",
       "    .dataframe tbody tr th:only-of-type {\n",
       "        vertical-align: middle;\n",
       "    }\n",
       "\n",
       "    .dataframe tbody tr th {\n",
       "        vertical-align: top;\n",
       "    }\n",
       "\n",
       "    .dataframe thead th {\n",
       "        text-align: right;\n",
       "    }\n",
       "</style>\n",
       "<table border=\"1\" class=\"dataframe\">\n",
       "  <thead>\n",
       "    <tr style=\"text-align: right;\">\n",
       "      <th></th>\n",
       "      <th>total_sales</th>\n",
       "      <th>name</th>\n",
       "    </tr>\n",
       "    <tr>\n",
       "      <th>genre</th>\n",
       "      <th></th>\n",
       "      <th></th>\n",
       "    </tr>\n",
       "  </thead>\n",
       "  <tbody>\n",
       "    <tr>\n",
       "      <th>Action</th>\n",
       "      <td>203.74</td>\n",
       "      <td>766</td>\n",
       "    </tr>\n",
       "    <tr>\n",
       "      <th>Shooter</th>\n",
       "      <td>145.12</td>\n",
       "      <td>187</td>\n",
       "    </tr>\n",
       "    <tr>\n",
       "      <th>Role-Playing</th>\n",
       "      <td>108.92</td>\n",
       "      <td>292</td>\n",
       "    </tr>\n",
       "    <tr>\n",
       "      <th>Sports</th>\n",
       "      <td>90.13</td>\n",
       "      <td>214</td>\n",
       "    </tr>\n",
       "    <tr>\n",
       "      <th>Misc</th>\n",
       "      <td>42.78</td>\n",
       "      <td>155</td>\n",
       "    </tr>\n",
       "    <tr>\n",
       "      <th>Platform</th>\n",
       "      <td>27.05</td>\n",
       "      <td>74</td>\n",
       "    </tr>\n",
       "    <tr>\n",
       "      <th>Fighting</th>\n",
       "      <td>26.76</td>\n",
       "      <td>80</td>\n",
       "    </tr>\n",
       "    <tr>\n",
       "      <th>Racing</th>\n",
       "      <td>19.70</td>\n",
       "      <td>85</td>\n",
       "    </tr>\n",
       "    <tr>\n",
       "      <th>Adventure</th>\n",
       "      <td>15.39</td>\n",
       "      <td>245</td>\n",
       "    </tr>\n",
       "    <tr>\n",
       "      <th>Simulation</th>\n",
       "      <td>10.84</td>\n",
       "      <td>62</td>\n",
       "    </tr>\n",
       "    <tr>\n",
       "      <th>Strategy</th>\n",
       "      <td>5.86</td>\n",
       "      <td>56</td>\n",
       "    </tr>\n",
       "    <tr>\n",
       "      <th>Puzzle</th>\n",
       "      <td>2.17</td>\n",
       "      <td>17</td>\n",
       "    </tr>\n",
       "  </tbody>\n",
       "</table>\n",
       "</div>"
      ],
      "text/plain": [
       "              total_sales  name\n",
       "genre                          \n",
       "Action             203.74   766\n",
       "Shooter            145.12   187\n",
       "Role-Playing       108.92   292\n",
       "Sports              90.13   214\n",
       "Misc                42.78   155\n",
       "Platform            27.05    74\n",
       "Fighting            26.76    80\n",
       "Racing              19.70    85\n",
       "Adventure           15.39   245\n",
       "Simulation          10.84    62\n",
       "Strategy             5.86    56\n",
       "Puzzle               2.17    17"
      ]
     },
     "execution_count": 42,
     "metadata": {},
     "output_type": "execute_result"
    }
   ],
   "source": [
    "genres_sales['name'] = genres_name['name']\n",
    "genres_sales"
   ]
  },
  {
   "cell_type": "markdown",
   "metadata": {},
   "source": [
    "Мы вывели сводную таблицу с данными по жанрам. В ней отражены общие продажи и общее количество игр каждого жанра. \n",
    "По продажам у нас лидируют жанры Action, Shooter, Role-Playing и Sports.\n",
    "По количеству выпускаемых игр лидеры Action, Role-Playing, Adventure и Shooter.\n",
    "Жанр Adventure несмотря на достаточно большое количнство выпускаемых игр, приносит весьма посредственную прибыль, что может свиедетельствовать о низком спросе на этот жанр, они самые плохо продаваемые.\n",
    "В то же время,  жанр Shooter выпускается не в таком количестве наименований, но находится в тройке лидеров по прибыли. По соотношению прибыли к количеству игр можно посчитать, что шутеры - самые дорогие игры.\n"
   ]
  },
  {
   "cell_type": "markdown",
   "metadata": {},
   "source": [
    "Перепроверим полученные выводы, рассмотрев медианные и средние продажи по жанрам."
   ]
  },
  {
   "cell_type": "code",
   "execution_count": 64,
   "metadata": {},
   "outputs": [
    {
     "data": {
      "text/html": [
       "<div>\n",
       "<style scoped>\n",
       "    .dataframe tbody tr th:only-of-type {\n",
       "        vertical-align: middle;\n",
       "    }\n",
       "\n",
       "    .dataframe tbody tr th {\n",
       "        vertical-align: top;\n",
       "    }\n",
       "\n",
       "    .dataframe thead tr th {\n",
       "        text-align: left;\n",
       "    }\n",
       "\n",
       "    .dataframe thead tr:last-of-type th {\n",
       "        text-align: right;\n",
       "    }\n",
       "</style>\n",
       "<table border=\"1\" class=\"dataframe\">\n",
       "  <thead>\n",
       "    <tr>\n",
       "      <th></th>\n",
       "      <th>sum</th>\n",
       "      <th>mean</th>\n",
       "      <th>median</th>\n",
       "      <th>count</th>\n",
       "    </tr>\n",
       "    <tr>\n",
       "      <th></th>\n",
       "      <th>total_sales</th>\n",
       "      <th>total_sales</th>\n",
       "      <th>total_sales</th>\n",
       "      <th>total_sales</th>\n",
       "    </tr>\n",
       "    <tr>\n",
       "      <th>genre</th>\n",
       "      <th></th>\n",
       "      <th></th>\n",
       "      <th></th>\n",
       "      <th></th>\n",
       "    </tr>\n",
       "  </thead>\n",
       "  <tbody>\n",
       "    <tr>\n",
       "      <th>Shooter</th>\n",
       "      <td>145.12</td>\n",
       "      <td>0.776043</td>\n",
       "      <td>0.260</td>\n",
       "      <td>187</td>\n",
       "    </tr>\n",
       "    <tr>\n",
       "      <th>Sports</th>\n",
       "      <td>90.13</td>\n",
       "      <td>0.421168</td>\n",
       "      <td>0.165</td>\n",
       "      <td>214</td>\n",
       "    </tr>\n",
       "    <tr>\n",
       "      <th>Platform</th>\n",
       "      <td>27.05</td>\n",
       "      <td>0.365541</td>\n",
       "      <td>0.125</td>\n",
       "      <td>74</td>\n",
       "    </tr>\n",
       "    <tr>\n",
       "      <th>Fighting</th>\n",
       "      <td>26.76</td>\n",
       "      <td>0.334500</td>\n",
       "      <td>0.115</td>\n",
       "      <td>80</td>\n",
       "    </tr>\n",
       "    <tr>\n",
       "      <th>Role-Playing</th>\n",
       "      <td>108.92</td>\n",
       "      <td>0.373014</td>\n",
       "      <td>0.110</td>\n",
       "      <td>292</td>\n",
       "    </tr>\n",
       "    <tr>\n",
       "      <th>Misc</th>\n",
       "      <td>42.78</td>\n",
       "      <td>0.276000</td>\n",
       "      <td>0.090</td>\n",
       "      <td>155</td>\n",
       "    </tr>\n",
       "    <tr>\n",
       "      <th>Action</th>\n",
       "      <td>203.74</td>\n",
       "      <td>0.265979</td>\n",
       "      <td>0.080</td>\n",
       "      <td>766</td>\n",
       "    </tr>\n",
       "    <tr>\n",
       "      <th>Puzzle</th>\n",
       "      <td>2.17</td>\n",
       "      <td>0.127647</td>\n",
       "      <td>0.060</td>\n",
       "      <td>17</td>\n",
       "    </tr>\n",
       "    <tr>\n",
       "      <th>Strategy</th>\n",
       "      <td>5.86</td>\n",
       "      <td>0.104643</td>\n",
       "      <td>0.060</td>\n",
       "      <td>56</td>\n",
       "    </tr>\n",
       "    <tr>\n",
       "      <th>Racing</th>\n",
       "      <td>19.70</td>\n",
       "      <td>0.231765</td>\n",
       "      <td>0.050</td>\n",
       "      <td>85</td>\n",
       "    </tr>\n",
       "    <tr>\n",
       "      <th>Simulation</th>\n",
       "      <td>10.84</td>\n",
       "      <td>0.174839</td>\n",
       "      <td>0.030</td>\n",
       "      <td>62</td>\n",
       "    </tr>\n",
       "    <tr>\n",
       "      <th>Adventure</th>\n",
       "      <td>15.39</td>\n",
       "      <td>0.062816</td>\n",
       "      <td>0.020</td>\n",
       "      <td>245</td>\n",
       "    </tr>\n",
       "  </tbody>\n",
       "</table>\n",
       "</div>"
      ],
      "text/plain": [
       "                     sum        mean      median       count\n",
       "             total_sales total_sales total_sales total_sales\n",
       "genre                                                       \n",
       "Shooter           145.12    0.776043       0.260         187\n",
       "Sports             90.13    0.421168       0.165         214\n",
       "Platform           27.05    0.365541       0.125          74\n",
       "Fighting           26.76    0.334500       0.115          80\n",
       "Role-Playing      108.92    0.373014       0.110         292\n",
       "Misc               42.78    0.276000       0.090         155\n",
       "Action            203.74    0.265979       0.080         766\n",
       "Puzzle              2.17    0.127647       0.060          17\n",
       "Strategy            5.86    0.104643       0.060          56\n",
       "Racing             19.70    0.231765       0.050          85\n",
       "Simulation         10.84    0.174839       0.030          62\n",
       "Adventure          15.39    0.062816       0.020         245"
      ]
     },
     "execution_count": 64,
     "metadata": {},
     "output_type": "execute_result"
    }
   ],
   "source": [
    "genres_sales = actual_period.pivot_table(index='genre', values='total_sales', \\\n",
    "                                         aggfunc=['sum', 'mean', 'median', 'count'])\n",
    "genres_sales = genres_sales.sort_values(('median', 'total_sales'), ascending=False)\n",
    "genres_sales"
   ]
  },
  {
   "cell_type": "markdown",
   "metadata": {},
   "source": [
    "Несмотря на то, что по количеству продаж жанр Action на первом месте и выглядит самым прибыльным, по медианным продажам он не вошел даже в пятерку. Шутеры лидируют и по количеству продаж и по медианным продажам, это делает этот жанр однозначным лидером. Также по медианным продажам в пятерке у нас жанры Sports, Platform, Fighting и Role-Playing.\n",
    "\n",
    "По сравнению с выводами, основанными только лишь на общих продажах, картина существенно изменилась."
   ]
  },
  {
   "cell_type": "markdown",
   "metadata": {},
   "source": [
    "## Создаем портрет пользователя каждого региона"
   ]
  },
  {
   "cell_type": "markdown",
   "metadata": {},
   "source": [
    "### Топ-5 платформ"
   ]
  },
  {
   "cell_type": "code",
   "execution_count": 43,
   "metadata": {},
   "outputs": [
    {
     "data": {
      "text/html": [
       "<div>\n",
       "<style scoped>\n",
       "    .dataframe tbody tr th:only-of-type {\n",
       "        vertical-align: middle;\n",
       "    }\n",
       "\n",
       "    .dataframe tbody tr th {\n",
       "        vertical-align: top;\n",
       "    }\n",
       "\n",
       "    .dataframe thead th {\n",
       "        text-align: right;\n",
       "    }\n",
       "</style>\n",
       "<table border=\"1\" class=\"dataframe\">\n",
       "  <thead>\n",
       "    <tr style=\"text-align: right;\">\n",
       "      <th></th>\n",
       "      <th>na_sales</th>\n",
       "    </tr>\n",
       "    <tr>\n",
       "      <th>platform</th>\n",
       "      <th></th>\n",
       "    </tr>\n",
       "  </thead>\n",
       "  <tbody>\n",
       "    <tr>\n",
       "      <th>PS4</th>\n",
       "      <td>108.74</td>\n",
       "    </tr>\n",
       "    <tr>\n",
       "      <th>XOne</th>\n",
       "      <td>93.12</td>\n",
       "    </tr>\n",
       "    <tr>\n",
       "      <th>X360</th>\n",
       "      <td>81.66</td>\n",
       "    </tr>\n",
       "    <tr>\n",
       "      <th>PS3</th>\n",
       "      <td>63.50</td>\n",
       "    </tr>\n",
       "    <tr>\n",
       "      <th>3DS</th>\n",
       "      <td>38.20</td>\n",
       "    </tr>\n",
       "  </tbody>\n",
       "</table>\n",
       "</div>"
      ],
      "text/plain": [
       "          na_sales\n",
       "platform          \n",
       "PS4         108.74\n",
       "XOne         93.12\n",
       "X360         81.66\n",
       "PS3          63.50\n",
       "3DS          38.20"
      ]
     },
     "execution_count": 43,
     "metadata": {},
     "output_type": "execute_result"
    }
   ],
   "source": [
    "na_platforms = actual_period.pivot_table(index='platform', values='na_sales', aggfunc='sum').sort_values(by='na_sales', ascending=False)\n",
    "na_platforms.head()"
   ]
  },
  {
   "cell_type": "markdown",
   "metadata": {},
   "source": [
    "Вывели 5 самых популярных платформ в Северной Америке : PS4, Xone, X360, PS3, 3DS"
   ]
  },
  {
   "cell_type": "code",
   "execution_count": 44,
   "metadata": {},
   "outputs": [
    {
     "data": {
      "text/html": [
       "<div>\n",
       "<style scoped>\n",
       "    .dataframe tbody tr th:only-of-type {\n",
       "        vertical-align: middle;\n",
       "    }\n",
       "\n",
       "    .dataframe tbody tr th {\n",
       "        vertical-align: top;\n",
       "    }\n",
       "\n",
       "    .dataframe thead th {\n",
       "        text-align: right;\n",
       "    }\n",
       "</style>\n",
       "<table border=\"1\" class=\"dataframe\">\n",
       "  <thead>\n",
       "    <tr style=\"text-align: right;\">\n",
       "      <th></th>\n",
       "      <th>eu_sales</th>\n",
       "    </tr>\n",
       "    <tr>\n",
       "      <th>platform</th>\n",
       "      <th></th>\n",
       "    </tr>\n",
       "  </thead>\n",
       "  <tbody>\n",
       "    <tr>\n",
       "      <th>PS4</th>\n",
       "      <td>141.09</td>\n",
       "    </tr>\n",
       "    <tr>\n",
       "      <th>PS3</th>\n",
       "      <td>67.81</td>\n",
       "    </tr>\n",
       "    <tr>\n",
       "      <th>XOne</th>\n",
       "      <td>51.59</td>\n",
       "    </tr>\n",
       "    <tr>\n",
       "      <th>X360</th>\n",
       "      <td>42.52</td>\n",
       "    </tr>\n",
       "    <tr>\n",
       "      <th>3DS</th>\n",
       "      <td>30.96</td>\n",
       "    </tr>\n",
       "  </tbody>\n",
       "</table>\n",
       "</div>"
      ],
      "text/plain": [
       "          eu_sales\n",
       "platform          \n",
       "PS4         141.09\n",
       "PS3          67.81\n",
       "XOne         51.59\n",
       "X360         42.52\n",
       "3DS          30.96"
      ]
     },
     "execution_count": 44,
     "metadata": {},
     "output_type": "execute_result"
    }
   ],
   "source": [
    "eu_platforms = actual_period.pivot_table(index='platform', values='eu_sales', aggfunc='sum').sort_values(by='eu_sales', ascending=False)\n",
    "eu_platforms.head()"
   ]
  },
  {
   "cell_type": "markdown",
   "metadata": {},
   "source": [
    "Вывели 5 самых популярных платформ в Европе : PS4, PS3, Xone, X360, 3DS"
   ]
  },
  {
   "cell_type": "code",
   "execution_count": 45,
   "metadata": {},
   "outputs": [
    {
     "data": {
      "text/html": [
       "<div>\n",
       "<style scoped>\n",
       "    .dataframe tbody tr th:only-of-type {\n",
       "        vertical-align: middle;\n",
       "    }\n",
       "\n",
       "    .dataframe tbody tr th {\n",
       "        vertical-align: top;\n",
       "    }\n",
       "\n",
       "    .dataframe thead th {\n",
       "        text-align: right;\n",
       "    }\n",
       "</style>\n",
       "<table border=\"1\" class=\"dataframe\">\n",
       "  <thead>\n",
       "    <tr style=\"text-align: right;\">\n",
       "      <th></th>\n",
       "      <th>jp_sales</th>\n",
       "    </tr>\n",
       "    <tr>\n",
       "      <th>platform</th>\n",
       "      <th></th>\n",
       "    </tr>\n",
       "  </thead>\n",
       "  <tbody>\n",
       "    <tr>\n",
       "      <th>3DS</th>\n",
       "      <td>67.81</td>\n",
       "    </tr>\n",
       "    <tr>\n",
       "      <th>PS3</th>\n",
       "      <td>23.35</td>\n",
       "    </tr>\n",
       "    <tr>\n",
       "      <th>PSV</th>\n",
       "      <td>18.59</td>\n",
       "    </tr>\n",
       "    <tr>\n",
       "      <th>PS4</th>\n",
       "      <td>15.96</td>\n",
       "    </tr>\n",
       "    <tr>\n",
       "      <th>WiiU</th>\n",
       "      <td>10.88</td>\n",
       "    </tr>\n",
       "  </tbody>\n",
       "</table>\n",
       "</div>"
      ],
      "text/plain": [
       "          jp_sales\n",
       "platform          \n",
       "3DS          67.81\n",
       "PS3          23.35\n",
       "PSV          18.59\n",
       "PS4          15.96\n",
       "WiiU         10.88"
      ]
     },
     "execution_count": 45,
     "metadata": {},
     "output_type": "execute_result"
    }
   ],
   "source": [
    "jp_platforms = actual_period.pivot_table(index='platform', values='jp_sales', aggfunc='sum').sort_values(by='jp_sales', ascending=False)\n",
    "jp_platforms.head()"
   ]
  },
  {
   "cell_type": "markdown",
   "metadata": {},
   "source": [
    "Вывели 5 самых популярных платформ в Японии: 3DS, PS3, PSV, PS4, WiiU"
   ]
  },
  {
   "cell_type": "markdown",
   "metadata": {},
   "source": [
    "###### Вывод\n",
    "В Северной Америке и Европе предпочитают одни и те же платформы, однако, в Европе PS3 все еще популярна, в отличие от Америки, где на ней играет меньшинство.\n",
    "У японских пользователей картина совссем иная - лидирующую позицию занимает 3DS, аутсайдер среди пользователь Америки и Европы, PS3 также все еще очень популярен. Кроме того, в пятерку самых популярных вошли PSV и WiiU, которые вообще не вошли в топ Америки и Европы"
   ]
  },
  {
   "cell_type": "markdown",
   "metadata": {},
   "source": [
    "### Топ-5 жанров"
   ]
  },
  {
   "cell_type": "code",
   "execution_count": 46,
   "metadata": {},
   "outputs": [
    {
     "data": {
      "text/html": [
       "<div>\n",
       "<style scoped>\n",
       "    .dataframe tbody tr th:only-of-type {\n",
       "        vertical-align: middle;\n",
       "    }\n",
       "\n",
       "    .dataframe tbody tr th {\n",
       "        vertical-align: top;\n",
       "    }\n",
       "\n",
       "    .dataframe thead th {\n",
       "        text-align: right;\n",
       "    }\n",
       "</style>\n",
       "<table border=\"1\" class=\"dataframe\">\n",
       "  <thead>\n",
       "    <tr style=\"text-align: right;\">\n",
       "      <th></th>\n",
       "      <th>na_sales</th>\n",
       "    </tr>\n",
       "    <tr>\n",
       "      <th>genre</th>\n",
       "      <th></th>\n",
       "    </tr>\n",
       "  </thead>\n",
       "  <tbody>\n",
       "    <tr>\n",
       "      <th>Action</th>\n",
       "      <td>126.05</td>\n",
       "    </tr>\n",
       "    <tr>\n",
       "      <th>Shooter</th>\n",
       "      <td>109.74</td>\n",
       "    </tr>\n",
       "    <tr>\n",
       "      <th>Sports</th>\n",
       "      <td>65.27</td>\n",
       "    </tr>\n",
       "    <tr>\n",
       "      <th>Role-Playing</th>\n",
       "      <td>46.40</td>\n",
       "    </tr>\n",
       "    <tr>\n",
       "      <th>Misc</th>\n",
       "      <td>27.49</td>\n",
       "    </tr>\n",
       "  </tbody>\n",
       "</table>\n",
       "</div>"
      ],
      "text/plain": [
       "              na_sales\n",
       "genre                 \n",
       "Action          126.05\n",
       "Shooter         109.74\n",
       "Sports           65.27\n",
       "Role-Playing     46.40\n",
       "Misc             27.49"
      ]
     },
     "execution_count": 46,
     "metadata": {},
     "output_type": "execute_result"
    }
   ],
   "source": [
    "na_genres = actual_period.pivot_table(index='genre', values='na_sales', aggfunc='sum').sort_values(by='na_sales', ascending=False)\n",
    "na_genres.head()"
   ]
  },
  {
   "cell_type": "markdown",
   "metadata": {},
   "source": [
    "Вывели топ-5 жанров Северной Америки: Action, Shooter, Sports, Role-Playing, Misc (кажется, мы ранее не заметили ошибку в названии жанра, предполагаю, последний жанр - Music)"
   ]
  },
  {
   "cell_type": "code",
   "execution_count": 47,
   "metadata": {},
   "outputs": [
    {
     "data": {
      "text/html": [
       "<div>\n",
       "<style scoped>\n",
       "    .dataframe tbody tr th:only-of-type {\n",
       "        vertical-align: middle;\n",
       "    }\n",
       "\n",
       "    .dataframe tbody tr th {\n",
       "        vertical-align: top;\n",
       "    }\n",
       "\n",
       "    .dataframe thead th {\n",
       "        text-align: right;\n",
       "    }\n",
       "</style>\n",
       "<table border=\"1\" class=\"dataframe\">\n",
       "  <thead>\n",
       "    <tr style=\"text-align: right;\">\n",
       "      <th></th>\n",
       "      <th>eu_sales</th>\n",
       "    </tr>\n",
       "    <tr>\n",
       "      <th>genre</th>\n",
       "      <th></th>\n",
       "    </tr>\n",
       "  </thead>\n",
       "  <tbody>\n",
       "    <tr>\n",
       "      <th>Action</th>\n",
       "      <td>118.13</td>\n",
       "    </tr>\n",
       "    <tr>\n",
       "      <th>Shooter</th>\n",
       "      <td>87.86</td>\n",
       "    </tr>\n",
       "    <tr>\n",
       "      <th>Sports</th>\n",
       "      <td>60.52</td>\n",
       "    </tr>\n",
       "    <tr>\n",
       "      <th>Role-Playing</th>\n",
       "      <td>36.97</td>\n",
       "    </tr>\n",
       "    <tr>\n",
       "      <th>Racing</th>\n",
       "      <td>20.19</td>\n",
       "    </tr>\n",
       "  </tbody>\n",
       "</table>\n",
       "</div>"
      ],
      "text/plain": [
       "              eu_sales\n",
       "genre                 \n",
       "Action          118.13\n",
       "Shooter          87.86\n",
       "Sports           60.52\n",
       "Role-Playing     36.97\n",
       "Racing           20.19"
      ]
     },
     "execution_count": 47,
     "metadata": {},
     "output_type": "execute_result"
    }
   ],
   "source": [
    "eu_genres = actual_period.pivot_table(index='genre', values='eu_sales', aggfunc='sum').sort_values(by='eu_sales', ascending=False)\n",
    "eu_genres.head()"
   ]
  },
  {
   "cell_type": "markdown",
   "metadata": {},
   "source": [
    "Вывели топ-5 жанров Европы: Action, Shooter, Sports, Role-Playing, Racing"
   ]
  },
  {
   "cell_type": "code",
   "execution_count": 48,
   "metadata": {},
   "outputs": [
    {
     "data": {
      "text/html": [
       "<div>\n",
       "<style scoped>\n",
       "    .dataframe tbody tr th:only-of-type {\n",
       "        vertical-align: middle;\n",
       "    }\n",
       "\n",
       "    .dataframe tbody tr th {\n",
       "        vertical-align: top;\n",
       "    }\n",
       "\n",
       "    .dataframe thead th {\n",
       "        text-align: right;\n",
       "    }\n",
       "</style>\n",
       "<table border=\"1\" class=\"dataframe\">\n",
       "  <thead>\n",
       "    <tr style=\"text-align: right;\">\n",
       "      <th></th>\n",
       "      <th>jp_sales</th>\n",
       "    </tr>\n",
       "    <tr>\n",
       "      <th>genre</th>\n",
       "      <th></th>\n",
       "    </tr>\n",
       "  </thead>\n",
       "  <tbody>\n",
       "    <tr>\n",
       "      <th>Role-Playing</th>\n",
       "      <td>51.04</td>\n",
       "    </tr>\n",
       "    <tr>\n",
       "      <th>Action</th>\n",
       "      <td>40.49</td>\n",
       "    </tr>\n",
       "    <tr>\n",
       "      <th>Misc</th>\n",
       "      <td>9.20</td>\n",
       "    </tr>\n",
       "    <tr>\n",
       "      <th>Fighting</th>\n",
       "      <td>7.65</td>\n",
       "    </tr>\n",
       "    <tr>\n",
       "      <th>Shooter</th>\n",
       "      <td>6.61</td>\n",
       "    </tr>\n",
       "  </tbody>\n",
       "</table>\n",
       "</div>"
      ],
      "text/plain": [
       "              jp_sales\n",
       "genre                 \n",
       "Role-Playing     51.04\n",
       "Action           40.49\n",
       "Misc              9.20\n",
       "Fighting          7.65\n",
       "Shooter           6.61"
      ]
     },
     "execution_count": 48,
     "metadata": {},
     "output_type": "execute_result"
    }
   ],
   "source": [
    "jp_genres = actual_period.pivot_table(index='genre', values='jp_sales', aggfunc='sum').sort_values(by='jp_sales', ascending=False)\n",
    "jp_genres.head()"
   ]
  },
  {
   "cell_type": "markdown",
   "metadata": {},
   "source": [
    "Вывели топ-5 жанров Японии: Role-Playing, Action, Music, Fighting, Shooter"
   ]
  },
  {
   "cell_type": "markdown",
   "metadata": {},
   "source": [
    "###### Вывод\n",
    "Также, как и с платформами, пользователи Северной Америки и Европы в основном предпочитают одни и те же жанры. Единственная разница - на последнем месте в Америке музыка, а в Европе гонки. В остальном распределение популярных жанров идентично\n",
    "С Японией снова дела обстоят несколько иначе: самыц популярный жанр - ролевые, любимые на западе шутеры замыкают топ и появляеься жанр драк, который не входит в топы Европы и Америки. Японцы, как и американцы любят музыкальные игры."
   ]
  },
  {
   "cell_type": "markdown",
   "metadata": {},
   "source": [
    "### Влияние рейтинга ESRB на продажи"
   ]
  },
  {
   "cell_type": "code",
   "execution_count": 49,
   "metadata": {},
   "outputs": [
    {
     "data": {
      "text/plain": [
       "array(['M', nan, 'E', 'T', 'E10+'], dtype=object)"
      ]
     },
     "execution_count": 49,
     "metadata": {},
     "output_type": "execute_result"
    }
   ],
   "source": [
    "actual_period['rating'].unique()"
   ]
  },
  {
   "cell_type": "code",
   "execution_count": 50,
   "metadata": {},
   "outputs": [
    {
     "data": {
      "text/html": [
       "<div>\n",
       "<style scoped>\n",
       "    .dataframe tbody tr th:only-of-type {\n",
       "        vertical-align: middle;\n",
       "    }\n",
       "\n",
       "    .dataframe tbody tr th {\n",
       "        vertical-align: top;\n",
       "    }\n",
       "\n",
       "    .dataframe thead th {\n",
       "        text-align: right;\n",
       "    }\n",
       "</style>\n",
       "<table border=\"1\" class=\"dataframe\">\n",
       "  <thead>\n",
       "    <tr style=\"text-align: right;\">\n",
       "      <th></th>\n",
       "      <th>na_sales</th>\n",
       "    </tr>\n",
       "    <tr>\n",
       "      <th>rating</th>\n",
       "      <th></th>\n",
       "    </tr>\n",
       "  </thead>\n",
       "  <tbody>\n",
       "    <tr>\n",
       "      <th>M</th>\n",
       "      <td>165.21</td>\n",
       "    </tr>\n",
       "    <tr>\n",
       "      <th>E</th>\n",
       "      <td>79.05</td>\n",
       "    </tr>\n",
       "    <tr>\n",
       "      <th>E10+</th>\n",
       "      <td>54.24</td>\n",
       "    </tr>\n",
       "    <tr>\n",
       "      <th>T</th>\n",
       "      <td>49.79</td>\n",
       "    </tr>\n",
       "  </tbody>\n",
       "</table>\n",
       "</div>"
      ],
      "text/plain": [
       "        na_sales\n",
       "rating          \n",
       "M         165.21\n",
       "E          79.05\n",
       "E10+       54.24\n",
       "T          49.79"
      ]
     },
     "execution_count": 50,
     "metadata": {},
     "output_type": "execute_result"
    }
   ],
   "source": [
    "#Северная Америка\n",
    "na_esrb = actual_period.pivot_table(index='rating', values='na_sales', aggfunc='sum').sort_values(by='na_sales', ascending=False)\n",
    "na_esrb"
   ]
  },
  {
   "cell_type": "code",
   "execution_count": 51,
   "metadata": {},
   "outputs": [
    {
     "data": {
      "text/html": [
       "<div>\n",
       "<style scoped>\n",
       "    .dataframe tbody tr th:only-of-type {\n",
       "        vertical-align: middle;\n",
       "    }\n",
       "\n",
       "    .dataframe tbody tr th {\n",
       "        vertical-align: top;\n",
       "    }\n",
       "\n",
       "    .dataframe thead th {\n",
       "        text-align: right;\n",
       "    }\n",
       "</style>\n",
       "<table border=\"1\" class=\"dataframe\">\n",
       "  <thead>\n",
       "    <tr style=\"text-align: right;\">\n",
       "      <th></th>\n",
       "      <th>eu_sales</th>\n",
       "    </tr>\n",
       "    <tr>\n",
       "      <th>rating</th>\n",
       "      <th></th>\n",
       "    </tr>\n",
       "  </thead>\n",
       "  <tbody>\n",
       "    <tr>\n",
       "      <th>M</th>\n",
       "      <td>145.32</td>\n",
       "    </tr>\n",
       "    <tr>\n",
       "      <th>E</th>\n",
       "      <td>83.36</td>\n",
       "    </tr>\n",
       "    <tr>\n",
       "      <th>E10+</th>\n",
       "      <td>42.69</td>\n",
       "    </tr>\n",
       "    <tr>\n",
       "      <th>T</th>\n",
       "      <td>41.95</td>\n",
       "    </tr>\n",
       "  </tbody>\n",
       "</table>\n",
       "</div>"
      ],
      "text/plain": [
       "        eu_sales\n",
       "rating          \n",
       "M         145.32\n",
       "E          83.36\n",
       "E10+       42.69\n",
       "T          41.95"
      ]
     },
     "execution_count": 51,
     "metadata": {},
     "output_type": "execute_result"
    }
   ],
   "source": [
    "#Европа\n",
    "eu_esrb = actual_period.pivot_table(index='rating', values='eu_sales', aggfunc='sum').sort_values(by='eu_sales', ascending=False)\n",
    "eu_esrb"
   ]
  },
  {
   "cell_type": "code",
   "execution_count": 52,
   "metadata": {},
   "outputs": [
    {
     "data": {
      "text/html": [
       "<div>\n",
       "<style scoped>\n",
       "    .dataframe tbody tr th:only-of-type {\n",
       "        vertical-align: middle;\n",
       "    }\n",
       "\n",
       "    .dataframe tbody tr th {\n",
       "        vertical-align: top;\n",
       "    }\n",
       "\n",
       "    .dataframe thead th {\n",
       "        text-align: right;\n",
       "    }\n",
       "</style>\n",
       "<table border=\"1\" class=\"dataframe\">\n",
       "  <thead>\n",
       "    <tr style=\"text-align: right;\">\n",
       "      <th></th>\n",
       "      <th>jp_sales</th>\n",
       "    </tr>\n",
       "    <tr>\n",
       "      <th>rating</th>\n",
       "      <th></th>\n",
       "    </tr>\n",
       "  </thead>\n",
       "  <tbody>\n",
       "    <tr>\n",
       "      <th>T</th>\n",
       "      <td>20.59</td>\n",
       "    </tr>\n",
       "    <tr>\n",
       "      <th>E</th>\n",
       "      <td>15.14</td>\n",
       "    </tr>\n",
       "    <tr>\n",
       "      <th>M</th>\n",
       "      <td>14.11</td>\n",
       "    </tr>\n",
       "    <tr>\n",
       "      <th>E10+</th>\n",
       "      <td>5.89</td>\n",
       "    </tr>\n",
       "  </tbody>\n",
       "</table>\n",
       "</div>"
      ],
      "text/plain": [
       "        jp_sales\n",
       "rating          \n",
       "T          20.59\n",
       "E          15.14\n",
       "M          14.11\n",
       "E10+        5.89"
      ]
     },
     "execution_count": 52,
     "metadata": {},
     "output_type": "execute_result"
    }
   ],
   "source": [
    "#Япония\n",
    "jp_esrb = actual_period.pivot_table(index='rating', values='jp_sales', aggfunc='sum').sort_values(by='jp_sales', ascending=False)\n",
    "jp_esrb"
   ]
  },
  {
   "cell_type": "markdown",
   "metadata": {},
   "source": [
    "Для начала расшифруем значения рейтинга:\n",
    "\n",
    "М - для лиц старше 17\n",
    "\n",
    "Е - для всех возрастных категорий\n",
    "\n",
    "Е 10+ - для лиц старше 10\n",
    "\n",
    "Т - для лиц старше 13\n",
    "\n",
    "В Америке и Европе ситуация абсолютно идентичная. Самые популярные игры для лиц старше 17, наименее популярные - игры для лиц старше 13 лет. На втором месте во всех регионах игры без возрастных ограничений.\n",
    "В Японии самые популярные игры для лиц старше 13 лет.\n",
    "\n",
    "Такое распределение может свидетельствовать о том, что средний возраст геймеров в Америке и Европе выше, чем в Японии. "
   ]
  },
  {
   "cell_type": "markdown",
   "metadata": {},
   "source": [
    "## Проверка гипотез"
   ]
  },
  {
   "cell_type": "markdown",
   "metadata": {},
   "source": [
    "### Средние пользовательские рейтинги платформ Xbox One и PC одинаковые"
   ]
  },
  {
   "cell_type": "code",
   "execution_count": 53,
   "metadata": {},
   "outputs": [
    {
     "name": "stdout",
     "output_type": "stream",
     "text": [
      "Средний пользовательский рейтинг XOne: 6.778947368421053\n",
      "Средний пользовательский рейтинг PC: 6.49100529100529\n"
     ]
    }
   ],
   "source": [
    "#для начала высчитаем средние пользовательские рейтинги\n",
    "xone_mean = actual_period.query('platform == \"XOne\"')['user_score'].mean()\n",
    "pc_mean = actual_period.query('platform == \"PC\"')['user_score'].mean()\n",
    "print('Средний пользовательский рейтинг XOne:', xone_mean)\n",
    "print('Средний пользовательский рейтинг PC:', pc_mean)"
   ]
  },
  {
   "cell_type": "code",
   "execution_count": 54,
   "metadata": {},
   "outputs": [
    {
     "name": "stdout",
     "output_type": "stream",
     "text": [
      "Диспепрсия пользовательского рейтинга XOne: 1.5831195397400384\n",
      "Диспепрсия пользовательского рейтинга PC: 2.6970090423000475\n"
     ]
    }
   ],
   "source": [
    "#высчитаем дисперсии рейтингов\n",
    "import numpy as np\n",
    "xone = actual_period.query('platform == \"XOne\"')['user_score'].to_list()\n",
    "pc = actual_period.query('platform == \"PC\"')['user_score'].to_list()\n",
    "xone_var = np.var(xone)\n",
    "pc_var = np.var(pc)\n",
    "print('Диспепрсия пользовательского рейтинга XOne:', xone_var)\n",
    "print('Диспепрсия пользовательского рейтинга PC:', pc_var)"
   ]
  },
  {
   "cell_type": "markdown",
   "metadata": {},
   "source": [
    "Мы выдвигаем следующие гипотезы:\n",
    "\n",
    "Н0: Средние пользовательские рейтинги платформ Xbox One и PC одинаковы\n",
    "\n",
    "Н1: Средние пользовательские рейтинги платформ Xbox One и PC различны"
   ]
  },
  {
   "cell_type": "code",
   "execution_count": 55,
   "metadata": {},
   "outputs": [
    {
     "name": "stdout",
     "output_type": "stream",
     "text": [
      "p-значение: 0.04657158430650933\n",
      "Не получилось отвергнуть нулевую гипотезу\n"
     ]
    }
   ],
   "source": [
    "#дисперсии сильно отличаются, в тестах нужно добавить аргумент equal_var\n",
    "#используем st.ttest_ind, т.к. у нас расчет равенста среднего двух генеральных совокупностей по выборкам\n",
    "from scipy import stats as st\n",
    "alpha = 0.01\n",
    "results = st.ttest_ind(xone, pc, equal_var=False)\n",
    "print('p-значение:', results.pvalue)\n",
    "if results.pvalue < alpha:\n",
    "    print('Отвергаем нулевую гипотезу')\n",
    "else:\n",
    "    print('Не получилось отвергнуть нулевую гипотезу')"
   ]
  },
  {
   "cell_type": "markdown",
   "metadata": {},
   "source": [
    "Исходя из результатов теста, средние пользовательские рейтинги платформ Xbox One и PC одинаковы. Результаты теста подтверждаются средними значениями, выведенными нами в начале: 6,7 и 6,5.\n",
    "\n",
    "Пользовательские оценки этих двух платформ в основном равны"
   ]
  },
  {
   "cell_type": "markdown",
   "metadata": {},
   "source": [
    "### Средние пользовательские рейтинги жанров Action (англ. «действие», экшен-игры) и Sports (англ. «спортивные соревнования») разные."
   ]
  },
  {
   "cell_type": "code",
   "execution_count": 56,
   "metadata": {},
   "outputs": [
    {
     "name": "stdout",
     "output_type": "stream",
     "text": [
      "Средний пользовательский рейтинг Action: 7.163577023498694\n",
      "Средний пользовательский рейтинг Sports: 5.808878504672896\n"
     ]
    }
   ],
   "source": [
    "#для начала высчитаем средние пользовательские рейтинги\n",
    "action_mean = actual_period.query('genre == \"Action\"')['user_score'].mean()\n",
    "sports_mean = actual_period.query('genre == \"Sports\"')['user_score'].mean()\n",
    "print('Средний пользовательский рейтинг Action:', action_mean)\n",
    "print('Средний пользовательский рейтинг Sports:', sports_mean)"
   ]
  },
  {
   "cell_type": "code",
   "execution_count": 57,
   "metadata": {},
   "outputs": [
    {
     "name": "stdout",
     "output_type": "stream",
     "text": [
      "Диспепрсия пользовательского рейтинга Action: 1.0059187975921848\n",
      "Диспепрсия пользовательского рейтинга Sports: 3.3283791160800074\n"
     ]
    }
   ],
   "source": [
    "#высчитаем дисперсии рейтингов\n",
    "action = actual_period.query('genre == \"Action\"')['user_score'].to_list()\n",
    "sports = actual_period.query('genre == \"Sports\"')['user_score'].to_list()\n",
    "action_var = np.var(action)\n",
    "sports_var = np.var(sports)\n",
    "print('Диспепрсия пользовательского рейтинга Action:', action_var)\n",
    "print('Диспепрсия пользовательского рейтинга Sports:', sports_var)"
   ]
  },
  {
   "cell_type": "markdown",
   "metadata": {},
   "source": [
    "Мы выдвигаем следующие гипотезы:\n",
    "\n",
    "Н0: Средние пользовательские рейтинги жанров Action и Sports различны\n",
    "\n",
    "Н1: Средние пользовательские рейтинги жанров Action и Sports одинаковы\n"
   ]
  },
  {
   "cell_type": "code",
   "execution_count": 58,
   "metadata": {},
   "outputs": [
    {
     "name": "stdout",
     "output_type": "stream",
     "text": [
      "p-значение: 2.6150491502015005e-21\n",
      "Не получилось отвергнуть нулевую гипотезу\n"
     ]
    }
   ],
   "source": [
    "#дисперсии сильно отличаются, в тестах нужно добавить аргумент equal_var\n",
    "#используем st.ttest_ind, т.к. у нас расчет равенста среднего двух генеральных совокупностей по выборкам\n",
    "alpha = 0.01\n",
    "results = st.ttest_ind(action, sports, equal_var=False)\n",
    "print('p-значение:', results.pvalue)\n",
    "if results.pvalue > alpha:\n",
    "    print('Отвергаем нулевую гипотезу')\n",
    "else:\n",
    "    print('Не получилось отвергнуть нулевую гипотезу')"
   ]
  },
  {
   "cell_type": "markdown",
   "metadata": {},
   "source": [
    "Исходя из результатов теста, средние пользовательские рейтинги жанров Action и Sports различаются. Результаты теста подтверждаются средними значениями, выведенными нами в начале: 7,1 и 5,8.\n",
    "\n",
    "Пользовательские оценки этих двух жанров в основном различны"
   ]
  },
  {
   "cell_type": "markdown",
   "metadata": {},
   "source": [
    "## Общий вывод"
   ]
  },
  {
   "cell_type": "markdown",
   "metadata": {},
   "source": [
    "Проанализировав предложенный датасет приходим к следующим выводам:\n",
    "- акутальный период для прогнозов составляет последние 3-4 года, рынок меняется очень быстро;\n",
    "- срок \"жизни\" актуальной платформы около 10 лет;\n",
    "- оценки критиков и пользователей не слишком влияют на продажи игр, однако, они влияют друг на друга;\n",
    "- самые популярные жанры игр это Action, Shooter и Role-Playing. Причем жанр Shooter представлен меньшим количеством игр, но продажи у него на втором месте;\n",
    "- наибольшую прибыльность показывают следующие жанры: Shooter, Sports, Platform, Fighting и Role-Playing;\n",
    "- консоли имеют больше перспектив, чем ПК. Самые перспективные платформы: PS4, XOne;\n",
    "- пользователи в Америке и Европе не отличаются между собой по предпочтениям в играх, однако японские игроки сильно отличаются от западных. При планировании продаж необходимо учитывать регион и особенности предпочтейний его жителей;\n",
    "- средние пользовательстке рейтинги XOne и PC одинаковы;\n",
    "- средние пользовательстке рейтинги жанра  Action и Sports различны. Причем средние рейтинги жанра Action выше рейтингов жанра Sports.\n",
    "\n",
    "Что можно порекомендовать:\n",
    "- ставку нужно делать на игровые консоли, в основном на PS4, XOne;\n",
    "- жанр Action самый популярный вне зависимости от региона, Shooter тоже заслуживает внимания;\n",
    "- с точки зрения прибыльности стоит обратить внимание на жанры Shooter, Sports, Platform, Fighting и Role-Playing;\n",
    "- при разработке игр и планировании рекламных компаний необходимо изучать пользовательские предпочтения в том или ином регионе, так как они могут сильно отличаться в зависимости от части света, где планируются продажи.\n"
   ]
  }
 ],
 "metadata": {
  "ExecuteTimeLog": [
   {
    "duration": 504,
    "start_time": "2022-12-26T08:14:33.072Z"
   },
   {
    "duration": 40,
    "start_time": "2022-12-26T08:18:50.550Z"
   },
   {
    "duration": 44,
    "start_time": "2022-12-26T08:19:21.056Z"
   },
   {
    "duration": 107,
    "start_time": "2022-12-26T08:24:51.416Z"
   },
   {
    "duration": 17,
    "start_time": "2022-12-26T08:25:21.815Z"
   },
   {
    "duration": 25,
    "start_time": "2022-12-26T08:25:55.470Z"
   },
   {
    "duration": 15,
    "start_time": "2022-12-26T08:42:17.857Z"
   },
   {
    "duration": 16,
    "start_time": "2022-12-26T08:42:53.693Z"
   },
   {
    "duration": 14,
    "start_time": "2022-12-26T08:45:26.314Z"
   },
   {
    "duration": 9,
    "start_time": "2022-12-26T08:46:09.821Z"
   },
   {
    "duration": 8,
    "start_time": "2022-12-26T08:51:49.049Z"
   },
   {
    "duration": 11,
    "start_time": "2022-12-26T08:53:00.831Z"
   },
   {
    "duration": 19,
    "start_time": "2022-12-26T08:53:21.151Z"
   },
   {
    "duration": 18,
    "start_time": "2022-12-26T09:06:52.261Z"
   },
   {
    "duration": 18,
    "start_time": "2022-12-26T09:07:39.621Z"
   },
   {
    "duration": 20,
    "start_time": "2022-12-26T09:08:12.826Z"
   },
   {
    "duration": 21,
    "start_time": "2022-12-26T09:08:23.296Z"
   },
   {
    "duration": 6,
    "start_time": "2022-12-26T09:11:49.769Z"
   },
   {
    "duration": 15,
    "start_time": "2022-12-26T09:12:03.838Z"
   },
   {
    "duration": 16,
    "start_time": "2022-12-26T09:13:29.354Z"
   },
   {
    "duration": 12,
    "start_time": "2022-12-26T09:17:26.477Z"
   },
   {
    "duration": 7,
    "start_time": "2022-12-26T09:27:58.634Z"
   },
   {
    "duration": 24,
    "start_time": "2022-12-26T09:47:38.992Z"
   },
   {
    "duration": 22,
    "start_time": "2022-12-26T09:47:53.970Z"
   },
   {
    "duration": 7,
    "start_time": "2022-12-26T10:00:16.530Z"
   },
   {
    "duration": 5,
    "start_time": "2022-12-26T10:13:18.515Z"
   },
   {
    "duration": 13,
    "start_time": "2022-12-26T10:15:22.457Z"
   },
   {
    "duration": 18,
    "start_time": "2022-12-26T10:20:48.206Z"
   },
   {
    "duration": 15,
    "start_time": "2022-12-26T10:25:18.811Z"
   },
   {
    "duration": 598,
    "start_time": "2022-12-28T07:51:49.258Z"
   },
   {
    "duration": 14,
    "start_time": "2022-12-28T07:51:49.858Z"
   },
   {
    "duration": 39,
    "start_time": "2022-12-28T07:51:49.873Z"
   },
   {
    "duration": 16,
    "start_time": "2022-12-28T07:51:49.914Z"
   },
   {
    "duration": 12,
    "start_time": "2022-12-28T07:51:49.933Z"
   },
   {
    "duration": 51,
    "start_time": "2022-12-28T07:51:49.947Z"
   },
   {
    "duration": 28,
    "start_time": "2022-12-28T07:51:49.999Z"
   },
   {
    "duration": 15,
    "start_time": "2022-12-28T07:51:50.028Z"
   },
   {
    "duration": 15,
    "start_time": "2022-12-28T07:51:50.044Z"
   },
   {
    "duration": 50,
    "start_time": "2022-12-28T07:51:50.061Z"
   },
   {
    "duration": 71,
    "start_time": "2022-12-28T07:51:55.385Z"
   },
   {
    "duration": 11,
    "start_time": "2022-12-28T07:52:11.003Z"
   },
   {
    "duration": 18,
    "start_time": "2022-12-28T07:58:22.948Z"
   },
   {
    "duration": 12,
    "start_time": "2022-12-28T07:59:12.644Z"
   },
   {
    "duration": 14,
    "start_time": "2022-12-28T08:00:02.256Z"
   },
   {
    "duration": 14,
    "start_time": "2022-12-28T08:00:23.020Z"
   },
   {
    "duration": 14,
    "start_time": "2022-12-28T08:00:38.050Z"
   },
   {
    "duration": 18,
    "start_time": "2022-12-28T08:09:16.536Z"
   },
   {
    "duration": 12,
    "start_time": "2022-12-28T08:11:33.143Z"
   },
   {
    "duration": 21,
    "start_time": "2022-12-28T08:22:33.769Z"
   },
   {
    "duration": 516,
    "start_time": "2022-12-28T08:26:18.761Z"
   },
   {
    "duration": 162,
    "start_time": "2022-12-28T08:27:13.203Z"
   },
   {
    "duration": 14,
    "start_time": "2022-12-28T08:28:20.323Z"
   },
   {
    "duration": 10,
    "start_time": "2022-12-28T08:29:16.526Z"
   },
   {
    "duration": 4,
    "start_time": "2022-12-28T08:32:47.246Z"
   },
   {
    "duration": 8,
    "start_time": "2022-12-28T08:35:57.701Z"
   },
   {
    "duration": 8,
    "start_time": "2022-12-28T08:37:28.354Z"
   },
   {
    "duration": 23,
    "start_time": "2022-12-28T08:39:53.845Z"
   },
   {
    "duration": 339,
    "start_time": "2022-12-28T08:41:46.000Z"
   },
   {
    "duration": 367,
    "start_time": "2022-12-28T08:42:21.817Z"
   },
   {
    "duration": 291,
    "start_time": "2022-12-28T08:42:48.149Z"
   },
   {
    "duration": 292,
    "start_time": "2022-12-28T08:43:03.097Z"
   },
   {
    "duration": 293,
    "start_time": "2022-12-28T08:49:07.465Z"
   },
   {
    "duration": 304,
    "start_time": "2022-12-28T08:49:25.356Z"
   },
   {
    "duration": 365,
    "start_time": "2022-12-28T08:50:02.547Z"
   },
   {
    "duration": 56,
    "start_time": "2022-12-28T08:50:15.154Z"
   },
   {
    "duration": 297,
    "start_time": "2022-12-28T08:51:50.150Z"
   },
   {
    "duration": 402,
    "start_time": "2022-12-28T08:54:35.636Z"
   },
   {
    "duration": 348,
    "start_time": "2022-12-28T08:55:02.538Z"
   },
   {
    "duration": 272,
    "start_time": "2022-12-28T08:55:46.703Z"
   },
   {
    "duration": 301,
    "start_time": "2022-12-28T08:55:58.926Z"
   },
   {
    "duration": 287,
    "start_time": "2022-12-28T08:56:59.804Z"
   },
   {
    "duration": 269,
    "start_time": "2022-12-28T08:57:44.439Z"
   },
   {
    "duration": 308,
    "start_time": "2022-12-28T08:58:00.106Z"
   },
   {
    "duration": 11,
    "start_time": "2022-12-28T09:09:28.391Z"
   },
   {
    "duration": 30,
    "start_time": "2022-12-28T09:09:45.367Z"
   },
   {
    "duration": 27,
    "start_time": "2022-12-28T09:12:26.267Z"
   },
   {
    "duration": 23,
    "start_time": "2022-12-28T09:23:18.339Z"
   },
   {
    "duration": 99,
    "start_time": "2022-12-28T09:25:06.599Z"
   },
   {
    "duration": 23,
    "start_time": "2022-12-28T09:25:55.616Z"
   },
   {
    "duration": 149,
    "start_time": "2022-12-28T09:26:58.414Z"
   },
   {
    "duration": 8,
    "start_time": "2022-12-28T09:31:38.161Z"
   },
   {
    "duration": 24,
    "start_time": "2022-12-28T09:31:50.026Z"
   },
   {
    "duration": 286,
    "start_time": "2022-12-28T09:31:56.503Z"
   },
   {
    "duration": 312,
    "start_time": "2022-12-28T09:32:24.677Z"
   },
   {
    "duration": 409,
    "start_time": "2022-12-28T09:38:25.868Z"
   },
   {
    "duration": 13,
    "start_time": "2022-12-28T09:57:16.639Z"
   },
   {
    "duration": 14,
    "start_time": "2022-12-28T09:57:32.145Z"
   },
   {
    "duration": 10,
    "start_time": "2022-12-28T09:57:52.121Z"
   },
   {
    "duration": 9,
    "start_time": "2022-12-28T10:01:58.355Z"
   },
   {
    "duration": 110,
    "start_time": "2022-12-28T10:02:26.324Z"
   },
   {
    "duration": 150,
    "start_time": "2022-12-28T10:02:45.899Z"
   },
   {
    "duration": 118,
    "start_time": "2022-12-28T10:03:07.732Z"
   },
   {
    "duration": 237,
    "start_time": "2022-12-28T10:03:33.379Z"
   },
   {
    "duration": 120,
    "start_time": "2022-12-28T10:04:12.205Z"
   },
   {
    "duration": 121,
    "start_time": "2022-12-28T10:05:00.452Z"
   },
   {
    "duration": 514,
    "start_time": "2022-12-29T09:11:31.061Z"
   },
   {
    "duration": 14,
    "start_time": "2022-12-29T09:11:31.577Z"
   },
   {
    "duration": 32,
    "start_time": "2022-12-29T09:11:31.592Z"
   },
   {
    "duration": 16,
    "start_time": "2022-12-29T09:11:31.626Z"
   },
   {
    "duration": 27,
    "start_time": "2022-12-29T09:11:31.644Z"
   },
   {
    "duration": 37,
    "start_time": "2022-12-29T09:11:31.673Z"
   },
   {
    "duration": 33,
    "start_time": "2022-12-29T09:11:31.711Z"
   },
   {
    "duration": 15,
    "start_time": "2022-12-29T09:11:31.745Z"
   },
   {
    "duration": 14,
    "start_time": "2022-12-29T09:11:31.761Z"
   },
   {
    "duration": 16,
    "start_time": "2022-12-29T09:11:31.798Z"
   },
   {
    "duration": 16,
    "start_time": "2022-12-29T09:11:31.816Z"
   },
   {
    "duration": 12,
    "start_time": "2022-12-29T09:11:31.834Z"
   },
   {
    "duration": 27,
    "start_time": "2022-12-29T09:11:31.847Z"
   },
   {
    "duration": 697,
    "start_time": "2022-12-29T09:11:31.876Z"
   },
   {
    "duration": 320,
    "start_time": "2022-12-29T09:11:32.574Z"
   },
   {
    "duration": 30,
    "start_time": "2022-12-29T09:11:32.896Z"
   },
   {
    "duration": 23,
    "start_time": "2022-12-29T09:11:32.928Z"
   },
   {
    "duration": 347,
    "start_time": "2022-12-29T09:11:32.953Z"
   },
   {
    "duration": 11,
    "start_time": "2022-12-29T09:11:33.302Z"
   },
   {
    "duration": 192,
    "start_time": "2022-12-29T09:11:33.315Z"
   },
   {
    "duration": 694,
    "start_time": "2022-12-29T09:11:38.009Z"
   },
   {
    "duration": 12,
    "start_time": "2022-12-29T09:15:35.176Z"
   },
   {
    "duration": 113,
    "start_time": "2022-12-29T09:15:48.745Z"
   },
   {
    "duration": 144,
    "start_time": "2022-12-29T09:15:56.927Z"
   },
   {
    "duration": 12,
    "start_time": "2022-12-29T09:18:51.458Z"
   },
   {
    "duration": 10,
    "start_time": "2022-12-29T09:19:20.675Z"
   },
   {
    "duration": 26,
    "start_time": "2022-12-29T09:20:03.857Z"
   },
   {
    "duration": 203,
    "start_time": "2022-12-29T09:20:16.867Z"
   },
   {
    "duration": 132,
    "start_time": "2022-12-29T09:21:16.746Z"
   },
   {
    "duration": 105,
    "start_time": "2022-12-29T09:27:39.949Z"
   },
   {
    "duration": 62,
    "start_time": "2022-12-29T09:27:56.974Z"
   },
   {
    "duration": 162,
    "start_time": "2022-12-29T09:28:05.371Z"
   },
   {
    "duration": 201,
    "start_time": "2022-12-29T09:28:30.407Z"
   },
   {
    "duration": 231,
    "start_time": "2022-12-29T09:28:45.176Z"
   },
   {
    "duration": 235,
    "start_time": "2022-12-29T09:29:10.327Z"
   },
   {
    "duration": 195,
    "start_time": "2022-12-29T09:29:25.349Z"
   },
   {
    "duration": 184,
    "start_time": "2022-12-29T09:29:36.902Z"
   },
   {
    "duration": 1067,
    "start_time": "2022-12-29T09:30:33.504Z"
   },
   {
    "duration": 840,
    "start_time": "2022-12-29T09:30:42.468Z"
   },
   {
    "duration": 277,
    "start_time": "2022-12-29T09:31:11.344Z"
   },
   {
    "duration": 181,
    "start_time": "2022-12-29T09:31:19.519Z"
   },
   {
    "duration": 20,
    "start_time": "2022-12-29T09:39:06.871Z"
   },
   {
    "duration": 15,
    "start_time": "2022-12-29T09:40:06.231Z"
   },
   {
    "duration": 11,
    "start_time": "2022-12-29T09:40:22.540Z"
   },
   {
    "duration": 11,
    "start_time": "2022-12-29T09:42:28.869Z"
   },
   {
    "duration": 10,
    "start_time": "2022-12-29T09:42:43.877Z"
   },
   {
    "duration": 10,
    "start_time": "2022-12-29T09:45:18.468Z"
   },
   {
    "duration": 49,
    "start_time": "2022-12-29T09:46:05.739Z"
   },
   {
    "duration": 445,
    "start_time": "2022-12-29T09:46:14.639Z"
   },
   {
    "duration": 14,
    "start_time": "2022-12-29T09:46:15.086Z"
   },
   {
    "duration": 32,
    "start_time": "2022-12-29T09:46:15.102Z"
   },
   {
    "duration": 16,
    "start_time": "2022-12-29T09:46:15.136Z"
   },
   {
    "duration": 12,
    "start_time": "2022-12-29T09:46:15.154Z"
   },
   {
    "duration": 53,
    "start_time": "2022-12-29T09:46:15.168Z"
   },
   {
    "duration": 27,
    "start_time": "2022-12-29T09:46:15.222Z"
   },
   {
    "duration": 14,
    "start_time": "2022-12-29T09:46:15.251Z"
   },
   {
    "duration": 40,
    "start_time": "2022-12-29T09:46:15.266Z"
   },
   {
    "duration": 16,
    "start_time": "2022-12-29T09:46:15.309Z"
   },
   {
    "duration": 19,
    "start_time": "2022-12-29T09:46:15.326Z"
   },
   {
    "duration": 10,
    "start_time": "2022-12-29T09:46:15.347Z"
   },
   {
    "duration": 37,
    "start_time": "2022-12-29T09:46:15.359Z"
   },
   {
    "duration": 537,
    "start_time": "2022-12-29T09:46:15.398Z"
   },
   {
    "duration": 393,
    "start_time": "2022-12-29T09:46:15.937Z"
   },
   {
    "duration": 30,
    "start_time": "2022-12-29T09:46:16.332Z"
   },
   {
    "duration": 24,
    "start_time": "2022-12-29T09:46:16.364Z"
   },
   {
    "duration": 330,
    "start_time": "2022-12-29T09:46:16.389Z"
   },
   {
    "duration": 25,
    "start_time": "2022-12-29T09:46:16.721Z"
   },
   {
    "duration": 139,
    "start_time": "2022-12-29T09:46:16.748Z"
   },
   {
    "duration": 251,
    "start_time": "2022-12-29T09:46:16.896Z"
   },
   {
    "duration": 47,
    "start_time": "2022-12-29T09:46:21.140Z"
   },
   {
    "duration": 18,
    "start_time": "2022-12-29T09:46:37.745Z"
   },
   {
    "duration": 20,
    "start_time": "2022-12-29T09:46:52.539Z"
   },
   {
    "duration": 12,
    "start_time": "2022-12-29T09:47:11.920Z"
   },
   {
    "duration": 9,
    "start_time": "2022-12-29T09:47:31.861Z"
   },
   {
    "duration": 490,
    "start_time": "2022-12-29T09:47:59.391Z"
   },
   {
    "duration": 14,
    "start_time": "2022-12-29T09:47:59.883Z"
   },
   {
    "duration": 30,
    "start_time": "2022-12-29T09:47:59.899Z"
   },
   {
    "duration": 16,
    "start_time": "2022-12-29T09:47:59.931Z"
   },
   {
    "duration": 9,
    "start_time": "2022-12-29T09:47:59.949Z"
   },
   {
    "duration": 49,
    "start_time": "2022-12-29T09:47:59.960Z"
   },
   {
    "duration": 31,
    "start_time": "2022-12-29T09:48:00.011Z"
   },
   {
    "duration": 15,
    "start_time": "2022-12-29T09:48:00.043Z"
   },
   {
    "duration": 39,
    "start_time": "2022-12-29T09:48:00.060Z"
   },
   {
    "duration": 17,
    "start_time": "2022-12-29T09:48:00.102Z"
   },
   {
    "duration": 30,
    "start_time": "2022-12-29T09:48:00.121Z"
   },
   {
    "duration": 30,
    "start_time": "2022-12-29T09:48:00.153Z"
   },
   {
    "duration": 42,
    "start_time": "2022-12-29T09:48:00.185Z"
   },
   {
    "duration": 583,
    "start_time": "2022-12-29T09:48:00.229Z"
   },
   {
    "duration": 340,
    "start_time": "2022-12-29T09:48:00.814Z"
   },
   {
    "duration": 30,
    "start_time": "2022-12-29T09:48:01.156Z"
   },
   {
    "duration": 43,
    "start_time": "2022-12-29T09:48:01.188Z"
   },
   {
    "duration": 331,
    "start_time": "2022-12-29T09:48:01.233Z"
   },
   {
    "duration": 39,
    "start_time": "2022-12-29T09:48:01.566Z"
   },
   {
    "duration": 158,
    "start_time": "2022-12-29T09:48:01.607Z"
   },
   {
    "duration": 257,
    "start_time": "2022-12-29T09:48:01.767Z"
   },
   {
    "duration": 19,
    "start_time": "2022-12-29T09:48:02.025Z"
   },
   {
    "duration": 85,
    "start_time": "2022-12-29T09:49:48.642Z"
   },
   {
    "duration": 458,
    "start_time": "2022-12-29T09:50:00.535Z"
   },
   {
    "duration": 15,
    "start_time": "2022-12-29T09:50:00.994Z"
   },
   {
    "duration": 45,
    "start_time": "2022-12-29T09:50:01.011Z"
   },
   {
    "duration": 15,
    "start_time": "2022-12-29T09:50:01.058Z"
   },
   {
    "duration": 22,
    "start_time": "2022-12-29T09:50:01.074Z"
   },
   {
    "duration": 38,
    "start_time": "2022-12-29T09:50:01.098Z"
   },
   {
    "duration": 35,
    "start_time": "2022-12-29T09:50:01.138Z"
   },
   {
    "duration": 14,
    "start_time": "2022-12-29T09:50:01.175Z"
   },
   {
    "duration": 44,
    "start_time": "2022-12-29T09:50:01.191Z"
   },
   {
    "duration": 33,
    "start_time": "2022-12-29T09:50:01.238Z"
   },
   {
    "duration": 24,
    "start_time": "2022-12-29T09:50:01.273Z"
   },
   {
    "duration": 24,
    "start_time": "2022-12-29T09:50:01.299Z"
   },
   {
    "duration": 35,
    "start_time": "2022-12-29T09:50:01.325Z"
   },
   {
    "duration": 563,
    "start_time": "2022-12-29T09:50:01.362Z"
   },
   {
    "duration": 367,
    "start_time": "2022-12-29T09:50:01.927Z"
   },
   {
    "duration": 31,
    "start_time": "2022-12-29T09:50:02.296Z"
   },
   {
    "duration": 25,
    "start_time": "2022-12-29T09:50:02.328Z"
   },
   {
    "duration": 345,
    "start_time": "2022-12-29T09:50:02.355Z"
   },
   {
    "duration": 27,
    "start_time": "2022-12-29T09:50:02.702Z"
   },
   {
    "duration": 140,
    "start_time": "2022-12-29T09:50:02.731Z"
   },
   {
    "duration": 264,
    "start_time": "2022-12-29T09:50:02.874Z"
   },
   {
    "duration": 1265,
    "start_time": "2022-12-29T09:50:03.140Z"
   },
   {
    "duration": 20,
    "start_time": "2022-12-29T09:50:25.595Z"
   },
   {
    "duration": 20,
    "start_time": "2022-12-29T09:50:41.791Z"
   },
   {
    "duration": 21,
    "start_time": "2022-12-29T09:50:53.863Z"
   },
   {
    "duration": 21,
    "start_time": "2022-12-29T09:51:36.085Z"
   },
   {
    "duration": 23,
    "start_time": "2022-12-29T09:52:43.826Z"
   },
   {
    "duration": 17,
    "start_time": "2022-12-29T10:04:53.266Z"
   },
   {
    "duration": 11,
    "start_time": "2022-12-29T10:06:01.318Z"
   },
   {
    "duration": 13,
    "start_time": "2022-12-29T10:12:37.562Z"
   },
   {
    "duration": 154,
    "start_time": "2022-12-29T10:13:27.510Z"
   },
   {
    "duration": 168,
    "start_time": "2022-12-29T10:14:07.366Z"
   },
   {
    "duration": 169,
    "start_time": "2022-12-29T10:15:03.736Z"
   },
   {
    "duration": 177,
    "start_time": "2022-12-29T10:15:27.396Z"
   },
   {
    "duration": 165,
    "start_time": "2022-12-29T10:15:46.736Z"
   },
   {
    "duration": 204,
    "start_time": "2022-12-29T10:16:25.881Z"
   },
   {
    "duration": 15,
    "start_time": "2022-12-29T10:19:45.158Z"
   },
   {
    "duration": 12,
    "start_time": "2022-12-29T10:20:04.398Z"
   },
   {
    "duration": 15,
    "start_time": "2022-12-29T10:20:39.109Z"
   },
   {
    "duration": 15,
    "start_time": "2022-12-29T10:20:53.677Z"
   },
   {
    "duration": 12,
    "start_time": "2022-12-29T10:21:04.910Z"
   },
   {
    "duration": 12,
    "start_time": "2022-12-29T10:23:49.489Z"
   },
   {
    "duration": 13,
    "start_time": "2022-12-29T10:26:16.949Z"
   },
   {
    "duration": 13,
    "start_time": "2022-12-29T10:28:15.700Z"
   },
   {
    "duration": 10,
    "start_time": "2022-12-29T10:42:22.253Z"
   },
   {
    "duration": 7,
    "start_time": "2022-12-29T10:44:51.686Z"
   },
   {
    "duration": 19,
    "start_time": "2022-12-29T10:45:00.876Z"
   },
   {
    "duration": 14,
    "start_time": "2022-12-29T10:45:37.220Z"
   },
   {
    "duration": 15,
    "start_time": "2022-12-29T10:45:54.201Z"
   },
   {
    "duration": 17,
    "start_time": "2022-12-29T11:03:23.656Z"
   },
   {
    "duration": 13,
    "start_time": "2022-12-29T11:03:44.306Z"
   },
   {
    "duration": 14,
    "start_time": "2022-12-29T11:04:03.621Z"
   },
   {
    "duration": 7,
    "start_time": "2022-12-29T11:07:39.705Z"
   },
   {
    "duration": 8,
    "start_time": "2022-12-29T11:08:19.722Z"
   },
   {
    "duration": 506,
    "start_time": "2022-12-29T11:08:33.695Z"
   },
   {
    "duration": 15,
    "start_time": "2022-12-29T11:08:34.202Z"
   },
   {
    "duration": 30,
    "start_time": "2022-12-29T11:08:34.219Z"
   },
   {
    "duration": 15,
    "start_time": "2022-12-29T11:08:34.250Z"
   },
   {
    "duration": 33,
    "start_time": "2022-12-29T11:08:34.267Z"
   },
   {
    "duration": 24,
    "start_time": "2022-12-29T11:08:34.302Z"
   },
   {
    "duration": 28,
    "start_time": "2022-12-29T11:08:34.327Z"
   },
   {
    "duration": 43,
    "start_time": "2022-12-29T11:08:34.357Z"
   },
   {
    "duration": 14,
    "start_time": "2022-12-29T11:08:34.402Z"
   },
   {
    "duration": 24,
    "start_time": "2022-12-29T11:08:34.420Z"
   },
   {
    "duration": 12,
    "start_time": "2022-12-29T11:08:34.446Z"
   },
   {
    "duration": 42,
    "start_time": "2022-12-29T11:08:34.461Z"
   },
   {
    "duration": 21,
    "start_time": "2022-12-29T11:08:34.505Z"
   },
   {
    "duration": 540,
    "start_time": "2022-12-29T11:08:34.528Z"
   },
   {
    "duration": 336,
    "start_time": "2022-12-29T11:08:35.070Z"
   },
   {
    "duration": 30,
    "start_time": "2022-12-29T11:08:35.408Z"
   },
   {
    "duration": 22,
    "start_time": "2022-12-29T11:08:35.439Z"
   },
   {
    "duration": 327,
    "start_time": "2022-12-29T11:08:35.463Z"
   },
   {
    "duration": 25,
    "start_time": "2022-12-29T11:08:35.791Z"
   },
   {
    "duration": 150,
    "start_time": "2022-12-29T11:08:35.818Z"
   },
   {
    "duration": 343,
    "start_time": "2022-12-29T11:08:35.970Z"
   },
   {
    "duration": 30,
    "start_time": "2022-12-29T11:08:36.315Z"
   },
   {
    "duration": 30,
    "start_time": "2022-12-29T11:08:36.348Z"
   },
   {
    "duration": 26,
    "start_time": "2022-12-29T11:08:36.380Z"
   },
   {
    "duration": 177,
    "start_time": "2022-12-29T11:08:36.408Z"
   },
   {
    "duration": 179,
    "start_time": "2022-12-29T11:08:36.587Z"
   },
   {
    "duration": 13,
    "start_time": "2022-12-29T11:08:36.768Z"
   },
   {
    "duration": 24,
    "start_time": "2022-12-29T11:08:36.784Z"
   },
   {
    "duration": 14,
    "start_time": "2022-12-29T11:08:36.810Z"
   },
   {
    "duration": 15,
    "start_time": "2022-12-29T11:08:36.826Z"
   },
   {
    "duration": 15,
    "start_time": "2022-12-29T11:08:36.843Z"
   },
   {
    "duration": 47,
    "start_time": "2022-12-29T11:08:36.860Z"
   },
   {
    "duration": 10,
    "start_time": "2022-12-29T11:08:36.909Z"
   },
   {
    "duration": 3,
    "start_time": "2022-12-29T11:29:54.554Z"
   },
   {
    "duration": 15,
    "start_time": "2022-12-29T11:32:14.851Z"
   },
   {
    "duration": 17,
    "start_time": "2022-12-29T11:33:05.985Z"
   },
   {
    "duration": 15,
    "start_time": "2022-12-29T11:33:30.441Z"
   },
   {
    "duration": 16,
    "start_time": "2022-12-29T11:33:45.147Z"
   },
   {
    "duration": 15,
    "start_time": "2022-12-29T11:34:05.245Z"
   },
   {
    "duration": 14,
    "start_time": "2022-12-29T11:37:37.148Z"
   },
   {
    "duration": 21,
    "start_time": "2022-12-29T11:39:25.177Z"
   },
   {
    "duration": 94,
    "start_time": "2022-12-29T11:46:31.140Z"
   },
   {
    "duration": 16,
    "start_time": "2022-12-29T11:47:03.555Z"
   },
   {
    "duration": 14,
    "start_time": "2022-12-29T11:47:23.240Z"
   },
   {
    "duration": 14,
    "start_time": "2022-12-29T11:50:01.931Z"
   },
   {
    "duration": 17,
    "start_time": "2022-12-29T11:51:10.364Z"
   },
   {
    "duration": 17,
    "start_time": "2022-12-29T11:59:48.005Z"
   },
   {
    "duration": 20,
    "start_time": "2022-12-29T12:00:38.380Z"
   },
   {
    "duration": 15,
    "start_time": "2022-12-29T12:01:13.138Z"
   },
   {
    "duration": 15,
    "start_time": "2022-12-29T12:03:41.779Z"
   },
   {
    "duration": 15,
    "start_time": "2022-12-29T12:03:57.714Z"
   },
   {
    "duration": 15,
    "start_time": "2022-12-29T12:04:03.115Z"
   },
   {
    "duration": 5,
    "start_time": "2022-12-29T12:04:42.472Z"
   },
   {
    "duration": 1073,
    "start_time": "2022-12-30T09:06:03.498Z"
   },
   {
    "duration": 23,
    "start_time": "2022-12-30T09:06:04.576Z"
   },
   {
    "duration": 32,
    "start_time": "2022-12-30T09:06:04.600Z"
   },
   {
    "duration": 36,
    "start_time": "2022-12-30T09:06:04.651Z"
   },
   {
    "duration": 14,
    "start_time": "2022-12-30T09:06:04.691Z"
   },
   {
    "duration": 32,
    "start_time": "2022-12-30T09:06:04.707Z"
   },
   {
    "duration": 42,
    "start_time": "2022-12-30T09:06:04.741Z"
   },
   {
    "duration": 17,
    "start_time": "2022-12-30T09:06:04.792Z"
   },
   {
    "duration": 16,
    "start_time": "2022-12-30T09:06:04.811Z"
   },
   {
    "duration": 40,
    "start_time": "2022-12-30T09:06:04.829Z"
   },
   {
    "duration": 31,
    "start_time": "2022-12-30T09:06:04.873Z"
   },
   {
    "duration": 13,
    "start_time": "2022-12-30T09:06:04.906Z"
   },
   {
    "duration": 16,
    "start_time": "2022-12-30T09:06:04.921Z"
   },
   {
    "duration": 863,
    "start_time": "2022-12-30T09:06:04.939Z"
   },
   {
    "duration": 394,
    "start_time": "2022-12-30T09:06:05.804Z"
   },
   {
    "duration": 43,
    "start_time": "2022-12-30T09:06:06.203Z"
   },
   {
    "duration": 37,
    "start_time": "2022-12-30T09:06:06.248Z"
   },
   {
    "duration": 458,
    "start_time": "2022-12-30T09:06:06.288Z"
   },
   {
    "duration": 37,
    "start_time": "2022-12-30T09:06:06.750Z"
   },
   {
    "duration": 227,
    "start_time": "2022-12-30T09:06:06.788Z"
   },
   {
    "duration": 269,
    "start_time": "2022-12-30T09:06:07.017Z"
   },
   {
    "duration": 28,
    "start_time": "2022-12-30T09:06:07.288Z"
   },
   {
    "duration": 26,
    "start_time": "2022-12-30T09:06:07.318Z"
   },
   {
    "duration": 50,
    "start_time": "2022-12-30T09:06:07.345Z"
   },
   {
    "duration": 195,
    "start_time": "2022-12-30T09:06:07.396Z"
   },
   {
    "duration": 212,
    "start_time": "2022-12-30T09:06:07.594Z"
   },
   {
    "duration": 14,
    "start_time": "2022-12-30T09:06:07.808Z"
   },
   {
    "duration": 30,
    "start_time": "2022-12-30T09:06:07.826Z"
   },
   {
    "duration": 40,
    "start_time": "2022-12-30T09:06:07.862Z"
   },
   {
    "duration": 25,
    "start_time": "2022-12-30T09:06:07.904Z"
   },
   {
    "duration": 19,
    "start_time": "2022-12-30T09:06:07.931Z"
   },
   {
    "duration": 44,
    "start_time": "2022-12-30T09:06:07.966Z"
   },
   {
    "duration": 14,
    "start_time": "2022-12-30T09:06:08.012Z"
   },
   {
    "duration": 39,
    "start_time": "2022-12-30T09:06:08.028Z"
   },
   {
    "duration": 49,
    "start_time": "2022-12-30T09:06:08.068Z"
   },
   {
    "duration": 48,
    "start_time": "2022-12-30T09:06:08.119Z"
   },
   {
    "duration": 30,
    "start_time": "2022-12-30T09:06:08.170Z"
   },
   {
    "duration": 21,
    "start_time": "2022-12-30T09:06:08.203Z"
   },
   {
    "duration": 19,
    "start_time": "2022-12-30T09:06:08.226Z"
   },
   {
    "duration": 44,
    "start_time": "2022-12-30T09:06:08.247Z"
   },
   {
    "duration": 19,
    "start_time": "2022-12-30T09:06:08.292Z"
   },
   {
    "duration": 23,
    "start_time": "2022-12-30T09:06:08.312Z"
   },
   {
    "duration": 67,
    "start_time": "2022-12-30T09:06:08.336Z"
   },
   {
    "duration": 11,
    "start_time": "2022-12-30T09:06:18.830Z"
   },
   {
    "duration": 97,
    "start_time": "2022-12-30T09:07:02.935Z"
   },
   {
    "duration": 7,
    "start_time": "2022-12-30T09:07:31.385Z"
   },
   {
    "duration": 10,
    "start_time": "2022-12-30T09:09:59.386Z"
   },
   {
    "duration": 10,
    "start_time": "2022-12-30T09:13:52.800Z"
   },
   {
    "duration": 494,
    "start_time": "2022-12-30T09:26:04.714Z"
   },
   {
    "duration": 10,
    "start_time": "2022-12-30T09:28:37.467Z"
   },
   {
    "duration": 7,
    "start_time": "2022-12-30T09:30:01.340Z"
   },
   {
    "duration": 6,
    "start_time": "2022-12-30T09:30:18.004Z"
   },
   {
    "duration": 11,
    "start_time": "2022-12-30T09:35:56.111Z"
   },
   {
    "duration": 19,
    "start_time": "2022-12-30T09:37:47.549Z"
   },
   {
    "duration": 9,
    "start_time": "2022-12-30T09:39:48.653Z"
   },
   {
    "duration": 5,
    "start_time": "2022-12-30T09:40:22.215Z"
   },
   {
    "duration": 71,
    "start_time": "2022-12-30T11:24:24.289Z"
   },
   {
    "duration": 52,
    "start_time": "2023-01-09T06:44:52.044Z"
   },
   {
    "duration": 582,
    "start_time": "2023-01-09T06:44:57.300Z"
   },
   {
    "duration": 16,
    "start_time": "2023-01-09T06:44:57.884Z"
   },
   {
    "duration": 31,
    "start_time": "2023-01-09T06:44:57.901Z"
   },
   {
    "duration": 16,
    "start_time": "2023-01-09T06:44:57.938Z"
   },
   {
    "duration": 12,
    "start_time": "2023-01-09T06:44:57.956Z"
   },
   {
    "duration": 30,
    "start_time": "2023-01-09T06:44:57.970Z"
   },
   {
    "duration": 48,
    "start_time": "2023-01-09T06:44:58.001Z"
   },
   {
    "duration": 27,
    "start_time": "2023-01-09T06:45:01.826Z"
   },
   {
    "duration": 73,
    "start_time": "2023-01-09T06:49:53.604Z"
   },
   {
    "duration": 15,
    "start_time": "2023-01-09T06:49:53.679Z"
   },
   {
    "duration": 63,
    "start_time": "2023-01-09T06:49:53.696Z"
   },
   {
    "duration": 15,
    "start_time": "2023-01-09T06:49:53.762Z"
   },
   {
    "duration": 11,
    "start_time": "2023-01-09T06:49:53.780Z"
   },
   {
    "duration": 51,
    "start_time": "2023-01-09T06:49:53.793Z"
   },
   {
    "duration": 29,
    "start_time": "2023-01-09T06:49:53.846Z"
   },
   {
    "duration": 16,
    "start_time": "2023-01-09T06:49:53.877Z"
   },
   {
    "duration": 14,
    "start_time": "2023-01-09T06:49:53.895Z"
   },
   {
    "duration": 19,
    "start_time": "2023-01-09T06:49:53.936Z"
   },
   {
    "duration": 12,
    "start_time": "2023-01-09T06:49:53.956Z"
   },
   {
    "duration": 12,
    "start_time": "2023-01-09T06:49:53.970Z"
   },
   {
    "duration": 17,
    "start_time": "2023-01-09T06:49:53.983Z"
   },
   {
    "duration": 754,
    "start_time": "2023-01-09T06:49:54.003Z"
   },
   {
    "duration": 347,
    "start_time": "2023-01-09T06:49:54.759Z"
   },
   {
    "duration": 30,
    "start_time": "2023-01-09T06:49:55.108Z"
   },
   {
    "duration": 33,
    "start_time": "2023-01-09T06:49:55.140Z"
   },
   {
    "duration": 306,
    "start_time": "2023-01-09T06:49:55.175Z"
   },
   {
    "duration": 25,
    "start_time": "2023-01-09T06:49:55.482Z"
   },
   {
    "duration": 193,
    "start_time": "2023-01-09T06:49:55.509Z"
   },
   {
    "duration": 219,
    "start_time": "2023-01-09T06:49:55.704Z"
   },
   {
    "duration": 26,
    "start_time": "2023-01-09T06:49:55.925Z"
   },
   {
    "duration": 26,
    "start_time": "2023-01-09T06:49:55.953Z"
   },
   {
    "duration": 40,
    "start_time": "2023-01-09T06:49:55.981Z"
   },
   {
    "duration": 199,
    "start_time": "2023-01-09T06:49:56.023Z"
   },
   {
    "duration": 161,
    "start_time": "2023-01-09T06:49:56.224Z"
   },
   {
    "duration": 12,
    "start_time": "2023-01-09T06:49:56.386Z"
   },
   {
    "duration": 27,
    "start_time": "2023-01-09T06:49:56.400Z"
   },
   {
    "duration": 24,
    "start_time": "2023-01-09T06:49:56.429Z"
   },
   {
    "duration": 42,
    "start_time": "2023-01-09T06:49:56.454Z"
   },
   {
    "duration": 26,
    "start_time": "2023-01-09T06:49:56.498Z"
   },
   {
    "duration": 27,
    "start_time": "2023-01-09T06:49:56.525Z"
   },
   {
    "duration": 25,
    "start_time": "2023-01-09T06:49:56.554Z"
   },
   {
    "duration": 26,
    "start_time": "2023-01-09T06:49:56.581Z"
   },
   {
    "duration": 29,
    "start_time": "2023-01-09T06:49:56.609Z"
   },
   {
    "duration": 13,
    "start_time": "2023-01-09T06:49:56.640Z"
   },
   {
    "duration": 24,
    "start_time": "2023-01-09T06:49:56.654Z"
   },
   {
    "duration": 26,
    "start_time": "2023-01-09T06:49:56.680Z"
   },
   {
    "duration": 28,
    "start_time": "2023-01-09T06:49:56.708Z"
   },
   {
    "duration": 21,
    "start_time": "2023-01-09T06:49:56.738Z"
   },
   {
    "duration": 25,
    "start_time": "2023-01-09T06:49:56.763Z"
   },
   {
    "duration": 60,
    "start_time": "2023-01-09T06:49:56.790Z"
   },
   {
    "duration": 31,
    "start_time": "2023-01-09T06:49:56.851Z"
   },
   {
    "duration": 33,
    "start_time": "2023-01-09T06:49:56.884Z"
   },
   {
    "duration": 29,
    "start_time": "2023-01-09T06:49:56.919Z"
   },
   {
    "duration": 412,
    "start_time": "2023-01-09T06:49:56.950Z"
   },
   {
    "duration": 10,
    "start_time": "2023-01-09T06:49:57.363Z"
   },
   {
    "duration": 40,
    "start_time": "2023-01-09T06:49:57.374Z"
   },
   {
    "duration": 6,
    "start_time": "2023-01-09T06:50:00.632Z"
   },
   {
    "duration": 79,
    "start_time": "2023-01-09T07:15:56.231Z"
   },
   {
    "duration": 28,
    "start_time": "2023-01-09T07:16:14.507Z"
   },
   {
    "duration": 30,
    "start_time": "2023-01-09T07:16:25.680Z"
   },
   {
    "duration": 38,
    "start_time": "2023-01-09T07:16:40.242Z"
   },
   {
    "duration": 44,
    "start_time": "2023-01-09T07:19:18.125Z"
   },
   {
    "duration": 31,
    "start_time": "2023-01-09T07:20:21.451Z"
   }
  ],
  "kernelspec": {
   "display_name": "Python 3 (ipykernel)",
   "language": "python",
   "name": "python3"
  },
  "language_info": {
   "codemirror_mode": {
    "name": "ipython",
    "version": 3
   },
   "file_extension": ".py",
   "mimetype": "text/x-python",
   "name": "python",
   "nbconvert_exporter": "python",
   "pygments_lexer": "ipython3",
   "version": "3.9.5"
  },
  "toc": {
   "base_numbering": 1,
   "nav_menu": {},
   "number_sections": true,
   "sideBar": true,
   "skip_h1_title": true,
   "title_cell": "Table of Contents",
   "title_sidebar": "Contents",
   "toc_cell": false,
   "toc_position": {},
   "toc_section_display": true,
   "toc_window_display": false
  }
 },
 "nbformat": 4,
 "nbformat_minor": 2
}
