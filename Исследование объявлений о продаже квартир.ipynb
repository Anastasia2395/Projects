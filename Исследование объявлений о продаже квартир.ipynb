{
 "cells": [
  {
   "cell_type": "markdown",
   "metadata": {},
   "source": [
    "# Исследование объявлений о продаже квартир\n",
    "\n",
    "В нашем распоряжении данные сервиса Яндекс.Недвижимость — архив объявлений о продаже квартир в Санкт-Петербурге и соседних населённых пунктов за несколько лет. Нужно научиться определять рыночную стоимость объектов недвижимости. Ваша задача — установить параметры. Это позволит построить автоматизированную систему: она отследит аномалии и мошенническую деятельность. \n",
    "\n",
    "По каждой квартире на продажу доступны два вида данных. Первые вписаны пользователем, вторые — получены автоматически на основе картографических данных. Например, расстояние до центра, аэропорта, ближайшего парка и водоёма. "
   ]
  },
  {
   "cell_type": "markdown",
   "metadata": {},
   "source": [
    "## Откройте файл с данными и изучите общую информацию. "
   ]
  },
  {
   "cell_type": "code",
   "execution_count": 1,
   "metadata": {},
   "outputs": [],
   "source": [
    "import pandas as pd\n",
    "import matplotlib.pyplot as plt"
   ]
  },
  {
   "cell_type": "code",
   "execution_count": 2,
   "metadata": {
    "scrolled": true
   },
   "outputs": [
    {
     "data": {
      "text/html": [
       "<div>\n",
       "<style scoped>\n",
       "    .dataframe tbody tr th:only-of-type {\n",
       "        vertical-align: middle;\n",
       "    }\n",
       "\n",
       "    .dataframe tbody tr th {\n",
       "        vertical-align: top;\n",
       "    }\n",
       "\n",
       "    .dataframe thead th {\n",
       "        text-align: right;\n",
       "    }\n",
       "</style>\n",
       "<table border=\"1\" class=\"dataframe\">\n",
       "  <thead>\n",
       "    <tr style=\"text-align: right;\">\n",
       "      <th></th>\n",
       "      <th>total_images</th>\n",
       "      <th>last_price</th>\n",
       "      <th>total_area</th>\n",
       "      <th>first_day_exposition</th>\n",
       "      <th>rooms</th>\n",
       "      <th>ceiling_height</th>\n",
       "      <th>floors_total</th>\n",
       "      <th>living_area</th>\n",
       "      <th>floor</th>\n",
       "      <th>is_apartment</th>\n",
       "      <th>...</th>\n",
       "      <th>kitchen_area</th>\n",
       "      <th>balcony</th>\n",
       "      <th>locality_name</th>\n",
       "      <th>airports_nearest</th>\n",
       "      <th>cityCenters_nearest</th>\n",
       "      <th>parks_around3000</th>\n",
       "      <th>parks_nearest</th>\n",
       "      <th>ponds_around3000</th>\n",
       "      <th>ponds_nearest</th>\n",
       "      <th>days_exposition</th>\n",
       "    </tr>\n",
       "  </thead>\n",
       "  <tbody>\n",
       "    <tr>\n",
       "      <th>0</th>\n",
       "      <td>20</td>\n",
       "      <td>13000000.0</td>\n",
       "      <td>108.00</td>\n",
       "      <td>2019-03-07T00:00:00</td>\n",
       "      <td>3</td>\n",
       "      <td>2.70</td>\n",
       "      <td>16.0</td>\n",
       "      <td>51.00</td>\n",
       "      <td>8</td>\n",
       "      <td>NaN</td>\n",
       "      <td>...</td>\n",
       "      <td>25.00</td>\n",
       "      <td>NaN</td>\n",
       "      <td>Санкт-Петербург</td>\n",
       "      <td>18863.0</td>\n",
       "      <td>16028.0</td>\n",
       "      <td>1.0</td>\n",
       "      <td>482.0</td>\n",
       "      <td>2.0</td>\n",
       "      <td>755.0</td>\n",
       "      <td>NaN</td>\n",
       "    </tr>\n",
       "    <tr>\n",
       "      <th>1</th>\n",
       "      <td>7</td>\n",
       "      <td>3350000.0</td>\n",
       "      <td>40.40</td>\n",
       "      <td>2018-12-04T00:00:00</td>\n",
       "      <td>1</td>\n",
       "      <td>NaN</td>\n",
       "      <td>11.0</td>\n",
       "      <td>18.60</td>\n",
       "      <td>1</td>\n",
       "      <td>NaN</td>\n",
       "      <td>...</td>\n",
       "      <td>11.00</td>\n",
       "      <td>2.0</td>\n",
       "      <td>посёлок Шушары</td>\n",
       "      <td>12817.0</td>\n",
       "      <td>18603.0</td>\n",
       "      <td>0.0</td>\n",
       "      <td>NaN</td>\n",
       "      <td>0.0</td>\n",
       "      <td>NaN</td>\n",
       "      <td>81.0</td>\n",
       "    </tr>\n",
       "    <tr>\n",
       "      <th>2</th>\n",
       "      <td>10</td>\n",
       "      <td>5196000.0</td>\n",
       "      <td>56.00</td>\n",
       "      <td>2015-08-20T00:00:00</td>\n",
       "      <td>2</td>\n",
       "      <td>NaN</td>\n",
       "      <td>5.0</td>\n",
       "      <td>34.30</td>\n",
       "      <td>4</td>\n",
       "      <td>NaN</td>\n",
       "      <td>...</td>\n",
       "      <td>8.30</td>\n",
       "      <td>0.0</td>\n",
       "      <td>Санкт-Петербург</td>\n",
       "      <td>21741.0</td>\n",
       "      <td>13933.0</td>\n",
       "      <td>1.0</td>\n",
       "      <td>90.0</td>\n",
       "      <td>2.0</td>\n",
       "      <td>574.0</td>\n",
       "      <td>558.0</td>\n",
       "    </tr>\n",
       "    <tr>\n",
       "      <th>3</th>\n",
       "      <td>0</td>\n",
       "      <td>64900000.0</td>\n",
       "      <td>159.00</td>\n",
       "      <td>2015-07-24T00:00:00</td>\n",
       "      <td>3</td>\n",
       "      <td>NaN</td>\n",
       "      <td>14.0</td>\n",
       "      <td>NaN</td>\n",
       "      <td>9</td>\n",
       "      <td>NaN</td>\n",
       "      <td>...</td>\n",
       "      <td>NaN</td>\n",
       "      <td>0.0</td>\n",
       "      <td>Санкт-Петербург</td>\n",
       "      <td>28098.0</td>\n",
       "      <td>6800.0</td>\n",
       "      <td>2.0</td>\n",
       "      <td>84.0</td>\n",
       "      <td>3.0</td>\n",
       "      <td>234.0</td>\n",
       "      <td>424.0</td>\n",
       "    </tr>\n",
       "    <tr>\n",
       "      <th>4</th>\n",
       "      <td>2</td>\n",
       "      <td>10000000.0</td>\n",
       "      <td>100.00</td>\n",
       "      <td>2018-06-19T00:00:00</td>\n",
       "      <td>2</td>\n",
       "      <td>3.03</td>\n",
       "      <td>14.0</td>\n",
       "      <td>32.00</td>\n",
       "      <td>13</td>\n",
       "      <td>NaN</td>\n",
       "      <td>...</td>\n",
       "      <td>41.00</td>\n",
       "      <td>NaN</td>\n",
       "      <td>Санкт-Петербург</td>\n",
       "      <td>31856.0</td>\n",
       "      <td>8098.0</td>\n",
       "      <td>2.0</td>\n",
       "      <td>112.0</td>\n",
       "      <td>1.0</td>\n",
       "      <td>48.0</td>\n",
       "      <td>121.0</td>\n",
       "    </tr>\n",
       "    <tr>\n",
       "      <th>5</th>\n",
       "      <td>10</td>\n",
       "      <td>2890000.0</td>\n",
       "      <td>30.40</td>\n",
       "      <td>2018-09-10T00:00:00</td>\n",
       "      <td>1</td>\n",
       "      <td>NaN</td>\n",
       "      <td>12.0</td>\n",
       "      <td>14.40</td>\n",
       "      <td>5</td>\n",
       "      <td>NaN</td>\n",
       "      <td>...</td>\n",
       "      <td>9.10</td>\n",
       "      <td>NaN</td>\n",
       "      <td>городской посёлок Янино-1</td>\n",
       "      <td>NaN</td>\n",
       "      <td>NaN</td>\n",
       "      <td>NaN</td>\n",
       "      <td>NaN</td>\n",
       "      <td>NaN</td>\n",
       "      <td>NaN</td>\n",
       "      <td>55.0</td>\n",
       "    </tr>\n",
       "    <tr>\n",
       "      <th>6</th>\n",
       "      <td>6</td>\n",
       "      <td>3700000.0</td>\n",
       "      <td>37.30</td>\n",
       "      <td>2017-11-02T00:00:00</td>\n",
       "      <td>1</td>\n",
       "      <td>NaN</td>\n",
       "      <td>26.0</td>\n",
       "      <td>10.60</td>\n",
       "      <td>6</td>\n",
       "      <td>NaN</td>\n",
       "      <td>...</td>\n",
       "      <td>14.40</td>\n",
       "      <td>1.0</td>\n",
       "      <td>посёлок Парголово</td>\n",
       "      <td>52996.0</td>\n",
       "      <td>19143.0</td>\n",
       "      <td>0.0</td>\n",
       "      <td>NaN</td>\n",
       "      <td>0.0</td>\n",
       "      <td>NaN</td>\n",
       "      <td>155.0</td>\n",
       "    </tr>\n",
       "    <tr>\n",
       "      <th>7</th>\n",
       "      <td>5</td>\n",
       "      <td>7915000.0</td>\n",
       "      <td>71.60</td>\n",
       "      <td>2019-04-18T00:00:00</td>\n",
       "      <td>2</td>\n",
       "      <td>NaN</td>\n",
       "      <td>24.0</td>\n",
       "      <td>NaN</td>\n",
       "      <td>22</td>\n",
       "      <td>NaN</td>\n",
       "      <td>...</td>\n",
       "      <td>18.90</td>\n",
       "      <td>2.0</td>\n",
       "      <td>Санкт-Петербург</td>\n",
       "      <td>23982.0</td>\n",
       "      <td>11634.0</td>\n",
       "      <td>0.0</td>\n",
       "      <td>NaN</td>\n",
       "      <td>0.0</td>\n",
       "      <td>NaN</td>\n",
       "      <td>NaN</td>\n",
       "    </tr>\n",
       "    <tr>\n",
       "      <th>8</th>\n",
       "      <td>20</td>\n",
       "      <td>2900000.0</td>\n",
       "      <td>33.16</td>\n",
       "      <td>2018-05-23T00:00:00</td>\n",
       "      <td>1</td>\n",
       "      <td>NaN</td>\n",
       "      <td>27.0</td>\n",
       "      <td>15.43</td>\n",
       "      <td>26</td>\n",
       "      <td>NaN</td>\n",
       "      <td>...</td>\n",
       "      <td>8.81</td>\n",
       "      <td>NaN</td>\n",
       "      <td>посёлок Мурино</td>\n",
       "      <td>NaN</td>\n",
       "      <td>NaN</td>\n",
       "      <td>NaN</td>\n",
       "      <td>NaN</td>\n",
       "      <td>NaN</td>\n",
       "      <td>NaN</td>\n",
       "      <td>189.0</td>\n",
       "    </tr>\n",
       "    <tr>\n",
       "      <th>9</th>\n",
       "      <td>18</td>\n",
       "      <td>5400000.0</td>\n",
       "      <td>61.00</td>\n",
       "      <td>2017-02-26T00:00:00</td>\n",
       "      <td>3</td>\n",
       "      <td>2.50</td>\n",
       "      <td>9.0</td>\n",
       "      <td>43.60</td>\n",
       "      <td>7</td>\n",
       "      <td>NaN</td>\n",
       "      <td>...</td>\n",
       "      <td>6.50</td>\n",
       "      <td>2.0</td>\n",
       "      <td>Санкт-Петербург</td>\n",
       "      <td>50898.0</td>\n",
       "      <td>15008.0</td>\n",
       "      <td>0.0</td>\n",
       "      <td>NaN</td>\n",
       "      <td>0.0</td>\n",
       "      <td>NaN</td>\n",
       "      <td>289.0</td>\n",
       "    </tr>\n",
       "  </tbody>\n",
       "</table>\n",
       "<p>10 rows × 22 columns</p>\n",
       "</div>"
      ],
      "text/plain": [
       "   total_images  last_price  total_area first_day_exposition  rooms  \\\n",
       "0            20  13000000.0      108.00  2019-03-07T00:00:00      3   \n",
       "1             7   3350000.0       40.40  2018-12-04T00:00:00      1   \n",
       "2            10   5196000.0       56.00  2015-08-20T00:00:00      2   \n",
       "3             0  64900000.0      159.00  2015-07-24T00:00:00      3   \n",
       "4             2  10000000.0      100.00  2018-06-19T00:00:00      2   \n",
       "5            10   2890000.0       30.40  2018-09-10T00:00:00      1   \n",
       "6             6   3700000.0       37.30  2017-11-02T00:00:00      1   \n",
       "7             5   7915000.0       71.60  2019-04-18T00:00:00      2   \n",
       "8            20   2900000.0       33.16  2018-05-23T00:00:00      1   \n",
       "9            18   5400000.0       61.00  2017-02-26T00:00:00      3   \n",
       "\n",
       "   ceiling_height  floors_total  living_area  floor is_apartment  ...  \\\n",
       "0            2.70          16.0        51.00      8          NaN  ...   \n",
       "1             NaN          11.0        18.60      1          NaN  ...   \n",
       "2             NaN           5.0        34.30      4          NaN  ...   \n",
       "3             NaN          14.0          NaN      9          NaN  ...   \n",
       "4            3.03          14.0        32.00     13          NaN  ...   \n",
       "5             NaN          12.0        14.40      5          NaN  ...   \n",
       "6             NaN          26.0        10.60      6          NaN  ...   \n",
       "7             NaN          24.0          NaN     22          NaN  ...   \n",
       "8             NaN          27.0        15.43     26          NaN  ...   \n",
       "9            2.50           9.0        43.60      7          NaN  ...   \n",
       "\n",
       "   kitchen_area  balcony              locality_name  airports_nearest  \\\n",
       "0         25.00      NaN            Санкт-Петербург           18863.0   \n",
       "1         11.00      2.0             посёлок Шушары           12817.0   \n",
       "2          8.30      0.0            Санкт-Петербург           21741.0   \n",
       "3           NaN      0.0            Санкт-Петербург           28098.0   \n",
       "4         41.00      NaN            Санкт-Петербург           31856.0   \n",
       "5          9.10      NaN  городской посёлок Янино-1               NaN   \n",
       "6         14.40      1.0          посёлок Парголово           52996.0   \n",
       "7         18.90      2.0            Санкт-Петербург           23982.0   \n",
       "8          8.81      NaN             посёлок Мурино               NaN   \n",
       "9          6.50      2.0            Санкт-Петербург           50898.0   \n",
       "\n",
       "  cityCenters_nearest  parks_around3000  parks_nearest  ponds_around3000  \\\n",
       "0             16028.0               1.0          482.0               2.0   \n",
       "1             18603.0               0.0            NaN               0.0   \n",
       "2             13933.0               1.0           90.0               2.0   \n",
       "3              6800.0               2.0           84.0               3.0   \n",
       "4              8098.0               2.0          112.0               1.0   \n",
       "5                 NaN               NaN            NaN               NaN   \n",
       "6             19143.0               0.0            NaN               0.0   \n",
       "7             11634.0               0.0            NaN               0.0   \n",
       "8                 NaN               NaN            NaN               NaN   \n",
       "9             15008.0               0.0            NaN               0.0   \n",
       "\n",
       "   ponds_nearest  days_exposition  \n",
       "0          755.0              NaN  \n",
       "1            NaN             81.0  \n",
       "2          574.0            558.0  \n",
       "3          234.0            424.0  \n",
       "4           48.0            121.0  \n",
       "5            NaN             55.0  \n",
       "6            NaN            155.0  \n",
       "7            NaN              NaN  \n",
       "8            NaN            189.0  \n",
       "9            NaN            289.0  \n",
       "\n",
       "[10 rows x 22 columns]"
      ]
     },
     "execution_count": 2,
     "metadata": {},
     "output_type": "execute_result"
    }
   ],
   "source": [
    "import pandas as pd\n",
    "data = pd.read_csv('/datasets/real_estate_data.csv', sep='\\t') \n",
    "data.head(10)"
   ]
  },
  {
   "cell_type": "code",
   "execution_count": 3,
   "metadata": {},
   "outputs": [
    {
     "name": "stdout",
     "output_type": "stream",
     "text": [
      "<class 'pandas.core.frame.DataFrame'>\n",
      "RangeIndex: 23699 entries, 0 to 23698\n",
      "Data columns (total 22 columns):\n",
      " #   Column                Non-Null Count  Dtype  \n",
      "---  ------                --------------  -----  \n",
      " 0   total_images          23699 non-null  int64  \n",
      " 1   last_price            23699 non-null  float64\n",
      " 2   total_area            23699 non-null  float64\n",
      " 3   first_day_exposition  23699 non-null  object \n",
      " 4   rooms                 23699 non-null  int64  \n",
      " 5   ceiling_height        14504 non-null  float64\n",
      " 6   floors_total          23613 non-null  float64\n",
      " 7   living_area           21796 non-null  float64\n",
      " 8   floor                 23699 non-null  int64  \n",
      " 9   is_apartment          2775 non-null   object \n",
      " 10  studio                23699 non-null  bool   \n",
      " 11  open_plan             23699 non-null  bool   \n",
      " 12  kitchen_area          21421 non-null  float64\n",
      " 13  balcony               12180 non-null  float64\n",
      " 14  locality_name         23650 non-null  object \n",
      " 15  airports_nearest      18157 non-null  float64\n",
      " 16  cityCenters_nearest   18180 non-null  float64\n",
      " 17  parks_around3000      18181 non-null  float64\n",
      " 18  parks_nearest         8079 non-null   float64\n",
      " 19  ponds_around3000      18181 non-null  float64\n",
      " 20  ponds_nearest         9110 non-null   float64\n",
      " 21  days_exposition       20518 non-null  float64\n",
      "dtypes: bool(2), float64(14), int64(3), object(3)\n",
      "memory usage: 3.7+ MB\n"
     ]
    }
   ],
   "source": [
    "data.info()"
   ]
  },
  {
   "cell_type": "code",
   "execution_count": 4,
   "metadata": {
    "scrolled": true
   },
   "outputs": [
    {
     "data": {
      "image/png": "[encoded data removed]",
      "text/plain": [
       "<Figure size 1080x1440 with 20 Axes>"
      ]
     },
     "metadata": {
      "needs_background": "light"
     },
     "output_type": "display_data"
    }
   ],
   "source": [
    "data.hist(figsize=(15, 20))\n",
    "plt.show()"
   ]
  },
  {
   "cell_type": "code",
   "execution_count": 5,
   "metadata": {},
   "outputs": [
    {
     "data": {
      "text/html": [
       "<div>\n",
       "<style scoped>\n",
       "    .dataframe tbody tr th:only-of-type {\n",
       "        vertical-align: middle;\n",
       "    }\n",
       "\n",
       "    .dataframe tbody tr th {\n",
       "        vertical-align: top;\n",
       "    }\n",
       "\n",
       "    .dataframe thead th {\n",
       "        text-align: right;\n",
       "    }\n",
       "</style>\n",
       "<table border=\"1\" class=\"dataframe\">\n",
       "  <thead>\n",
       "    <tr style=\"text-align: right;\">\n",
       "      <th></th>\n",
       "      <th>total_images</th>\n",
       "      <th>last_price</th>\n",
       "      <th>total_area</th>\n",
       "      <th>rooms</th>\n",
       "      <th>ceiling_height</th>\n",
       "      <th>floors_total</th>\n",
       "      <th>living_area</th>\n",
       "      <th>floor</th>\n",
       "      <th>kitchen_area</th>\n",
       "      <th>balcony</th>\n",
       "      <th>airports_nearest</th>\n",
       "      <th>cityCenters_nearest</th>\n",
       "      <th>parks_around3000</th>\n",
       "      <th>parks_nearest</th>\n",
       "      <th>ponds_around3000</th>\n",
       "      <th>ponds_nearest</th>\n",
       "      <th>days_exposition</th>\n",
       "    </tr>\n",
       "  </thead>\n",
       "  <tbody>\n",
       "    <tr>\n",
       "      <th>count</th>\n",
       "      <td>23699.000000</td>\n",
       "      <td>2.369900e+04</td>\n",
       "      <td>23699.000000</td>\n",
       "      <td>23699.000000</td>\n",
       "      <td>14504.000000</td>\n",
       "      <td>23613.000000</td>\n",
       "      <td>21796.000000</td>\n",
       "      <td>23699.000000</td>\n",
       "      <td>21421.000000</td>\n",
       "      <td>12180.000000</td>\n",
       "      <td>18157.000000</td>\n",
       "      <td>18180.000000</td>\n",
       "      <td>18181.000000</td>\n",
       "      <td>8079.000000</td>\n",
       "      <td>18181.000000</td>\n",
       "      <td>9110.000000</td>\n",
       "      <td>20518.000000</td>\n",
       "    </tr>\n",
       "    <tr>\n",
       "      <th>mean</th>\n",
       "      <td>9.858475</td>\n",
       "      <td>6.541549e+06</td>\n",
       "      <td>60.348651</td>\n",
       "      <td>2.070636</td>\n",
       "      <td>2.771499</td>\n",
       "      <td>10.673824</td>\n",
       "      <td>34.457852</td>\n",
       "      <td>5.892358</td>\n",
       "      <td>10.569807</td>\n",
       "      <td>1.150082</td>\n",
       "      <td>28793.672193</td>\n",
       "      <td>14191.277833</td>\n",
       "      <td>0.611408</td>\n",
       "      <td>490.804555</td>\n",
       "      <td>0.770255</td>\n",
       "      <td>517.980900</td>\n",
       "      <td>180.888634</td>\n",
       "    </tr>\n",
       "    <tr>\n",
       "      <th>std</th>\n",
       "      <td>5.682529</td>\n",
       "      <td>1.088701e+07</td>\n",
       "      <td>35.654083</td>\n",
       "      <td>1.078405</td>\n",
       "      <td>1.261056</td>\n",
       "      <td>6.597173</td>\n",
       "      <td>22.030445</td>\n",
       "      <td>4.885249</td>\n",
       "      <td>5.905438</td>\n",
       "      <td>1.071300</td>\n",
       "      <td>12630.880622</td>\n",
       "      <td>8608.386210</td>\n",
       "      <td>0.802074</td>\n",
       "      <td>342.317995</td>\n",
       "      <td>0.938346</td>\n",
       "      <td>277.720643</td>\n",
       "      <td>219.727988</td>\n",
       "    </tr>\n",
       "    <tr>\n",
       "      <th>min</th>\n",
       "      <td>0.000000</td>\n",
       "      <td>1.219000e+04</td>\n",
       "      <td>12.000000</td>\n",
       "      <td>0.000000</td>\n",
       "      <td>1.000000</td>\n",
       "      <td>1.000000</td>\n",
       "      <td>2.000000</td>\n",
       "      <td>1.000000</td>\n",
       "      <td>1.300000</td>\n",
       "      <td>0.000000</td>\n",
       "      <td>0.000000</td>\n",
       "      <td>181.000000</td>\n",
       "      <td>0.000000</td>\n",
       "      <td>1.000000</td>\n",
       "      <td>0.000000</td>\n",
       "      <td>13.000000</td>\n",
       "      <td>1.000000</td>\n",
       "    </tr>\n",
       "    <tr>\n",
       "      <th>25%</th>\n",
       "      <td>6.000000</td>\n",
       "      <td>3.400000e+06</td>\n",
       "      <td>40.000000</td>\n",
       "      <td>1.000000</td>\n",
       "      <td>2.520000</td>\n",
       "      <td>5.000000</td>\n",
       "      <td>18.600000</td>\n",
       "      <td>2.000000</td>\n",
       "      <td>7.000000</td>\n",
       "      <td>0.000000</td>\n",
       "      <td>18585.000000</td>\n",
       "      <td>9238.000000</td>\n",
       "      <td>0.000000</td>\n",
       "      <td>288.000000</td>\n",
       "      <td>0.000000</td>\n",
       "      <td>294.000000</td>\n",
       "      <td>45.000000</td>\n",
       "    </tr>\n",
       "    <tr>\n",
       "      <th>50%</th>\n",
       "      <td>9.000000</td>\n",
       "      <td>4.650000e+06</td>\n",
       "      <td>52.000000</td>\n",
       "      <td>2.000000</td>\n",
       "      <td>2.650000</td>\n",
       "      <td>9.000000</td>\n",
       "      <td>30.000000</td>\n",
       "      <td>4.000000</td>\n",
       "      <td>9.100000</td>\n",
       "      <td>1.000000</td>\n",
       "      <td>26726.000000</td>\n",
       "      <td>13098.500000</td>\n",
       "      <td>0.000000</td>\n",
       "      <td>455.000000</td>\n",
       "      <td>1.000000</td>\n",
       "      <td>502.000000</td>\n",
       "      <td>95.000000</td>\n",
       "    </tr>\n",
       "    <tr>\n",
       "      <th>75%</th>\n",
       "      <td>14.000000</td>\n",
       "      <td>6.800000e+06</td>\n",
       "      <td>69.900000</td>\n",
       "      <td>3.000000</td>\n",
       "      <td>2.800000</td>\n",
       "      <td>16.000000</td>\n",
       "      <td>42.300000</td>\n",
       "      <td>8.000000</td>\n",
       "      <td>12.000000</td>\n",
       "      <td>2.000000</td>\n",
       "      <td>37273.000000</td>\n",
       "      <td>16293.000000</td>\n",
       "      <td>1.000000</td>\n",
       "      <td>612.000000</td>\n",
       "      <td>1.000000</td>\n",
       "      <td>729.000000</td>\n",
       "      <td>232.000000</td>\n",
       "    </tr>\n",
       "    <tr>\n",
       "      <th>max</th>\n",
       "      <td>50.000000</td>\n",
       "      <td>7.630000e+08</td>\n",
       "      <td>900.000000</td>\n",
       "      <td>19.000000</td>\n",
       "      <td>100.000000</td>\n",
       "      <td>60.000000</td>\n",
       "      <td>409.700000</td>\n",
       "      <td>33.000000</td>\n",
       "      <td>112.000000</td>\n",
       "      <td>5.000000</td>\n",
       "      <td>84869.000000</td>\n",
       "      <td>65968.000000</td>\n",
       "      <td>3.000000</td>\n",
       "      <td>3190.000000</td>\n",
       "      <td>3.000000</td>\n",
       "      <td>1344.000000</td>\n",
       "      <td>1580.000000</td>\n",
       "    </tr>\n",
       "  </tbody>\n",
       "</table>\n",
       "</div>"
      ],
      "text/plain": [
       "       total_images    last_price    total_area         rooms  ceiling_height  \\\n",
       "count  23699.000000  2.369900e+04  23699.000000  23699.000000    14504.000000   \n",
       "mean       9.858475  6.541549e+06     60.348651      2.070636        2.771499   \n",
       "std        5.682529  1.088701e+07     35.654083      1.078405        1.261056   \n",
       "min        0.000000  1.219000e+04     12.000000      0.000000        1.000000   \n",
       "25%        6.000000  3.400000e+06     40.000000      1.000000        2.520000   \n",
       "50%        9.000000  4.650000e+06     52.000000      2.000000        2.650000   \n",
       "75%       14.000000  6.800000e+06     69.900000      3.000000        2.800000   \n",
       "max       50.000000  7.630000e+08    900.000000     19.000000      100.000000   \n",
       "\n",
       "       floors_total   living_area         floor  kitchen_area       balcony  \\\n",
       "count  23613.000000  21796.000000  23699.000000  21421.000000  12180.000000   \n",
       "mean      10.673824     34.457852      5.892358     10.569807      1.150082   \n",
       "std        6.597173     22.030445      4.885249      5.905438      1.071300   \n",
       "min        1.000000      2.000000      1.000000      1.300000      0.000000   \n",
       "25%        5.000000     18.600000      2.000000      7.000000      0.000000   \n",
       "50%        9.000000     30.000000      4.000000      9.100000      1.000000   \n",
       "75%       16.000000     42.300000      8.000000     12.000000      2.000000   \n",
       "max       60.000000    409.700000     33.000000    112.000000      5.000000   \n",
       "\n",
       "       airports_nearest  cityCenters_nearest  parks_around3000  parks_nearest  \\\n",
       "count      18157.000000         18180.000000      18181.000000    8079.000000   \n",
       "mean       28793.672193         14191.277833          0.611408     490.804555   \n",
       "std        12630.880622          8608.386210          0.802074     342.317995   \n",
       "min            0.000000           181.000000          0.000000       1.000000   \n",
       "25%        18585.000000          9238.000000          0.000000     288.000000   \n",
       "50%        26726.000000         13098.500000          0.000000     455.000000   \n",
       "75%        37273.000000         16293.000000          1.000000     612.000000   \n",
       "max        84869.000000         65968.000000          3.000000    3190.000000   \n",
       "\n",
       "       ponds_around3000  ponds_nearest  days_exposition  \n",
       "count      18181.000000    9110.000000     20518.000000  \n",
       "mean           0.770255     517.980900       180.888634  \n",
       "std            0.938346     277.720643       219.727988  \n",
       "min            0.000000      13.000000         1.000000  \n",
       "25%            0.000000     294.000000        45.000000  \n",
       "50%            1.000000     502.000000        95.000000  \n",
       "75%            1.000000     729.000000       232.000000  \n",
       "max            3.000000    1344.000000      1580.000000  "
      ]
     },
     "execution_count": 5,
     "metadata": {},
     "output_type": "execute_result"
    }
   ],
   "source": [
    "data.describe()"
   ]
  },
  {
   "cell_type": "code",
   "execution_count": 6,
   "metadata": {},
   "outputs": [
    {
     "data": {
      "text/plain": [
       "0"
      ]
     },
     "execution_count": 6,
     "metadata": {},
     "output_type": "execute_result"
    }
   ],
   "source": [
    "data.duplicated().sum()"
   ]
  },
  {
   "cell_type": "code",
   "execution_count": 7,
   "metadata": {},
   "outputs": [
    {
     "data": {
      "text/plain": [
       "total_images                0\n",
       "last_price                  0\n",
       "total_area                  0\n",
       "first_day_exposition        0\n",
       "rooms                       0\n",
       "ceiling_height           9195\n",
       "floors_total               86\n",
       "living_area              1903\n",
       "floor                       0\n",
       "is_apartment            20924\n",
       "studio                      0\n",
       "open_plan                   0\n",
       "kitchen_area             2278\n",
       "balcony                 11519\n",
       "locality_name              49\n",
       "airports_nearest         5542\n",
       "cityCenters_nearest      5519\n",
       "parks_around3000         5518\n",
       "parks_nearest           15620\n",
       "ponds_around3000         5518\n",
       "ponds_nearest           14589\n",
       "days_exposition          3181\n",
       "dtype: int64"
      ]
     },
     "execution_count": 7,
     "metadata": {},
     "output_type": "execute_result"
    }
   ],
   "source": [
    "#смотрим количество пропущенных значений по стобцам\n",
    "data.isna().sum()"
   ]
  },
  {
   "cell_type": "markdown",
   "metadata": {},
   "source": [
    "Исходя из общей картины данных можно сделать следующие выводы: всего в датафрейме 23699 строк, 22 столбца. В таблице собраны обширные данные, харктеризующие объекты недвижимости от основных характеристик (площадь, этаж, кол-во комнат) до расположения ближайших прудов и  парков. Данных достаточно для проведения всестороннего анализа.\n",
    "Некоторые столбцы заполнены лишь на половину - высота потолков, наличие балконов, ближайшие аэропорты, парки и пруды. Разбираться с пропусками будем далее.\n",
    "Дубликатов в таблице не обнаружено."
   ]
  },
  {
   "cell_type": "markdown",
   "metadata": {},
   "source": [
    "## Предобработка данных"
   ]
  },
  {
   "cell_type": "code",
   "execution_count": 8,
   "metadata": {},
   "outputs": [
    {
     "name": "stdout",
     "output_type": "stream",
     "text": [
      "<class 'pandas.core.frame.DataFrame'>\n",
      "RangeIndex: 23699 entries, 0 to 23698\n",
      "Data columns (total 22 columns):\n",
      " #   Column                Non-Null Count  Dtype  \n",
      "---  ------                --------------  -----  \n",
      " 0   total_images          23699 non-null  int64  \n",
      " 1   last_price            23699 non-null  float64\n",
      " 2   total_area            23699 non-null  float64\n",
      " 3   first_day_exposition  23699 non-null  object \n",
      " 4   rooms                 23699 non-null  int64  \n",
      " 5   ceiling_height        14504 non-null  float64\n",
      " 6   floors_total          23613 non-null  float64\n",
      " 7   living_area           21796 non-null  float64\n",
      " 8   floor                 23699 non-null  int64  \n",
      " 9   is_apartment          2775 non-null   object \n",
      " 10  studio                23699 non-null  bool   \n",
      " 11  open_plan             23699 non-null  bool   \n",
      " 12  kitchen_area          21421 non-null  float64\n",
      " 13  balcony               12180 non-null  float64\n",
      " 14  locality_name         23650 non-null  object \n",
      " 15  airports_nearest      18157 non-null  float64\n",
      " 16  cityCenters_nearest   18180 non-null  float64\n",
      " 17  parks_around3000      18181 non-null  float64\n",
      " 18  parks_nearest         8079 non-null   float64\n",
      " 19  ponds_around3000      18181 non-null  float64\n",
      " 20  ponds_nearest         9110 non-null   float64\n",
      " 21  days_exposition       20518 non-null  float64\n",
      "dtypes: bool(2), float64(14), int64(3), object(3)\n",
      "memory usage: 3.7+ MB\n"
     ]
    }
   ],
   "source": [
    "#еще раз вызываем информацию о датасете, чтобы разобраться с типами данных\n",
    "data.info()"
   ]
  },
  {
   "cell_type": "markdown",
   "metadata": {},
   "source": [
    "Типы данных соответствуют содержимому столбцов. Кое-где можно вещественные числа заменить на целые, но из-за большого количества пропусков могут быть проблемы. Поэтому предлагаю оставить как есть.\n",
    "Единственное, что бы я поменяла это тип даты и времени. Не факт, что придется с ними работать, но на случай, если придется переведу сразу в datetime\n",
    "Названия столбцов меня тоже устраивают"
   ]
  },
  {
   "cell_type": "code",
   "execution_count": 9,
   "metadata": {
    "scrolled": true
   },
   "outputs": [
    {
     "data": {
      "text/html": [
       "<div>\n",
       "<style scoped>\n",
       "    .dataframe tbody tr th:only-of-type {\n",
       "        vertical-align: middle;\n",
       "    }\n",
       "\n",
       "    .dataframe tbody tr th {\n",
       "        vertical-align: top;\n",
       "    }\n",
       "\n",
       "    .dataframe thead th {\n",
       "        text-align: right;\n",
       "    }\n",
       "</style>\n",
       "<table border=\"1\" class=\"dataframe\">\n",
       "  <thead>\n",
       "    <tr style=\"text-align: right;\">\n",
       "      <th></th>\n",
       "      <th>total_images</th>\n",
       "      <th>last_price</th>\n",
       "      <th>total_area</th>\n",
       "      <th>first_day_exposition</th>\n",
       "      <th>rooms</th>\n",
       "      <th>ceiling_height</th>\n",
       "      <th>floors_total</th>\n",
       "      <th>living_area</th>\n",
       "      <th>floor</th>\n",
       "      <th>is_apartment</th>\n",
       "      <th>...</th>\n",
       "      <th>kitchen_area</th>\n",
       "      <th>balcony</th>\n",
       "      <th>locality_name</th>\n",
       "      <th>airports_nearest</th>\n",
       "      <th>cityCenters_nearest</th>\n",
       "      <th>parks_around3000</th>\n",
       "      <th>parks_nearest</th>\n",
       "      <th>ponds_around3000</th>\n",
       "      <th>ponds_nearest</th>\n",
       "      <th>days_exposition</th>\n",
       "    </tr>\n",
       "  </thead>\n",
       "  <tbody>\n",
       "    <tr>\n",
       "      <th>0</th>\n",
       "      <td>20</td>\n",
       "      <td>13000000.0</td>\n",
       "      <td>108.0</td>\n",
       "      <td>2019-03-07</td>\n",
       "      <td>3</td>\n",
       "      <td>2.70</td>\n",
       "      <td>16.0</td>\n",
       "      <td>51.0</td>\n",
       "      <td>8</td>\n",
       "      <td>NaN</td>\n",
       "      <td>...</td>\n",
       "      <td>25.0</td>\n",
       "      <td>NaN</td>\n",
       "      <td>Санкт-Петербург</td>\n",
       "      <td>18863.0</td>\n",
       "      <td>16028.0</td>\n",
       "      <td>1.0</td>\n",
       "      <td>482.0</td>\n",
       "      <td>2.0</td>\n",
       "      <td>755.0</td>\n",
       "      <td>NaN</td>\n",
       "    </tr>\n",
       "    <tr>\n",
       "      <th>1</th>\n",
       "      <td>7</td>\n",
       "      <td>3350000.0</td>\n",
       "      <td>40.4</td>\n",
       "      <td>2018-12-04</td>\n",
       "      <td>1</td>\n",
       "      <td>NaN</td>\n",
       "      <td>11.0</td>\n",
       "      <td>18.6</td>\n",
       "      <td>1</td>\n",
       "      <td>NaN</td>\n",
       "      <td>...</td>\n",
       "      <td>11.0</td>\n",
       "      <td>2.0</td>\n",
       "      <td>посёлок Шушары</td>\n",
       "      <td>12817.0</td>\n",
       "      <td>18603.0</td>\n",
       "      <td>0.0</td>\n",
       "      <td>NaN</td>\n",
       "      <td>0.0</td>\n",
       "      <td>NaN</td>\n",
       "      <td>81.0</td>\n",
       "    </tr>\n",
       "    <tr>\n",
       "      <th>2</th>\n",
       "      <td>10</td>\n",
       "      <td>5196000.0</td>\n",
       "      <td>56.0</td>\n",
       "      <td>2015-08-20</td>\n",
       "      <td>2</td>\n",
       "      <td>NaN</td>\n",
       "      <td>5.0</td>\n",
       "      <td>34.3</td>\n",
       "      <td>4</td>\n",
       "      <td>NaN</td>\n",
       "      <td>...</td>\n",
       "      <td>8.3</td>\n",
       "      <td>0.0</td>\n",
       "      <td>Санкт-Петербург</td>\n",
       "      <td>21741.0</td>\n",
       "      <td>13933.0</td>\n",
       "      <td>1.0</td>\n",
       "      <td>90.0</td>\n",
       "      <td>2.0</td>\n",
       "      <td>574.0</td>\n",
       "      <td>558.0</td>\n",
       "    </tr>\n",
       "    <tr>\n",
       "      <th>3</th>\n",
       "      <td>0</td>\n",
       "      <td>64900000.0</td>\n",
       "      <td>159.0</td>\n",
       "      <td>2015-07-24</td>\n",
       "      <td>3</td>\n",
       "      <td>NaN</td>\n",
       "      <td>14.0</td>\n",
       "      <td>NaN</td>\n",
       "      <td>9</td>\n",
       "      <td>NaN</td>\n",
       "      <td>...</td>\n",
       "      <td>NaN</td>\n",
       "      <td>0.0</td>\n",
       "      <td>Санкт-Петербург</td>\n",
       "      <td>28098.0</td>\n",
       "      <td>6800.0</td>\n",
       "      <td>2.0</td>\n",
       "      <td>84.0</td>\n",
       "      <td>3.0</td>\n",
       "      <td>234.0</td>\n",
       "      <td>424.0</td>\n",
       "    </tr>\n",
       "    <tr>\n",
       "      <th>4</th>\n",
       "      <td>2</td>\n",
       "      <td>10000000.0</td>\n",
       "      <td>100.0</td>\n",
       "      <td>2018-06-19</td>\n",
       "      <td>2</td>\n",
       "      <td>3.03</td>\n",
       "      <td>14.0</td>\n",
       "      <td>32.0</td>\n",
       "      <td>13</td>\n",
       "      <td>NaN</td>\n",
       "      <td>...</td>\n",
       "      <td>41.0</td>\n",
       "      <td>NaN</td>\n",
       "      <td>Санкт-Петербург</td>\n",
       "      <td>31856.0</td>\n",
       "      <td>8098.0</td>\n",
       "      <td>2.0</td>\n",
       "      <td>112.0</td>\n",
       "      <td>1.0</td>\n",
       "      <td>48.0</td>\n",
       "      <td>121.0</td>\n",
       "    </tr>\n",
       "  </tbody>\n",
       "</table>\n",
       "<p>5 rows × 22 columns</p>\n",
       "</div>"
      ],
      "text/plain": [
       "   total_images  last_price  total_area first_day_exposition  rooms  \\\n",
       "0            20  13000000.0       108.0           2019-03-07      3   \n",
       "1             7   3350000.0        40.4           2018-12-04      1   \n",
       "2            10   5196000.0        56.0           2015-08-20      2   \n",
       "3             0  64900000.0       159.0           2015-07-24      3   \n",
       "4             2  10000000.0       100.0           2018-06-19      2   \n",
       "\n",
       "   ceiling_height  floors_total  living_area  floor is_apartment  ...  \\\n",
       "0            2.70          16.0         51.0      8          NaN  ...   \n",
       "1             NaN          11.0         18.6      1          NaN  ...   \n",
       "2             NaN           5.0         34.3      4          NaN  ...   \n",
       "3             NaN          14.0          NaN      9          NaN  ...   \n",
       "4            3.03          14.0         32.0     13          NaN  ...   \n",
       "\n",
       "   kitchen_area  balcony    locality_name  airports_nearest  \\\n",
       "0          25.0      NaN  Санкт-Петербург           18863.0   \n",
       "1          11.0      2.0   посёлок Шушары           12817.0   \n",
       "2           8.3      0.0  Санкт-Петербург           21741.0   \n",
       "3           NaN      0.0  Санкт-Петербург           28098.0   \n",
       "4          41.0      NaN  Санкт-Петербург           31856.0   \n",
       "\n",
       "  cityCenters_nearest  parks_around3000  parks_nearest  ponds_around3000  \\\n",
       "0             16028.0               1.0          482.0               2.0   \n",
       "1             18603.0               0.0            NaN               0.0   \n",
       "2             13933.0               1.0           90.0               2.0   \n",
       "3              6800.0               2.0           84.0               3.0   \n",
       "4              8098.0               2.0          112.0               1.0   \n",
       "\n",
       "   ponds_nearest  days_exposition  \n",
       "0          755.0              NaN  \n",
       "1            NaN             81.0  \n",
       "2          574.0            558.0  \n",
       "3          234.0            424.0  \n",
       "4           48.0            121.0  \n",
       "\n",
       "[5 rows x 22 columns]"
      ]
     },
     "execution_count": 9,
     "metadata": {},
     "output_type": "execute_result"
    }
   ],
   "source": [
    "data['first_day_exposition'] = pd.to_datetime(data['first_day_exposition'], format='%Y-%m-%d %H:%M:%S')\n",
    "data.head()"
   ]
  },
  {
   "cell_type": "markdown",
   "metadata": {},
   "source": [
    "Много пропусков в столбце с балконами. Вероятнее всего, пропуск означает отсутствие балкона. Поменяем пропуски на 0 и переведем тип данных в целочисленный"
   ]
  },
  {
   "cell_type": "code",
   "execution_count": 10,
   "metadata": {},
   "outputs": [
    {
     "data": {
      "text/plain": [
       "array([0, 2, 1, 5, 4, 3])"
      ]
     },
     "execution_count": 10,
     "metadata": {},
     "output_type": "execute_result"
    }
   ],
   "source": [
    "data['balcony'] = data['balcony'].fillna(0).astype(int)\n",
    "data['balcony'].unique()"
   ]
  },
  {
   "cell_type": "code",
   "execution_count": 11,
   "metadata": {},
   "outputs": [
    {
     "data": {
      "text/plain": [
       "array([nan, False, True], dtype=object)"
      ]
     },
     "execution_count": 11,
     "metadata": {},
     "output_type": "execute_result"
    }
   ],
   "source": [
    "#посмотрим перечень значений в столбце is_apartment\n",
    "data['is_apartment'].unique()"
   ]
  },
  {
   "cell_type": "markdown",
   "metadata": {},
   "source": [
    "Пропусков в столбце апартаменты слишком много, можно предположить, что пропуск означает, что помещение - не апартаменты. Заменяем пропуски на False. "
   ]
  },
  {
   "cell_type": "code",
   "execution_count": 12,
   "metadata": {},
   "outputs": [
    {
     "data": {
      "text/plain": [
       "array([False,  True])"
      ]
     },
     "execution_count": 12,
     "metadata": {},
     "output_type": "execute_result"
    }
   ],
   "source": [
    "data['is_apartment'] = data['is_apartment'].fillna(False)\n",
    "data['is_apartment'].unique()"
   ]
  },
  {
   "cell_type": "markdown",
   "metadata": {},
   "source": [
    "В столбцах с обшим количеством этажей в доме и названием населенного пункта по 86 и 49 пропусков соответственно. При таком количестве строк датафрема (23699) это количество некритично. Мы можем избавиться от строк с пропусками в этих столбцах."
   ]
  },
  {
   "cell_type": "code",
   "execution_count": 13,
   "metadata": {},
   "outputs": [
    {
     "data": {
      "text/plain": [
       "total_images                0\n",
       "last_price                  0\n",
       "total_area                  0\n",
       "first_day_exposition        0\n",
       "rooms                       0\n",
       "ceiling_height           9084\n",
       "floors_total                0\n",
       "living_area              1865\n",
       "floor                       0\n",
       "is_apartment                0\n",
       "studio                      0\n",
       "open_plan                   0\n",
       "kitchen_area             2222\n",
       "balcony                     0\n",
       "locality_name               0\n",
       "airports_nearest         5524\n",
       "cityCenters_nearest      5501\n",
       "parks_around3000         5500\n",
       "parks_nearest           15535\n",
       "ponds_around3000         5500\n",
       "ponds_nearest           14529\n",
       "days_exposition          3171\n",
       "dtype: int64"
      ]
     },
     "execution_count": 13,
     "metadata": {},
     "output_type": "execute_result"
    }
   ],
   "source": [
    "data = data.dropna(subset=['floors_total'])\n",
    "data = data.dropna(subset=['locality_name'])\n",
    "data.isna().sum()"
   ]
  },
  {
   "cell_type": "markdown",
   "metadata": {},
   "source": [
    "В столбце с высотой потолков 9084 пропусков, можно пропуски заменить медианным значением, взятому по каждому из этажей здания. Медианным, а не средним потому что в данных могут быть ошибки и неточности, а медианное значение при наличии косяков в данных ближе к истине. Заполнять пропуски медианой будем с помощью цикла."
   ]
  },
  {
   "cell_type": "code",
   "execution_count": 14,
   "metadata": {},
   "outputs": [
    {
     "data": {
      "text/plain": [
       "0"
      ]
     },
     "execution_count": 14,
     "metadata": {},
     "output_type": "execute_result"
    }
   ],
   "source": [
    "median_height = data.groupby('floors_total')['ceiling_height'].median()\n",
    "for i in data['floors_total'].unique():\n",
    "    data.loc[(data['floors_total'] == i) & (data['ceiling_height'].isna()), 'ceiling_height'] = median_height[i]\n",
    "    \n",
    "data['ceiling_height'].isna().sum() #почему-то остался 1 пропуск, удалим эту строку\n",
    "data = data.dropna(subset=['ceiling_height'])\n",
    "data['ceiling_height'].isna().sum()"
   ]
  },
  {
   "cell_type": "markdown",
   "metadata": {},
   "source": [
    "В столбцах kitchen_area и living_area можно заменить пропуски на медианное значение этих столбцов по количеству комнат. Аналогично предыдущему используем цикл."
   ]
  },
  {
   "cell_type": "code",
   "execution_count": 15,
   "metadata": {},
   "outputs": [],
   "source": [
    "median_kitchen = data.groupby('rooms')['kitchen_area'].median()\n",
    "for i in data['rooms'].unique():\n",
    "    data.loc[(data['rooms'] == i) & (data['kitchen_area'].isna()), 'kitchen_area'] = median_kitchen[i]\n",
    "#data['kitchen_area'].isna().sum() #остаются 194 строки, исключим их, т.к. это скорее всего ошибки\n",
    "#data = data.dropna(subset=['kitchen_area'])\n",
    "\n",
    "median_living_area = data.groupby('rooms')['living_area'].median()\n",
    "for i in data['rooms'].unique():\n",
    "    data.loc[(data['rooms'] == i) & (data['living_area'].isna()), 'living_area'] = median_living_area[i]"
   ]
  },
  {
   "cell_type": "code",
   "execution_count": 16,
   "metadata": {},
   "outputs": [
    {
     "name": "stdout",
     "output_type": "stream",
     "text": [
      "<class 'pandas.core.frame.DataFrame'>\n",
      "Int64Index: 23564 entries, 0 to 23698\n",
      "Data columns (total 22 columns):\n",
      " #   Column                Non-Null Count  Dtype         \n",
      "---  ------                --------------  -----         \n",
      " 0   total_images          23564 non-null  int64         \n",
      " 1   last_price            23564 non-null  float64       \n",
      " 2   total_area            23564 non-null  float64       \n",
      " 3   first_day_exposition  23564 non-null  datetime64[ns]\n",
      " 4   rooms                 23564 non-null  int64         \n",
      " 5   ceiling_height        23564 non-null  float64       \n",
      " 6   floors_total          23564 non-null  float64       \n",
      " 7   living_area           23564 non-null  float64       \n",
      " 8   floor                 23564 non-null  int64         \n",
      " 9   is_apartment          23564 non-null  bool          \n",
      " 10  studio                23564 non-null  bool          \n",
      " 11  open_plan             23564 non-null  bool          \n",
      " 12  kitchen_area          23370 non-null  float64       \n",
      " 13  balcony               23564 non-null  int64         \n",
      " 14  locality_name         23564 non-null  object        \n",
      " 15  airports_nearest      18040 non-null  float64       \n",
      " 16  cityCenters_nearest   18063 non-null  float64       \n",
      " 17  parks_around3000      18064 non-null  float64       \n",
      " 18  parks_nearest         8030 non-null   float64       \n",
      " 19  ponds_around3000      18064 non-null  float64       \n",
      " 20  ponds_nearest         9035 non-null   float64       \n",
      " 21  days_exposition       20393 non-null  float64       \n",
      "dtypes: bool(3), datetime64[ns](1), float64(13), int64(4), object(1)\n",
      "memory usage: 3.7+ MB\n"
     ]
    }
   ],
   "source": [
    "data.info()"
   ]
  },
  {
   "cell_type": "markdown",
   "metadata": {},
   "source": [
    "Итак, что мы обработали к этому моменту:\n",
    "- изменили тип данных в стобце 'first_day_exposition';\n",
    "- заменили пропуски в столбце 'balcony' на 0 и привели значения столбца к цельночисловому типу данных;\n",
    "- заменили пропуски в столбце 'is_apartement' на False;\n",
    "- удалили строки с пропусками в столбцах 'floors_total' и 'locality_name', так как их общее количнство ничтожно по сравнению с количеством строк датафрейма;\n",
    "- в столбце 'ceiling_height' заполнили пропуски медианным значением высоты по этажу;\n",
    "- в столбцах 'living_area' и 'kitchen_area' заполнили пропусками медианным значением соответствующей площади по количеству комнат.\n",
    "\n",
    "Оставшиеся столбцы с пропусками не видятся мне как ключевые для решения поставленной задачи, поэтому не будет критично оставить их с пропусками. Более того, как их убирать я ума не приложу: удалить не удалишь - слишком много потеряется строк, на какие значения менять мне неведомо(\n",
    "В совокупности от 23699 строк у нас осталось 23370, потери незначительны, на анализ не повлияет. \n",
    "Займемся аномалиями и дубликатами."
   ]
  },
  {
   "cell_type": "code",
   "execution_count": 17,
   "metadata": {},
   "outputs": [
    {
     "data": {
      "text/plain": [
       "санкт-петербург                      15650\n",
       "поселок мурино                         552\n",
       "поселок шушары                         439\n",
       "всеволожск                             398\n",
       "пушкин                                 369\n",
       "                                     ...  \n",
       "поселок белоостров                       1\n",
       "садовое товарищество приладожский        1\n",
       "поселок рабитицы                         1\n",
       "деревня вахнова кара                     1\n",
       "поселок почап                            1\n",
       "Name: locality_name, Length: 321, dtype: int64"
      ]
     },
     "execution_count": 17,
     "metadata": {},
     "output_type": "execute_result"
    }
   ],
   "source": [
    "data['locality_name'] = data['locality_name'].str.lower().str.replace('ё', 'е')\n",
    "data['locality_name'] = data['locality_name'].str.replace('поселок городского типа', 'поселок')\n",
    "data['locality_name'] = data['locality_name'].str.replace('городской поселок', 'поселок')\n",
    "data['locality_name'] = data['locality_name'].str.replace('коттеджный поселок', 'поселок')\n",
    "data['locality_name'] = data['locality_name'].str.replace('поселок при железнодорожной станции', 'поселок')\n",
    "data['locality_name'].value_counts()"
   ]
  },
  {
   "cell_type": "markdown",
   "metadata": {},
   "source": [
    "Удалось избавиться от 43 неявных дубликатов. \n",
    "Посмотрим аномальные значения в столбце ceiling_height"
   ]
  },
  {
   "cell_type": "code",
   "execution_count": 18,
   "metadata": {},
   "outputs": [],
   "source": [
    "#data['ceiling_height'].unique()\n",
    "#строк с аномальными значениями не так много, можно их удалить\n",
    "data.loc[data['ceiling_height'] > 10,'ceiling_height'] = None\n",
    "data = data.dropna(subset=['ceiling_height']).reset_index(drop=True)"
   ]
  },
  {
   "cell_type": "markdown",
   "metadata": {},
   "source": [
    "По результатам предобработки данных мы избавились от пропусков в столбцах там, где это возможно, убрали неявные дубликаты в столбце, обзначающем местоположение объекта недвижимости, а также убрали аномальные значения в столбце с высотой потолков."
   ]
  },
  {
   "cell_type": "markdown",
   "metadata": {},
   "source": [
    "## Посчитайте и добавьте в таблицу новые столбцы"
   ]
  },
  {
   "cell_type": "markdown",
   "metadata": {},
   "source": [
    "Начнем добавлять в датафрейм новые столбцы, необходимые для дальнейшего анализа.\n",
    "Первым добавим столбец со стоимостью 1 квадратного метра."
   ]
  },
  {
   "cell_type": "code",
   "execution_count": 19,
   "metadata": {},
   "outputs": [],
   "source": [
    "data['sq_m_price'] = data['last_price']/data['total_area']\n",
    "#data.head(10)"
   ]
  },
  {
   "cell_type": "markdown",
   "metadata": {},
   "source": [
    "Следующим шагом добавим в таблицу столбцы с обозначениями дня недели, месяца и года размещения публикации о продаже"
   ]
  },
  {
   "cell_type": "code",
   "execution_count": 20,
   "metadata": {},
   "outputs": [],
   "source": [
    "data['weekday'] = data['first_day_exposition'].dt.weekday\n",
    "data['month'] = data['first_day_exposition'].dt.month\n",
    "data['year'] = data['first_day_exposition'].dt.year\n",
    "#data.head(10)"
   ]
  },
  {
   "cell_type": "markdown",
   "metadata": {},
   "source": [
    "Далее добавим в таблицу с типами этажей: первый, последний или другой."
   ]
  },
  {
   "cell_type": "code",
   "execution_count": 21,
   "metadata": {},
   "outputs": [],
   "source": [
    "data['floor_type'] = 'другой'\n",
    "data['floor_type'] = data['floor_type'].where(data['floor'] > 1, 'первый')\n",
    "data['floor_type'] = data['floor_type'].where(data['floor'] < data['floors_total'], 'последний')\n",
    "#data.head(20)"
   ]
  },
  {
   "cell_type": "markdown",
   "metadata": {},
   "source": [
    "Теперь добавим столбец с указанием расстояния до центра города в километрах"
   ]
  },
  {
   "cell_type": "code",
   "execution_count": 22,
   "metadata": {},
   "outputs": [],
   "source": [
    "data['km_to_centre'] = data['cityCenters_nearest'] / 1000\n",
    "#data.head()"
   ]
  },
  {
   "cell_type": "markdown",
   "metadata": {},
   "source": [
    "В ходе добавления новых столбцов в таблице появились следующие столбцы:\n",
    "- стоимость квадратного метра\n",
    "- указания на день, месяц и год размещения объявления\n",
    "- тип этажа: первый, последний или другой\n",
    "- расстояние до центра города в км\n",
    "\n",
    "Приступим к исследованию данных с помощью гистограмм и графиков"
   ]
  },
  {
   "cell_type": "markdown",
   "metadata": {},
   "source": [
    "## Проведите исследовательский анализ данных"
   ]
  },
  {
   "cell_type": "code",
   "execution_count": 23,
   "metadata": {},
   "outputs": [
    {
     "data": {
      "image/png": "[encoded data removed]",
      "text/plain": [
       "<Figure size 432x288 with 1 Axes>"
      ]
     },
     "metadata": {
      "needs_background": "light"
     },
     "output_type": "display_data"
    }
   ],
   "source": [
    "data['total_area'].plot(kind = 'hist', grid = 'True', title = 'Гистограмма общей площади')\n",
    "plt.show()"
   ]
  },
  {
   "cell_type": "code",
   "execution_count": 24,
   "metadata": {},
   "outputs": [
    {
     "data": {
      "text/plain": [
       "count    23538.000000\n",
       "mean        60.328896\n",
       "std         35.669891\n",
       "min         12.000000\n",
       "25%         40.000000\n",
       "50%         52.000000\n",
       "75%         69.700000\n",
       "max        900.000000\n",
       "Name: total_area, dtype: float64"
      ]
     },
     "execution_count": 24,
     "metadata": {},
     "output_type": "execute_result"
    }
   ],
   "source": [
    "data['total_area'].describe()"
   ]
  },
  {
   "cell_type": "markdown",
   "metadata": {},
   "source": [
    "Из гистограммы видно, что основное количество объявлений касается квартир общей площадью до 100кв.м., средняя площадь 60.3 кв.м., квартиры более 150 кв.м. встречаются очень редко"
   ]
  },
  {
   "cell_type": "code",
   "execution_count": 25,
   "metadata": {},
   "outputs": [
    {
     "data": {
      "image/png": "[encoded data removed]",
      "text/plain": [
       "<Figure size 432x288 with 1 Axes>"
      ]
     },
     "metadata": {
      "needs_background": "light"
     },
     "output_type": "display_data"
    }
   ],
   "source": [
    "data['living_area'].plot(kind = 'hist', grid = 'True', title = 'Гистограмма жилой площади')\n",
    "plt.show()"
   ]
  },
  {
   "cell_type": "code",
   "execution_count": 26,
   "metadata": {},
   "outputs": [
    {
     "data": {
      "text/plain": [
       "count    23538.000000\n",
       "mean        34.326678\n",
       "std         21.729113\n",
       "min          2.000000\n",
       "25%         18.400000\n",
       "50%         30.300000\n",
       "75%         42.700000\n",
       "max        409.700000\n",
       "Name: living_area, dtype: float64"
      ]
     },
     "execution_count": 26,
     "metadata": {},
     "output_type": "execute_result"
    }
   ],
   "source": [
    "data['living_area'].describe()"
   ]
  },
  {
   "cell_type": "markdown",
   "metadata": {},
   "source": [
    "Из гистограммы видно, что основная масса квартир имеют жилую площадь до 50 кв.м., пик около 25 кв.м., квартиры жилой площадью свыше 100 кв.м. практически не встречаются. Средняя жилая площадь 34.3 кв.м."
   ]
  },
  {
   "cell_type": "code",
   "execution_count": 27,
   "metadata": {},
   "outputs": [
    {
     "data": {
      "image/png": "[encoded data removed]",
      "text/plain": [
       "<Figure size 432x288 with 1 Axes>"
      ]
     },
     "metadata": {
      "needs_background": "light"
     },
     "output_type": "display_data"
    }
   ],
   "source": [
    "data['kitchen_area'].plot(kind = 'hist', grid = 'True', title = 'Гистограмма площади кухни')\n",
    "plt.show()"
   ]
  },
  {
   "cell_type": "code",
   "execution_count": 28,
   "metadata": {},
   "outputs": [
    {
     "data": {
      "text/plain": [
       "count    23345.000000\n",
       "mean        10.454864\n",
       "std          5.667750\n",
       "min          1.300000\n",
       "25%          7.300000\n",
       "50%          9.000000\n",
       "75%         11.500000\n",
       "max        112.000000\n",
       "Name: kitchen_area, dtype: float64"
      ]
     },
     "execution_count": 28,
     "metadata": {},
     "output_type": "execute_result"
    }
   ],
   "source": [
    "data['kitchen_area'].describe()"
   ]
  },
  {
   "cell_type": "markdown",
   "metadata": {},
   "source": [
    "Судя по гистограмме, большинство квартир имеют площадь кухни около 8 кв.м., кухни более 10 кв.м. встречаются уже существенно реже, более 20 кв.м. их практически нет. Среднее значение в 10 кв.м. на мой взгляд не показательное, так как на гистограмме видны выбросы, которые могли исказить средний показатель. В этом случае я бы доверяла медиане в 9 кв.м."
   ]
  },
  {
   "cell_type": "code",
   "execution_count": 29,
   "metadata": {},
   "outputs": [
    {
     "data": {
      "image/png": "[encoded data removed]",
      "text/plain": [
       "<Figure size 432x288 with 1 Axes>"
      ]
     },
     "metadata": {
      "needs_background": "light"
     },
     "output_type": "display_data"
    }
   ],
   "source": [
    "data['rooms'].plot(kind = 'hist', grid = 'True', title = 'Гистограмма количества комнат')\n",
    "plt.show()"
   ]
  },
  {
   "cell_type": "code",
   "execution_count": 30,
   "metadata": {},
   "outputs": [
    {
     "data": {
      "text/plain": [
       "count    23538.000000\n",
       "mean         2.070822\n",
       "std          1.078807\n",
       "min          0.000000\n",
       "25%          1.000000\n",
       "50%          2.000000\n",
       "75%          3.000000\n",
       "max         19.000000\n",
       "Name: rooms, dtype: float64"
      ]
     },
     "execution_count": 30,
     "metadata": {},
     "output_type": "execute_result"
    }
   ],
   "source": [
    "data['rooms'].describe()"
   ]
  },
  {
   "cell_type": "markdown",
   "metadata": {},
   "source": [
    "Из гистограммы видно, что наиболее популярны квартиры с 1 и 2 комнатами, однушки чуть более популярны. 3х комнатных квартир уже несколько меньше, а 4, 5 и тд почти не встречается"
   ]
  },
  {
   "cell_type": "code",
   "execution_count": 31,
   "metadata": {},
   "outputs": [
    {
     "data": {
      "text/plain": [
       "count    23538.000000\n",
       "mean         2.708418\n",
       "std          0.245794\n",
       "min          1.000000\n",
       "25%          2.550000\n",
       "50%          2.650000\n",
       "75%          2.750000\n",
       "max          8.300000\n",
       "Name: ceiling_height, dtype: float64"
      ]
     },
     "execution_count": 31,
     "metadata": {},
     "output_type": "execute_result"
    },
    {
     "data": {
      "image/png": "[encoded data removed]",
      "text/plain": [
       "<Figure size 720x360 with 1 Axes>"
      ]
     },
     "metadata": {
      "needs_background": "light"
     },
     "output_type": "display_data"
    }
   ],
   "source": [
    "#гистограмма высоты потолков\n",
    "data['ceiling_height'].hist(bins=100, figsize=(10,5))\n",
    "data['ceiling_height'].describe()"
   ]
  },
  {
   "cell_type": "markdown",
   "metadata": {},
   "source": [
    "Исходя из гистограммы, большинство квартир имеет высоту потолков 2,5-2,7 метра. Средняя высота 2,7м. Также есть некая доля квартир с потолками 3 метра, но их примерно раза в 3 меньше."
   ]
  },
  {
   "cell_type": "code",
   "execution_count": 32,
   "metadata": {},
   "outputs": [
    {
     "data": {
      "image/png": "[encoded data removed]",
      "text/plain": [
       "<Figure size 432x288 with 1 Axes>"
      ]
     },
     "metadata": {
      "needs_background": "light"
     },
     "output_type": "display_data"
    }
   ],
   "source": [
    "data['floor'].plot(kind = 'hist', bins = 100, grid = 'True', title = 'Гистограмма этажей')\n",
    "plt.show()"
   ]
  },
  {
   "cell_type": "code",
   "execution_count": 33,
   "metadata": {},
   "outputs": [
    {
     "data": {
      "text/plain": [
       "count    23538.000000\n",
       "mean         5.876115\n",
       "std          4.866073\n",
       "min          1.000000\n",
       "25%          2.000000\n",
       "50%          4.000000\n",
       "75%          8.000000\n",
       "max         33.000000\n",
       "Name: floor, dtype: float64"
      ]
     },
     "execution_count": 33,
     "metadata": {},
     "output_type": "execute_result"
    }
   ],
   "source": [
    "data['floor'].describe()"
   ]
  },
  {
   "cell_type": "markdown",
   "metadata": {},
   "source": [
    "Основная часть квартир расположена до 5 этажа включительно. Вероятно дело в том, что в основном продают квартиры в пятиэтажках. Большинство квартир расположено на 2 этаже. Средний этаж - 5, максимальный - 33 "
   ]
  },
  {
   "cell_type": "code",
   "execution_count": 35,
   "metadata": {},
   "outputs": [
    {
     "data": {
      "text/plain": [
       "array([ 8,  1,  4,  9, 13,  5,  6, 22, 26,  7,  3,  2, 11, 15, 18, 10, 19,\n",
       "       16, 20, 27, 25, 17, 14, 12, 21, 24, 23, 30, 29, 33, 31])"
      ]
     },
     "execution_count": 35,
     "metadata": {},
     "output_type": "execute_result"
    }
   ],
   "source": [
    "data['floor'].unique()"
   ]
  },
  {
   "cell_type": "code",
   "execution_count": 36,
   "metadata": {
    "scrolled": true
   },
   "outputs": [
    {
     "data": {
      "text/plain": [
       "count    23538.000000\n",
       "mean         5.876115\n",
       "std          4.866073\n",
       "min          1.000000\n",
       "25%          2.000000\n",
       "50%          4.000000\n",
       "75%          8.000000\n",
       "max         33.000000\n",
       "Name: floor, dtype: float64"
      ]
     },
     "execution_count": 36,
     "metadata": {},
     "output_type": "execute_result"
    },
    {
     "data": {
      "image/png": "[encoded data removed]",
      "text/plain": [
       "<Figure size 720x360 with 1 Axes>"
      ]
     },
     "metadata": {
      "needs_background": "light"
     },
     "output_type": "display_data"
    }
   ],
   "source": [
    "data['floor'].hist(bins=100, figsize=(10,5))\n",
    "data['floor'].describe()"
   ]
  },
  {
   "cell_type": "markdown",
   "metadata": {},
   "source": [
    "Основная часть продающихся квартир расположена не на первом и не на последнем этажах. При этом, доля квартир, расположенных на последних этажах больше, чем расположенных на первых"
   ]
  },
  {
   "cell_type": "code",
   "execution_count": 37,
   "metadata": {},
   "outputs": [
    {
     "data": {
      "text/plain": [
       "count    23538.000000\n",
       "mean        10.674951\n",
       "std          6.589397\n",
       "min          1.000000\n",
       "25%          5.000000\n",
       "50%          9.000000\n",
       "75%         16.000000\n",
       "max         60.000000\n",
       "Name: floors_total, dtype: float64"
      ]
     },
     "execution_count": 37,
     "metadata": {},
     "output_type": "execute_result"
    },
    {
     "data": {
      "image/png": "[encoded data removed]",
      "text/plain": [
       "<Figure size 720x360 with 1 Axes>"
      ]
     },
     "metadata": {
      "needs_background": "light"
     },
     "output_type": "display_data"
    }
   ],
   "source": [
    "data['floors_total'].hist(bins=100, figsize=(10,5))\n",
    "data['floors_total'].describe()"
   ]
  },
  {
   "cell_type": "markdown",
   "metadata": {},
   "source": [
    "Видно, что действительно больше всего домов с 5 этажами, также достаточно много девятиэтажек. Меньше 5 этаже домов почти не встречается. Также выделяются 10, 12, 16, 25 - этажные дома. Выше 27 этажей домов практически нет."
   ]
  },
  {
   "cell_type": "code",
   "execution_count": 38,
   "metadata": {},
   "outputs": [
    {
     "data": {
      "text/plain": [
       "count    18046.000000\n",
       "mean     14192.421645\n",
       "std       8611.759393\n",
       "min        181.000000\n",
       "25%       9238.000000\n",
       "50%      13096.500000\n",
       "75%      16285.000000\n",
       "max      65968.000000\n",
       "Name: cityCenters_nearest, dtype: float64"
      ]
     },
     "execution_count": 38,
     "metadata": {},
     "output_type": "execute_result"
    },
    {
     "data": {
      "image/png": "[encoded data removed]",
      "text/plain": [
       "<Figure size 720x360 with 1 Axes>"
      ]
     },
     "metadata": {
      "needs_background": "light"
     },
     "output_type": "display_data"
    }
   ],
   "source": [
    "data['cityCenters_nearest'].hist(bins=100, figsize=(10,5))\n",
    "data['cityCenters_nearest'].describe()"
   ]
  },
  {
   "cell_type": "markdown",
   "metadata": {},
   "source": [
    "Большинство продающихся квартир расположены от 11 до 17 км от центра. Средняя удаленность - 14 км. Также есть пик в 5 км от центра, а также неболбшой объем квартир, расположенных в 50-55 км от центра. Возможно, там крупный населенный пункт. Удаленность свыше 55 км от центра почти не встречается. В диапозоне от 37 до 47 км также очень мало предложений."
   ]
  },
  {
   "cell_type": "code",
   "execution_count": 39,
   "metadata": {},
   "outputs": [
    {
     "data": {
      "text/plain": [
       "count    18023.000000\n",
       "mean     28798.902957\n",
       "std      12631.157661\n",
       "min          0.000000\n",
       "25%      18561.000000\n",
       "50%      26757.000000\n",
       "75%      37274.000000\n",
       "max      84869.000000\n",
       "Name: airports_nearest, dtype: float64"
      ]
     },
     "execution_count": 39,
     "metadata": {},
     "output_type": "execute_result"
    },
    {
     "data": {
      "image/png": "[encoded data removed]",
      "text/plain": [
       "<Figure size 720x360 with 1 Axes>"
      ]
     },
     "metadata": {
      "needs_background": "light"
     },
     "output_type": "display_data"
    }
   ],
   "source": [
    "data['airports_nearest'].hist(bins=100, figsize=(10,5))\n",
    "data['airports_nearest'].describe()"
   ]
  },
  {
   "cell_type": "markdown",
   "metadata": {},
   "source": [
    "Основная часть квартир расположена на расстоянии от 10 до 25 км от аэропорта. Максимальная удаленность - 84 км, средняя удаленность 28 км."
   ]
  },
  {
   "cell_type": "code",
   "execution_count": 40,
   "metadata": {},
   "outputs": [
    {
     "data": {
      "text/plain": [
       "count    8022.000000\n",
       "mean      490.577661\n",
       "std       341.673892\n",
       "min         1.000000\n",
       "25%       288.000000\n",
       "50%       455.000000\n",
       "75%       612.000000\n",
       "max      3190.000000\n",
       "Name: parks_nearest, dtype: float64"
      ]
     },
     "execution_count": 40,
     "metadata": {},
     "output_type": "execute_result"
    },
    {
     "data": {
      "image/png": "[encoded data removed]",
      "text/plain": [
       "<Figure size 720x360 with 1 Axes>"
      ]
     },
     "metadata": {
      "needs_background": "light"
     },
     "output_type": "display_data"
    }
   ],
   "source": [
    "data['parks_nearest'].hist(bins=100, figsize=(10,5))\n",
    "data['parks_nearest'].describe()"
   ]
  },
  {
   "cell_type": "markdown",
   "metadata": {},
   "source": [
    "Судя по гистограмме подавляющее большинство квартир находятся рядом с парками. Основная масса квартир расположена на расстоянии от 200 до 750 метров до парка. Расстояние от 1км и болье встречается крайне редко."
   ]
  },
  {
   "cell_type": "code",
   "execution_count": 41,
   "metadata": {},
   "outputs": [
    {
     "data": {
      "text/plain": [
       "count    23538.000000\n",
       "mean         2.567550\n",
       "std          1.788459\n",
       "min          0.000000\n",
       "25%          1.000000\n",
       "50%          3.000000\n",
       "75%          4.000000\n",
       "max          6.000000\n",
       "Name: weekday, dtype: float64"
      ]
     },
     "execution_count": 41,
     "metadata": {},
     "output_type": "execute_result"
    },
    {
     "data": {
      "image/png": "[encoded data removed]",
      "text/plain": [
       "<Figure size 720x360 with 1 Axes>"
      ]
     },
     "metadata": {
      "needs_background": "light"
     },
     "output_type": "display_data"
    }
   ],
   "source": [
    "data['weekday'].hist(bins=100, figsize=(10,5))\n",
    "data['weekday'].describe()"
   ]
  },
  {
   "cell_type": "markdown",
   "metadata": {},
   "source": [
    "По гистограмме видно, что в течение рабочей недели количество обхявлений примерно одинаково, однако небольшлое большинство имеет четверг. По выходным объявления выкладывали в 2 раза реже."
   ]
  },
  {
   "cell_type": "code",
   "execution_count": 42,
   "metadata": {},
   "outputs": [
    {
     "data": {
      "text/plain": [
       "count    23538.000000\n",
       "mean         6.402286\n",
       "std          3.492913\n",
       "min          1.000000\n",
       "25%          3.000000\n",
       "50%          6.000000\n",
       "75%         10.000000\n",
       "max         12.000000\n",
       "Name: month, dtype: float64"
      ]
     },
     "execution_count": 42,
     "metadata": {},
     "output_type": "execute_result"
    },
    {
     "data": {
      "image/png": "[encoded data removed]",
      "text/plain": [
       "<Figure size 720x360 with 1 Axes>"
      ]
     },
     "metadata": {
      "needs_background": "light"
     },
     "output_type": "display_data"
    }
   ],
   "source": [
    "data['month'].hist(bins=100, figsize=(10,5))\n",
    "data['month'].describe()"
   ]
  },
  {
   "cell_type": "markdown",
   "metadata": {},
   "source": [
    "Судя по гистограмме, наибольшее количество объявлений появляются в феврале, марте, апреле, сентябре, октябре и ноябре. Провалы в январе и мае, тут все понятно - праздники. Летом тоже наблюдается спад количества объявлений. В декабре объявлений тоже меньше  - мало кто озадачивается продаже недвижимости под Новый год."
   ]
  },
  {
   "cell_type": "code",
   "execution_count": 43,
   "metadata": {},
   "outputs": [
    {
     "data": {
      "text/plain": [
       "count    20373.000000\n",
       "mean       180.790703\n",
       "std        219.789448\n",
       "min          1.000000\n",
       "25%         45.000000\n",
       "50%         95.000000\n",
       "75%        231.000000\n",
       "max       1580.000000\n",
       "Name: days_exposition, dtype: float64"
      ]
     },
     "execution_count": 43,
     "metadata": {},
     "output_type": "execute_result"
    },
    {
     "data": {
      "image/png": "[encoded data removed]",
      "text/plain": [
       "<Figure size 720x360 with 1 Axes>"
      ]
     },
     "metadata": {
      "needs_background": "light"
     },
     "output_type": "display_data"
    }
   ],
   "source": [
    "#проанализируем то, насколько долго продаются квартиры\n",
    "data['days_exposition'].hist(bins=100, figsize=(10,5))\n",
    "data['days_exposition'].describe()"
   ]
  },
  {
   "cell_type": "markdown",
   "metadata": {},
   "source": [
    "Судя по гистограмме квартиры в основном продаются достаточно быстро. Большинство квартир продается примерно за 3 месяца. Продажу до истечения 3 месяцев можно считать быстрой. От 6 месяцев до года продается десятая часть квартир, свыше года еще меньше. Продажу свяше 600 дней можно считать редкой и аномально долгой. Среднее количество дней, в течение которых висело объявление - 180 (6 месяцев). Медианное значение - 95 дней (около 3 месяцев)"
   ]
  },
  {
   "cell_type": "markdown",
   "metadata": {},
   "source": [
    "Кроме того, видны выбивающиеся значения, некоторые объявления провисели аномально долго, максимальное значение - 1580 дней (это где то 4 года и 4 месяца). Причин такому необыкновенно длительному размещению может быть несколько: ошибки в данных, например, случайно 0 лишний напечатался и нормальные 158 дней превратились в аномальные 1580. Может быть реальное объявление провисело такое количество времени, но это по мне маловероятно, так как человека замучали бы звонками. Возможно также, что такие аномально долгие объявления - проделки каких-нибудь мошенников или не самых добросовестных риэлторов, которые выставляют несуществующие объекты с супер привлекательными условиями, чтобы заманить потенциального клиента или жертву мошенничества."
   ]
  },
  {
   "cell_type": "markdown",
   "metadata": {},
   "source": [
    "### Изучим влияние различных факторов на стоимость недвижимости"
   ]
  },
  {
   "cell_type": "markdown",
   "metadata": {},
   "source": [
    "Мы будем изучать зависимость стоимость объекта недвижимости от следующих факторов:\n",
    "  - общей площади;\n",
    "  - жилой площади;\n",
    "  - площади кухни;\n",
    "  - количество комнат;\n",
    "  - типа этажа, на котором расположена квартира (первый, последний, другой);\n",
    "  - даты размещения (день недели, месяц, год)"
   ]
  },
  {
   "cell_type": "code",
   "execution_count": 44,
   "metadata": {},
   "outputs": [
    {
     "data": {
      "text/plain": [
       "<AxesSubplot:xlabel='total_area'>"
      ]
     },
     "execution_count": 44,
     "metadata": {},
     "output_type": "execute_result"
    },
    {
     "data": {
      "image/png": "[encoded data removed]",
      "text/plain": [
       "<Figure size 720x360 with 1 Axes>"
      ]
     },
     "metadata": {
      "needs_background": "light"
     },
     "output_type": "display_data"
    }
   ],
   "source": [
    "area_price = data.query('total_area < 150').pivot_table(index='total_area', values='last_price', aggfunc='median')\n",
    "#print(area_price)\n",
    "area_price.plot(style='o', figsize=(10,5))"
   ]
  },
  {
   "cell_type": "markdown",
   "metadata": {},
   "source": [
    "Видно, что действительно, с ростом общей площади растет и общая стоимость. Проверим тоже самое для стоимости 1 кв метра"
   ]
  },
  {
   "cell_type": "code",
   "execution_count": 45,
   "metadata": {},
   "outputs": [
    {
     "data": {
      "text/plain": [
       "<AxesSubplot:xlabel='total_area'>"
      ]
     },
     "execution_count": 45,
     "metadata": {},
     "output_type": "execute_result"
    },
    {
     "data": {
      "image/png": "[encoded data removed]",
      "text/plain": [
       "<Figure size 720x360 with 1 Axes>"
      ]
     },
     "metadata": {
      "needs_background": "light"
     },
     "output_type": "display_data"
    }
   ],
   "source": [
    "area_price = data.query('total_area < 150').pivot_table(index='total_area', values='sq_m_price', aggfunc='median')\n",
    "#print(area_price)\n",
    "area_price.plot(style='o', figsize=(10,5))"
   ]
  },
  {
   "cell_type": "markdown",
   "metadata": {},
   "source": [
    "По графику видно, что стоимость квадратного метра не зависит от общей площади.\n",
    "Далее рассмотрим влияние жилой площади на стоимость"
   ]
  },
  {
   "cell_type": "code",
   "execution_count": 46,
   "metadata": {},
   "outputs": [
    {
     "data": {
      "text/plain": [
       "<AxesSubplot:xlabel='living_area'>"
      ]
     },
     "execution_count": 46,
     "metadata": {},
     "output_type": "execute_result"
    },
    {
     "data": {
      "image/png": "[encoded data removed]",
      "text/plain": [
       "<Figure size 720x360 with 1 Axes>"
      ]
     },
     "metadata": {
      "needs_background": "light"
     },
     "output_type": "display_data"
    }
   ],
   "source": [
    "living_area_price = data.query('living_area < 150').pivot_table(index='living_area', values='last_price', aggfunc='median')\n",
    "#print(living_area_price)\n",
    "living_area_price.plot(style='o', figsize=(10,5))"
   ]
  },
  {
   "cell_type": "markdown",
   "metadata": {},
   "source": [
    "Здесь также наблюдается зависимость стоимости объекта от размера жилой площади. Проверим влияет ли это на стоимость 1 кв метра"
   ]
  },
  {
   "cell_type": "code",
   "execution_count": 47,
   "metadata": {},
   "outputs": [
    {
     "data": {
      "text/plain": [
       "<AxesSubplot:xlabel='living_area'>"
      ]
     },
     "execution_count": 47,
     "metadata": {},
     "output_type": "execute_result"
    },
    {
     "data": {
      "image/png": "[encoded data removed]",
      "text/plain": [
       "<Figure size 720x360 with 1 Axes>"
      ]
     },
     "metadata": {
      "needs_background": "light"
     },
     "output_type": "display_data"
    }
   ],
   "source": [
    "living_area_price = data.query('living_area < 150').pivot_table(index='living_area', values='sq_m_price', aggfunc='median')\n",
    "#print(living_area_price)\n",
    "living_area_price.plot(style='o', figsize=(10,5))"
   ]
  },
  {
   "cell_type": "markdown",
   "metadata": {},
   "source": [
    "Также как и в предыдущем случае, влияния общей стоимости на 1 кв метр не наблюдается. Посмотри теперь, как влияет площадь кухни"
   ]
  },
  {
   "cell_type": "code",
   "execution_count": 48,
   "metadata": {},
   "outputs": [
    {
     "data": {
      "text/plain": [
       "<AxesSubplot:xlabel='kitchen_area'>"
      ]
     },
     "execution_count": 48,
     "metadata": {},
     "output_type": "execute_result"
    },
    {
     "data": {
      "image/png": "[encoded data removed]",
      "text/plain": [
       "<Figure size 720x360 with 1 Axes>"
      ]
     },
     "metadata": {
      "needs_background": "light"
     },
     "output_type": "display_data"
    }
   ],
   "source": [
    "kitchen_area_price = data.query('kitchen_area < 50').pivot_table(index='kitchen_area', values='last_price', aggfunc='median')\n",
    "#print(kitchen_area_price)\n",
    "kitchen_area_price.plot(style='o', figsize=(10,5))"
   ]
  },
  {
   "cell_type": "markdown",
   "metadata": {},
   "source": [
    "Влияние площади кухни на стоимость не такое заметное, как предыдущие факторы, но тем ни менее небольая зависимость есть. Проверим влияние на стоимость 1 кв. метра"
   ]
  },
  {
   "cell_type": "code",
   "execution_count": 49,
   "metadata": {},
   "outputs": [
    {
     "data": {
      "text/plain": [
       "<AxesSubplot:xlabel='kitchen_area'>"
      ]
     },
     "execution_count": 49,
     "metadata": {},
     "output_type": "execute_result"
    },
    {
     "data": {
      "image/png": "[encoded data removed]",
      "text/plain": [
       "<Figure size 720x360 with 1 Axes>"
      ]
     },
     "metadata": {
      "needs_background": "light"
     },
     "output_type": "display_data"
    }
   ],
   "source": [
    "kitchen_area_price = data.query('kitchen_area < 50').pivot_table(index='kitchen_area', values='sq_m_price', aggfunc='median')\n",
    "#print(kitchen_area_price)\n",
    "kitchen_area_price.plot(style='o', figsize=(10,5))"
   ]
  },
  {
   "cell_type": "markdown",
   "metadata": {},
   "source": [
    "Влияние площади кухни на стоимость 1 кв метра незаметно.\n",
    "Переходим к количеству комнат"
   ]
  },
  {
   "cell_type": "code",
   "execution_count": 50,
   "metadata": {},
   "outputs": [
    {
     "data": {
      "text/plain": [
       "<AxesSubplot:xlabel='rooms'>"
      ]
     },
     "execution_count": 50,
     "metadata": {},
     "output_type": "execute_result"
    },
    {
     "data": {
      "image/png": "[encoded data removed]",
      "text/plain": [
       "<Figure size 720x360 with 1 Axes>"
      ]
     },
     "metadata": {
      "needs_background": "light"
     },
     "output_type": "display_data"
    }
   ],
   "source": [
    "room_am_price = data.query('rooms < 6').pivot_table(index='rooms', values='last_price', aggfunc='median')\n",
    "#print(room_am_price)\n",
    "room_am_price.plot(style='o-', figsize=(10,5))"
   ]
  },
  {
   "cell_type": "markdown",
   "metadata": {},
   "source": [
    "Очевидно, как с ростом количенства комнат растет стоимость объекта недвижимости. Посмотрим что со стоимостью квадратного метра"
   ]
  },
  {
   "cell_type": "code",
   "execution_count": 51,
   "metadata": {},
   "outputs": [
    {
     "data": {
      "text/plain": [
       "<AxesSubplot:xlabel='rooms'>"
      ]
     },
     "execution_count": 51,
     "metadata": {},
     "output_type": "execute_result"
    },
    {
     "data": {
      "image/png": "[encoded data removed]",
      "text/plain": [
       "<Figure size 720x360 with 1 Axes>"
      ]
     },
     "metadata": {
      "needs_background": "light"
     },
     "output_type": "display_data"
    }
   ],
   "source": [
    "room_am_price = data.query('rooms < 6').pivot_table(index='rooms', values='sq_m_price', aggfunc='median')\n",
    "#print(room_am_price)\n",
    "room_am_price.plot(style='o-', figsize=(10,5))"
   ]
  },
  {
   "cell_type": "markdown",
   "metadata": {},
   "source": [
    "Цена за квадратный метр уменьшается при увеличении количнества комнат до 3. Если в квартире свыше 3 комнат, стоимость квадратного метра растет. \n",
    "Рассмотрим влияние типа этажа на стоимость"
   ]
  },
  {
   "cell_type": "code",
   "execution_count": 52,
   "metadata": {},
   "outputs": [
    {
     "data": {
      "text/plain": [
       "<AxesSubplot:xlabel='floor_type'>"
      ]
     },
     "execution_count": 52,
     "metadata": {},
     "output_type": "execute_result"
    },
    {
     "data": {
      "image/png": "[encoded data removed]",
      "text/plain": [
       "<Figure size 720x360 with 1 Axes>"
      ]
     },
     "metadata": {
      "needs_background": "light"
     },
     "output_type": "display_data"
    }
   ],
   "source": [
    "floor_type_price = data.pivot_table(index='floor_type', values='last_price', aggfunc='median')\n",
    "#print(floor_type_price)\n",
    "floor_type_price.plot(style='o-', figsize=(10,5))"
   ]
  },
  {
   "cell_type": "markdown",
   "metadata": {},
   "source": [
    "На первых этажах квартиры самые дешевые. Посмотрим, как этаж влияет на стоимость 1 квадратного метра"
   ]
  },
  {
   "cell_type": "code",
   "execution_count": 53,
   "metadata": {},
   "outputs": [
    {
     "data": {
      "text/plain": [
       "<AxesSubplot:xlabel='floor_type'>"
      ]
     },
     "execution_count": 53,
     "metadata": {},
     "output_type": "execute_result"
    },
    {
     "data": {
      "image/png": "[encoded data removed]",
      "text/plain": [
       "<Figure size 720x360 with 1 Axes>"
      ]
     },
     "metadata": {
      "needs_background": "light"
     },
     "output_type": "display_data"
    }
   ],
   "source": [
    "floor_type_price = data.pivot_table(index='floor_type', values='sq_m_price', aggfunc='median')\n",
    "#print(floor_type_price)\n",
    "floor_type_price.plot(style='o-', figsize=(10,5))"
   ]
  },
  {
   "cell_type": "markdown",
   "metadata": {},
   "source": [
    "Аналогично, стоимость 1 квадратного метра ведет себя в зависимости от этаже также, как и общая стоимость.\n",
    "Теперь изучим зависимость стоимости от дня недели, месяца и года, когда было размещено объявление"
   ]
  },
  {
   "cell_type": "code",
   "execution_count": 54,
   "metadata": {},
   "outputs": [
    {
     "data": {
      "text/plain": [
       "<AxesSubplot:xlabel='weekday'>"
      ]
     },
     "execution_count": 54,
     "metadata": {},
     "output_type": "execute_result"
    },
    {
     "data": {
      "image/png": "[encoded data removed]",
      "text/plain": [
       "<Figure size 720x360 with 1 Axes>"
      ]
     },
     "metadata": {
      "needs_background": "light"
     },
     "output_type": "display_data"
    }
   ],
   "source": [
    "weekday_price = data.pivot_table(index='weekday', values='last_price', aggfunc='median')\n",
    "#print(weekday_price)\n",
    "weekday_price.plot(style='o-', figsize=(10,5))"
   ]
  },
  {
   "cell_type": "markdown",
   "metadata": {},
   "source": [
    "Самые дорогие квартиры выставляли по вторникам, к пятнице стоимость квартир снижалась. В исследовании зависимости стоимости от дня недели/месяца/года не вижу смысла отдельно отслеживать зависимость стоимости квадратного метра, тенденции будут аналогичными."
   ]
  },
  {
   "cell_type": "code",
   "execution_count": 55,
   "metadata": {},
   "outputs": [
    {
     "data": {
      "text/plain": [
       "<AxesSubplot:xlabel='month'>"
      ]
     },
     "execution_count": 55,
     "metadata": {},
     "output_type": "execute_result"
    },
    {
     "data": {
      "image/png": "[encoded data removed]",
      "text/plain": [
       "<Figure size 720x360 with 1 Axes>"
      ]
     },
     "metadata": {
      "needs_background": "light"
     },
     "output_type": "display_data"
    }
   ],
   "source": [
    "month_price = data.pivot_table(index='month', values='last_price', aggfunc='median')\n",
    "#print(month_price)\n",
    "month_price.plot(style='o-', figsize=(10,5))"
   ]
  },
  {
   "cell_type": "markdown",
   "metadata": {},
   "source": [
    "Самые дорогие квартиры публиковались в апреле, самые дешевые в июне, в сотальные месяцы стоимость хаотично разбросана, более менее стабильна она в зимние месяцы"
   ]
  },
  {
   "cell_type": "code",
   "execution_count": 56,
   "metadata": {},
   "outputs": [
    {
     "data": {
      "text/plain": [
       "<AxesSubplot:xlabel='year'>"
      ]
     },
     "execution_count": 56,
     "metadata": {},
     "output_type": "execute_result"
    },
    {
     "data": {
      "image/png": "[encoded data removed]",
      "text/plain": [
       "<Figure size 720x360 with 1 Axes>"
      ]
     },
     "metadata": {
      "needs_background": "light"
     },
     "output_type": "display_data"
    }
   ],
   "source": [
    "year_price = data.pivot_table(index='year', values='last_price', aggfunc='median')\n",
    "#print(year_price)\n",
    "year_price.plot(style='o-', figsize=(10,5))"
   ]
  },
  {
   "cell_type": "markdown",
   "metadata": {},
   "source": [
    "Стоимость квартир резко упала за период с 2014 по 2016 годы, с 2016 по 2018 стоимость держалась примерно на одном уровне. Начиная с 2018 года наблюдается рост цен."
   ]
  },
  {
   "cell_type": "markdown",
   "metadata": {},
   "source": [
    "Больше всего на стоимость квартир. а также 1 квадратного метра влияет общая площадь, количество комнат и этаж. При этом влияние количнества комнат на стоимость 1 квадратного метра нелинейно."
   ]
  },
  {
   "cell_type": "markdown",
   "metadata": {},
   "source": [
    "###### Изучаем 10 населенных пунктов с самым большим количеством объявлений"
   ]
  },
  {
   "cell_type": "code",
   "execution_count": 57,
   "metadata": {},
   "outputs": [
    {
     "name": "stdout",
     "output_type": "stream",
     "text": [
      "санкт-петербург      15634\n",
      "поселок мурино         550\n",
      "поселок шушары         439\n",
      "всеволожск             398\n",
      "пушкин                 369\n",
      "колпино                338\n",
      "поселок парголово      327\n",
      "гатчина                306\n",
      "деревня кудрово        299\n",
      "выборг                 237\n",
      "Name: locality_name, dtype: int64\n"
     ]
    }
   ],
   "source": [
    "#находим 10 самых популярных населенных пунктов и сохраняем их в новой переменной\n",
    "top_locality = data['locality_name'].value_counts().head(10)\n",
    "print(top_locality)"
   ]
  },
  {
   "cell_type": "markdown",
   "metadata": {},
   "source": [
    "Найдем среднюю стоимость 1 кв метра в выбранных населенных пунктах"
   ]
  },
  {
   "cell_type": "code",
   "execution_count": 58,
   "metadata": {},
   "outputs": [
    {
     "data": {
      "text/plain": [
       "<AxesSubplot:xlabel='locality_name'>"
      ]
     },
     "execution_count": 58,
     "metadata": {},
     "output_type": "execute_result"
    },
    {
     "data": {
      "image/png": "[encoded data removed]",
      "text/plain": [
       "<Figure size 720x360 with 1 Axes>"
      ]
     },
     "metadata": {
      "needs_background": "light"
     },
     "output_type": "display_data"
    }
   ],
   "source": [
    "top10_price = data.query('locality_name in @top_locality.index').pivot_table(index='locality_name', values='sq_m_price', \\\n",
    "                                                                             aggfunc='median').sort_values('sq_m_price')\n",
    "#print(top10_price)\n",
    "top10_price.plot(kind='bar', figsize=(10,5))"
   ]
  },
  {
   "cell_type": "markdown",
   "metadata": {},
   "source": [
    "Итак, судя по графику в 10-ке лидеров по количеству объявлений цена за квадратный метр варьируется от 60000 до 100000.\n",
    "Самым дорогим населенным пунктом, ожидаемо, оказался Санкт-Петербург, не сильно уступает ему Пушкин. Самый дешевый квадратный метр в Выборге."
   ]
  },
  {
   "cell_type": "markdown",
   "metadata": {},
   "source": [
    "###### Теперь посчитаем стоимость каждого километра, приближающего нас к центру города"
   ]
  },
  {
   "cell_type": "code",
   "execution_count": 59,
   "metadata": {},
   "outputs": [
    {
     "data": {
      "text/html": [
       "<div>\n",
       "<style scoped>\n",
       "    .dataframe tbody tr th:only-of-type {\n",
       "        vertical-align: middle;\n",
       "    }\n",
       "\n",
       "    .dataframe tbody tr th {\n",
       "        vertical-align: top;\n",
       "    }\n",
       "\n",
       "    .dataframe thead th {\n",
       "        text-align: right;\n",
       "    }\n",
       "</style>\n",
       "<table border=\"1\" class=\"dataframe\">\n",
       "  <thead>\n",
       "    <tr style=\"text-align: right;\">\n",
       "      <th></th>\n",
       "      <th>km_to_centre</th>\n",
       "    </tr>\n",
       "  </thead>\n",
       "  <tbody>\n",
       "    <tr>\n",
       "      <th>count</th>\n",
       "      <td>2343.000000</td>\n",
       "    </tr>\n",
       "    <tr>\n",
       "      <th>mean</th>\n",
       "      <td>10.464784</td>\n",
       "    </tr>\n",
       "    <tr>\n",
       "      <th>std</th>\n",
       "      <td>4.942267</td>\n",
       "    </tr>\n",
       "    <tr>\n",
       "      <th>min</th>\n",
       "      <td>0.181000</td>\n",
       "    </tr>\n",
       "    <tr>\n",
       "      <th>25%</th>\n",
       "      <td>6.017000</td>\n",
       "    </tr>\n",
       "    <tr>\n",
       "      <th>50%</th>\n",
       "      <td>10.647000</td>\n",
       "    </tr>\n",
       "    <tr>\n",
       "      <th>75%</th>\n",
       "      <td>13.829000</td>\n",
       "    </tr>\n",
       "    <tr>\n",
       "      <th>max</th>\n",
       "      <td>28.018000</td>\n",
       "    </tr>\n",
       "  </tbody>\n",
       "</table>\n",
       "</div>"
      ],
      "text/plain": [
       "       km_to_centre\n",
       "count   2343.000000\n",
       "mean      10.464784\n",
       "std        4.942267\n",
       "min        0.181000\n",
       "25%        6.017000\n",
       "50%       10.647000\n",
       "75%       13.829000\n",
       "max       28.018000"
      ]
     },
     "execution_count": 59,
     "metadata": {},
     "output_type": "execute_result"
    },
    {
     "data": {
      "image/png": "[encoded data removed]",
      "text/plain": [
       "<Figure size 1440x360 with 1 Axes>"
      ]
     },
     "metadata": {
      "needs_background": "light"
     },
     "output_type": "display_data"
    }
   ],
   "source": [
    "#делаем выборку квартир в Спб\n",
    "spb = data.query('locality_name == \"санкт-петербург\"')\n",
    "\n",
    "spb_km_price = spb.pivot_table(index='last_price', values='km_to_centre', aggfunc='median')\n",
    "spb_km_price.hist(bins=10, figsize=(20,5))\n",
    "spb_km_price.describe()\n"
   ]
  },
  {
   "cell_type": "markdown",
   "metadata": {},
   "source": [
    "Из графика видно, что цена высокая примерно в 4-5 км от центра города, далее, на расстоянии примерно с 6 и до 14 км от центра цена практически не меняется. После 17 км от центра резкий спад цены и далее значение идет на понижение. "
   ]
  },
  {
   "cell_type": "markdown",
   "metadata": {},
   "source": [
    "## Общий вывод"
   ]
  },
  {
   "cell_type": "markdown",
   "metadata": {},
   "source": [
    "Проведя анализ можем сделать выводы о том, что на стоимость квартир в большей степени влияют следующие факторы:\n",
    "- удаленность от центра\n",
    "- площадь квартиры\n",
    "- количество комнат\n",
    "- этаж\n",
    "\n",
    "Кроме того, сделаны следубщие интересные наблюдения:\n",
    " - Самые популярные месяцы для продажи жилья это весна (кроме мая) и осень.\n",
    " - По выходным выкладывают меньше объявлений, чем по будням\n",
    " - Стоимость квадратного метра ниже в 3-х комнатной квартире, чем в квартирах с бОльшим количеством комнат\n",
    " - Стоимость жилья в Лен области сильно упала в период с 2014 по 2016 годы\n",
    " - Квартиры с бОльшей стоимостью выставляют на продажу в начале недели"
   ]
  },
  {
   "cell_type": "markdown",
   "metadata": {},
   "source": [
    "В данных действительно много пропусков и много аномальных значений. Как этого избежать в будущем, я если честно представляю себе слабо. Вероятно, нужно улучшить механизм сбора данных. Чтобы, например, при заполнении объявления стали обязательны для заполнения поля, в которых особо много пропусков и которые являются ключевыми для анализа. \n",
    "В случае с аномальными значениями, вероятно, также можно обучить форму объявления распознавать заведомо неправдоподобные вводные (например, высота потолка 6 метров). "
   ]
  }
 ],
 "metadata": {
  "ExecuteTimeLog": [
   {
    "duration": 574,
    "start_time": "2022-12-03T11:27:07.948Z"
   },
   {
    "duration": 73,
    "start_time": "2022-12-03T11:30:24.969Z"
   },
   {
    "duration": 67,
    "start_time": "2022-12-03T11:30:37.710Z"
   },
   {
    "duration": 110,
    "start_time": "2022-12-03T11:33:06.355Z"
   },
   {
    "duration": 86,
    "start_time": "2022-12-03T11:33:51.820Z"
   },
   {
    "duration": 86,
    "start_time": "2022-12-03T11:34:06.772Z"
   },
   {
    "duration": 91,
    "start_time": "2022-12-03T11:36:07.428Z"
   },
   {
    "duration": 110,
    "start_time": "2022-12-03T11:37:56.853Z"
   },
   {
    "duration": 16,
    "start_time": "2022-12-03T11:38:56.730Z"
   },
   {
    "duration": 2385,
    "start_time": "2022-12-03T11:39:59.305Z"
   },
   {
    "duration": 85,
    "start_time": "2022-12-03T11:46:11.573Z"
   },
   {
    "duration": 32,
    "start_time": "2022-12-03T11:53:54.696Z"
   },
   {
    "duration": 20,
    "start_time": "2022-12-03T12:03:37.767Z"
   },
   {
    "duration": 31,
    "start_time": "2022-12-03T12:11:57.897Z"
   },
   {
    "duration": 7,
    "start_time": "2022-12-03T12:19:31.403Z"
   },
   {
    "duration": 7,
    "start_time": "2022-12-03T12:22:37.982Z"
   },
   {
    "duration": 7,
    "start_time": "2022-12-03T12:23:06.450Z"
   },
   {
    "duration": 7,
    "start_time": "2022-12-03T12:23:22.939Z"
   },
   {
    "duration": 52,
    "start_time": "2022-12-04T12:50:14.176Z"
   },
   {
    "duration": 782,
    "start_time": "2022-12-04T12:50:22.471Z"
   },
   {
    "duration": 19,
    "start_time": "2022-12-04T12:50:23.257Z"
   },
   {
    "duration": 2595,
    "start_time": "2022-12-04T12:50:23.278Z"
   },
   {
    "duration": 90,
    "start_time": "2022-12-04T12:50:25.875Z"
   },
   {
    "duration": 27,
    "start_time": "2022-12-04T12:50:25.968Z"
   },
   {
    "duration": 17,
    "start_time": "2022-12-04T12:50:25.998Z"
   },
   {
    "duration": 53,
    "start_time": "2022-12-04T12:50:26.018Z"
   },
   {
    "duration": 10,
    "start_time": "2022-12-04T12:50:34.476Z"
   },
   {
    "duration": 9,
    "start_time": "2022-12-04T12:56:31.885Z"
   },
   {
    "duration": 9,
    "start_time": "2022-12-04T12:58:20.089Z"
   },
   {
    "duration": 6,
    "start_time": "2022-12-04T12:58:33.238Z"
   },
   {
    "duration": 41,
    "start_time": "2022-12-04T13:08:02.790Z"
   },
   {
    "duration": 12,
    "start_time": "2022-12-04T13:08:42.292Z"
   },
   {
    "duration": 17,
    "start_time": "2022-12-04T13:09:35.575Z"
   },
   {
    "duration": 727,
    "start_time": "2022-12-04T13:22:35.914Z"
   },
   {
    "duration": 609,
    "start_time": "2022-12-05T06:42:54.663Z"
   },
   {
    "duration": 14,
    "start_time": "2022-12-05T06:42:55.273Z"
   },
   {
    "duration": 2256,
    "start_time": "2022-12-05T06:42:55.288Z"
   },
   {
    "duration": 75,
    "start_time": "2022-12-05T06:42:57.546Z"
   },
   {
    "duration": 21,
    "start_time": "2022-12-05T06:42:57.622Z"
   },
   {
    "duration": 9,
    "start_time": "2022-12-05T06:42:57.645Z"
   },
   {
    "duration": 34,
    "start_time": "2022-12-05T06:42:57.655Z"
   },
   {
    "duration": 29,
    "start_time": "2022-12-05T06:42:57.691Z"
   },
   {
    "duration": 7,
    "start_time": "2022-12-05T06:42:57.721Z"
   },
   {
    "duration": 7,
    "start_time": "2022-12-05T06:42:57.730Z"
   },
   {
    "duration": 11,
    "start_time": "2022-12-05T06:42:57.739Z"
   },
   {
    "duration": 42,
    "start_time": "2022-12-05T06:42:57.752Z"
   },
   {
    "duration": 1225,
    "start_time": "2022-12-05T06:42:58.780Z"
   },
   {
    "duration": 1106,
    "start_time": "2022-12-05T06:43:18.773Z"
   },
   {
    "duration": 54,
    "start_time": "2022-12-05T06:43:52.801Z"
   },
   {
    "duration": 69,
    "start_time": "2022-12-05T06:43:57.084Z"
   },
   {
    "duration": 117,
    "start_time": "2022-12-05T06:44:08.401Z"
   },
   {
    "duration": 14,
    "start_time": "2022-12-05T06:44:08.520Z"
   },
   {
    "duration": 1993,
    "start_time": "2022-12-05T06:44:08.536Z"
   },
   {
    "duration": 79,
    "start_time": "2022-12-05T06:44:10.532Z"
   },
   {
    "duration": 22,
    "start_time": "2022-12-05T06:44:10.612Z"
   },
   {
    "duration": 8,
    "start_time": "2022-12-05T06:44:10.636Z"
   },
   {
    "duration": 13,
    "start_time": "2022-12-05T06:44:10.645Z"
   },
   {
    "duration": 32,
    "start_time": "2022-12-05T06:44:10.678Z"
   },
   {
    "duration": 7,
    "start_time": "2022-12-05T06:44:10.711Z"
   },
   {
    "duration": 8,
    "start_time": "2022-12-05T06:44:10.720Z"
   },
   {
    "duration": 12,
    "start_time": "2022-12-05T06:44:10.729Z"
   },
   {
    "duration": 45,
    "start_time": "2022-12-05T06:44:10.743Z"
   },
   {
    "duration": 57,
    "start_time": "2022-12-05T06:44:14.686Z"
   },
   {
    "duration": 49,
    "start_time": "2022-12-05T06:45:00.017Z"
   },
   {
    "duration": 48,
    "start_time": "2022-12-05T06:45:11.539Z"
   },
   {
    "duration": 8,
    "start_time": "2022-12-05T06:46:43.309Z"
   },
   {
    "duration": 7,
    "start_time": "2022-12-05T06:46:56.551Z"
   },
   {
    "duration": 10,
    "start_time": "2022-12-05T06:52:58.897Z"
   },
   {
    "duration": 8,
    "start_time": "2022-12-05T06:53:10.481Z"
   },
   {
    "duration": 7,
    "start_time": "2022-12-05T06:58:53.758Z"
   },
   {
    "duration": 117,
    "start_time": "2022-12-05T06:59:06.792Z"
   },
   {
    "duration": 17,
    "start_time": "2022-12-05T06:59:06.912Z"
   },
   {
    "duration": 1978,
    "start_time": "2022-12-05T06:59:06.930Z"
   },
   {
    "duration": 94,
    "start_time": "2022-12-05T06:59:08.910Z"
   },
   {
    "duration": 20,
    "start_time": "2022-12-05T06:59:09.005Z"
   },
   {
    "duration": 8,
    "start_time": "2022-12-05T06:59:09.027Z"
   },
   {
    "duration": 13,
    "start_time": "2022-12-05T06:59:09.036Z"
   },
   {
    "duration": 34,
    "start_time": "2022-12-05T06:59:09.077Z"
   },
   {
    "duration": 10,
    "start_time": "2022-12-05T06:59:09.113Z"
   },
   {
    "duration": 6,
    "start_time": "2022-12-05T06:59:09.125Z"
   },
   {
    "duration": 13,
    "start_time": "2022-12-05T06:59:09.133Z"
   },
   {
    "duration": 38,
    "start_time": "2022-12-05T06:59:09.148Z"
   },
   {
    "duration": 8,
    "start_time": "2022-12-05T06:59:16.163Z"
   },
   {
    "duration": 17,
    "start_time": "2022-12-05T06:59:23.369Z"
   },
   {
    "duration": 30,
    "start_time": "2022-12-05T07:00:38.116Z"
   },
   {
    "duration": 42,
    "start_time": "2022-12-05T07:02:16.447Z"
   },
   {
    "duration": 38,
    "start_time": "2022-12-05T07:02:24.936Z"
   },
   {
    "duration": 51,
    "start_time": "2022-12-05T07:02:56.718Z"
   },
   {
    "duration": 42,
    "start_time": "2022-12-05T07:03:54.649Z"
   },
   {
    "duration": 42,
    "start_time": "2022-12-05T07:06:30.300Z"
   },
   {
    "duration": 43,
    "start_time": "2022-12-05T07:06:59.541Z"
   },
   {
    "duration": 37,
    "start_time": "2022-12-05T07:07:18.620Z"
   },
   {
    "duration": 62,
    "start_time": "2022-12-05T07:09:29.572Z"
   },
   {
    "duration": 26,
    "start_time": "2022-12-05T07:16:15.955Z"
   },
   {
    "duration": 37,
    "start_time": "2022-12-05T07:18:13.926Z"
   },
   {
    "duration": 26,
    "start_time": "2022-12-05T07:18:45.098Z"
   },
   {
    "duration": 54,
    "start_time": "2022-12-05T07:20:53.209Z"
   },
   {
    "duration": 46,
    "start_time": "2022-12-05T07:21:20.394Z"
   },
   {
    "duration": 13,
    "start_time": "2022-12-05T07:36:37.910Z"
   },
   {
    "duration": 6,
    "start_time": "2022-12-05T07:47:31.316Z"
   },
   {
    "duration": 8,
    "start_time": "2022-12-05T07:47:49.516Z"
   },
   {
    "duration": 8,
    "start_time": "2022-12-05T07:51:28.742Z"
   },
   {
    "duration": 9,
    "start_time": "2022-12-05T07:53:15.252Z"
   },
   {
    "duration": 11,
    "start_time": "2022-12-05T07:53:26.452Z"
   },
   {
    "duration": 21,
    "start_time": "2022-12-05T07:55:46.410Z"
   },
   {
    "duration": 7,
    "start_time": "2022-12-05T07:56:03.400Z"
   },
   {
    "duration": 8,
    "start_time": "2022-12-05T08:02:28.089Z"
   },
   {
    "duration": 12,
    "start_time": "2022-12-05T08:02:42.252Z"
   },
   {
    "duration": 6,
    "start_time": "2022-12-05T08:02:54.212Z"
   },
   {
    "duration": 7,
    "start_time": "2022-12-05T08:12:04.171Z"
   },
   {
    "duration": 7,
    "start_time": "2022-12-05T08:12:25.286Z"
   },
   {
    "duration": 7,
    "start_time": "2022-12-05T08:12:31.294Z"
   },
   {
    "duration": 11,
    "start_time": "2022-12-05T08:12:47.342Z"
   },
   {
    "duration": 9,
    "start_time": "2022-12-05T08:12:59.904Z"
   },
   {
    "duration": 47,
    "start_time": "2022-12-05T09:33:35.729Z"
   },
   {
    "duration": 7,
    "start_time": "2022-12-05T09:33:42.165Z"
   },
   {
    "duration": 577,
    "start_time": "2022-12-05T09:33:49.523Z"
   },
   {
    "duration": 14,
    "start_time": "2022-12-05T09:33:50.102Z"
   },
   {
    "duration": 2259,
    "start_time": "2022-12-05T09:33:50.118Z"
   },
   {
    "duration": 79,
    "start_time": "2022-12-05T09:33:52.380Z"
   },
   {
    "duration": 24,
    "start_time": "2022-12-05T09:33:52.460Z"
   },
   {
    "duration": 8,
    "start_time": "2022-12-05T09:33:52.487Z"
   },
   {
    "duration": 24,
    "start_time": "2022-12-05T09:33:52.497Z"
   },
   {
    "duration": 29,
    "start_time": "2022-12-05T09:33:52.523Z"
   },
   {
    "duration": 13,
    "start_time": "2022-12-05T09:33:52.554Z"
   },
   {
    "duration": 5,
    "start_time": "2022-12-05T09:33:52.570Z"
   },
   {
    "duration": 37,
    "start_time": "2022-12-05T09:33:52.577Z"
   },
   {
    "duration": 18,
    "start_time": "2022-12-05T09:33:52.616Z"
   },
   {
    "duration": 42,
    "start_time": "2022-12-05T09:33:52.636Z"
   },
   {
    "duration": 61,
    "start_time": "2022-12-05T09:33:52.680Z"
   },
   {
    "duration": 13,
    "start_time": "2022-12-05T09:33:52.743Z"
   },
   {
    "duration": 6,
    "start_time": "2022-12-05T09:33:52.984Z"
   },
   {
    "duration": 35,
    "start_time": "2022-12-05T09:34:21.757Z"
   },
   {
    "duration": 8,
    "start_time": "2022-12-05T09:34:39.141Z"
   },
   {
    "duration": 4,
    "start_time": "2022-12-05T09:37:22.068Z"
   },
   {
    "duration": 9,
    "start_time": "2022-12-05T09:37:48.984Z"
   },
   {
    "duration": 7,
    "start_time": "2022-12-05T09:38:59.394Z"
   },
   {
    "duration": 10,
    "start_time": "2022-12-05T09:43:44.363Z"
   },
   {
    "duration": 4,
    "start_time": "2022-12-05T09:44:25.130Z"
   },
   {
    "duration": 9,
    "start_time": "2022-12-05T09:44:45.806Z"
   },
   {
    "duration": 8,
    "start_time": "2022-12-05T09:46:13.486Z"
   },
   {
    "duration": 9,
    "start_time": "2022-12-05T09:46:58.024Z"
   },
   {
    "duration": 25,
    "start_time": "2022-12-05T09:49:20.268Z"
   },
   {
    "duration": 21,
    "start_time": "2022-12-05T09:55:59.868Z"
   },
   {
    "duration": 20,
    "start_time": "2022-12-05T09:56:06.638Z"
   },
   {
    "duration": 13,
    "start_time": "2022-12-05T09:56:14.395Z"
   },
   {
    "duration": 19,
    "start_time": "2022-12-05T09:56:56.582Z"
   },
   {
    "duration": 36,
    "start_time": "2022-12-05T09:57:49.011Z"
   },
   {
    "duration": 32,
    "start_time": "2022-12-05T10:04:54.500Z"
   },
   {
    "duration": 42,
    "start_time": "2022-12-05T10:05:02.876Z"
   },
   {
    "duration": 27,
    "start_time": "2022-12-05T10:05:44.926Z"
   },
   {
    "duration": 20,
    "start_time": "2022-12-05T10:05:59.055Z"
   },
   {
    "duration": 20,
    "start_time": "2022-12-05T10:06:04.200Z"
   },
   {
    "duration": 26,
    "start_time": "2022-12-05T10:06:34.148Z"
   },
   {
    "duration": 44,
    "start_time": "2022-12-05T10:06:59.042Z"
   },
   {
    "duration": 547,
    "start_time": "2022-12-05T10:07:04.389Z"
   },
   {
    "duration": 16,
    "start_time": "2022-12-05T10:07:04.938Z"
   },
   {
    "duration": 2125,
    "start_time": "2022-12-05T10:07:04.956Z"
   },
   {
    "duration": 74,
    "start_time": "2022-12-05T10:07:07.083Z"
   },
   {
    "duration": 21,
    "start_time": "2022-12-05T10:07:07.159Z"
   },
   {
    "duration": 9,
    "start_time": "2022-12-05T10:07:07.181Z"
   },
   {
    "duration": 26,
    "start_time": "2022-12-05T10:07:07.191Z"
   },
   {
    "duration": 28,
    "start_time": "2022-12-05T10:07:07.219Z"
   },
   {
    "duration": 6,
    "start_time": "2022-12-05T10:07:07.248Z"
   },
   {
    "duration": 5,
    "start_time": "2022-12-05T10:07:07.256Z"
   },
   {
    "duration": 10,
    "start_time": "2022-12-05T10:07:07.262Z"
   },
   {
    "duration": 49,
    "start_time": "2022-12-05T10:07:07.274Z"
   },
   {
    "duration": 44,
    "start_time": "2022-12-05T10:07:07.325Z"
   },
   {
    "duration": 57,
    "start_time": "2022-12-05T10:07:07.371Z"
   },
   {
    "duration": 14,
    "start_time": "2022-12-05T10:07:07.430Z"
   },
   {
    "duration": 42,
    "start_time": "2022-12-05T10:07:07.446Z"
   },
   {
    "duration": 28,
    "start_time": "2022-12-05T10:07:07.755Z"
   },
   {
    "duration": 39,
    "start_time": "2022-12-05T10:08:25.422Z"
   },
   {
    "duration": 50,
    "start_time": "2022-12-05T10:08:55.915Z"
   },
   {
    "duration": 49,
    "start_time": "2022-12-05T10:09:17.630Z"
   },
   {
    "duration": 52,
    "start_time": "2022-12-05T10:09:43.066Z"
   },
   {
    "duration": 500,
    "start_time": "2022-12-05T10:09:59.077Z"
   },
   {
    "duration": 15,
    "start_time": "2022-12-05T10:09:59.578Z"
   },
   {
    "duration": 2231,
    "start_time": "2022-12-05T10:09:59.594Z"
   },
   {
    "duration": 74,
    "start_time": "2022-12-05T10:10:01.827Z"
   },
   {
    "duration": 22,
    "start_time": "2022-12-05T10:10:01.903Z"
   },
   {
    "duration": 9,
    "start_time": "2022-12-05T10:10:01.926Z"
   },
   {
    "duration": 28,
    "start_time": "2022-12-05T10:10:01.937Z"
   },
   {
    "duration": 62,
    "start_time": "2022-12-05T10:10:01.967Z"
   },
   {
    "duration": 6,
    "start_time": "2022-12-05T10:10:02.030Z"
   },
   {
    "duration": 25,
    "start_time": "2022-12-05T10:10:02.038Z"
   },
   {
    "duration": 41,
    "start_time": "2022-12-05T10:10:02.064Z"
   },
   {
    "duration": 40,
    "start_time": "2022-12-05T10:10:02.107Z"
   },
   {
    "duration": 46,
    "start_time": "2022-12-05T10:10:02.149Z"
   },
   {
    "duration": 36,
    "start_time": "2022-12-05T10:10:02.197Z"
   },
   {
    "duration": 12,
    "start_time": "2022-12-05T10:10:02.235Z"
   },
   {
    "duration": 78,
    "start_time": "2022-12-05T10:10:02.248Z"
   },
   {
    "duration": 52,
    "start_time": "2022-12-05T10:10:50.523Z"
   },
   {
    "duration": 59,
    "start_time": "2022-12-05T10:11:28.146Z"
   },
   {
    "duration": 527,
    "start_time": "2022-12-05T10:11:38.581Z"
   },
   {
    "duration": 15,
    "start_time": "2022-12-05T10:11:39.110Z"
   },
   {
    "duration": 2171,
    "start_time": "2022-12-05T10:11:39.126Z"
   },
   {
    "duration": 69,
    "start_time": "2022-12-05T10:11:41.299Z"
   },
   {
    "duration": 21,
    "start_time": "2022-12-05T10:11:41.371Z"
   },
   {
    "duration": 21,
    "start_time": "2022-12-05T10:11:41.393Z"
   },
   {
    "duration": 13,
    "start_time": "2022-12-05T10:11:41.415Z"
   },
   {
    "duration": 29,
    "start_time": "2022-12-05T10:11:41.430Z"
   },
   {
    "duration": 6,
    "start_time": "2022-12-05T10:11:41.461Z"
   },
   {
    "duration": 6,
    "start_time": "2022-12-05T10:11:41.469Z"
   },
   {
    "duration": 38,
    "start_time": "2022-12-05T10:11:41.477Z"
   },
   {
    "duration": 18,
    "start_time": "2022-12-05T10:11:41.517Z"
   },
   {
    "duration": 43,
    "start_time": "2022-12-05T10:11:41.536Z"
   },
   {
    "duration": 58,
    "start_time": "2022-12-05T10:11:41.582Z"
   },
   {
    "duration": 12,
    "start_time": "2022-12-05T10:11:41.641Z"
   },
   {
    "duration": 73,
    "start_time": "2022-12-05T10:11:41.654Z"
   },
   {
    "duration": 65,
    "start_time": "2022-12-05T10:12:00.942Z"
   },
   {
    "duration": 55,
    "start_time": "2022-12-05T10:15:01.631Z"
   },
   {
    "duration": 56,
    "start_time": "2022-12-05T10:15:21.563Z"
   },
   {
    "duration": 121,
    "start_time": "2022-12-05T10:17:20.108Z"
   },
   {
    "duration": 50,
    "start_time": "2022-12-05T10:18:03.773Z"
   },
   {
    "duration": 70,
    "start_time": "2022-12-05T10:18:46.919Z"
   },
   {
    "duration": 6,
    "start_time": "2022-12-05T10:20:15.890Z"
   },
   {
    "duration": 10,
    "start_time": "2022-12-05T10:22:45.086Z"
   },
   {
    "duration": 48,
    "start_time": "2022-12-05T15:47:07.813Z"
   },
   {
    "duration": 541,
    "start_time": "2022-12-05T15:47:13.253Z"
   },
   {
    "duration": 15,
    "start_time": "2022-12-05T15:47:13.796Z"
   },
   {
    "duration": 2293,
    "start_time": "2022-12-05T15:47:13.812Z"
   },
   {
    "duration": 72,
    "start_time": "2022-12-05T15:47:16.107Z"
   },
   {
    "duration": 20,
    "start_time": "2022-12-05T15:47:16.180Z"
   },
   {
    "duration": 8,
    "start_time": "2022-12-05T15:47:16.202Z"
   },
   {
    "duration": 14,
    "start_time": "2022-12-05T15:47:16.226Z"
   },
   {
    "duration": 32,
    "start_time": "2022-12-05T15:47:16.241Z"
   },
   {
    "duration": 5,
    "start_time": "2022-12-05T15:47:16.274Z"
   },
   {
    "duration": 5,
    "start_time": "2022-12-05T15:47:16.281Z"
   },
   {
    "duration": 20,
    "start_time": "2022-12-05T15:47:16.287Z"
   },
   {
    "duration": 33,
    "start_time": "2022-12-05T15:47:16.309Z"
   },
   {
    "duration": 41,
    "start_time": "2022-12-05T15:47:16.344Z"
   },
   {
    "duration": 61,
    "start_time": "2022-12-05T15:47:16.387Z"
   },
   {
    "duration": 14,
    "start_time": "2022-12-05T15:47:16.450Z"
   },
   {
    "duration": 39,
    "start_time": "2022-12-05T15:47:22.003Z"
   },
   {
    "duration": 39,
    "start_time": "2022-12-05T15:47:53.466Z"
   },
   {
    "duration": 56,
    "start_time": "2022-12-05T15:48:46.706Z"
   },
   {
    "duration": 72,
    "start_time": "2022-12-05T15:53:13.442Z"
   },
   {
    "duration": 56,
    "start_time": "2022-12-06T06:28:13.878Z"
   },
   {
    "duration": 8,
    "start_time": "2022-12-06T06:28:19.064Z"
   },
   {
    "duration": 521,
    "start_time": "2022-12-06T06:28:24.472Z"
   },
   {
    "duration": 14,
    "start_time": "2022-12-06T06:28:24.995Z"
   },
   {
    "duration": 2265,
    "start_time": "2022-12-06T06:28:25.010Z"
   },
   {
    "duration": 76,
    "start_time": "2022-12-06T06:28:27.277Z"
   },
   {
    "duration": 23,
    "start_time": "2022-12-06T06:28:27.355Z"
   },
   {
    "duration": 9,
    "start_time": "2022-12-06T06:28:27.379Z"
   },
   {
    "duration": 13,
    "start_time": "2022-12-06T06:28:27.389Z"
   },
   {
    "duration": 30,
    "start_time": "2022-12-06T06:28:27.422Z"
   },
   {
    "duration": 7,
    "start_time": "2022-12-06T06:28:27.454Z"
   },
   {
    "duration": 6,
    "start_time": "2022-12-06T06:28:27.462Z"
   },
   {
    "duration": 9,
    "start_time": "2022-12-06T06:28:27.469Z"
   },
   {
    "duration": 48,
    "start_time": "2022-12-06T06:28:27.480Z"
   },
   {
    "duration": 43,
    "start_time": "2022-12-06T06:28:27.530Z"
   },
   {
    "duration": 52,
    "start_time": "2022-12-06T06:28:27.575Z"
   },
   {
    "duration": 12,
    "start_time": "2022-12-06T06:28:27.629Z"
   },
   {
    "duration": 81,
    "start_time": "2022-12-06T06:28:27.642Z"
   },
   {
    "duration": 19,
    "start_time": "2022-12-06T06:28:29.732Z"
   },
   {
    "duration": 14,
    "start_time": "2022-12-06T06:37:24.176Z"
   },
   {
    "duration": 9,
    "start_time": "2022-12-06T06:37:30.909Z"
   },
   {
    "duration": 19,
    "start_time": "2022-12-06T06:37:40.298Z"
   },
   {
    "duration": 10,
    "start_time": "2022-12-06T06:37:56.728Z"
   },
   {
    "duration": 39,
    "start_time": "2022-12-06T06:42:14.423Z"
   },
   {
    "duration": 25,
    "start_time": "2022-12-06T06:42:57.717Z"
   },
   {
    "duration": 4,
    "start_time": "2022-12-06T06:43:22.155Z"
   },
   {
    "duration": 114,
    "start_time": "2022-12-06T06:45:35.108Z"
   },
   {
    "duration": 15,
    "start_time": "2022-12-06T06:45:35.224Z"
   },
   {
    "duration": 1955,
    "start_time": "2022-12-06T06:45:35.241Z"
   },
   {
    "duration": 80,
    "start_time": "2022-12-06T06:45:37.198Z"
   },
   {
    "duration": 21,
    "start_time": "2022-12-06T06:45:37.280Z"
   },
   {
    "duration": 23,
    "start_time": "2022-12-06T06:45:37.303Z"
   },
   {
    "duration": 13,
    "start_time": "2022-12-06T06:45:37.329Z"
   },
   {
    "duration": 29,
    "start_time": "2022-12-06T06:45:37.344Z"
   },
   {
    "duration": 8,
    "start_time": "2022-12-06T06:45:37.375Z"
   },
   {
    "duration": 38,
    "start_time": "2022-12-06T06:45:37.385Z"
   },
   {
    "duration": 10,
    "start_time": "2022-12-06T06:45:37.425Z"
   },
   {
    "duration": 17,
    "start_time": "2022-12-06T06:45:37.437Z"
   },
   {
    "duration": 47,
    "start_time": "2022-12-06T06:45:37.456Z"
   },
   {
    "duration": 38,
    "start_time": "2022-12-06T06:45:37.522Z"
   },
   {
    "duration": 13,
    "start_time": "2022-12-06T06:45:37.562Z"
   },
   {
    "duration": 95,
    "start_time": "2022-12-06T06:45:37.577Z"
   },
   {
    "duration": 12,
    "start_time": "2022-12-06T06:45:37.673Z"
   },
   {
    "duration": 5,
    "start_time": "2022-12-06T06:45:37.687Z"
   },
   {
    "duration": 32,
    "start_time": "2022-12-06T06:47:39.409Z"
   },
   {
    "duration": 12,
    "start_time": "2022-12-06T06:48:10.693Z"
   },
   {
    "duration": 39,
    "start_time": "2022-12-06T06:58:28.046Z"
   },
   {
    "duration": 35,
    "start_time": "2022-12-06T06:58:41.428Z"
   },
   {
    "duration": 42,
    "start_time": "2022-12-06T07:01:27.450Z"
   },
   {
    "duration": 39,
    "start_time": "2022-12-06T07:17:24.830Z"
   },
   {
    "duration": 7,
    "start_time": "2022-12-06T07:18:32.655Z"
   },
   {
    "duration": 125,
    "start_time": "2022-12-06T07:20:07.901Z"
   },
   {
    "duration": 15,
    "start_time": "2022-12-06T07:20:08.028Z"
   },
   {
    "duration": 1997,
    "start_time": "2022-12-06T07:20:08.044Z"
   },
   {
    "duration": 79,
    "start_time": "2022-12-06T07:20:10.043Z"
   },
   {
    "duration": 25,
    "start_time": "2022-12-06T07:20:10.123Z"
   },
   {
    "duration": 10,
    "start_time": "2022-12-06T07:20:10.149Z"
   },
   {
    "duration": 17,
    "start_time": "2022-12-06T07:20:10.160Z"
   },
   {
    "duration": 54,
    "start_time": "2022-12-06T07:20:10.179Z"
   },
   {
    "duration": 9,
    "start_time": "2022-12-06T07:20:10.237Z"
   },
   {
    "duration": 27,
    "start_time": "2022-12-06T07:20:10.248Z"
   },
   {
    "duration": 23,
    "start_time": "2022-12-06T07:20:10.277Z"
   },
   {
    "duration": 38,
    "start_time": "2022-12-06T07:20:10.302Z"
   },
   {
    "duration": 52,
    "start_time": "2022-12-06T07:20:10.342Z"
   },
   {
    "duration": 56,
    "start_time": "2022-12-06T07:20:10.396Z"
   },
   {
    "duration": 16,
    "start_time": "2022-12-06T07:20:10.454Z"
   },
   {
    "duration": 91,
    "start_time": "2022-12-06T07:20:10.472Z"
   },
   {
    "duration": 10,
    "start_time": "2022-12-06T07:20:10.565Z"
   },
   {
    "duration": 13,
    "start_time": "2022-12-06T07:20:10.576Z"
   },
   {
    "duration": 21,
    "start_time": "2022-12-06T07:20:10.591Z"
   },
   {
    "duration": 13,
    "start_time": "2022-12-06T07:20:10.614Z"
   },
   {
    "duration": 24,
    "start_time": "2022-12-06T07:23:29.578Z"
   },
   {
    "duration": 122,
    "start_time": "2022-12-06T07:34:25.275Z"
   },
   {
    "duration": 224,
    "start_time": "2022-12-06T07:35:43.368Z"
   },
   {
    "duration": 353,
    "start_time": "2022-12-06T07:35:54.373Z"
   },
   {
    "duration": 307,
    "start_time": "2022-12-06T07:36:05.278Z"
   },
   {
    "duration": 493,
    "start_time": "2022-12-06T07:36:24.359Z"
   },
   {
    "duration": 243,
    "start_time": "2022-12-06T07:36:51.819Z"
   },
   {
    "duration": 265,
    "start_time": "2022-12-06T07:37:17.354Z"
   },
   {
    "duration": 256,
    "start_time": "2022-12-06T07:43:21.048Z"
   },
   {
    "duration": 246,
    "start_time": "2022-12-06T07:43:35.636Z"
   },
   {
    "duration": 224,
    "start_time": "2022-12-06T07:45:23.400Z"
   },
   {
    "duration": 5,
    "start_time": "2022-12-06T07:47:27.067Z"
   },
   {
    "duration": 7,
    "start_time": "2022-12-06T07:47:46.327Z"
   },
   {
    "duration": 10,
    "start_time": "2022-12-06T07:48:15.856Z"
   },
   {
    "duration": 10,
    "start_time": "2022-12-06T07:48:29.342Z"
   },
   {
    "duration": 6,
    "start_time": "2022-12-06T07:48:35.668Z"
   },
   {
    "duration": 6,
    "start_time": "2022-12-06T07:48:57.396Z"
   },
   {
    "duration": 5,
    "start_time": "2022-12-06T07:49:13.596Z"
   },
   {
    "duration": 6,
    "start_time": "2022-12-06T07:50:03.195Z"
   },
   {
    "duration": 5,
    "start_time": "2022-12-06T07:50:23.744Z"
   },
   {
    "duration": 254,
    "start_time": "2022-12-06T08:06:54.761Z"
   },
   {
    "duration": 395,
    "start_time": "2022-12-06T08:12:31.083Z"
   },
   {
    "duration": 271,
    "start_time": "2022-12-06T08:13:13.068Z"
   },
   {
    "duration": 143,
    "start_time": "2022-12-06T08:13:37.564Z"
   },
   {
    "duration": 186,
    "start_time": "2022-12-06T08:14:39.638Z"
   },
   {
    "duration": 212,
    "start_time": "2022-12-06T08:14:47.828Z"
   },
   {
    "duration": 215,
    "start_time": "2022-12-06T08:15:20.232Z"
   },
   {
    "duration": 244,
    "start_time": "2022-12-06T08:15:32.388Z"
   },
   {
    "duration": 142,
    "start_time": "2022-12-06T08:56:46.153Z"
   },
   {
    "duration": 151,
    "start_time": "2022-12-06T08:57:15.237Z"
   },
   {
    "duration": 294,
    "start_time": "2022-12-06T08:59:01.897Z"
   },
   {
    "duration": 259,
    "start_time": "2022-12-06T09:01:52.186Z"
   },
   {
    "duration": 375,
    "start_time": "2022-12-06T09:07:54.749Z"
   },
   {
    "duration": 472,
    "start_time": "2022-12-06T09:08:14.742Z"
   },
   {
    "duration": 238,
    "start_time": "2022-12-06T09:12:11.668Z"
   },
   {
    "duration": 242,
    "start_time": "2022-12-06T09:20:45.194Z"
   },
   {
    "duration": 261,
    "start_time": "2022-12-06T09:26:48.221Z"
   },
   {
    "duration": 1144,
    "start_time": "2022-12-06T09:31:39.695Z"
   },
   {
    "duration": 239,
    "start_time": "2022-12-06T09:31:50.165Z"
   },
   {
    "duration": 256,
    "start_time": "2022-12-06T10:22:48.804Z"
   },
   {
    "duration": 266,
    "start_time": "2022-12-06T10:28:32.047Z"
   },
   {
    "duration": 467,
    "start_time": "2022-12-06T10:30:19.522Z"
   },
   {
    "duration": 122,
    "start_time": "2022-12-06T10:34:42.143Z"
   },
   {
    "duration": 16,
    "start_time": "2022-12-06T10:34:42.267Z"
   },
   {
    "duration": 2026,
    "start_time": "2022-12-06T10:34:42.285Z"
   },
   {
    "duration": 81,
    "start_time": "2022-12-06T10:34:44.312Z"
   },
   {
    "duration": 37,
    "start_time": "2022-12-06T10:34:44.396Z"
   },
   {
    "duration": 9,
    "start_time": "2022-12-06T10:34:44.435Z"
   },
   {
    "duration": 20,
    "start_time": "2022-12-06T10:34:44.446Z"
   },
   {
    "duration": 32,
    "start_time": "2022-12-06T10:34:44.468Z"
   },
   {
    "duration": 25,
    "start_time": "2022-12-06T10:34:44.502Z"
   },
   {
    "duration": 6,
    "start_time": "2022-12-06T10:34:44.529Z"
   },
   {
    "duration": 13,
    "start_time": "2022-12-06T10:34:44.536Z"
   },
   {
    "duration": 20,
    "start_time": "2022-12-06T10:34:44.551Z"
   },
   {
    "duration": 70,
    "start_time": "2022-12-06T10:34:44.573Z"
   },
   {
    "duration": 39,
    "start_time": "2022-12-06T10:34:44.646Z"
   },
   {
    "duration": 12,
    "start_time": "2022-12-06T10:34:44.687Z"
   },
   {
    "duration": 96,
    "start_time": "2022-12-06T10:34:44.701Z"
   },
   {
    "duration": 26,
    "start_time": "2022-12-06T10:34:44.799Z"
   },
   {
    "duration": 5,
    "start_time": "2022-12-06T10:34:44.826Z"
   },
   {
    "duration": 19,
    "start_time": "2022-12-06T10:34:44.833Z"
   },
   {
    "duration": 7,
    "start_time": "2022-12-06T10:34:44.854Z"
   },
   {
    "duration": 14,
    "start_time": "2022-12-06T10:34:44.863Z"
   },
   {
    "duration": 283,
    "start_time": "2022-12-06T10:34:44.879Z"
   },
   {
    "duration": 244,
    "start_time": "2022-12-06T10:34:45.163Z"
   },
   {
    "duration": 436,
    "start_time": "2022-12-06T10:34:45.409Z"
   },
   {
    "duration": 257,
    "start_time": "2022-12-06T10:34:45.847Z"
   },
   {
    "duration": 284,
    "start_time": "2022-12-06T10:34:46.105Z"
   },
   {
    "duration": 269,
    "start_time": "2022-12-06T10:34:46.391Z"
   },
   {
    "duration": 276,
    "start_time": "2022-12-06T10:34:46.662Z"
   },
   {
    "duration": 249,
    "start_time": "2022-12-06T10:34:46.940Z"
   },
   {
    "duration": 265,
    "start_time": "2022-12-06T10:34:47.191Z"
   },
   {
    "duration": 276,
    "start_time": "2022-12-06T10:34:47.457Z"
   },
   {
    "duration": 281,
    "start_time": "2022-12-06T10:34:47.735Z"
   },
   {
    "duration": 268,
    "start_time": "2022-12-06T10:34:48.017Z"
   },
   {
    "duration": 564,
    "start_time": "2022-12-06T10:34:48.287Z"
   },
   {
    "duration": 288,
    "start_time": "2022-12-06T10:34:48.853Z"
   },
   {
    "duration": 265,
    "start_time": "2022-12-06T10:37:00.320Z"
   },
   {
    "duration": 54,
    "start_time": "2022-12-06T10:52:07.899Z"
   },
   {
    "duration": 22,
    "start_time": "2022-12-06T10:58:14.092Z"
   },
   {
    "duration": 16,
    "start_time": "2022-12-06T10:58:42.997Z"
   },
   {
    "duration": 137,
    "start_time": "2022-12-06T10:59:47.544Z"
   },
   {
    "duration": 131,
    "start_time": "2022-12-06T11:00:21.138Z"
   },
   {
    "duration": 150,
    "start_time": "2022-12-06T11:06:40.444Z"
   },
   {
    "duration": 160,
    "start_time": "2022-12-06T11:07:12.963Z"
   },
   {
    "duration": 160,
    "start_time": "2022-12-06T11:09:21.669Z"
   },
   {
    "duration": 172,
    "start_time": "2022-12-06T11:11:38.798Z"
   },
   {
    "duration": 180,
    "start_time": "2022-12-06T11:11:54.326Z"
   },
   {
    "duration": 193,
    "start_time": "2022-12-06T11:12:25.946Z"
   },
   {
    "duration": 180,
    "start_time": "2022-12-06T11:13:23.789Z"
   },
   {
    "duration": 188,
    "start_time": "2022-12-06T11:15:02.210Z"
   },
   {
    "duration": 148,
    "start_time": "2022-12-06T11:17:06.985Z"
   },
   {
    "duration": 182,
    "start_time": "2022-12-06T11:17:54.414Z"
   },
   {
    "duration": 170,
    "start_time": "2022-12-06T11:20:02.726Z"
   },
   {
    "duration": 159,
    "start_time": "2022-12-06T11:20:09.750Z"
   },
   {
    "duration": 155,
    "start_time": "2022-12-06T11:22:58.247Z"
   },
   {
    "duration": 159,
    "start_time": "2022-12-06T11:23:58.214Z"
   },
   {
    "duration": 148,
    "start_time": "2022-12-06T11:25:29.029Z"
   },
   {
    "duration": 162,
    "start_time": "2022-12-06T11:25:49.356Z"
   },
   {
    "duration": 139,
    "start_time": "2022-12-06T11:28:48.375Z"
   },
   {
    "duration": 143,
    "start_time": "2022-12-06T11:29:11.975Z"
   },
   {
    "duration": 159,
    "start_time": "2022-12-06T11:29:22.945Z"
   },
   {
    "duration": 182,
    "start_time": "2022-12-06T11:29:33.396Z"
   },
   {
    "duration": 151,
    "start_time": "2022-12-06T11:31:13.388Z"
   },
   {
    "duration": 166,
    "start_time": "2022-12-06T11:43:28.460Z"
   },
   {
    "duration": 167,
    "start_time": "2022-12-06T11:48:07.013Z"
   },
   {
    "duration": 172,
    "start_time": "2022-12-06T11:51:11.455Z"
   },
   {
    "duration": 382,
    "start_time": "2022-12-06T11:51:31.718Z"
   },
   {
    "duration": 125,
    "start_time": "2022-12-06T11:54:40.062Z"
   },
   {
    "duration": 16,
    "start_time": "2022-12-06T11:54:40.189Z"
   },
   {
    "duration": 1957,
    "start_time": "2022-12-06T11:54:40.223Z"
   },
   {
    "duration": 83,
    "start_time": "2022-12-06T11:54:42.182Z"
   },
   {
    "duration": 22,
    "start_time": "2022-12-06T11:54:42.267Z"
   },
   {
    "duration": 31,
    "start_time": "2022-12-06T11:54:42.291Z"
   },
   {
    "duration": 21,
    "start_time": "2022-12-06T11:54:42.325Z"
   },
   {
    "duration": 41,
    "start_time": "2022-12-06T11:54:42.348Z"
   },
   {
    "duration": 31,
    "start_time": "2022-12-06T11:54:42.391Z"
   },
   {
    "duration": 5,
    "start_time": "2022-12-06T11:54:42.425Z"
   },
   {
    "duration": 21,
    "start_time": "2022-12-06T11:54:42.432Z"
   },
   {
    "duration": 25,
    "start_time": "2022-12-06T11:54:42.455Z"
   },
   {
    "duration": 54,
    "start_time": "2022-12-06T11:54:42.482Z"
   },
   {
    "duration": 38,
    "start_time": "2022-12-06T11:54:42.538Z"
   },
   {
    "duration": 12,
    "start_time": "2022-12-06T11:54:42.578Z"
   },
   {
    "duration": 89,
    "start_time": "2022-12-06T11:54:42.592Z"
   },
   {
    "duration": 10,
    "start_time": "2022-12-06T11:54:42.682Z"
   },
   {
    "duration": 23,
    "start_time": "2022-12-06T11:54:42.694Z"
   },
   {
    "duration": 46,
    "start_time": "2022-12-06T11:54:42.719Z"
   },
   {
    "duration": 16,
    "start_time": "2022-12-06T11:54:42.766Z"
   },
   {
    "duration": 15,
    "start_time": "2022-12-06T11:54:42.784Z"
   },
   {
    "duration": 268,
    "start_time": "2022-12-06T11:54:42.801Z"
   },
   {
    "duration": 240,
    "start_time": "2022-12-06T11:54:43.071Z"
   },
   {
    "duration": 227,
    "start_time": "2022-12-06T11:54:43.312Z"
   },
   {
    "duration": 231,
    "start_time": "2022-12-06T11:54:43.540Z"
   },
   {
    "duration": 296,
    "start_time": "2022-12-06T11:54:43.773Z"
   },
   {
    "duration": 558,
    "start_time": "2022-12-06T11:54:44.072Z"
   },
   {
    "duration": 258,
    "start_time": "2022-12-06T11:54:44.633Z"
   },
   {
    "duration": 257,
    "start_time": "2022-12-06T11:54:44.893Z"
   },
   {
    "duration": 260,
    "start_time": "2022-12-06T11:54:45.152Z"
   },
   {
    "duration": 266,
    "start_time": "2022-12-06T11:54:45.413Z"
   },
   {
    "duration": 259,
    "start_time": "2022-12-06T11:54:45.680Z"
   },
   {
    "duration": 255,
    "start_time": "2022-12-06T11:54:45.941Z"
   },
   {
    "duration": 272,
    "start_time": "2022-12-06T11:54:46.198Z"
   },
   {
    "duration": 247,
    "start_time": "2022-12-06T11:54:46.472Z"
   },
   {
    "duration": 271,
    "start_time": "2022-12-06T11:54:46.722Z"
   },
   {
    "duration": 59,
    "start_time": "2022-12-06T11:54:46.995Z"
   },
   {
    "duration": 168,
    "start_time": "2022-12-06T11:54:47.055Z"
   },
   {
    "duration": 173,
    "start_time": "2022-12-06T11:54:47.225Z"
   },
   {
    "duration": 173,
    "start_time": "2022-12-06T11:54:47.399Z"
   },
   {
    "duration": 180,
    "start_time": "2022-12-06T11:54:47.574Z"
   },
   {
    "duration": 174,
    "start_time": "2022-12-06T11:54:47.755Z"
   },
   {
    "duration": 167,
    "start_time": "2022-12-06T11:54:47.931Z"
   },
   {
    "duration": 172,
    "start_time": "2022-12-06T11:54:48.099Z"
   },
   {
    "duration": 176,
    "start_time": "2022-12-06T11:54:48.273Z"
   },
   {
    "duration": 154,
    "start_time": "2022-12-06T11:54:48.451Z"
   },
   {
    "duration": 493,
    "start_time": "2022-12-06T11:54:48.607Z"
   },
   {
    "duration": 207,
    "start_time": "2022-12-06T11:54:49.102Z"
   },
   {
    "duration": 194,
    "start_time": "2022-12-06T11:54:49.311Z"
   },
   {
    "duration": 164,
    "start_time": "2022-12-06T11:54:49.507Z"
   },
   {
    "duration": 9,
    "start_time": "2022-12-06T11:58:11.899Z"
   },
   {
    "duration": 29,
    "start_time": "2022-12-06T12:04:04.329Z"
   },
   {
    "duration": 29,
    "start_time": "2022-12-06T12:06:01.421Z"
   },
   {
    "duration": 8,
    "start_time": "2022-12-06T12:06:13.630Z"
   },
   {
    "duration": 7,
    "start_time": "2022-12-06T12:06:18.969Z"
   },
   {
    "duration": 33,
    "start_time": "2022-12-06T12:06:26.019Z"
   },
   {
    "duration": 6,
    "start_time": "2022-12-06T12:06:32.640Z"
   },
   {
    "duration": 30,
    "start_time": "2022-12-06T12:07:01.732Z"
   },
   {
    "duration": 7,
    "start_time": "2022-12-06T12:07:47.584Z"
   },
   {
    "duration": 17,
    "start_time": "2022-12-06T12:08:28.245Z"
   },
   {
    "duration": 18,
    "start_time": "2022-12-06T12:10:20.399Z"
   },
   {
    "duration": 23,
    "start_time": "2022-12-06T12:10:48.838Z"
   },
   {
    "duration": 136,
    "start_time": "2022-12-06T12:11:18.895Z"
   },
   {
    "duration": 160,
    "start_time": "2022-12-06T12:12:04.303Z"
   },
   {
    "duration": 46,
    "start_time": "2022-12-06T14:50:46.087Z"
   },
   {
    "duration": 656,
    "start_time": "2022-12-06T14:50:50.480Z"
   },
   {
    "duration": 13,
    "start_time": "2022-12-06T14:50:51.138Z"
   },
   {
    "duration": 2276,
    "start_time": "2022-12-06T14:50:51.152Z"
   },
   {
    "duration": 73,
    "start_time": "2022-12-06T14:50:53.430Z"
   },
   {
    "duration": 27,
    "start_time": "2022-12-06T14:50:53.504Z"
   },
   {
    "duration": 7,
    "start_time": "2022-12-06T14:50:53.533Z"
   },
   {
    "duration": 20,
    "start_time": "2022-12-06T14:50:53.542Z"
   },
   {
    "duration": 31,
    "start_time": "2022-12-06T14:50:53.564Z"
   },
   {
    "duration": 5,
    "start_time": "2022-12-06T14:50:53.596Z"
   },
   {
    "duration": 5,
    "start_time": "2022-12-06T14:50:53.620Z"
   },
   {
    "duration": 9,
    "start_time": "2022-12-06T14:50:53.627Z"
   },
   {
    "duration": 22,
    "start_time": "2022-12-06T14:50:53.637Z"
   },
   {
    "duration": 61,
    "start_time": "2022-12-06T14:50:53.661Z"
   },
   {
    "duration": 34,
    "start_time": "2022-12-06T14:50:53.724Z"
   },
   {
    "duration": 12,
    "start_time": "2022-12-06T14:50:53.759Z"
   },
   {
    "duration": 88,
    "start_time": "2022-12-06T14:50:53.772Z"
   },
   {
    "duration": 9,
    "start_time": "2022-12-06T14:50:53.862Z"
   },
   {
    "duration": 8,
    "start_time": "2022-12-06T14:50:53.873Z"
   },
   {
    "duration": 12,
    "start_time": "2022-12-06T14:50:53.882Z"
   },
   {
    "duration": 6,
    "start_time": "2022-12-06T14:50:53.896Z"
   },
   {
    "duration": 18,
    "start_time": "2022-12-06T14:50:53.903Z"
   },
   {
    "duration": 240,
    "start_time": "2022-12-06T14:50:53.922Z"
   },
   {
    "duration": 213,
    "start_time": "2022-12-06T14:50:54.164Z"
   },
   {
    "duration": 294,
    "start_time": "2022-12-06T14:50:54.379Z"
   },
   {
    "duration": 211,
    "start_time": "2022-12-06T14:50:54.675Z"
   },
   {
    "duration": 246,
    "start_time": "2022-12-06T14:50:54.888Z"
   },
   {
    "duration": 246,
    "start_time": "2022-12-06T14:50:55.136Z"
   },
   {
    "duration": 244,
    "start_time": "2022-12-06T14:50:55.385Z"
   },
   {
    "duration": 278,
    "start_time": "2022-12-06T14:50:55.630Z"
   },
   {
    "duration": 340,
    "start_time": "2022-12-06T14:50:55.911Z"
   },
   {
    "duration": 232,
    "start_time": "2022-12-06T14:50:56.252Z"
   },
   {
    "duration": 231,
    "start_time": "2022-12-06T14:50:56.486Z"
   },
   {
    "duration": 225,
    "start_time": "2022-12-06T14:50:56.721Z"
   },
   {
    "duration": 241,
    "start_time": "2022-12-06T14:50:56.948Z"
   },
   {
    "duration": 237,
    "start_time": "2022-12-06T14:50:57.191Z"
   },
   {
    "duration": 340,
    "start_time": "2022-12-06T14:50:57.429Z"
   },
   {
    "duration": 56,
    "start_time": "2022-12-06T14:50:57.771Z"
   },
   {
    "duration": 157,
    "start_time": "2022-12-06T14:50:57.828Z"
   },
   {
    "duration": 155,
    "start_time": "2022-12-06T14:50:57.987Z"
   },
   {
    "duration": 164,
    "start_time": "2022-12-06T14:50:58.143Z"
   },
   {
    "duration": 167,
    "start_time": "2022-12-06T14:50:58.309Z"
   },
   {
    "duration": 165,
    "start_time": "2022-12-06T14:50:58.477Z"
   },
   {
    "duration": 154,
    "start_time": "2022-12-06T14:50:58.644Z"
   },
   {
    "duration": 146,
    "start_time": "2022-12-06T14:50:58.800Z"
   },
   {
    "duration": 154,
    "start_time": "2022-12-06T14:50:58.948Z"
   },
   {
    "duration": 131,
    "start_time": "2022-12-06T14:50:59.104Z"
   },
   {
    "duration": 139,
    "start_time": "2022-12-06T14:50:59.237Z"
   },
   {
    "duration": 219,
    "start_time": "2022-12-06T14:50:59.377Z"
   },
   {
    "duration": 153,
    "start_time": "2022-12-06T14:50:59.598Z"
   },
   {
    "duration": 151,
    "start_time": "2022-12-06T14:50:59.752Z"
   },
   {
    "duration": 6,
    "start_time": "2022-12-06T14:50:59.905Z"
   },
   {
    "duration": 147,
    "start_time": "2022-12-06T14:51:05.750Z"
   },
   {
    "duration": 262,
    "start_time": "2022-12-06T14:51:15.860Z"
   },
   {
    "duration": 196,
    "start_time": "2022-12-06T14:51:29.641Z"
   },
   {
    "duration": 170,
    "start_time": "2022-12-06T14:53:40.548Z"
   },
   {
    "duration": 184,
    "start_time": "2022-12-06T14:53:58.846Z"
   },
   {
    "duration": 49,
    "start_time": "2022-12-06T15:04:45.152Z"
   },
   {
    "duration": 6,
    "start_time": "2022-12-06T15:05:00.943Z"
   },
   {
    "duration": 23,
    "start_time": "2022-12-06T15:05:18.282Z"
   },
   {
    "duration": 24,
    "start_time": "2022-12-06T15:07:37.793Z"
   },
   {
    "duration": 154,
    "start_time": "2022-12-06T15:08:57.963Z"
   },
   {
    "duration": 124,
    "start_time": "2022-12-06T15:09:30.459Z"
   },
   {
    "duration": 1123,
    "start_time": "2022-12-06T15:09:52.844Z"
   },
   {
    "duration": 50,
    "start_time": "2022-12-06T15:13:08.486Z"
   },
   {
    "duration": 523,
    "start_time": "2022-12-06T15:13:17.330Z"
   },
   {
    "duration": 14,
    "start_time": "2022-12-06T15:13:17.855Z"
   },
   {
    "duration": 2070,
    "start_time": "2022-12-06T15:13:17.870Z"
   },
   {
    "duration": 70,
    "start_time": "2022-12-06T15:13:19.942Z"
   },
   {
    "duration": 22,
    "start_time": "2022-12-06T15:13:20.013Z"
   },
   {
    "duration": 8,
    "start_time": "2022-12-06T15:13:20.037Z"
   },
   {
    "duration": 12,
    "start_time": "2022-12-06T15:13:20.047Z"
   },
   {
    "duration": 26,
    "start_time": "2022-12-06T15:13:20.061Z"
   },
   {
    "duration": 7,
    "start_time": "2022-12-06T15:13:20.088Z"
   },
   {
    "duration": 5,
    "start_time": "2022-12-06T15:13:20.121Z"
   },
   {
    "duration": 10,
    "start_time": "2022-12-06T15:13:20.127Z"
   },
   {
    "duration": 20,
    "start_time": "2022-12-06T15:13:20.138Z"
   },
   {
    "duration": 40,
    "start_time": "2022-12-06T15:13:20.159Z"
   },
   {
    "duration": 55,
    "start_time": "2022-12-06T15:13:20.200Z"
   },
   {
    "duration": 12,
    "start_time": "2022-12-06T15:13:20.256Z"
   },
   {
    "duration": 87,
    "start_time": "2022-12-06T15:13:20.269Z"
   },
   {
    "duration": 11,
    "start_time": "2022-12-06T15:13:20.357Z"
   },
   {
    "duration": 3,
    "start_time": "2022-12-06T15:13:20.369Z"
   },
   {
    "duration": 12,
    "start_time": "2022-12-06T15:13:20.374Z"
   },
   {
    "duration": 7,
    "start_time": "2022-12-06T15:13:20.387Z"
   },
   {
    "duration": 28,
    "start_time": "2022-12-06T15:13:20.396Z"
   },
   {
    "duration": 229,
    "start_time": "2022-12-06T15:13:20.426Z"
   },
   {
    "duration": 219,
    "start_time": "2022-12-06T15:13:20.656Z"
   },
   {
    "duration": 217,
    "start_time": "2022-12-06T15:13:20.877Z"
   },
   {
    "duration": 297,
    "start_time": "2022-12-06T15:13:21.095Z"
   },
   {
    "duration": 266,
    "start_time": "2022-12-06T15:13:21.394Z"
   },
   {
    "duration": 237,
    "start_time": "2022-12-06T15:13:21.661Z"
   },
   {
    "duration": 266,
    "start_time": "2022-12-06T15:13:21.901Z"
   },
   {
    "duration": 241,
    "start_time": "2022-12-06T15:13:22.170Z"
   },
   {
    "duration": 252,
    "start_time": "2022-12-06T15:13:22.412Z"
   },
   {
    "duration": 347,
    "start_time": "2022-12-06T15:13:22.665Z"
   },
   {
    "duration": 234,
    "start_time": "2022-12-06T15:13:23.014Z"
   },
   {
    "duration": 229,
    "start_time": "2022-12-06T15:13:23.250Z"
   },
   {
    "duration": 237,
    "start_time": "2022-12-06T15:13:23.481Z"
   },
   {
    "duration": 221,
    "start_time": "2022-12-06T15:13:23.719Z"
   },
   {
    "duration": 327,
    "start_time": "2022-12-06T15:13:23.941Z"
   },
   {
    "duration": 54,
    "start_time": "2022-12-06T15:13:24.269Z"
   },
   {
    "duration": 154,
    "start_time": "2022-12-06T15:13:24.325Z"
   },
   {
    "duration": 159,
    "start_time": "2022-12-06T15:13:24.481Z"
   },
   {
    "duration": 158,
    "start_time": "2022-12-06T15:13:24.642Z"
   },
   {
    "duration": 166,
    "start_time": "2022-12-06T15:13:24.801Z"
   },
   {
    "duration": 162,
    "start_time": "2022-12-06T15:13:24.969Z"
   },
   {
    "duration": 150,
    "start_time": "2022-12-06T15:13:25.132Z"
   },
   {
    "duration": 191,
    "start_time": "2022-12-06T15:13:25.284Z"
   },
   {
    "duration": 171,
    "start_time": "2022-12-06T15:13:25.477Z"
   },
   {
    "duration": 149,
    "start_time": "2022-12-06T15:13:25.650Z"
   },
   {
    "duration": 147,
    "start_time": "2022-12-06T15:13:25.801Z"
   },
   {
    "duration": 151,
    "start_time": "2022-12-06T15:13:25.949Z"
   },
   {
    "duration": 156,
    "start_time": "2022-12-06T15:13:26.102Z"
   },
   {
    "duration": 169,
    "start_time": "2022-12-06T15:13:26.260Z"
   },
   {
    "duration": 7,
    "start_time": "2022-12-06T15:13:26.431Z"
   },
   {
    "duration": 290,
    "start_time": "2022-12-06T15:13:26.439Z"
   },
   {
    "duration": 154,
    "start_time": "2022-12-06T15:13:26.731Z"
   },
   {
    "duration": 187,
    "start_time": "2022-12-06T15:14:27.528Z"
   },
   {
    "duration": 156,
    "start_time": "2022-12-06T15:41:53.079Z"
   },
   {
    "duration": 226,
    "start_time": "2022-12-06T15:42:25.807Z"
   },
   {
    "duration": 200,
    "start_time": "2022-12-06T15:42:53.833Z"
   },
   {
    "duration": 225,
    "start_time": "2022-12-06T15:43:19.252Z"
   },
   {
    "duration": 243,
    "start_time": "2022-12-06T15:43:48.693Z"
   },
   {
    "duration": 28,
    "start_time": "2022-12-06T15:50:08.087Z"
   },
   {
    "duration": 118,
    "start_time": "2022-12-06T15:50:24.765Z"
   },
   {
    "duration": 23,
    "start_time": "2022-12-06T15:50:42.450Z"
   },
   {
    "duration": 130,
    "start_time": "2022-12-06T15:57:21.930Z"
   },
   {
    "duration": 233,
    "start_time": "2022-12-06T15:58:00.555Z"
   },
   {
    "duration": 136,
    "start_time": "2022-12-06T15:58:07.634Z"
   },
   {
    "duration": 150,
    "start_time": "2022-12-06T15:58:13.967Z"
   },
   {
    "duration": 163,
    "start_time": "2022-12-06T15:59:08.924Z"
   },
   {
    "duration": 77,
    "start_time": "2022-12-07T11:54:36.277Z"
   },
   {
    "duration": 751,
    "start_time": "2023-07-10T12:33:09.740Z"
   },
   {
    "duration": 18,
    "start_time": "2023-07-10T12:33:10.493Z"
   },
   {
    "duration": 2454,
    "start_time": "2023-07-10T12:33:10.513Z"
   },
   {
    "duration": 78,
    "start_time": "2023-07-10T12:33:12.969Z"
   },
   {
    "duration": 23,
    "start_time": "2023-07-10T12:33:13.049Z"
   },
   {
    "duration": 9,
    "start_time": "2023-07-10T12:33:13.074Z"
   },
   {
    "duration": 16,
    "start_time": "2023-07-10T12:33:13.101Z"
   },
   {
    "duration": 30,
    "start_time": "2023-07-10T12:33:13.119Z"
   },
   {
    "duration": 7,
    "start_time": "2023-07-10T12:33:13.150Z"
   },
   {
    "duration": 9,
    "start_time": "2023-07-10T12:33:13.159Z"
   },
   {
    "duration": 35,
    "start_time": "2023-07-10T12:33:13.170Z"
   },
   {
    "duration": 22,
    "start_time": "2023-07-10T12:33:13.206Z"
   },
   {
    "duration": 43,
    "start_time": "2023-07-10T12:33:13.230Z"
   },
   {
    "duration": 58,
    "start_time": "2023-07-10T12:33:13.275Z"
   },
   {
    "duration": 13,
    "start_time": "2023-07-10T12:33:13.334Z"
   },
   {
    "duration": 89,
    "start_time": "2023-07-10T12:33:13.349Z"
   },
   {
    "duration": 11,
    "start_time": "2023-07-10T12:33:13.440Z"
   },
   {
    "duration": 7,
    "start_time": "2023-07-10T12:33:13.453Z"
   },
   {
    "duration": 19,
    "start_time": "2023-07-10T12:33:13.462Z"
   },
   {
    "duration": 20,
    "start_time": "2023-07-10T12:33:13.482Z"
   },
   {
    "duration": 18,
    "start_time": "2023-07-10T12:33:13.504Z"
   },
   {
    "duration": 289,
    "start_time": "2023-07-10T12:33:13.524Z"
   },
   {
    "duration": 262,
    "start_time": "2023-07-10T12:33:13.814Z"
   },
   {
    "duration": 322,
    "start_time": "2023-07-10T12:33:14.078Z"
   },
   {
    "duration": 247,
    "start_time": "2023-07-10T12:33:14.402Z"
   },
   {
    "duration": 272,
    "start_time": "2023-07-10T12:33:14.651Z"
   },
   {
    "duration": 278,
    "start_time": "2023-07-10T12:33:14.925Z"
   },
   {
    "duration": 270,
    "start_time": "2023-07-10T12:33:15.208Z"
   },
   {
    "duration": 273,
    "start_time": "2023-07-10T12:33:15.480Z"
   },
   {
    "duration": 383,
    "start_time": "2023-07-10T12:33:15.755Z"
   },
   {
    "duration": 256,
    "start_time": "2023-07-10T12:33:16.139Z"
   },
   {
    "duration": 253,
    "start_time": "2023-07-10T12:33:16.401Z"
   },
   {
    "duration": 255,
    "start_time": "2023-07-10T12:33:16.655Z"
   },
   {
    "duration": 274,
    "start_time": "2023-07-10T12:33:16.912Z"
   },
   {
    "duration": 263,
    "start_time": "2023-07-10T12:33:17.188Z"
   },
   {
    "duration": 383,
    "start_time": "2023-07-10T12:33:17.452Z"
   },
   {
    "duration": 174,
    "start_time": "2023-07-10T12:33:17.837Z"
   },
   {
    "duration": 176,
    "start_time": "2023-07-10T12:33:18.013Z"
   },
   {
    "duration": 182,
    "start_time": "2023-07-10T12:33:18.191Z"
   },
   {
    "duration": 186,
    "start_time": "2023-07-10T12:33:18.376Z"
   },
   {
    "duration": 172,
    "start_time": "2023-07-10T12:33:18.563Z"
   },
   {
    "duration": 174,
    "start_time": "2023-07-10T12:33:18.737Z"
   },
   {
    "duration": 164,
    "start_time": "2023-07-10T12:33:18.912Z"
   },
   {
    "duration": 170,
    "start_time": "2023-07-10T12:33:19.077Z"
   },
   {
    "duration": 155,
    "start_time": "2023-07-10T12:33:19.248Z"
   },
   {
    "duration": 166,
    "start_time": "2023-07-10T12:33:19.405Z"
   },
   {
    "duration": 267,
    "start_time": "2023-07-10T12:33:19.573Z"
   },
   {
    "duration": 174,
    "start_time": "2023-07-10T12:33:19.842Z"
   },
   {
    "duration": 167,
    "start_time": "2023-07-10T12:33:20.017Z"
   },
   {
    "duration": 19,
    "start_time": "2023-07-10T12:33:20.186Z"
   },
   {
    "duration": 224,
    "start_time": "2023-07-10T12:33:20.206Z"
   },
   {
    "duration": 237,
    "start_time": "2023-07-10T12:33:20.433Z"
   },
   {
    "duration": 2734,
    "start_time": "2023-07-10T12:34:50.986Z"
   },
   {
    "duration": 5,
    "start_time": "2023-07-10T12:35:39.095Z"
   },
   {
    "duration": 114,
    "start_time": "2023-07-10T12:35:41.749Z"
   },
   {
    "duration": 2070,
    "start_time": "2023-07-10T12:35:50.907Z"
   },
   {
    "duration": 141,
    "start_time": "2023-07-10T12:41:47.221Z"
   },
   {
    "duration": 131,
    "start_time": "2023-07-10T12:42:10.999Z"
   },
   {
    "duration": 10,
    "start_time": "2023-07-10T12:42:33.104Z"
   },
   {
    "duration": 152,
    "start_time": "2023-07-10T12:43:42.223Z"
   },
   {
    "duration": 10,
    "start_time": "2023-07-10T12:43:56.605Z"
   },
   {
    "duration": 164,
    "start_time": "2023-07-10T12:44:57.110Z"
   },
   {
    "duration": 123,
    "start_time": "2023-07-10T12:45:21.043Z"
   },
   {
    "duration": 159,
    "start_time": "2023-07-10T12:46:01.101Z"
   },
   {
    "duration": 11,
    "start_time": "2023-07-10T12:46:09.709Z"
   },
   {
    "duration": 141,
    "start_time": "2023-07-10T12:47:32.990Z"
   },
   {
    "duration": 154,
    "start_time": "2023-07-10T12:48:31.993Z"
   },
   {
    "duration": 158,
    "start_time": "2023-07-10T12:48:52.125Z"
   },
   {
    "duration": 302,
    "start_time": "2023-07-10T12:49:26.687Z"
   },
   {
    "duration": 252,
    "start_time": "2023-07-10T12:49:57.215Z"
   },
   {
    "duration": 159,
    "start_time": "2023-07-10T12:50:08.324Z"
   },
   {
    "duration": 135,
    "start_time": "2023-07-10T12:50:22.527Z"
   },
   {
    "duration": 262,
    "start_time": "2023-07-10T12:51:20.889Z"
   },
   {
    "duration": 151,
    "start_time": "2023-07-10T12:51:47.297Z"
   },
   {
    "duration": 255,
    "start_time": "2023-07-10T12:52:15.414Z"
   },
   {
    "duration": 384,
    "start_time": "2023-07-10T12:52:37.544Z"
   },
   {
    "duration": 141,
    "start_time": "2023-07-10T13:01:51.782Z"
   },
   {
    "duration": 268,
    "start_time": "2023-07-10T13:02:16.956Z"
   },
   {
    "duration": 1607,
    "start_time": "2023-07-10T13:03:27.625Z"
   },
   {
    "duration": 2005,
    "start_time": "2023-07-10T13:04:10.509Z"
   },
   {
    "duration": 54,
    "start_time": "2024-03-18T09:15:08.596Z"
   },
   {
    "duration": 907,
    "start_time": "2024-03-18T09:15:17.650Z"
   },
   {
    "duration": 222,
    "start_time": "2024-03-18T09:15:18.560Z"
   },
   {
    "duration": 18,
    "start_time": "2024-03-18T09:15:18.784Z"
   },
   {
    "duration": 2141,
    "start_time": "2024-03-18T09:15:18.804Z"
   },
   {
    "duration": 91,
    "start_time": "2024-03-18T09:15:20.947Z"
   },
   {
    "duration": 24,
    "start_time": "2024-03-18T09:15:21.040Z"
   },
   {
    "duration": 22,
    "start_time": "2024-03-18T09:15:21.066Z"
   },
   {
    "duration": 15,
    "start_time": "2024-03-18T09:15:21.090Z"
   },
   {
    "duration": 35,
    "start_time": "2024-03-18T09:15:21.107Z"
   },
   {
    "duration": 35,
    "start_time": "2024-03-18T09:15:21.146Z"
   },
   {
    "duration": 6,
    "start_time": "2024-03-18T09:15:21.183Z"
   },
   {
    "duration": 62,
    "start_time": "2024-03-18T09:15:21.190Z"
   },
   {
    "duration": 36,
    "start_time": "2024-03-18T09:15:21.253Z"
   },
   {
    "duration": 52,
    "start_time": "2024-03-18T09:15:21.292Z"
   },
   {
    "duration": 52,
    "start_time": "2024-03-18T09:15:21.346Z"
   },
   {
    "duration": 15,
    "start_time": "2024-03-18T09:15:21.400Z"
   },
   {
    "duration": 97,
    "start_time": "2024-03-18T09:15:21.417Z"
   },
   {
    "duration": 15,
    "start_time": "2024-03-18T09:15:21.516Z"
   },
   {
    "duration": 4,
    "start_time": "2024-03-18T09:15:21.533Z"
   },
   {
    "duration": 21,
    "start_time": "2024-03-18T09:15:21.539Z"
   },
   {
    "duration": 19,
    "start_time": "2024-03-18T09:15:21.562Z"
   },
   {
    "duration": 7,
    "start_time": "2024-03-18T09:15:21.583Z"
   },
   {
    "duration": 144,
    "start_time": "2024-03-18T09:15:21.591Z"
   },
   {
    "duration": 9,
    "start_time": "2024-03-18T09:15:21.737Z"
   },
   {
    "duration": 181,
    "start_time": "2024-03-18T09:15:21.747Z"
   },
   {
    "duration": 11,
    "start_time": "2024-03-18T09:15:21.930Z"
   },
   {
    "duration": 173,
    "start_time": "2024-03-18T09:15:21.942Z"
   },
   {
    "duration": 12,
    "start_time": "2024-03-18T09:15:22.121Z"
   },
   {
    "duration": 186,
    "start_time": "2024-03-18T09:15:22.134Z"
   },
   {
    "duration": 10,
    "start_time": "2024-03-18T09:15:22.322Z"
   },
   {
    "duration": 310,
    "start_time": "2024-03-18T09:15:22.334Z"
   },
   {
    "duration": 347,
    "start_time": "2024-03-18T09:15:22.646Z"
   },
   {
    "duration": 9,
    "start_time": "2024-03-18T09:15:22.995Z"
   },
   {
    "duration": 1659,
    "start_time": "2024-03-18T09:15:23.007Z"
   },
   {
    "duration": 0,
    "start_time": "2024-03-18T09:15:24.668Z"
   },
   {
    "duration": 0,
    "start_time": "2024-03-18T09:15:24.669Z"
   },
   {
    "duration": 0,
    "start_time": "2024-03-18T09:15:24.671Z"
   },
   {
    "duration": 0,
    "start_time": "2024-03-18T09:15:24.673Z"
   },
   {
    "duration": 0,
    "start_time": "2024-03-18T09:15:24.674Z"
   },
   {
    "duration": 0,
    "start_time": "2024-03-18T09:15:24.676Z"
   },
   {
    "duration": 0,
    "start_time": "2024-03-18T09:15:24.678Z"
   },
   {
    "duration": 0,
    "start_time": "2024-03-18T09:15:24.680Z"
   },
   {
    "duration": 0,
    "start_time": "2024-03-18T09:15:24.681Z"
   },
   {
    "duration": 0,
    "start_time": "2024-03-18T09:15:24.683Z"
   },
   {
    "duration": 0,
    "start_time": "2024-03-18T09:15:24.685Z"
   },
   {
    "duration": 0,
    "start_time": "2024-03-18T09:15:24.686Z"
   },
   {
    "duration": 0,
    "start_time": "2024-03-18T09:15:24.688Z"
   },
   {
    "duration": 0,
    "start_time": "2024-03-18T09:15:24.689Z"
   },
   {
    "duration": 0,
    "start_time": "2024-03-18T09:15:24.691Z"
   },
   {
    "duration": 0,
    "start_time": "2024-03-18T09:15:24.692Z"
   },
   {
    "duration": 0,
    "start_time": "2024-03-18T09:15:24.693Z"
   },
   {
    "duration": 0,
    "start_time": "2024-03-18T09:15:24.695Z"
   },
   {
    "duration": 0,
    "start_time": "2024-03-18T09:15:24.696Z"
   },
   {
    "duration": 0,
    "start_time": "2024-03-18T09:15:24.698Z"
   },
   {
    "duration": 0,
    "start_time": "2024-03-18T09:15:24.700Z"
   },
   {
    "duration": 0,
    "start_time": "2024-03-18T09:15:24.701Z"
   },
   {
    "duration": 0,
    "start_time": "2024-03-18T09:15:24.703Z"
   },
   {
    "duration": 0,
    "start_time": "2024-03-18T09:15:24.704Z"
   },
   {
    "duration": 5,
    "start_time": "2024-03-18T09:16:44.300Z"
   },
   {
    "duration": 278,
    "start_time": "2024-03-18T09:16:57.427Z"
   },
   {
    "duration": 256,
    "start_time": "2024-03-18T09:17:14.536Z"
   },
   {
    "duration": 257,
    "start_time": "2024-03-18T09:17:14.794Z"
   },
   {
    "duration": 261,
    "start_time": "2024-03-18T09:17:15.053Z"
   },
   {
    "duration": 353,
    "start_time": "2024-03-18T09:17:15.316Z"
   },
   {
    "duration": 270,
    "start_time": "2024-03-18T09:17:15.671Z"
   },
   {
    "duration": 250,
    "start_time": "2024-03-18T09:17:15.943Z"
   },
   {
    "duration": 269,
    "start_time": "2024-03-18T09:17:16.195Z"
   },
   {
    "duration": 180,
    "start_time": "2024-03-18T09:17:16.466Z"
   },
   {
    "duration": 181,
    "start_time": "2024-03-18T09:17:16.648Z"
   },
   {
    "duration": 201,
    "start_time": "2024-03-18T09:17:16.830Z"
   },
   {
    "duration": 228,
    "start_time": "2024-03-18T09:17:17.032Z"
   },
   {
    "duration": 246,
    "start_time": "2024-03-18T09:17:17.262Z"
   },
   {
    "duration": 168,
    "start_time": "2024-03-18T09:17:17.510Z"
   },
   {
    "duration": 159,
    "start_time": "2024-03-18T09:17:17.681Z"
   },
   {
    "duration": 170,
    "start_time": "2024-03-18T09:17:17.842Z"
   },
   {
    "duration": 152,
    "start_time": "2024-03-18T09:17:18.013Z"
   },
   {
    "duration": 162,
    "start_time": "2024-03-18T09:17:18.167Z"
   },
   {
    "duration": 177,
    "start_time": "2024-03-18T09:17:18.330Z"
   },
   {
    "duration": 227,
    "start_time": "2024-03-18T09:17:18.508Z"
   },
   {
    "duration": 180,
    "start_time": "2024-03-18T09:17:18.741Z"
   },
   {
    "duration": 8,
    "start_time": "2024-03-18T09:17:18.923Z"
   },
   {
    "duration": 206,
    "start_time": "2024-03-18T09:17:18.932Z"
   },
   {
    "duration": 182,
    "start_time": "2024-03-18T09:17:19.140Z"
   }
  ],
  "kernelspec": {
   "display_name": "Python 3 (ipykernel)",
   "language": "python",
   "name": "python3"
  },
  "language_info": {
   "codemirror_mode": {
    "name": "ipython",
    "version": 3
   },
   "file_extension": ".py",
   "mimetype": "text/x-python",
   "name": "python",
   "nbconvert_exporter": "python",
   "pygments_lexer": "ipython3",
   "version": "3.9.5"
  },
  "toc": {
   "base_numbering": 1,
   "nav_menu": {},
   "number_sections": true,
   "sideBar": true,
   "skip_h1_title": true,
   "title_cell": "Table of Contents",
   "title_sidebar": "Contents",
   "toc_cell": false,
   "toc_position": {},
   "toc_section_display": true,
   "toc_window_display": false
  }
 },
 "nbformat": 4,
 "nbformat_minor": 2
}
